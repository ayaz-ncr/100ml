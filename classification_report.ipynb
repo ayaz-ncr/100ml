{
  "nbformat": 4,
  "nbformat_minor": 0,
  "metadata": {
    "colab": {
      "provenance": [],
      "authorship_tag": "ABX9TyN6Tajl12dXkVcuozSU5NgH",
      "include_colab_link": true
    },
    "kernelspec": {
      "name": "python3",
      "display_name": "Python 3"
    },
    "language_info": {
      "name": "python"
    }
  },
  "cells": [
    {
      "cell_type": "markdown",
      "metadata": {
        "id": "view-in-github",
        "colab_type": "text"
      },
      "source": [
        "<a href=\"https://colab.research.google.com/github/ayaz-ncr/100ml/blob/master/classification_report.ipynb\" target=\"_parent\"><img src=\"https://colab.research.google.com/assets/colab-badge.svg\" alt=\"Open In Colab\"/></a>"
      ]
    },
    {
      "cell_type": "code",
      "execution_count": 1,
      "metadata": {
        "id": "kIW6pFCHCcs2"
      },
      "outputs": [],
      "source": [
        "from sklearn.metrics import classification_report"
      ]
    },
    {
      "cell_type": "code",
      "source": [
        "y_true = [1,1,1,1,1,1,1,1,0,0,0,0,]\n",
        "y_pred = [0,0,1,1,1,1,1,1,1,0,0,0,]\n",
        "target_names = ['class 0', 'class 1']"
      ],
      "metadata": {
        "id": "Gb-Uk2Q0Cktj"
      },
      "execution_count": 2,
      "outputs": []
    },
    {
      "cell_type": "code",
      "source": [
        "print(classification_report(y_true, y_pred))"
      ],
      "metadata": {
        "colab": {
          "base_uri": "https://localhost:8080/"
        },
        "id": "YkWytkCmCwbD",
        "outputId": "2d6ae57a-6521-40f1-ef8b-e891187e2b42"
      },
      "execution_count": 4,
      "outputs": [
        {
          "output_type": "stream",
          "name": "stdout",
          "text": [
            "              precision    recall  f1-score   support\n",
            "\n",
            "           0       0.60      0.75      0.67         4\n",
            "           1       0.86      0.75      0.80         8\n",
            "\n",
            "    accuracy                           0.75        12\n",
            "   macro avg       0.73      0.75      0.73        12\n",
            "weighted avg       0.77      0.75      0.76        12\n",
            "\n"
          ]
        }
      ]
    }
  ]
}
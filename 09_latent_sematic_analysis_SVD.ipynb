{
  "nbformat": 4,
  "nbformat_minor": 0,
  "metadata": {
    "colab": {
      "name": "09_latent_sematic_analysis_SVD.ipynb",
      "version": "0.3.2",
      "provenance": [],
      "include_colab_link": true
    },
    "kernelspec": {
      "name": "python2",
      "display_name": "Python 2"
    }
  },
  "cells": [
    {
      "cell_type": "markdown",
      "metadata": {
        "id": "view-in-github",
        "colab_type": "text"
      },
      "source": [
        "<a href=\"https://colab.research.google.com/github/ayaz-ncr/100ml/blob/master/09_latent_sematic_analysis_SVD.ipynb\" target=\"_parent\"><img src=\"https://colab.research.google.com/assets/colab-badge.svg\" alt=\"Open In Colab\"/></a>"
      ]
    },
    {
      "cell_type": "code",
      "metadata": {
        "id": "R2VO-tH9I2-J",
        "colab_type": "code",
        "colab": {}
      },
      "source": [
        "from sklearn.decomposition import TruncatedSVD\n",
        "import numpy as np"
      ],
      "execution_count": 0,
      "outputs": []
    },
    {
      "cell_type": "code",
      "metadata": {
        "id": "TaVmAQlCbXif",
        "colab_type": "code",
        "colab": {}
      },
      "source": [
        "X = np.array([[1,1,0,0,0,0], [0,1,1,0,0,0], [0,1,0,0,0,0], [0,0,0,1,0,1], [0,0,0,0,1,1]])"
      ],
      "execution_count": 0,
      "outputs": []
    },
    {
      "cell_type": "code",
      "metadata": {
        "id": "mCa_NAtlcQMJ",
        "colab_type": "code",
        "colab": {
          "base_uri": "https://localhost:8080/",
          "height": 101
        },
        "outputId": "d85f9bed-1304-4dd6-c06f-af44d046b784"
      },
      "source": [
        "X"
      ],
      "execution_count": 5,
      "outputs": [
        {
          "output_type": "execute_result",
          "data": {
            "text/plain": [
              "array([[1, 1, 0, 0, 0, 0],\n",
              "       [0, 1, 1, 0, 0, 0],\n",
              "       [0, 1, 0, 0, 0, 0],\n",
              "       [0, 0, 0, 1, 0, 1],\n",
              "       [0, 0, 0, 0, 1, 1]])"
            ]
          },
          "metadata": {
            "tags": []
          },
          "execution_count": 5
        }
      ]
    },
    {
      "cell_type": "code",
      "metadata": {
        "id": "KXdRpppci_Ga",
        "colab_type": "code",
        "colab": {
          "base_uri": "https://localhost:8080/",
          "height": 34
        },
        "outputId": "b6abc291-85e1-4f06-baa6-319b05efd3e5"
      },
      "source": [
        "type(X)"
      ],
      "execution_count": 28,
      "outputs": [
        {
          "output_type": "execute_result",
          "data": {
            "text/plain": [
              "numpy.ndarray"
            ]
          },
          "metadata": {
            "tags": []
          },
          "execution_count": 28
        }
      ]
    },
    {
      "cell_type": "code",
      "metadata": {
        "id": "U8_eqxugcTmH",
        "colab_type": "code",
        "colab": {
          "base_uri": "https://localhost:8080/",
          "height": 50
        },
        "outputId": "fe8e18d1-e9b6-4d85-c869-4eef79a21d98"
      },
      "source": [
        "svd = TruncatedSVD(n_components=5)\n",
        "svd.fit(X)"
      ],
      "execution_count": 10,
      "outputs": [
        {
          "output_type": "execute_result",
          "data": {
            "text/plain": [
              "TruncatedSVD(algorithm='randomized', n_components=5, n_iter=5,\n",
              "       random_state=None, tol=0.0)"
            ]
          },
          "metadata": {
            "tags": []
          },
          "execution_count": 10
        }
      ]
    },
    {
      "cell_type": "code",
      "metadata": {
        "id": "7CusMM4tgPa4",
        "colab_type": "code",
        "colab": {
          "base_uri": "https://localhost:8080/",
          "height": 185
        },
        "outputId": "fa1986a5-18af-469f-a35a-292feb59493a"
      },
      "source": [
        "U = svd.fit_transform(X)\n",
        "U"
      ],
      "execution_count": 15,
      "outputs": [
        {
          "output_type": "execute_result",
          "data": {
            "text/plain": [
              "array([[ 1.21313142e+00, -0.00000000e+00, -0.00000000e+00,\n",
              "        -7.07106781e-01, -1.68262187e-01],\n",
              "       [ 1.21313142e+00,  7.38094482e-16, -3.86886736e-16,\n",
              "         7.07106781e-01, -1.68262187e-01],\n",
              "       [ 8.88073834e-01, -1.02653888e-15,  6.08931341e-16,\n",
              "         2.22044605e-16,  4.59700843e-01],\n",
              "       [-4.38811111e-17,  1.22474487e+00,  7.07106781e-01,\n",
              "        -1.96261557e-17, -6.14845318e-19],\n",
              "       [ 5.71383358e-17,  1.22474487e+00, -7.07106781e-01,\n",
              "        -4.06512892e-16,  4.87323707e-16]])"
            ]
          },
          "metadata": {
            "tags": []
          },
          "execution_count": 15
        }
      ]
    },
    {
      "cell_type": "code",
      "metadata": {
        "id": "S06_hcMxgZ5l",
        "colab_type": "code",
        "colab": {
          "base_uri": "https://localhost:8080/",
          "height": 34
        },
        "outputId": "b5d1cd3c-eed1-4c34-e624-52f1ee88ceed"
      },
      "source": [
        "sigma = svd.singular_values_\n",
        "sigma"
      ],
      "execution_count": 16,
      "outputs": [
        {
          "output_type": "execute_result",
          "data": {
            "text/plain": [
              "array([1.93185165, 1.73205081, 1.        , 1.        , 0.51763809])"
            ]
          },
          "metadata": {
            "tags": []
          },
          "execution_count": 16
        }
      ]
    },
    {
      "cell_type": "code",
      "metadata": {
        "id": "O_wib4ERex3N",
        "colab_type": "code",
        "colab": {
          "base_uri": "https://localhost:8080/",
          "height": 185
        },
        "outputId": "7f4eb4cb-410d-4bf3-c41d-7cf1d3f0201d"
      },
      "source": [
        "VT1 = svd.components_\n",
        "VT"
      ],
      "execution_count": 18,
      "outputs": [
        {
          "output_type": "execute_result",
          "data": {
            "text/plain": [
              "array([[ 3.25057584e-01,  8.88073834e-01,  3.25057584e-01,\n",
              "        -1.04696993e-16,  8.46742160e-17, -6.32138733e-18],\n",
              "       [ 7.88679970e-16, -7.22769792e-16,  1.53506881e-15,\n",
              "         4.08248290e-01,  4.08248290e-01,  8.16496581e-01],\n",
              "       [-6.51779658e-16,  6.88300111e-16, -1.14541144e-15,\n",
              "         7.07106781e-01, -7.07106781e-01,  1.90604132e-16],\n",
              "       [-7.07106781e-01,  4.14759827e-16,  7.07106781e-01,\n",
              "         1.11425524e-16, -7.29453865e-16, -4.07187238e-16],\n",
              "       [-6.27963030e-01,  4.59700843e-01, -6.27963030e-01,\n",
              "        -3.58264727e-16,  1.67013603e-15,  1.31890051e-15]])"
            ]
          },
          "metadata": {
            "tags": []
          },
          "execution_count": 18
        }
      ]
    },
    {
      "cell_type": "code",
      "metadata": {
        "id": "dwux4lPIdGa1",
        "colab_type": "code",
        "colab": {
          "base_uri": "https://localhost:8080/",
          "height": 34
        },
        "outputId": "11d5775f-80bf-4c78-b530-b3b0d13d1c07"
      },
      "source": [
        "svd.explained_variance_"
      ],
      "execution_count": 11,
      "outputs": [
        {
          "output_type": "execute_result",
          "data": {
            "text/plain": [
              "array([0.30701706, 0.36      , 0.2       , 0.2       , 0.05298294])"
            ]
          },
          "metadata": {
            "tags": []
          },
          "execution_count": 11
        }
      ]
    },
    {
      "cell_type": "code",
      "metadata": {
        "id": "F7OTSaA9dNvJ",
        "colab_type": "code",
        "colab": {
          "base_uri": "https://localhost:8080/",
          "height": 34
        },
        "outputId": "c14e10df-df82-4147-adca-4fdf17f22a69"
      },
      "source": [
        "svd.explained_variance_ratio_"
      ],
      "execution_count": 12,
      "outputs": [
        {
          "output_type": "execute_result",
          "data": {
            "text/plain": [
              "array([0.27412237, 0.32142857, 0.17857143, 0.17857143, 0.0473062 ])"
            ]
          },
          "metadata": {
            "tags": []
          },
          "execution_count": 12
        }
      ]
    },
    {
      "cell_type": "markdown",
      "metadata": {
        "id": "ODjnvMYBhRNI",
        "colab_type": "text"
      },
      "source": [
        "TruncatedSVD is basically a wrapper around sklearn.utils.extmath.randomized_svd"
      ]
    },
    {
      "cell_type": "code",
      "metadata": {
        "id": "vOwe4BCChV6B",
        "colab_type": "code",
        "colab": {
          "base_uri": "https://localhost:8080/",
          "height": 185
        },
        "outputId": "18c12c21-a047-4c6c-8f41-5d048e60f95e"
      },
      "source": [
        "from sklearn.utils.extmath import randomized_svd\n",
        "\n",
        "U_, Sigma_, VT_ = randomized_svd(X, \n",
        "                              n_components=6,\n",
        "                              n_iter=5,\n",
        "                              random_state=None)\n",
        "U_"
      ],
      "execution_count": 20,
      "outputs": [
        {
          "output_type": "execute_result",
          "data": {
            "text/plain": [
              "array([[ 6.27963030e-01, -0.00000000e+00,  0.00000000e+00,\n",
              "        -7.07106781e-01, -3.25057584e-01],\n",
              "       [ 6.27963030e-01,  3.79891848e-16, -2.62134913e-16,\n",
              "         7.07106781e-01, -3.25057584e-01],\n",
              "       [ 4.59700843e-01, -2.27236182e-16,  2.76012701e-16,\n",
              "        -1.11022302e-16,  8.88073834e-01],\n",
              "       [-1.21498718e-16,  7.07106781e-01, -7.07106781e-01,\n",
              "        -3.21013380e-16,  4.63591815e-16],\n",
              "       [-6.81436036e-17,  7.07106781e-01,  7.07106781e-01,\n",
              "        -5.88784672e-17, -3.56336983e-18]])"
            ]
          },
          "metadata": {
            "tags": []
          },
          "execution_count": 20
        }
      ]
    },
    {
      "cell_type": "code",
      "metadata": {
        "id": "yT9mSk5diEVy",
        "colab_type": "code",
        "colab": {
          "base_uri": "https://localhost:8080/",
          "height": 34
        },
        "outputId": "f33cbfb6-94b6-408b-a275-d09ab4d9235f"
      },
      "source": [
        "sigma_"
      ],
      "execution_count": 21,
      "outputs": [
        {
          "output_type": "execute_result",
          "data": {
            "text/plain": [
              "array([1.93185165, 1.73205081, 1.        , 1.        , 0.51763809])"
            ]
          },
          "metadata": {
            "tags": []
          },
          "execution_count": 21
        }
      ]
    },
    {
      "cell_type": "code",
      "metadata": {
        "id": "X_30PtaYiHZR",
        "colab_type": "code",
        "colab": {}
      },
      "source": [
        "VT_"
      ],
      "execution_count": 0,
      "outputs": []
    },
    {
      "cell_type": "markdown",
      "metadata": {
        "id": "QEYBG05eiWj2",
        "colab_type": "text"
      },
      "source": [
        "Using the scipy library"
      ]
    },
    {
      "cell_type": "code",
      "metadata": {
        "id": "EosrXmSFiasW",
        "colab_type": "code",
        "colab": {}
      },
      "source": [
        "from scipy.sparse.linalg import svds\n",
        "from scipy import sparse"
      ],
      "execution_count": 0,
      "outputs": []
    },
    {
      "cell_type": "code",
      "metadata": {
        "id": "Mj4qb6PVii0r",
        "colab_type": "code",
        "colab": {}
      },
      "source": [
        "s_X2 = sparse.csr_matrix(X)\n",
        "s_X2 = s_X2.asfptype()\n",
        "num_components = 4\n",
        "U2, sigma2, VT2 = svds(s_X2, k=num_components)"
      ],
      "execution_count": 0,
      "outputs": []
    },
    {
      "cell_type": "code",
      "metadata": {
        "id": "7jJuewLAlrkA",
        "colab_type": "code",
        "colab": {
          "base_uri": "https://localhost:8080/",
          "height": 185
        },
        "outputId": "1a4b8f96-dc58-48cc-ce16-c66315f924ec"
      },
      "source": [
        "U2"
      ],
      "execution_count": 47,
      "outputs": [
        {
          "output_type": "execute_result",
          "data": {
            "text/plain": [
              "array([[ 6.43601479e-01, -2.92877340e-01, -5.55111512e-17,\n",
              "         6.27963030e-01],\n",
              "       [-6.43601479e-01,  2.92877340e-01, -5.55111512e-17,\n",
              "         6.27963030e-01],\n",
              "       [ 1.11022302e-16,  0.00000000e+00,  2.22044605e-16,\n",
              "         4.59700843e-01],\n",
              "       [ 2.92877340e-01,  6.43601479e-01,  7.07106781e-01,\n",
              "        -2.08624151e-16],\n",
              "       [-2.92877340e-01, -6.43601479e-01,  7.07106781e-01,\n",
              "         1.03463589e-16]])"
            ]
          },
          "metadata": {
            "tags": []
          },
          "execution_count": 47
        }
      ]
    },
    {
      "cell_type": "code",
      "metadata": {
        "id": "tyKY3c8Vlujv",
        "colab_type": "code",
        "colab": {
          "base_uri": "https://localhost:8080/",
          "height": 34
        },
        "outputId": "ee20ea68-ba77-4709-c232-8f118cc10b62"
      },
      "source": [
        "sigma2"
      ],
      "execution_count": 48,
      "outputs": [
        {
          "output_type": "execute_result",
          "data": {
            "text/plain": [
              "array([1.        , 1.        , 1.73205081, 1.93185165])"
            ]
          },
          "metadata": {
            "tags": []
          },
          "execution_count": 48
        }
      ]
    },
    {
      "cell_type": "code",
      "metadata": {
        "id": "XYWGnAJ2luqn",
        "colab_type": "code",
        "colab": {
          "base_uri": "https://localhost:8080/",
          "height": 151
        },
        "outputId": "f736fa07-1046-4f1f-9b9a-2a4c9d78ecd7"
      },
      "source": [
        "VT2"
      ],
      "execution_count": 49,
      "outputs": [
        {
          "output_type": "execute_result",
          "data": {
            "text/plain": [
              "array([[ 6.43601479e-01, -1.11022302e-16, -6.43601479e-01,\n",
              "         2.92877340e-01, -2.92877340e-01,  2.77555756e-16],\n",
              "       [-2.92877340e-01,  5.55111512e-17,  2.92877340e-01,\n",
              "         6.43601479e-01, -6.43601479e-01,  1.11022302e-16],\n",
              "       [-3.20493781e-17,  6.40987562e-17, -3.20493781e-17,\n",
              "         4.08248290e-01,  4.08248290e-01,  8.16496581e-01],\n",
              "       [ 3.25057584e-01,  8.88073834e-01,  3.25057584e-01,\n",
              "        -1.07991807e-16,  5.35566944e-17, -5.44351128e-17]])"
            ]
          },
          "metadata": {
            "tags": []
          },
          "execution_count": 49
        }
      ]
    },
    {
      "cell_type": "code",
      "metadata": {
        "id": "RyNpeB63il2o",
        "colab_type": "code",
        "colab": {
          "base_uri": "https://localhost:8080/",
          "height": 34
        },
        "outputId": "9a15e838-5596-4826-9595-1a0445f444b2"
      },
      "source": [
        "type(np.random.random((3,3)))"
      ],
      "execution_count": 31,
      "outputs": [
        {
          "output_type": "execute_result",
          "data": {
            "text/plain": [
              "numpy.ndarray"
            ]
          },
          "metadata": {
            "tags": []
          },
          "execution_count": 31
        }
      ]
    }
  ]
}
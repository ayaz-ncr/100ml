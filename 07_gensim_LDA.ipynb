{
  "nbformat": 4,
  "nbformat_minor": 0,
  "metadata": {
    "colab": {
      "name": "07_gensim_LDA.ipynb",
      "version": "0.3.2",
      "provenance": [],
      "include_colab_link": true
    },
    "kernelspec": {
      "name": "python2",
      "display_name": "Python 2"
    }
  },
  "cells": [
    {
      "cell_type": "markdown",
      "metadata": {
        "id": "view-in-github",
        "colab_type": "text"
      },
      "source": [
        "<a href=\"https://colab.research.google.com/github/ayaz-ncr/100ml/blob/master/07_gensim_LDA.ipynb\" target=\"_parent\"><img src=\"https://colab.research.google.com/assets/colab-badge.svg\" alt=\"Open In Colab\"/></a>"
      ]
    },
    {
      "cell_type": "code",
      "metadata": {
        "id": "mi7e4gPdg84Q",
        "colab_type": "code",
        "colab": {
          "base_uri": "https://localhost:8080/",
          "height": 67
        },
        "outputId": "d9a05522-8535-44d3-8c1a-28f8224d7ce5"
      },
      "source": [
        "import nltk\n",
        "nltk.download('stopwords')"
      ],
      "execution_count": 2,
      "outputs": [
        {
          "output_type": "stream",
          "text": [
            "[nltk_data] Downloading package stopwords to /root/nltk_data...\n",
            "[nltk_data]   Unzipping corpora/stopwords.zip.\n"
          ],
          "name": "stdout"
        },
        {
          "output_type": "execute_result",
          "data": {
            "text/plain": [
              "True"
            ]
          },
          "metadata": {
            "tags": []
          },
          "execution_count": 2
        }
      ]
    },
    {
      "cell_type": "code",
      "metadata": {
        "id": "Q3HI1IYRhD1I",
        "colab_type": "code",
        "colab": {
          "base_uri": "https://localhost:8080/",
          "height": 104
        },
        "outputId": "924b6734-776f-40df-c40d-d73d2937a1d8"
      },
      "source": [
        "from nltk.corpus import stopwords\n",
        "stopwords = stopwords.words('english')\n",
        "\"\"\"\n",
        "Title : to get the topics from the documents using Latent Dirichlet Allocation\n",
        "tools : Gensim\n",
        "\"\"\"\n",
        "\n",
        "doc1 = \"sugar is bad to consume. My sister likes to have sugar, but not my father.\"\n",
        "doc2 = \"my father spends a lot of time driving my sister around to dance practice.\"\n",
        "doc3 = \"doctors suggest that driving may cause increased stress and blood pressure.\"\n",
        "\n",
        "doc_complete = [doc1,doc2,doc3]\n",
        "\n",
        "doc_clean = [[word for word in doc.split() if word not in stopwords] for doc in doc_complete]\n",
        "\n",
        "print(\"\\n doc_clean => \",doc_clean)\n",
        "\n",
        "import gensim \n",
        "from gensim import corpora\n",
        "\n",
        "dictionary = corpora.Dictionary(doc_clean)\n",
        "print(\"\\n dictionary => \",dictionary)\n",
        "\n",
        "doc_term_matrix = [dictionary.doc2bow(doc) for doc in doc_clean]\n",
        "print(\"\\n doc_term_matrix => \",doc_term_matrix)\n",
        "\n",
        "Lda = gensim.models.ldamodel.LdaModel\n",
        "\n",
        "ldamodel = Lda(doc_term_matrix, num_topics = 3, id2word = dictionary, passes = 50)\n",
        "\n",
        "topics = ldamodel.print_topics()\n",
        "\n",
        "print(\"\\n topics => \",topics)"
      ],
      "execution_count": 3,
      "outputs": [
        {
          "output_type": "stream",
          "text": [
            "('\\n doc_clean => ', [['sugar', 'bad', 'consume.', 'My', 'sister', 'likes', 'sugar,', 'father.'], ['father', 'spends', 'lot', 'time', 'driving', 'sister', 'around', 'dance', 'practice.'], ['doctors', 'suggest', 'driving', 'may', 'cause', 'increased', 'stress', 'blood', 'pressure.']])\n",
            "('\\n dictionary => ', <gensim.corpora.dictionary.Dictionary object at 0x7f99e3fe8ad0>)\n",
            "('\\n doc_term_matrix => ', [[(0, 1), (1, 1), (2, 1), (3, 1), (4, 1), (5, 1), (6, 1), (7, 1)], [(5, 1), (8, 1), (9, 1), (10, 1), (11, 1), (12, 1), (13, 1), (14, 1), (15, 1)], [(10, 1), (16, 1), (17, 1), (18, 1), (19, 1), (20, 1), (21, 1), (22, 1), (23, 1)]])\n",
            "('\\n topics => ', [(0, u'0.083*\"sister\" + 0.083*\"My\" + 0.083*\"consume.\" + 0.083*\"father.\" + 0.083*\"likes\" + 0.083*\"sugar\" + 0.083*\"sugar,\" + 0.083*\"bad\" + 0.021*\"driving\" + 0.021*\"father\"'), (1, u'0.078*\"driving\" + 0.078*\"increased\" + 0.078*\"doctors\" + 0.078*\"pressure.\" + 0.078*\"suggest\" + 0.078*\"may\" + 0.078*\"cause\" + 0.078*\"blood\" + 0.078*\"stress\" + 0.020*\"sister\"'), (2, u'0.078*\"driving\" + 0.078*\"sister\" + 0.078*\"time\" + 0.078*\"spends\" + 0.078*\"lot\" + 0.078*\"dance\" + 0.078*\"father\" + 0.078*\"practice.\" + 0.078*\"around\" + 0.020*\"bad\"')])\n"
          ],
          "name": "stdout"
        }
      ]
    }
  ]
}
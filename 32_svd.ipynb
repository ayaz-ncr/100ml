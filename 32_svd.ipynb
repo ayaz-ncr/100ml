{
  "nbformat": 4,
  "nbformat_minor": 0,
  "metadata": {
    "colab": {
      "name": "32-svd.ipynb",
      "version": "0.3.2",
      "provenance": [],
      "include_colab_link": true
    },
    "kernelspec": {
      "name": "python3",
      "display_name": "Python 3"
    }
  },
  "cells": [
    {
      "cell_type": "markdown",
      "metadata": {
        "id": "view-in-github",
        "colab_type": "text"
      },
      "source": [
        "<a href=\"https://colab.research.google.com/github/ayaz-ncr/100ml/blob/master/32_svd.ipynb\" target=\"_parent\"><img src=\"https://colab.research.google.com/assets/colab-badge.svg\" alt=\"Open In Colab\"/></a>"
      ]
    },
    {
      "cell_type": "code",
      "metadata": {
        "id": "-630MFyGSN-S",
        "colab_type": "code",
        "colab": {}
      },
      "source": [
        "from scipy import linalg\n",
        "import numpy as np\n",
        "from scipy.spatial.distance import cosine\n"
      ],
      "execution_count": 0,
      "outputs": []
    },
    {
      "cell_type": "code",
      "metadata": {
        "id": "mgg2kX8-SWu5",
        "colab_type": "code",
        "colab": {}
      },
      "source": [
        "#Let's define the matrix\n",
        "user_ids = np.array(['Amanda', 'Anna', 'Bruno', 'Ricardo'])\n",
        "item_ids = np.array(['Back to The Future', 'Conan',\n",
        "                    'Lord of the Rings', 'Star Wars'])"
      ],
      "execution_count": 0,
      "outputs": []
    },
    {
      "cell_type": "code",
      "metadata": {
        "id": "3LFx31tGSZ8n",
        "colab_type": "code",
        "colab": {
          "base_uri": "https://localhost:8080/",
          "height": 50
        },
        "outputId": "dfaa6bdf-6916-4a06-e42a-c3da4c99e675"
      },
      "source": [
        "user_ids\n",
        "item_ids"
      ],
      "execution_count": 4,
      "outputs": [
        {
          "output_type": "execute_result",
          "data": {
            "text/plain": [
              "array(['Back to The Future', 'Conan', 'Lord of the Rings', 'Star Wars'],\n",
              "      dtype='<U18')"
            ]
          },
          "metadata": {
            "tags": []
          },
          "execution_count": 4
        }
      ]
    },
    {
      "cell_type": "code",
      "metadata": {
        "id": "ujgJ-mI1Sfup",
        "colab_type": "code",
        "colab": {}
      },
      "source": [
        "matrix = np.matrix([\n",
        "        #Amanda, Anna, Bruno, Ricardo\n",
        "         [3, 4, 3, 1], #Back to The Future\n",
        "         [1, 3, 2, 6], #Conan\n",
        "         [2, 4, 1, 5], #Lord of The Rings\n",
        "         [3, 3, 5, 2] #Star Wars\n",
        "])"
      ],
      "execution_count": 0,
      "outputs": []
    },
    {
      "cell_type": "code",
      "metadata": {
        "id": "CoMI6IzJSl14",
        "colab_type": "code",
        "colab": {
          "base_uri": "https://localhost:8080/",
          "height": 84
        },
        "outputId": "a16a6747-10e1-42b5-c382-7a97521a3219"
      },
      "source": [
        "matrix"
      ],
      "execution_count": 6,
      "outputs": [
        {
          "output_type": "execute_result",
          "data": {
            "text/plain": [
              "matrix([[3, 4, 3, 1],\n",
              "        [1, 3, 2, 6],\n",
              "        [2, 4, 1, 5],\n",
              "        [3, 3, 5, 2]])"
            ]
          },
          "metadata": {
            "tags": []
          },
          "execution_count": 6
        }
      ]
    },
    {
      "cell_type": "code",
      "metadata": {
        "id": "o-vTazQWSqU0",
        "colab_type": "code",
        "colab": {}
      },
      "source": [
        "#Compute the SVD Decomposition\n",
        "u, s, vt = linalg.svd(matrix)"
      ],
      "execution_count": 0,
      "outputs": []
    },
    {
      "cell_type": "code",
      "metadata": {
        "id": "Ckmpv52mSsVM",
        "colab_type": "code",
        "colab": {
          "base_uri": "https://localhost:8080/",
          "height": 84
        },
        "outputId": "278ac506-2cfc-4606-ee32-fd8a5554df75"
      },
      "source": [
        "u"
      ],
      "execution_count": 11,
      "outputs": [
        {
          "output_type": "execute_result",
          "data": {
            "text/plain": [
              "array([[-0.43124523,  0.49315012, -0.55075835, -0.51719991],\n",
              "       [-0.53273754, -0.53052572,  0.41966021, -0.50854546],\n",
              "       [-0.52374556, -0.40520071, -0.48729169,  0.5692537 ],\n",
              "       [-0.50587435,  0.5578152 ,  0.53206894,  0.38708653]])"
            ]
          },
          "metadata": {
            "tags": []
          },
          "execution_count": 11
        }
      ]
    },
    {
      "cell_type": "code",
      "metadata": {
        "id": "wbxO5hByTC04",
        "colab_type": "code",
        "colab": {}
      },
      "source": [
        "#Now let's get the decomposed matrixes (2-rank)\n",
        "#The first and second columns of u (4x2)\n",
        "u2 = u[:, 0:2]\n",
        "#The first and second columns of vt transposed (4x2)\n",
        "vt2 = vt.T[:, 0:2]\n",
        "#Finally the first two eigen-values (2x2)\n",
        "eig2 = np.diag(s.T[0:2])"
      ],
      "execution_count": 0,
      "outputs": []
    },
    {
      "cell_type": "code",
      "metadata": {
        "id": "kWeVyoQKTH1W",
        "colab_type": "code",
        "colab": {}
      },
      "source": [
        "#Now let's come with Marcel, the new user.\n",
        "marcel = np.matrix([0, 3, 0, 4])\n",
        "marcel_2D = marcel * u2 * linalg.inv(eig2)"
      ],
      "execution_count": 0,
      "outputs": []
    },
    {
      "cell_type": "code",
      "metadata": {
        "id": "kUie-VL6TJV9",
        "colab_type": "code",
        "colab": {}
      },
      "source": [
        "#Compute the cosine similarity between Marcel and\n",
        "#every other User in our 2-D space\n",
        "#Perfect similarity = 1.0  No Similarity = 0.0\n",
        "users_2D = [line * u2 * linalg.inv(eig2)  for line in matrix.T]\n",
        "users_sim = np.array([1 - cosine(marcel_2D, user_2D).flatten()\n",
        "                        for user_2D in users_2D]).flatten()"
      ],
      "execution_count": 0,
      "outputs": []
    },
    {
      "cell_type": "code",
      "metadata": {
        "id": "rPUDw5aKTOSH",
        "colab_type": "code",
        "colab": {}
      },
      "source": [
        "# Remove all users who fall below the 0.90 cosine similarity\n",
        "#cutoff and sort by similarity\n",
        "#users_sim = users_sim[users_sim]\n",
        "most_similar = np.where(users_sim >= 0.9)\n",
        "most_similar_scores = users_sim[most_similar]\n",
        "most_similar_users = user_ids[most_similar]"
      ],
      "execution_count": 0,
      "outputs": []
    },
    {
      "cell_type": "code",
      "metadata": {
        "id": "X3jFt_obTQ6c",
        "colab_type": "code",
        "colab": {
          "base_uri": "https://localhost:8080/",
          "height": 50
        },
        "outputId": "8dd53da8-e094-41ed-b098-73ad7008e34a"
      },
      "source": [
        "for userno, user_id in enumerate(most_similar_users):\n",
        "    print(\"%s x Marcel: %.2f\" % (user_id, most_similar_scores[userno]))"
      ],
      "execution_count": 17,
      "outputs": [
        {
          "output_type": "stream",
          "text": [
            "Amanda x Marcel: 0.93\n",
            "Anna x Marcel: 0.97\n"
          ],
          "name": "stdout"
        }
      ]
    },
    {
      "cell_type": "code",
      "metadata": {
        "id": "eLxGyQuKTZvs",
        "colab_type": "code",
        "colab": {}
      },
      "source": [
        "#For computing the recommendations we will use the strategy:\n",
        "# 1) Select the most similar user\n",
        "# 2) Compare all the items rated by this user against your own and select\n",
        "#     the items that you have not yet rated\n",
        "# 3) Return the ratings for items I have not yet seen,\n",
        "#     but the most similar user has rated.\n",
        "sorted_scores = np.lexsort((most_similar_scores,))[::-1]\n",
        "most_similar_user = most_similar_users[sorted_scores][0]\n",
        "\n",
        "recommendable_items = np.logical_xor(\n",
        "                        matrix[np.where(user_ids == most_similar_user)],\n",
        "                        marcel)"
      ],
      "execution_count": 0,
      "outputs": []
    },
    {
      "cell_type": "code",
      "metadata": {
        "id": "kGu_OsElTdZY",
        "colab_type": "code",
        "colab": {
          "base_uri": "https://localhost:8080/",
          "height": 34
        },
        "outputId": "8a74c863-1dda-4b52-9336-02ed06e08304"
      },
      "source": [
        "#If is there any recommendations.\n",
        "print(most_similar_user + ' recommends for Marcel:')\n"
      ],
      "execution_count": 20,
      "outputs": [
        {
          "output_type": "stream",
          "text": [
            "Anna recommends for Marcel:\n"
          ],
          "name": "stdout"
        }
      ]
    },
    {
      "cell_type": "code",
      "metadata": {
        "id": "b_dADAy_Tiww",
        "colab_type": "code",
        "colab": {
          "base_uri": "https://localhost:8080/",
          "height": 229
        },
        "outputId": "ac1db589-9afe-46c7-8a58-fdb9b7d8f9d2"
      },
      "source": [
        "if np.any(recommendable_items):\n",
        "    preferences = matrix[np.where(user_ids ==  \\\n",
        "                most_similar_user)][recommendable_items].getA().flatten()\n",
        "    item_ids = item_ids[recommendable_items.getA().flatten()]\n",
        "    for index in range(preferences.size):\n",
        "        print(\"I gave for the movie %s the rating %d\" % (item_ids[index], preferences[index]))\n",
        "else:\n",
        "    print(\"All the movies you also watched.\")"
      ],
      "execution_count": 29,
      "outputs": [
        {
          "output_type": "error",
          "ename": "IndexError",
          "evalue": "ignored",
          "traceback": [
            "\u001b[0;31m---------------------------------------------------------------------------\u001b[0m",
            "\u001b[0;31mIndexError\u001b[0m                                Traceback (most recent call last)",
            "\u001b[0;32m<ipython-input-29-f00b6b227ab8>\u001b[0m in \u001b[0;36m<module>\u001b[0;34m()\u001b[0m\n\u001b[1;32m      1\u001b[0m \u001b[0;32mif\u001b[0m \u001b[0mnp\u001b[0m\u001b[0;34m.\u001b[0m\u001b[0many\u001b[0m\u001b[0;34m(\u001b[0m\u001b[0mrecommendable_items\u001b[0m\u001b[0;34m)\u001b[0m\u001b[0;34m:\u001b[0m\u001b[0;34m\u001b[0m\u001b[0;34m\u001b[0m\u001b[0m\n\u001b[1;32m      2\u001b[0m     \u001b[0mpreferences\u001b[0m \u001b[0;34m=\u001b[0m \u001b[0mmatrix\u001b[0m\u001b[0;34m[\u001b[0m\u001b[0mnp\u001b[0m\u001b[0;34m.\u001b[0m\u001b[0mwhere\u001b[0m\u001b[0;34m(\u001b[0m\u001b[0muser_ids\u001b[0m \u001b[0;34m==\u001b[0m                  \u001b[0mmost_similar_user\u001b[0m\u001b[0;34m)\u001b[0m\u001b[0;34m]\u001b[0m\u001b[0;34m[\u001b[0m\u001b[0mrecommendable_items\u001b[0m\u001b[0;34m]\u001b[0m\u001b[0;34m.\u001b[0m\u001b[0mgetA\u001b[0m\u001b[0;34m(\u001b[0m\u001b[0;34m)\u001b[0m\u001b[0;34m.\u001b[0m\u001b[0mflatten\u001b[0m\u001b[0;34m(\u001b[0m\u001b[0;34m)\u001b[0m\u001b[0;34m\u001b[0m\u001b[0;34m\u001b[0m\u001b[0m\n\u001b[0;32m----> 3\u001b[0;31m     \u001b[0mitem_ids\u001b[0m \u001b[0;34m=\u001b[0m \u001b[0mitem_ids\u001b[0m\u001b[0;34m[\u001b[0m\u001b[0mrecommendable_items\u001b[0m\u001b[0;34m.\u001b[0m\u001b[0mgetA\u001b[0m\u001b[0;34m(\u001b[0m\u001b[0;34m)\u001b[0m\u001b[0;34m.\u001b[0m\u001b[0mflatten\u001b[0m\u001b[0;34m(\u001b[0m\u001b[0;34m)\u001b[0m\u001b[0;34m]\u001b[0m\u001b[0;34m\u001b[0m\u001b[0;34m\u001b[0m\u001b[0m\n\u001b[0m\u001b[1;32m      4\u001b[0m     \u001b[0;32mfor\u001b[0m \u001b[0mindex\u001b[0m \u001b[0;32min\u001b[0m \u001b[0mrange\u001b[0m\u001b[0;34m(\u001b[0m\u001b[0mpreferences\u001b[0m\u001b[0;34m.\u001b[0m\u001b[0msize\u001b[0m\u001b[0;34m)\u001b[0m\u001b[0;34m:\u001b[0m\u001b[0;34m\u001b[0m\u001b[0;34m\u001b[0m\u001b[0m\n\u001b[1;32m      5\u001b[0m         \u001b[0mprint\u001b[0m\u001b[0;34m(\u001b[0m\u001b[0;34m\"I gave for the movie %s the rating %d\"\u001b[0m \u001b[0;34m%\u001b[0m \u001b[0;34m(\u001b[0m\u001b[0mitem_ids\u001b[0m\u001b[0;34m[\u001b[0m\u001b[0mindex\u001b[0m\u001b[0;34m]\u001b[0m\u001b[0;34m,\u001b[0m \u001b[0mpreferences\u001b[0m\u001b[0;34m[\u001b[0m\u001b[0mindex\u001b[0m\u001b[0;34m]\u001b[0m\u001b[0;34m)\u001b[0m\u001b[0;34m)\u001b[0m\u001b[0;34m\u001b[0m\u001b[0;34m\u001b[0m\u001b[0m\n",
            "\u001b[0;31mIndexError\u001b[0m: boolean index did not match indexed array along dimension 0; dimension is 2 but corresponding boolean dimension is 4"
          ]
        }
      ]
    }
  ]
}
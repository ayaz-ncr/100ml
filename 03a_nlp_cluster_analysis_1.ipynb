{
  "nbformat": 4,
  "nbformat_minor": 0,
  "metadata": {
    "colab": {
      "name": "03_nlp_cluster_analysis.ipynb",
      "version": "0.3.2",
      "provenance": [],
      "include_colab_link": true
    },
    "kernelspec": {
      "name": "python3",
      "display_name": "Python 3"
    }
  },
  "cells": [
    {
      "cell_type": "markdown",
      "metadata": {
        "id": "view-in-github",
        "colab_type": "text"
      },
      "source": [
        "<a href=\"https://colab.research.google.com/github/ayaz-ncr/100ml/blob/master/03a_nlp_cluster_analysis_1.ipynb\" target=\"_parent\"><img src=\"https://colab.research.google.com/assets/colab-badge.svg\" alt=\"Open In Colab\"/></a>"
      ]
    },
    {
      "cell_type": "markdown",
      "metadata": {
        "id": "dRz11F5BNmcc",
        "colab_type": "text"
      },
      "source": [
        "[home](http://www.brandonrose.org)"
      ]
    },
    {
      "cell_type": "markdown",
      "metadata": {
        "id": "5YZ3uTSyNmcf",
        "colab_type": "text"
      },
      "source": [
        "#Document Clustering with Python"
      ]
    },
    {
      "cell_type": "markdown",
      "metadata": {
        "id": "Q6vgOKiQNmch",
        "colab_type": "text"
      },
      "source": [
        "<img src='https://github.com/brandomr/document_cluster/blob/master/header_short.jpg?raw=1'>\n",
        "\n",
        "In this guide, I will explain how to cluster a set of documents using Python. My motivating example is to identify the latent structures within the synopses of the top 100 films of all time (per an IMDB list). See [the original post](http://www.brandonrose.org/top100) for a more detailed discussion on the example. This guide covers:\n",
        "\n",
        "<ul>\n",
        "<li> tokenizing and stemming each synopsis\n",
        "<li> transforming the corpus into vector space using [tf-idf](http://en.wikipedia.org/wiki/Tf%E2%80%93idf)\n",
        "<li> calculating cosine distance between each document as a measure of similarity\n",
        "<li> clustering the documents using the [k-means algorithm](http://en.wikipedia.org/wiki/K-means_clustering)\n",
        "<li> using [multidimensional scaling](http://en.wikipedia.org/wiki/Multidimensional_scaling) to reduce dimensionality within the corpus\n",
        "<li> plotting the clustering output using [matplotlib](http://matplotlib.org/) and [mpld3](http://mpld3.github.io/)\n",
        "<li> conducting a hierarchical clustering on the corpus using [Ward clustering](http://en.wikipedia.org/wiki/Ward%27s_method)\n",
        "<li> plotting a Ward dendrogram\n",
        "<li> topic modeling using [Latent Dirichlet Allocation (LDA)](http://en.wikipedia.org/wiki/Latent_Dirichlet_allocation)\n",
        "</ul>"
      ]
    },
    {
      "cell_type": "markdown",
      "metadata": {
        "id": "kVvKdSc5Nmci",
        "colab_type": "text"
      },
      "source": [
        "##Contents"
      ]
    },
    {
      "cell_type": "markdown",
      "metadata": {
        "id": "3cWjaziLP7nK",
        "colab_type": "text"
      },
      "source": [
        ""
      ]
    },
    {
      "cell_type": "markdown",
      "metadata": {
        "id": "14HifQzFNmcj",
        "colab_type": "text"
      },
      "source": [
        "<ul>\n",
        "<li>[Stopwords, stemming, and tokenization](#Stopwords,-stemming,-and-tokenizing)\n",
        "<li>[Tf-idf and document similarity](#Tf-idf-and-document-similarity)\n",
        "<li>[K-means clustering](#K-means-clustering)\n",
        "<li>[Multidimensional scaling](#Multidimensional-scaling)\n",
        "<li>[Visualizing document clusters](#Visualizing-document-clusters)\n",
        "<li>[Hierarchical document clustering](#Hierarchical-document-clustering)\n",
        "<li>[Latent Dirichlet Allocation (LDA)](#Latent-Dirichlet-Allocation)\n",
        "</ul>"
      ]
    },
    {
      "cell_type": "markdown",
      "metadata": {
        "id": "9IYR1tE4Nmck",
        "colab_type": "text"
      },
      "source": [
        "But first, I import everything I am going to need up front"
      ]
    },
    {
      "cell_type": "code",
      "metadata": {
        "id": "d2ZlWx1ZNmcl",
        "colab_type": "code",
        "colab": {}
      },
      "source": [
        "import numpy as np\n",
        "import pandas as pd\n",
        "import nltk\n",
        "from bs4 import BeautifulSoup\n",
        "import re\n",
        "import os\n",
        "import codecs\n",
        "from sklearn import feature_extraction\n",
        "#import mpld3"
      ],
      "execution_count": 0,
      "outputs": []
    },
    {
      "cell_type": "markdown",
      "metadata": {
        "id": "RYPvsjiiNmcp",
        "colab_type": "text"
      },
      "source": [
        "#Stopwords, stemming, and tokenizing"
      ]
    },
    {
      "cell_type": "code",
      "metadata": {
        "id": "2KWbBboKOjHq",
        "colab_type": "code",
        "outputId": "149dcfb5-f032-418c-fc58-e4f30d52046d",
        "colab": {
          "resources": {
            "http://localhost:8080/nbextensions/google.colab/files.js": {
              "data": "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",
              "ok": true,
              "headers": [
                [
                  "content-type",
                  "application/javascript"
                ]
              ],
              "status": 200,
              "status_text": ""
            }
          },
          "base_uri": "https://localhost:8080/",
          "height": 175
        }
      },
      "source": [
        "#url1 = \"https://raw.githubusercontent.com/brandomr/document_cluster/master/title_list.txt\"\n",
        "#df1 = pd.read_csv(url1)\n",
        "from google.colab import files\n",
        "uploaded = files.upload()\n"
      ],
      "execution_count": 10,
      "outputs": [
        {
          "output_type": "display_data",
          "data": {
            "text/html": [
              "\n",
              "     <input type=\"file\" id=\"files-0a807dcd-5a0f-4157-987a-ae8a65a74f65\" name=\"files[]\" multiple disabled />\n",
              "     <output id=\"result-0a807dcd-5a0f-4157-987a-ae8a65a74f65\">\n",
              "      Upload widget is only available when the cell has been executed in the\n",
              "      current browser session. Please rerun this cell to enable.\n",
              "      </output>\n",
              "      <script src=\"/nbextensions/google.colab/files.js\"></script> "
            ],
            "text/plain": [
              "<IPython.core.display.HTML object>"
            ]
          },
          "metadata": {
            "tags": []
          }
        },
        {
          "output_type": "stream",
          "text": [
            "Saving genres_list.txt to genres_list.txt\n",
            "Saving link_list_imdb.txt to link_list_imdb (1).txt\n",
            "Saving synopses_list_wiki.txt to synopses_list_wiki (1).txt\n",
            "Saving title_list.txt to title_list (2).txt\n"
          ],
          "name": "stdout"
        }
      ]
    },
    {
      "cell_type": "code",
      "metadata": {
        "id": "QS9_TrmANmcq",
        "colab_type": "code",
        "outputId": "fe0cf7f5-02e1-4259-87e3-79736050acc1",
        "colab": {
          "base_uri": "https://localhost:8080/",
          "height": 84
        }
      },
      "source": [
        "#import three lists: titles, links and wikipedia synopses\n",
        "titles = open('title_list.txt').read().split('\\n')\n",
        "#ensures that only the first 100 are read in\n",
        "titles = titles[:100]\n",
        "\n",
        "links = open('link_list_imdb.txt').read().split('\\n')\n",
        "links = links[:100]\n",
        "\n",
        "synopses_wiki = open('synopses_list_wiki.txt').read().split('\\n BREAKS HERE')\n",
        "synopses_wiki = synopses_wiki[:100]\n",
        "\n",
        "synopses_clean_wiki = []\n",
        "for text in synopses_wiki:\n",
        "    text = BeautifulSoup(text, 'html.parser').getText()\n",
        "    #strips html formatting and converts to unicode\n",
        "    synopses_clean_wiki.append(text)\n",
        "\n",
        "synopses_wiki = synopses_clean_wiki\n",
        "    \n",
        "    \n",
        "genres = open('genres_list.txt').read().split('\\n')\n",
        "genres = genres[:100]\n",
        "\n",
        "print(str(len(titles)) + ' titles')\n",
        "print(str(len(links)) + ' links')\n",
        "print(str(len(synopses_wiki)) + ' synopses')\n",
        "print(str(len(genres)) + ' genres')"
      ],
      "execution_count": 11,
      "outputs": [
        {
          "output_type": "stream",
          "text": [
            "100 titles\n",
            "100 links\n",
            "100 synopses\n",
            "100 genres\n"
          ],
          "name": "stdout"
        }
      ]
    },
    {
      "cell_type": "code",
      "metadata": {
        "id": "fx5DcmkKRHZy",
        "colab_type": "code",
        "outputId": "bd14de83-9dfa-4980-f365-464b003863e9",
        "colab": {
          "resources": {
            "http://localhost:8080/nbextensions/google.colab/files.js": {
              "data": "Ly8gQ29weXJpZ2h0IDIwMTcgR29vZ2xlIExMQwovLwovLyBMaWNlbnNlZCB1bmRlciB0aGUgQXBhY2hlIExpY2Vuc2UsIFZlcnNpb24gMi4wICh0aGUgIkxpY2Vuc2UiKTsKLy8geW91IG1heSBub3QgdXNlIHRoaXMgZmlsZSBleGNlcHQgaW4gY29tcGxpYW5jZSB3aXRoIHRoZSBMaWNlbnNlLgovLyBZb3UgbWF5IG9idGFpbiBhIGNvcHkgb2YgdGhlIExpY2Vuc2UgYXQKLy8KLy8gICAgICBodHRwOi8vd3d3LmFwYWNoZS5vcmcvbGljZW5zZXMvTElDRU5TRS0yLjAKLy8KLy8gVW5sZXNzIHJlcXVpcmVkIGJ5IGFwcGxpY2FibGUgbGF3IG9yIGFncmVlZCB0byBpbiB3cml0aW5nLCBzb2Z0d2FyZQovLyBkaXN0cmlidXRlZCB1bmRlciB0aGUgTGljZW5zZSBpcyBkaXN0cmlidXRlZCBvbiBhbiAiQVMgSVMiIEJBU0lTLAovLyBXSVRIT1VUIFdBUlJBTlRJRVMgT1IgQ09ORElUSU9OUyBPRiBBTlkgS0lORCwgZWl0aGVyIGV4cHJlc3Mgb3IgaW1wbGllZC4KLy8gU2VlIHRoZSBMaWNlbnNlIGZvciB0aGUgc3BlY2lmaWMgbGFuZ3VhZ2UgZ292ZXJuaW5nIHBlcm1pc3Npb25zIGFuZAovLyBsaW1pdGF0aW9ucyB1bmRlciB0aGUgTGljZW5zZS4KCi8qKgogKiBAZmlsZW92ZXJ2aWV3IEhlbHBlcnMgZm9yIGdvb2dsZS5jb2xhYiBQeXRob24gbW9kdWxlLgogKi8KKGZ1bmN0aW9uKHNjb3BlKSB7CmZ1bmN0aW9uIHNwYW4odGV4dCwgc3R5bGVBdHRyaWJ1dGVzID0ge30pIHsKICBjb25zdCBlbGVtZW50ID0gZG9jdW1lbnQuY3JlYXRlRWxlbWVudCgnc3BhbicpOwogIGVsZW1lbnQudGV4dENvbnRlbnQgPSB0ZXh0OwogIGZvciAoY29uc3Qga2V5IG9mIE9iamVjdC5rZXlzKHN0eWxlQXR0cmlidXRlcykpIHsKICAgIGVsZW1lbnQuc3R5bGVba2V5XSA9IHN0eWxlQXR0cmlidXRlc1trZXldOwogIH0KICByZXR1cm4gZWxlbWVudDsKfQoKLy8gTWF4IG51bWJlciBvZiBieXRlcyB3aGljaCB3aWxsIGJlIHVwbG9hZGVkIGF0IGEgdGltZS4KY29uc3QgTUFYX1BBWUxPQURfU0laRSA9IDEwMCAqIDEwMjQ7Ci8vIE1heCBhbW91bnQgb2YgdGltZSB0byBibG9jayB3YWl0aW5nIGZvciB0aGUgdXNlci4KY29uc3QgRklMRV9DSEFOR0VfVElNRU9VVF9NUyA9IDMwICogMTAwMDsKCmZ1bmN0aW9uIF91cGxvYWRGaWxlcyhpbnB1dElkLCBvdXRwdXRJZCkgewogIGNvbnN0IHN0ZXBzID0gdXBsb2FkRmlsZXNTdGVwKGlucHV0SWQsIG91dHB1dElkKTsKICBjb25zdCBvdXRwdXRFbGVtZW50ID0gZG9jdW1lbnQuZ2V0RWxlbWVudEJ5SWQob3V0cHV0SWQpOwogIC8vIENhY2hlIHN0ZXBzIG9uIHRoZSBvdXRwdXRFbGVtZW50IHRvIG1ha2UgaXQgYXZhaWxhYmxlIGZvciB0aGUgbmV4dCBjYWxsCiAgLy8gdG8gdXBsb2FkRmlsZXNDb250aW51ZSBmcm9tIFB5dGhvbi4KICBvdXRwdXRFbGVtZW50LnN0ZXBzID0gc3RlcHM7CgogIHJldHVybiBfdXBsb2FkRmlsZXNDb250aW51ZShvdXRwdXRJZCk7Cn0KCi8vIFRoaXMgaXMgcm91Z2hseSBhbiBhc3luYyBnZW5lcmF0b3IgKG5vdCBzdXBwb3J0ZWQgaW4gdGhlIGJyb3dzZXIgeWV0KSwKLy8gd2hlcmUgdGhlcmUgYXJlIG11bHRpcGxlIGFzeW5jaHJvbm91cyBzdGVwcyBhbmQgdGhlIFB5dGhvbiBzaWRlIGlzIGdvaW5nCi8vIHRvIHBvbGwgZm9yIGNvbXBsZXRpb24gb2YgZWFjaCBzdGVwLgovLyBUaGlzIHVzZXMgYSBQcm9taXNlIHRvIGJsb2NrIHRoZSBweXRob24gc2lkZSBvbiBjb21wbGV0aW9uIG9mIGVhY2ggc3RlcCwKLy8gdGhlbiBwYXNzZXMgdGhlIHJlc3VsdCBvZiB0aGUgcHJldmlvdXMgc3RlcCBhcyB0aGUgaW5wdXQgdG8gdGhlIG5leHQgc3RlcC4KZnVuY3Rpb24gX3VwbG9hZEZpbGVzQ29udGludWUob3V0cHV0SWQpIHsKICBjb25zdCBvdXRwdXRFbGVtZW50ID0gZG9jdW1lbnQuZ2V0RWxlbWVudEJ5SWQob3V0cHV0SWQpOwogIGNvbnN0IHN0ZXBzID0gb3V0cHV0RWxlbWVudC5zdGVwczsKCiAgY29uc3QgbmV4dCA9IHN0ZXBzLm5leHQob3V0cHV0RWxlbWVudC5sYXN0UHJvbWlzZVZhbHVlKTsKICByZXR1cm4gUHJvbWlzZS5yZXNvbHZlKG5leHQudmFsdWUucHJvbWlzZSkudGhlbigodmFsdWUpID0+IHsKICAgIC8vIENhY2hlIHRoZSBsYXN0IHByb21pc2UgdmFsdWUgdG8gbWFrZSBpdCBhdmFpbGFibGUgdG8gdGhlIG5leHQKICAgIC8vIHN0ZXAgb2YgdGhlIGdlbmVyYXRvci4KICAgIG91dHB1dEVsZW1lbnQubGFzdFByb21pc2VWYWx1ZSA9IHZhbHVlOwogICAgcmV0dXJuIG5leHQudmFsdWUucmVzcG9uc2U7CiAgfSk7Cn0KCi8qKgogKiBHZW5lcmF0b3IgZnVuY3Rpb24gd2hpY2ggaXMgY2FsbGVkIGJldHdlZW4gZWFjaCBhc3luYyBzdGVwIG9mIHRoZSB1cGxvYWQKICogcHJvY2Vzcy4KICogQHBhcmFtIHtzdHJpbmd9IGlucHV0SWQgRWxlbWVudCBJRCBvZiB0aGUgaW5wdXQgZmlsZSBwaWNrZXIgZWxlbWVudC4KICogQHBhcmFtIHtzdHJpbmd9IG91dHB1dElkIEVsZW1lbnQgSUQgb2YgdGhlIG91dHB1dCBkaXNwbGF5LgogKiBAcmV0dXJuIHshSXRlcmFibGU8IU9iamVjdD59IEl0ZXJhYmxlIG9mIG5leHQgc3RlcHMuCiAqLwpmdW5jdGlvbiogdXBsb2FkRmlsZXNTdGVwKGlucHV0SWQsIG91dHB1dElkKSB7CiAgY29uc3QgaW5wdXRFbGVtZW50ID0gZG9jdW1lbnQuZ2V0RWxlbWVudEJ5SWQoaW5wdXRJZCk7CiAgaW5wdXRFbGVtZW50LmRpc2FibGVkID0gZmFsc2U7CgogIGNvbnN0IG91dHB1dEVsZW1lbnQgPSBkb2N1bWVudC5nZXRFbGVtZW50QnlJZChvdXRwdXRJZCk7CiAgb3V0cHV0RWxlbWVudC5pbm5lckhUTUwgPSAnJzsKCiAgY29uc3QgcGlja2VkUHJvbWlzZSA9IG5ldyBQcm9taXNlKChyZXNvbHZlKSA9PiB7CiAgICBpbnB1dEVsZW1lbnQuYWRkRXZlbnRMaXN0ZW5lcignY2hhbmdlJywgKGUpID0+IHsKICAgICAgcmVzb2x2ZShlLnRhcmdldC5maWxlcyk7CiAgICB9KTsKICB9KTsKCiAgY29uc3QgY2FuY2VsID0gZG9jdW1lbnQuY3JlYXRlRWxlbWVudCgnYnV0dG9uJyk7CiAgaW5wdXRFbGVtZW50LnBhcmVudEVsZW1lbnQuYXBwZW5kQ2hpbGQoY2FuY2VsKTsKICBjYW5jZWwudGV4dENvbnRlbnQgPSAnQ2FuY2VsIHVwbG9hZCc7CiAgY29uc3QgY2FuY2VsUHJvbWlzZSA9IG5ldyBQcm9taXNlKChyZXNvbHZlKSA9PiB7CiAgICBjYW5jZWwub25jbGljayA9ICgpID0+IHsKICAgICAgcmVzb2x2ZShudWxsKTsKICAgIH07CiAgfSk7CgogIC8vIENhbmNlbCB1cGxvYWQgaWYgdXNlciBoYXNuJ3QgcGlja2VkIGFueXRoaW5nIGluIHRpbWVvdXQuCiAgY29uc3QgdGltZW91dFByb21pc2UgPSBuZXcgUHJvbWlzZSgocmVzb2x2ZSkgPT4gewogICAgc2V0VGltZW91dCgoKSA9PiB7CiAgICAgIHJlc29sdmUobnVsbCk7CiAgICB9LCBGSUxFX0NIQU5HRV9USU1FT1VUX01TKTsKICB9KTsKCiAgLy8gV2FpdCBmb3IgdGhlIHVzZXIgdG8gcGljayB0aGUgZmlsZXMuCiAgY29uc3QgZmlsZXMgPSB5aWVsZCB7CiAgICBwcm9taXNlOiBQcm9taXNlLnJhY2UoW3BpY2tlZFByb21pc2UsIHRpbWVvdXRQcm9taXNlLCBjYW5jZWxQcm9taXNlXSksCiAgICByZXNwb25zZTogewogICAgICBhY3Rpb246ICdzdGFydGluZycsCiAgICB9CiAgfTsKCiAgaWYgKCFmaWxlcykgewogICAgcmV0dXJuIHsKICAgICAgcmVzcG9uc2U6IHsKICAgICAgICBhY3Rpb246ICdjb21wbGV0ZScsCiAgICAgIH0KICAgIH07CiAgfQoKICBjYW5jZWwucmVtb3ZlKCk7CgogIC8vIERpc2FibGUgdGhlIGlucHV0IGVsZW1lbnQgc2luY2UgZnVydGhlciBwaWNrcyBhcmUgbm90IGFsbG93ZWQuCiAgaW5wdXRFbGVtZW50LmRpc2FibGVkID0gdHJ1ZTsKCiAgZm9yIChjb25zdCBmaWxlIG9mIGZpbGVzKSB7CiAgICBjb25zdCBsaSA9IGRvY3VtZW50LmNyZWF0ZUVsZW1lbnQoJ2xpJyk7CiAgICBsaS5hcHBlbmQoc3BhbihmaWxlLm5hbWUsIHtmb250V2VpZ2h0OiAnYm9sZCd9KSk7CiAgICBsaS5hcHBlbmQoc3BhbigKICAgICAgICBgKCR7ZmlsZS50eXBlIHx8ICduL2EnfSkgLSAke2ZpbGUuc2l6ZX0gYnl0ZXMsIGAgKwogICAgICAgIGBsYXN0IG1vZGlmaWVkOiAkewogICAgICAgICAgICBmaWxlLmxhc3RNb2RpZmllZERhdGUgPyBmaWxlLmxhc3RNb2RpZmllZERhdGUudG9Mb2NhbGVEYXRlU3RyaW5nKCkgOgogICAgICAgICAgICAgICAgICAgICAgICAgICAgICAgICAgICAnbi9hJ30gLSBgKSk7CiAgICBjb25zdCBwZXJjZW50ID0gc3BhbignMCUgZG9uZScpOwogICAgbGkuYXBwZW5kQ2hpbGQocGVyY2VudCk7CgogICAgb3V0cHV0RWxlbWVudC5hcHBlbmRDaGlsZChsaSk7CgogICAgY29uc3QgZmlsZURhdGFQcm9taXNlID0gbmV3IFByb21pc2UoKHJlc29sdmUpID0+IHsKICAgICAgY29uc3QgcmVhZGVyID0gbmV3IEZpbGVSZWFkZXIoKTsKICAgICAgcmVhZGVyLm9ubG9hZCA9IChlKSA9PiB7CiAgICAgICAgcmVzb2x2ZShlLnRhcmdldC5yZXN1bHQpOwogICAgICB9OwogICAgICByZWFkZXIucmVhZEFzQXJyYXlCdWZmZXIoZmlsZSk7CiAgICB9KTsKICAgIC8vIFdhaXQgZm9yIHRoZSBkYXRhIHRvIGJlIHJlYWR5LgogICAgbGV0IGZpbGVEYXRhID0geWllbGQgewogICAgICBwcm9taXNlOiBmaWxlRGF0YVByb21pc2UsCiAgICAgIHJlc3BvbnNlOiB7CiAgICAgICAgYWN0aW9uOiAnY29udGludWUnLAogICAgICB9CiAgICB9OwoKICAgIC8vIFVzZSBhIGNodW5rZWQgc2VuZGluZyB0byBhdm9pZCBtZXNzYWdlIHNpemUgbGltaXRzLiBTZWUgYi82MjExNTY2MC4KICAgIGxldCBwb3NpdGlvbiA9IDA7CiAgICB3aGlsZSAocG9zaXRpb24gPCBmaWxlRGF0YS5ieXRlTGVuZ3RoKSB7CiAgICAgIGNvbnN0IGxlbmd0aCA9IE1hdGgubWluKGZpbGVEYXRhLmJ5dGVMZW5ndGggLSBwb3NpdGlvbiwgTUFYX1BBWUxPQURfU0laRSk7CiAgICAgIGNvbnN0IGNodW5rID0gbmV3IFVpbnQ4QXJyYXkoZmlsZURhdGEsIHBvc2l0aW9uLCBsZW5ndGgpOwogICAgICBwb3NpdGlvbiArPSBsZW5ndGg7CgogICAgICBjb25zdCBiYXNlNjQgPSBidG9hKFN0cmluZy5mcm9tQ2hhckNvZGUuYXBwbHkobnVsbCwgY2h1bmspKTsKICAgICAgeWllbGQgewogICAgICAgIHJlc3BvbnNlOiB7CiAgICAgICAgICBhY3Rpb246ICdhcHBlbmQnLAogICAgICAgICAgZmlsZTogZmlsZS5uYW1lLAogICAgICAgICAgZGF0YTogYmFzZTY0LAogICAgICAgIH0sCiAgICAgIH07CiAgICAgIHBlcmNlbnQudGV4dENvbnRlbnQgPQogICAgICAgICAgYCR7TWF0aC5yb3VuZCgocG9zaXRpb24gLyBmaWxlRGF0YS5ieXRlTGVuZ3RoKSAqIDEwMCl9JSBkb25lYDsKICAgIH0KICB9CgogIC8vIEFsbCBkb25lLgogIHlpZWxkIHsKICAgIHJlc3BvbnNlOiB7CiAgICAgIGFjdGlvbjogJ2NvbXBsZXRlJywKICAgIH0KICB9Owp9CgpzY29wZS5nb29nbGUgPSBzY29wZS5nb29nbGUgfHwge307CnNjb3BlLmdvb2dsZS5jb2xhYiA9IHNjb3BlLmdvb2dsZS5jb2xhYiB8fCB7fTsKc2NvcGUuZ29vZ2xlLmNvbGFiLl9maWxlcyA9IHsKICBfdXBsb2FkRmlsZXMsCiAgX3VwbG9hZEZpbGVzQ29udGludWUsCn07Cn0pKHNlbGYpOwo=",
              "ok": true,
              "headers": [
                [
                  "content-type",
                  "application/javascript"
                ]
              ],
              "status": 200,
              "status_text": ""
            }
          },
          "base_uri": "https://localhost:8080/",
          "height": 74
        }
      },
      "source": [
        "from google.colab import files\n",
        "uploaded = files.upload()"
      ],
      "execution_count": 12,
      "outputs": [
        {
          "output_type": "display_data",
          "data": {
            "text/html": [
              "\n",
              "     <input type=\"file\" id=\"files-94913670-a828-4785-9e6a-f2c0e1447eb9\" name=\"files[]\" multiple disabled />\n",
              "     <output id=\"result-94913670-a828-4785-9e6a-f2c0e1447eb9\">\n",
              "      Upload widget is only available when the cell has been executed in the\n",
              "      current browser session. Please rerun this cell to enable.\n",
              "      </output>\n",
              "      <script src=\"/nbextensions/google.colab/files.js\"></script> "
            ],
            "text/plain": [
              "<IPython.core.display.HTML object>"
            ]
          },
          "metadata": {
            "tags": []
          }
        },
        {
          "output_type": "stream",
          "text": [
            "Saving synopses_list_imdb.txt to synopses_list_imdb (1).txt\n"
          ],
          "name": "stdout"
        }
      ]
    },
    {
      "cell_type": "code",
      "metadata": {
        "id": "x4jkBnOANmcx",
        "colab_type": "code",
        "colab": {}
      },
      "source": [
        "synopses_imdb = open('synopses_list_imdb.txt').read().split('\\n BREAKS HERE')\n",
        "synopses_imdb = synopses_imdb[:100]\n",
        "\n",
        "synopses_clean_imdb = []\n",
        "\n",
        "for text in synopses_imdb:\n",
        "    text = BeautifulSoup(text, 'html.parser').getText()\n",
        "    #strips html formatting and converts to unicode\n",
        "    synopses_clean_imdb.append(text)\n",
        "\n",
        "synopses_imdb = synopses_clean_imdb"
      ],
      "execution_count": 0,
      "outputs": []
    },
    {
      "cell_type": "code",
      "metadata": {
        "id": "DRXWz3olNmc0",
        "colab_type": "code",
        "colab": {}
      },
      "source": [
        "synopses = []\n",
        "\n",
        "for i in range(len(synopses_wiki)):\n",
        "    item = synopses_wiki[i] + synopses_imdb[i]\n",
        "    synopses.append(item)"
      ],
      "execution_count": 0,
      "outputs": []
    },
    {
      "cell_type": "code",
      "metadata": {
        "id": "9bijk1cbNmc3",
        "colab_type": "code",
        "colab": {}
      },
      "source": [
        "# generates index for each item in the corpora (in this case it's just rank) and I'll use this for scoring later\n",
        "ranks = []\n",
        "\n",
        "for i in range(0,len(titles)):\n",
        "    ranks.append(i)"
      ],
      "execution_count": 0,
      "outputs": []
    },
    {
      "cell_type": "markdown",
      "metadata": {
        "id": "lHYuJQNYNmc7",
        "colab_type": "text"
      },
      "source": [
        "This section is focused on defining some functions to manipulate the synopses. First, I load [NLTK's](http://www.nltk.org/) list of English stop words. [Stop words](http://en.wikipedia.org/wiki/Stop_words) are words like \"a\", \"the\", or \"in\" which don't convey significant meaning. I'm sure there are much better explanations of this out there."
      ]
    },
    {
      "cell_type": "code",
      "metadata": {
        "id": "gTdzr54KNmc8",
        "colab_type": "code",
        "outputId": "b3c47a01-b7fd-481f-e596-316813f06a01",
        "colab": {
          "base_uri": "https://localhost:8080/",
          "height": 50
        }
      },
      "source": [
        "import nltk\n",
        "nltk.download('stopwords')\n",
        "# load nltk's English stopwords as variable called 'stopwords'\n",
        "stopwords = nltk.corpus.stopwords.words('english')"
      ],
      "execution_count": 16,
      "outputs": [
        {
          "output_type": "stream",
          "text": [
            "[nltk_data] Downloading package stopwords to /root/nltk_data...\n",
            "[nltk_data]   Unzipping corpora/stopwords.zip.\n"
          ],
          "name": "stdout"
        }
      ]
    },
    {
      "cell_type": "markdown",
      "metadata": {
        "id": "ftlM8wNpNmdA",
        "colab_type": "text"
      },
      "source": [
        "Next I import the [Snowball Stemmer](http://snowball.tartarus.org/) which is actually part of NLTK. [Stemming](http://en.wikipedia.org/wiki/Stemming) is just the process of breaking a word down into its root."
      ]
    },
    {
      "cell_type": "code",
      "metadata": {
        "id": "8oG-72CYNmdB",
        "colab_type": "code",
        "colab": {}
      },
      "source": [
        "# load nltk's SnowballStemmer as variabled 'stemmer'\n",
        "from nltk.stem.snowball import SnowballStemmer\n",
        "stemmer = SnowballStemmer(\"english\")"
      ],
      "execution_count": 0,
      "outputs": []
    },
    {
      "cell_type": "markdown",
      "metadata": {
        "id": "-AK3QYc5NmdH",
        "colab_type": "text"
      },
      "source": [
        "\n",
        "Below I define two functions:\n",
        "\n",
        "<ul>\n",
        "<li> *tokenize_and_stem*: tokenizes (splits the synopsis into a list of its respective words (or tokens) and also stems each token <li> *tokenize_only*: tokenizes the synopsis only\n",
        "</ul>\n",
        "\n",
        "I use both these functions to create a dictionary which becomes important in case I want to use stems for an algorithm, but later convert stems back to their full words for presentation purposes. Guess what, I do want to do that!\n",
        "\n"
      ]
    },
    {
      "cell_type": "code",
      "metadata": {
        "id": "lG2UNrRHNmdI",
        "colab_type": "code",
        "colab": {}
      },
      "source": [
        "# here I define a tokenizer and stemmer which returns the set of stems in the text that it is passed\n",
        "\n",
        "def tokenize_and_stem(text):\n",
        "    # first tokenize by sentence, then by word to ensure that punctuation is caught as it's own token\n",
        "    tokens = [word for sent in nltk.sent_tokenize(text) for word in nltk.word_tokenize(sent)]\n",
        "    filtered_tokens = []\n",
        "    # filter out any tokens not containing letters (e.g., numeric tokens, raw punctuation)\n",
        "    for token in tokens:\n",
        "        if re.search('[a-zA-Z]', token):\n",
        "            filtered_tokens.append(token)\n",
        "    stems = [stemmer.stem(t) for t in filtered_tokens]\n",
        "    return stems\n",
        "\n",
        "\n",
        "def tokenize_only(text):\n",
        "    # first tokenize by sentence, then by word to ensure that punctuation is caught as it's own token\n",
        "    tokens = [word.lower() for sent in nltk.sent_tokenize(text) for word in nltk.word_tokenize(sent)]\n",
        "    filtered_tokens = []\n",
        "    # filter out any tokens not containing letters (e.g., numeric tokens, raw punctuation)\n",
        "    for token in tokens:\n",
        "        if re.search('[a-zA-Z]', token):\n",
        "            filtered_tokens.append(token)\n",
        "    return filtered_tokens"
      ],
      "execution_count": 0,
      "outputs": []
    },
    {
      "cell_type": "markdown",
      "metadata": {
        "id": "U9IyjF2WNmdL",
        "colab_type": "text"
      },
      "source": [
        "Below I use my stemming/tokenizing and tokenizing functions to iterate over the list of synopses to create two vocabularies: one stemmed and one only tokenized. "
      ]
    },
    {
      "cell_type": "code",
      "metadata": {
        "id": "EouCHq9SNmdM",
        "colab_type": "code",
        "outputId": "23cb1459-bc38-4f1a-c4f7-08b038f74204",
        "colab": {
          "base_uri": "https://localhost:8080/",
          "height": 50
        }
      },
      "source": [
        "nltk.download('punkt')\n",
        "totalvocab_stemmed = []\n",
        "totalvocab_tokenized = []\n",
        "for i in synopses:\n",
        "    allwords_stemmed = tokenize_and_stem(i)\n",
        "    totalvocab_stemmed.extend(allwords_stemmed)\n",
        "    \n",
        "    allwords_tokenized = tokenize_only(i)\n",
        "    totalvocab_tokenized.extend(allwords_tokenized)"
      ],
      "execution_count": 19,
      "outputs": [
        {
          "output_type": "stream",
          "text": [
            "[nltk_data] Downloading package punkt to /root/nltk_data...\n",
            "[nltk_data]   Unzipping tokenizers/punkt.zip.\n"
          ],
          "name": "stdout"
        }
      ]
    },
    {
      "cell_type": "markdown",
      "metadata": {
        "id": "8nUuNnzkNmdP",
        "colab_type": "text"
      },
      "source": [
        "Using these two lists, I create a pandas DataFrame with the stemmed vocabulary as the index and the tokenized words as the column. The benefit of this is it provides an efficient way to look up a stem and return a full token. The downside here is that stems to tokens are one to many: the stem 'run' could be associated with 'ran', 'runs', 'running', etc. For my purposes this is fine--I'm perfectly happy returning the first token associated with the stem I need to look up."
      ]
    },
    {
      "cell_type": "code",
      "metadata": {
        "id": "1MhH7Oi8NmdQ",
        "colab_type": "code",
        "colab": {}
      },
      "source": [
        "vocab_frame = pd.DataFrame({'words': totalvocab_tokenized}, index = totalvocab_stemmed)"
      ],
      "execution_count": 0,
      "outputs": []
    },
    {
      "cell_type": "markdown",
      "metadata": {
        "id": "Zt5xAoFVNmdT",
        "colab_type": "text"
      },
      "source": [
        "##Tf-idf and document similarity"
      ]
    },
    {
      "cell_type": "markdown",
      "metadata": {
        "id": "3r1qsO2fNmdU",
        "colab_type": "text"
      },
      "source": [
        "<img src='http://www.jiem.org/index.php/jiem/article/viewFile/293/252/2402' align='right' style=\"margin-left:10px\">\n",
        "\n",
        "Here, I define term frequency-inverse document frequency (tf-idf) vectorizer parameters and then convert the *synopses* list into a tf-idf matrix. \n",
        "\n",
        "To get a Tf-idf matrix, first count word occurrences by document. This is transformed into a document-term matrix (dtm). This is also just called a term frequency matrix. An example of a dtm is here at right.\n",
        "\n",
        "Then apply the term frequency-inverse document frequency weighting: words that occur frequently within a document but not frequently within the corpus receive a higher weighting as these words are assumed to contain more meaning in relation to the document.\n",
        "\n",
        "A couple things to note about the parameters I define below:\n",
        "\n",
        "<ul>\n",
        "<li> max_df: this is the maximum frequency within the documents a given feature can have to be used in the tfi-idf matrix. If the term is in greater than 80% of the documents it probably cares little meanining (in the context of film synopses)\n",
        "<li> min_idf: this could be an integer (e.g. 5) and the term would have to be in at least 5 of the documents to be considered. Here I pass 0.2; the term must be in at least 20% of the document. I found that if I allowed a lower min_df I ended up basing clustering on names--for example \"Michael\" or \"Tom\" are names found in several of the movies and the synopses use these names frequently, but the names carry no real meaning.\n",
        "<li> ngram_range: this just means I'll look at unigrams, bigrams and trigrams. See [n-grams](http://en.wikipedia.org/wiki/N-gram)\n",
        "</ul>"
      ]
    },
    {
      "cell_type": "code",
      "metadata": {
        "id": "Im9zaRgwNmdV",
        "colab_type": "code",
        "outputId": "0f097cb7-40fe-4419-937d-c467750ba2fd",
        "colab": {
          "base_uri": "https://localhost:8080/",
          "height": 121
        }
      },
      "source": [
        "from sklearn.feature_extraction.text import TfidfVectorizer\n",
        "\n",
        "tfidf_vectorizer = TfidfVectorizer(max_df=0.8, max_features=200000,\n",
        "                                 min_df=0.2, stop_words='english',\n",
        "                                 use_idf=True, tokenizer=tokenize_and_stem, ngram_range=(1,3))\n",
        "\n",
        "%time tfidf_matrix = tfidf_vectorizer.fit_transform(synopses)\n",
        "\n",
        "print(tfidf_matrix.shape)"
      ],
      "execution_count": 21,
      "outputs": [
        {
          "output_type": "stream",
          "text": [
            "/usr/local/lib/python3.6/dist-packages/sklearn/feature_extraction/text.py:300: UserWarning: Your stop_words may be inconsistent with your preprocessing. Tokenizing the stop words generated tokens ['abov', 'afterward', 'alon', 'alreadi', 'alway', 'ani', 'anoth', 'anyon', 'anyth', 'anywher', 'becam', 'becaus', 'becom', 'befor', 'besid', 'cri', 'describ', 'dure', 'els', 'elsewher', 'empti', 'everi', 'everyon', 'everyth', 'everywher', 'fifti', 'forti', 'henc', 'hereaft', 'herebi', 'howev', 'hundr', 'inde', 'mani', 'meanwhil', 'moreov', 'nobodi', 'noon', 'noth', 'nowher', 'onc', 'onli', 'otherwis', 'ourselv', 'perhap', 'pleas', 'sever', 'sinc', 'sincer', 'sixti', 'someon', 'someth', 'sometim', 'somewher', 'themselv', 'thenc', 'thereaft', 'therebi', 'therefor', 'togeth', 'twelv', 'twenti', 'veri', 'whatev', 'whenc', 'whenev', 'wherea', 'whereaft', 'wherebi', 'wherev', 'whi', 'yourselv'] not in stop_words.\n",
            "  'stop_words.' % sorted(inconsistent))\n"
          ],
          "name": "stderr"
        },
        {
          "output_type": "stream",
          "text": [
            "CPU times: user 9.15 s, sys: 73.2 ms, total: 9.22 s\n",
            "Wall time: 9.24 s\n",
            "(100, 563)\n"
          ],
          "name": "stdout"
        }
      ]
    },
    {
      "cell_type": "code",
      "metadata": {
        "id": "UJFLdmioNmdZ",
        "colab_type": "code",
        "colab": {}
      },
      "source": [
        "terms = tfidf_vectorizer.get_feature_names()"
      ],
      "execution_count": 0,
      "outputs": []
    },
    {
      "cell_type": "code",
      "metadata": {
        "id": "nVtx292nNmdc",
        "colab_type": "code",
        "colab": {}
      },
      "source": [
        "from sklearn.metrics.pairwise import cosine_similarity\n",
        "dist = 1 - cosine_similarity(tfidf_matrix)"
      ],
      "execution_count": 0,
      "outputs": []
    },
    {
      "cell_type": "markdown",
      "metadata": {
        "id": "2ic3qtd4Nmdf",
        "colab_type": "text"
      },
      "source": [
        "#K-means clustering"
      ]
    },
    {
      "cell_type": "markdown",
      "metadata": {
        "id": "FyY4KmXQNmdg",
        "colab_type": "text"
      },
      "source": [
        "Now onto the fun part. Using the tf-idf matrix, you can run a slew of clustering algorithms to better understand the hidden structure within the synopses. I first chose [k-means](http://en.wikipedia.org/wiki/K-means_clustering). K-means initializes with a pre-determined number of clusters (I chose 5). Each observation is assigned to a cluster (cluster assignment) so as to minimize the within cluster sum of squares. Next, the mean of the clustered observations is calculated and used as the new cluster centroid. Then, observations are reassigned to clusters and  centroids recalculated in an iterative process until the algorithm reaches convergence.\n",
        "\n",
        "I found it took several runs for the algorithm to converge a global optimum as k-means is susceptible to reaching local optima. "
      ]
    },
    {
      "cell_type": "code",
      "metadata": {
        "id": "2OakoM4oNmdh",
        "colab_type": "code",
        "outputId": "29fd0cb0-9430-4abd-e98b-7e438ee12a36",
        "colab": {
          "base_uri": "https://localhost:8080/",
          "height": 50
        }
      },
      "source": [
        "from sklearn.cluster import KMeans\n",
        "\n",
        "num_clusters = 5\n",
        "\n",
        "km = KMeans(n_clusters=num_clusters)\n",
        "\n",
        "%time km.fit(tfidf_matrix)\n",
        "\n",
        "clusters = km.labels_.tolist()"
      ],
      "execution_count": 24,
      "outputs": [
        {
          "output_type": "stream",
          "text": [
            "CPU times: user 696 ms, sys: 865 µs, total: 697 ms\n",
            "Wall time: 698 ms\n"
          ],
          "name": "stdout"
        }
      ]
    },
    {
      "cell_type": "code",
      "metadata": {
        "id": "i1wwSKN-Nmdp",
        "colab_type": "code",
        "colab": {}
      },
      "source": [
        "from sklearn.externals import joblib\n",
        "\n",
        "joblib.dump(km,  'doc_cluster.pkl')\n",
        "km = joblib.load('doc_cluster.pkl')\n",
        "clusters = km.labels_.tolist()"
      ],
      "execution_count": 0,
      "outputs": []
    },
    {
      "cell_type": "code",
      "metadata": {
        "id": "uh7loAyLNmdt",
        "colab_type": "code",
        "colab": {}
      },
      "source": [
        "import pandas as pd\n",
        "\n",
        "films = { 'title': titles, 'rank': ranks, 'synopsis': synopses, 'cluster': clusters, 'genre': genres }\n",
        "\n",
        "frame = pd.DataFrame(films, index = [clusters] , columns = ['rank', 'title', 'cluster', 'genre'])"
      ],
      "execution_count": 0,
      "outputs": []
    },
    {
      "cell_type": "code",
      "metadata": {
        "id": "3APp0pSxNmdy",
        "colab_type": "code",
        "outputId": "68205757-9a97-4f2a-df90-0f2d55f16370",
        "colab": {
          "base_uri": "https://localhost:8080/",
          "height": 118
        }
      },
      "source": [
        "frame['cluster'].value_counts()"
      ],
      "execution_count": 0,
      "outputs": [
        {
          "output_type": "execute_result",
          "data": {
            "text/plain": [
              "2    43\n",
              "4    22\n",
              "1    20\n",
              "0     9\n",
              "3     6\n",
              "Name: cluster, dtype: int64"
            ]
          },
          "metadata": {
            "tags": []
          },
          "execution_count": 30
        }
      ]
    },
    {
      "cell_type": "code",
      "metadata": {
        "id": "T0JAyAWmNmd3",
        "colab_type": "code",
        "outputId": "d557c6ba-a743-49ec-d8df-0b204efcf706",
        "colab": {
          "base_uri": "https://localhost:8080/",
          "height": 134
        }
      },
      "source": [
        "grouped = frame['rank'].groupby(frame['cluster'])\n",
        "\n",
        "grouped.mean()"
      ],
      "execution_count": 28,
      "outputs": [
        {
          "output_type": "execute_result",
          "data": {
            "text/plain": [
              "cluster\n",
              "0    57.500000\n",
              "1    44.655172\n",
              "2    53.576923\n",
              "3    52.833333\n",
              "4    49.000000\n",
              "Name: rank, dtype: float64"
            ]
          },
          "metadata": {
            "tags": []
          },
          "execution_count": 28
        }
      ]
    },
    {
      "cell_type": "code",
      "metadata": {
        "id": "zgVvpuW9Nmd7",
        "colab_type": "code",
        "outputId": "c06fe54c-dda8-400d-ec7c-5fe07a8b19c6",
        "colab": {
          "base_uri": "https://localhost:8080/",
          "height": 675
        }
      },
      "source": [
        "from __future__ import print_function\n",
        "\n",
        "print(\"Top terms per cluster:\")\n",
        "print()\n",
        "order_centroids = km.cluster_centers_.argsort()[:, ::-1]\n",
        "for i in range(num_clusters):\n",
        "    print(\"Cluster %d words:\" % i, end='')\n",
        "    for ind in order_centroids[i, :6]:\n",
        "        print(' %s' % vocab_frame.ix[terms[ind].split(' ')].values.tolist()[0][0].encode('utf-8', 'ignore'), end=',')\n",
        "    print()\n",
        "    print()\n",
        "    print(\"Cluster %d titles:\" % i, end='')\n",
        "    for title in frame.ix[i]['title'].values.tolist():\n",
        "        print(' %s,' % title, end='')\n",
        "    print()\n",
        "    print()"
      ],
      "execution_count": 29,
      "outputs": [
        {
          "output_type": "stream",
          "text": [
            "Top terms per cluster:\n",
            "\n",
            "Cluster 0 words: b'singing', b'bar', b'relationship', b'film', b'new', b'york',\n",
            "\n",
            "Cluster 0 titles: Singin' in the Rain, The Good, the Bad and the Ugly, Annie Hall, Nashville,\n",
            "\n",
            "Cluster 1 words: b'killed', b'soldiers', b'army', b'command', b'men', b'orders',\n",
            "\n",
            "Cluster 1 titles: The Shawshank Redemption, Schindler's List, Casablanca, Lawrence of Arabia, Star Wars, 2001: A Space Odyssey, The Bridge on the River Kwai, Dr. Strangelove or: How I Learned to Stop Worrying and Love the Bomb, Apocalypse Now, The Lord of the Rings: The Return of the King, Gladiator, From Here to Eternity, Saving Private Ryan, Unforgiven, Raiders of the Lost Ark, Patton, Jaws, Butch Cassidy and the Sundance Kid, The Treasure of the Sierra Madre, Platoon, Dances with Wolves, The Deer Hunter, All Quiet on the Western Front, Shane, The Green Mile, Close Encounters of the Third Kind, The African Queen, Stagecoach, Mutiny on the Bounty,\n",
            "\n",
            "Cluster 2 words: b'family', b'car', b'father',"
          ],
          "name": "stdout"
        },
        {
          "output_type": "stream",
          "text": [
            "/usr/local/lib/python3.6/dist-packages/ipykernel_launcher.py:9: DeprecationWarning: \n",
            ".ix is deprecated. Please use\n",
            ".loc for label based indexing or\n",
            ".iloc for positional indexing\n",
            "\n",
            "See the documentation here:\n",
            "http://pandas.pydata.org/pandas-docs/stable/indexing.html#ix-indexer-is-deprecated\n",
            "  if __name__ == '__main__':\n",
            "/usr/local/lib/python3.6/dist-packages/ipykernel_launcher.py:13: DeprecationWarning: \n",
            ".ix is deprecated. Please use\n",
            ".loc for label based indexing or\n",
            ".iloc for positional indexing\n",
            "\n",
            "See the documentation here:\n",
            "http://pandas.pydata.org/pandas-docs/stable/indexing.html#ix-indexer-is-deprecated\n",
            "  del sys.path[0]\n"
          ],
          "name": "stderr"
        },
        {
          "output_type": "stream",
          "text": [
            " b'war', b'meet', b'house',\n",
            "\n",
            "Cluster 2 titles: The Godfather, Gone with the Wind, The Wizard of Oz, Sunset Blvd., Forrest Gump, The Sound of Music, Chinatown, Amadeus, A Streetcar Named Desire, The Best Years of Our Lives, Doctor Zhivago, Braveheart, The Pianist, Goodfellas, City Lights, It Happened One Night, Out of Africa, Fargo, Giant, The Grapes of Wrath, American Graffiti, Pulp Fiction, The Maltese Falcon, Double Indemnity, Rebel Without a Cause, Yankee Doodle Dandy,\n",
            "\n",
            "Cluster 3 words: b'george', b'marries', b'woman', b'family', b'friends', b'john',\n",
            "\n",
            "Cluster 3 titles: It's a Wonderful Life, The Philadelphia Story, An American in Paris, The King's Speech, A Place in the Sun, Tootsie,\n",
            "\n",
            "Cluster 4 words: b'friends', b'mother', b'apartments', b'new', b'father', b'police',\n",
            "\n",
            "Cluster 4 titles: Raging Bull, One Flew Over the Cuckoo's Nest, Citizen Kane, Titanic, The Godfather: Part II, Psycho, Vertigo, On the Waterfront, West Side Story, E.T. the Extra-Terrestrial, The Silence of the Lambs, Some Like It Hot, 12 Angry Men, Gandhi, Rocky, To Kill a Mockingbird, My Fair Lady, Ben-Hur, The Apartment, High Noon, The Exorcist, The French Connection, Midnight Cowboy, Mr. Smith Goes to Washington, Rain Man, Good Will Hunting, Terms of Endearment, Network, The Graduate, A Clockwork Orange, Taxi Driver, Wuthering Heights, Rear Window, The Third Man, North by Northwest,\n",
            "\n"
          ],
          "name": "stdout"
        }
      ]
    },
    {
      "cell_type": "code",
      "metadata": {
        "id": "frbstWKqNmeA",
        "colab_type": "code",
        "colab": {}
      },
      "source": [
        "#This is purely to help export tables to html and to correct for my 0 start rank (so that Godfather is 1, not 0)\n",
        "frame['Rank'] = frame['rank'] + 1\n",
        "frame['Title'] = frame['title']"
      ],
      "execution_count": 0,
      "outputs": []
    },
    {
      "cell_type": "code",
      "metadata": {
        "id": "15IfgZ-ZNmeD",
        "colab_type": "code",
        "outputId": "8ee03505-8fa2-4914-8594-6b53ad6d3cee",
        "colab": {
          "base_uri": "https://localhost:8080/",
          "height": 1000
        }
      },
      "source": [
        "#export tables to HTML\n",
        "print(frame[['Rank', 'Title']].loc[frame['cluster'] == 1].to_html(index=False))"
      ],
      "execution_count": 31,
      "outputs": [
        {
          "output_type": "stream",
          "text": [
            "<table border=\"1\" class=\"dataframe\">\n",
            "  <thead>\n",
            "    <tr style=\"text-align: right;\">\n",
            "      <th>Rank</th>\n",
            "      <th>Title</th>\n",
            "    </tr>\n",
            "  </thead>\n",
            "  <tbody>\n",
            "    <tr>\n",
            "      <td>2</td>\n",
            "      <td>The Shawshank Redemption</td>\n",
            "    </tr>\n",
            "    <tr>\n",
            "      <td>3</td>\n",
            "      <td>Schindler's List</td>\n",
            "    </tr>\n",
            "    <tr>\n",
            "      <td>5</td>\n",
            "      <td>Casablanca</td>\n",
            "    </tr>\n",
            "    <tr>\n",
            "      <td>11</td>\n",
            "      <td>Lawrence of Arabia</td>\n",
            "    </tr>\n",
            "    <tr>\n",
            "      <td>20</td>\n",
            "      <td>Star Wars</td>\n",
            "    </tr>\n",
            "    <tr>\n",
            "      <td>22</td>\n",
            "      <td>2001: A Space Odyssey</td>\n",
            "    </tr>\n",
            "    <tr>\n",
            "      <td>25</td>\n",
            "      <td>The Bridge on the River Kwai</td>\n",
            "    </tr>\n",
            "    <tr>\n",
            "      <td>30</td>\n",
            "      <td>Dr. Strangelove or: How I Learned to Stop Worr...</td>\n",
            "    </tr>\n",
            "    <tr>\n",
            "      <td>32</td>\n",
            "      <td>Apocalypse Now</td>\n",
            "    </tr>\n",
            "    <tr>\n",
            "      <td>34</td>\n",
            "      <td>The Lord of the Rings: The Return of the King</td>\n",
            "    </tr>\n",
            "    <tr>\n",
            "      <td>35</td>\n",
            "      <td>Gladiator</td>\n",
            "    </tr>\n",
            "    <tr>\n",
            "      <td>36</td>\n",
            "      <td>From Here to Eternity</td>\n",
            "    </tr>\n",
            "    <tr>\n",
            "      <td>37</td>\n",
            "      <td>Saving Private Ryan</td>\n",
            "    </tr>\n",
            "    <tr>\n",
            "      <td>38</td>\n",
            "      <td>Unforgiven</td>\n",
            "    </tr>\n",
            "    <tr>\n",
            "      <td>39</td>\n",
            "      <td>Raiders of the Lost Ark</td>\n",
            "    </tr>\n",
            "    <tr>\n",
            "      <td>49</td>\n",
            "      <td>Patton</td>\n",
            "    </tr>\n",
            "    <tr>\n",
            "      <td>50</td>\n",
            "      <td>Jaws</td>\n",
            "    </tr>\n",
            "    <tr>\n",
            "      <td>53</td>\n",
            "      <td>Butch Cassidy and the Sundance Kid</td>\n",
            "    </tr>\n",
            "    <tr>\n",
            "      <td>54</td>\n",
            "      <td>The Treasure of the Sierra Madre</td>\n",
            "    </tr>\n",
            "    <tr>\n",
            "      <td>56</td>\n",
            "      <td>Platoon</td>\n",
            "    </tr>\n",
            "    <tr>\n",
            "      <td>58</td>\n",
            "      <td>Dances with Wolves</td>\n",
            "    </tr>\n",
            "    <tr>\n",
            "      <td>62</td>\n",
            "      <td>The Deer Hunter</td>\n",
            "    </tr>\n",
            "    <tr>\n",
            "      <td>63</td>\n",
            "      <td>All Quiet on the Western Front</td>\n",
            "    </tr>\n",
            "    <tr>\n",
            "      <td>80</td>\n",
            "      <td>Shane</td>\n",
            "    </tr>\n",
            "    <tr>\n",
            "      <td>81</td>\n",
            "      <td>The Green Mile</td>\n",
            "    </tr>\n",
            "    <tr>\n",
            "      <td>82</td>\n",
            "      <td>Close Encounters of the Third Kind</td>\n",
            "    </tr>\n",
            "    <tr>\n",
            "      <td>88</td>\n",
            "      <td>The African Queen</td>\n",
            "    </tr>\n",
            "    <tr>\n",
            "      <td>89</td>\n",
            "      <td>Stagecoach</td>\n",
            "    </tr>\n",
            "    <tr>\n",
            "      <td>90</td>\n",
            "      <td>Mutiny on the Bounty</td>\n",
            "    </tr>\n",
            "  </tbody>\n",
            "</table>\n"
          ],
          "name": "stdout"
        }
      ]
    },
    {
      "cell_type": "markdown",
      "metadata": {
        "id": "xRwCPG2nNmeF",
        "colab_type": "text"
      },
      "source": [
        "#Multidimensional scaling"
      ]
    },
    {
      "cell_type": "code",
      "metadata": {
        "id": "XJn2QCBXNmeG",
        "colab_type": "code",
        "colab": {}
      },
      "source": [
        "import os  # for os.path.basename\n",
        "\n",
        "import matplotlib.pyplot as plt\n",
        "import matplotlib as mpl\n",
        "\n",
        "from sklearn.manifold import MDS\n",
        "\n",
        "MDS()\n",
        "\n",
        "# two components as we're plotting points in a two-dimensional plane\n",
        "# \"precomputed\" because we provide a distance matrix\n",
        "# we will also specify `random_state` so the plot is reproducible.\n",
        "mds = MDS(n_components=2, dissimilarity=\"precomputed\", random_state=1)\n",
        "\n",
        "pos = mds.fit_transform(dist)  # shape (n_components, n_samples)\n",
        "\n",
        "xs, ys = pos[:, 0], pos[:, 1]"
      ],
      "execution_count": 0,
      "outputs": []
    },
    {
      "cell_type": "code",
      "metadata": {
        "id": "AMS-us7QNmeL",
        "colab_type": "code",
        "colab": {}
      },
      "source": [
        "#strip any proper nouns (NNP) or plural proper nouns (NNPS) from a text\n",
        "from nltk.tag import pos_tag\n",
        "\n",
        "def strip_proppers_POS(text):\n",
        "    tagged = pos_tag(text.split()) #use NLTK's part of speech tagger\n",
        "    non_propernouns = [word for word,pos in tagged if pos != 'NNP' and pos != 'NNPS']\n",
        "    return non_propernouns"
      ],
      "execution_count": 0,
      "outputs": []
    },
    {
      "cell_type": "markdown",
      "metadata": {
        "id": "c3MYd6wONmeN",
        "colab_type": "text"
      },
      "source": [
        "##Visualizing document clusters"
      ]
    },
    {
      "cell_type": "code",
      "metadata": {
        "id": "HHwFcOnwNmeP",
        "colab_type": "code",
        "colab": {}
      },
      "source": [
        "#set up colors per clusters using a dict\n",
        "cluster_colors = {0: '#1b9e77', 1: '#d95f02', 2: '#7570b3', 3: '#e7298a', 4: '#66a61e'}\n",
        "\n",
        "#set up cluster names using a dict\n",
        "cluster_names = {0: 'Family, home, war', \n",
        "                 1: 'Police, killed, murders', \n",
        "                 2: 'Father, New York, brothers', \n",
        "                 3: 'Dance, singing, love', \n",
        "                 4: 'Killed, soldiers, captain'}"
      ],
      "execution_count": 0,
      "outputs": []
    },
    {
      "cell_type": "code",
      "metadata": {
        "id": "SG-aZ3rLNmeS",
        "colab_type": "code",
        "colab": {}
      },
      "source": [
        "%matplotlib inline"
      ],
      "execution_count": 0,
      "outputs": []
    },
    {
      "cell_type": "code",
      "metadata": {
        "id": "4vlXy3WrNmeV",
        "colab_type": "code",
        "outputId": "17a764f7-3287-44c5-8125-17783d84751b",
        "colab": {
          "base_uri": "https://localhost:8080/",
          "height": 695
        }
      },
      "source": [
        "#create data frame that has the result of the MDS plus the cluster numbers and titles\n",
        "df = pd.DataFrame(dict(x=xs, y=ys, label=clusters, title=titles)) \n",
        "\n",
        "#group by cluster\n",
        "groups = df.groupby('label')\n",
        "\n",
        "\n",
        "# set up plot\n",
        "fig, ax = plt.subplots(figsize=(17, 9)) # set size\n",
        "ax.margins(0.05) # Optional, just adds 5% padding to the autoscaling\n",
        "\n",
        "#iterate through groups to layer the plot\n",
        "#note that I use the cluster_name and cluster_color dicts with the 'name' lookup to return the appropriate color/label\n",
        "for name, group in groups:\n",
        "    ax.plot(group.x, group.y, marker='o', linestyle='', ms=12, label=cluster_names[name], color=cluster_colors[name], mec='none')\n",
        "    ax.set_aspect('auto')\n",
        "    ax.tick_params(\\\n",
        "        axis= 'x',          # changes apply to the x-axis\n",
        "        which='both',      # both major and minor ticks are affected\n",
        "        bottom='off',      # ticks along the bottom edge are off\n",
        "        top='off',         # ticks along the top edge are off\n",
        "        labelbottom='off')\n",
        "    ax.tick_params(\\\n",
        "        axis= 'y',         # changes apply to the y-axis\n",
        "        which='both',      # both major and minor ticks are affected\n",
        "        left='off',      # ticks along the bottom edge are off\n",
        "        top='off',         # ticks along the top edge are off\n",
        "        labelleft='off')\n",
        "    \n",
        "ax.legend(numpoints=1)  #show legend with only 1 point\n",
        "\n",
        "#add label in x,y position with the label as the film title\n",
        "for i in range(len(df)):\n",
        "    ax.text(df.ix[i]['x'], df.ix[i]['y'], df.ix[i]['title'], size=8)  \n",
        "\n",
        "    \n",
        "    \n",
        "plt.show() #show the plot\n",
        "\n",
        "#uncomment the below to save the plot if need be\n",
        "#plt.savefig('clusters_small_noaxes.png', dpi=200)"
      ],
      "execution_count": 36,
      "outputs": [
        {
          "output_type": "stream",
          "text": [
            "/usr/local/lib/python3.6/dist-packages/matplotlib/cbook/__init__.py:424: MatplotlibDeprecationWarning: \n",
            "Passing one of 'on', 'true', 'off', 'false' as a boolean is deprecated; use an actual boolean (True/False) instead.\n",
            "  warn_deprecated(\"2.2\", \"Passing one of 'on', 'true', 'off', 'false' as a \"\n",
            "/usr/local/lib/python3.6/dist-packages/ipykernel_launcher.py:31: DeprecationWarning: \n",
            ".ix is deprecated. Please use\n",
            ".loc for label based indexing or\n",
            ".iloc for positional indexing\n",
            "\n",
            "See the documentation here:\n",
            "http://pandas.pydata.org/pandas-docs/stable/indexing.html#ix-indexer-is-deprecated\n"
          ],
          "name": "stderr"
        },
        {
          "output_type": "display_data",
          "data": {
            "image/png": "[encoded data removed]",
            "text/plain": [
              "<Figure size 1224x648 with 1 Axes>"
            ]
          },
          "metadata": {
            "tags": []
          }
        }
      ]
    },
    {
      "cell_type": "code",
      "metadata": {
        "id": "iwSYgyShNmeZ",
        "colab_type": "code",
        "colab": {}
      },
      "source": [
        "plt.close()"
      ],
      "execution_count": 0,
      "outputs": []
    },
    {
      "cell_type": "markdown",
      "metadata": {
        "id": "K7tDqFXANmed",
        "colab_type": "text"
      },
      "source": [
        "The clustering plot looks great, but it pains my eyes to see overlapping labels. Having some experience with [D3.js](http://d3js.org/) I knew one solution would be to use a browser based/javascript interactive. Fortunately, I recently stumbled upon [mpld3](https://mpld3.github.io/) a matplotlib wrapper for D3. Mpld3 basically let's you use matplotlib syntax to create web interactives. It has a really easy, high-level API for adding tooltips on mouse hover, which is what I am interested in.\n",
        "\n",
        "It also has some nice functionality for zooming and panning. The below javascript snippet basicaly defines a custom location for where the zoom/pan toggle resides. Don't worry about it too much and you actually don't need to use it, but it helped for formatting purposes when exporting to the web later. The only thing you might want to change is the x and y attr for the position of the toolbar."
      ]
    },
    {
      "cell_type": "code",
      "metadata": {
        "id": "EVVi2Ok-Nmee",
        "colab_type": "code",
        "colab": {
          "base_uri": "https://localhost:8080/",
          "height": 168
        },
        "outputId": "be997f31-8342-4b16-8041-70cf5c86b8a6"
      },
      "source": [
        "!pip install mpld3\n",
        "import mpld3\n",
        "#define custom toolbar location\n",
        "class TopToolbar(mpld3.plugins.PluginBase):\n",
        "    \"\"\"Plugin for moving toolbar to top of figure\"\"\"\n",
        "\n",
        "    JAVASCRIPT = \"\"\"\n",
        "    mpld3.register_plugin(\"toptoolbar\", TopToolbar);\n",
        "    TopToolbar.prototype = Object.create(mpld3.Plugin.prototype);\n",
        "    TopToolbar.prototype.constructor = TopToolbar;\n",
        "    function TopToolbar(fig, props){\n",
        "        mpld3.Plugin.call(this, fig, props);\n",
        "    };\n",
        "\n",
        "    TopToolbar.prototype.draw = function(){\n",
        "      // the toolbar svg doesn't exist\n",
        "      // yet, so first draw it\n",
        "      this.fig.toolbar.draw();\n",
        "\n",
        "      // then change the y position to be\n",
        "      // at the top of the figure\n",
        "      this.fig.toolbar.toolbar.attr(\"x\", 150);\n",
        "      this.fig.toolbar.toolbar.attr(\"y\", 400);\n",
        "\n",
        "      // then remove the draw function,\n",
        "      // so that it is not called again\n",
        "      this.fig.toolbar.draw = function() {}\n",
        "    }\n",
        "    \"\"\"\n",
        "    def __init__(self):\n",
        "        self.dict_ = {\"type\": \"toptoolbar\"}"
      ],
      "execution_count": 39,
      "outputs": [
        {
          "output_type": "stream",
          "text": [
            "Collecting mpld3\n",
            "\u001b[?25l  Downloading https://files.pythonhosted.org/packages/91/95/a52d3a83d0a29ba0d6898f6727e9858fe7a43f6c2ce81a5fe7e05f0f4912/mpld3-0.3.tar.gz (788kB)\n",
            "\u001b[K     |████████████████████████████████| 798kB 5.2MB/s \n",
            "\u001b[?25hBuilding wheels for collected packages: mpld3\n",
            "  Building wheel for mpld3 (setup.py) ... \u001b[?25l\u001b[?25hdone\n",
            "  Stored in directory: /root/.cache/pip/wheels/c0/47/fb/8a64f89aecfe0059830479308ad42d62e898a3e3cefdf6ba28\n",
            "Successfully built mpld3\n",
            "Installing collected packages: mpld3\n",
            "Successfully installed mpld3-0.3\n"
          ],
          "name": "stdout"
        }
      ]
    },
    {
      "cell_type": "code",
      "metadata": {
        "id": "ejmM6wa4Nmeh",
        "colab_type": "code",
        "outputId": "1525948d-5bff-4ca3-b075-4719aca42a36",
        "colab": {
          "base_uri": "https://localhost:8080/",
          "height": 453
        }
      },
      "source": [
        "#create data frame that has the result of the MDS plus the cluster numbers and titles\n",
        "df = pd.DataFrame(dict(x=xs, y=ys, label=clusters, title=titles)) \n",
        "\n",
        "#group by cluster\n",
        "groups = df.groupby('label')\n",
        "\n",
        "#define custom css to format the font and to remove the axis labeling\n",
        "css = \"\"\"\n",
        "text.mpld3-text, div.mpld3-tooltip {\n",
        "  font-family:Arial, Helvetica, sans-serif;\n",
        "}\n",
        "\n",
        "g.mpld3-xaxis, g.mpld3-yaxis {\n",
        "display: none; }\n",
        "\"\"\"\n",
        "\n",
        "# Plot \n",
        "fig, ax = plt.subplots(figsize=(14,6)) #set plot size\n",
        "ax.margins(0.03) # Optional, just adds 5% padding to the autoscaling\n",
        "\n",
        "#iterate through groups to layer the plot\n",
        "#note that I use the cluster_name and cluster_color dicts with the 'name' lookup to return the appropriate color/label\n",
        "for name, group in groups:\n",
        "    points = ax.plot(group.x, group.y, marker='o', linestyle='', ms=18, label=cluster_names[name], mec='none', color=cluster_colors[name])\n",
        "    ax.set_aspect('auto')\n",
        "    labels = [i for i in group.title]\n",
        "    \n",
        "    #set tooltip using points, labels and the already defined 'css'\n",
        "    tooltip = mpld3.plugins.PointHTMLTooltip(points[0], labels,\n",
        "                                       voffset=10, hoffset=10, css=css)\n",
        "    #connect tooltip to fig\n",
        "    mpld3.plugins.connect(fig, tooltip, TopToolbar())    \n",
        "    \n",
        "    #set tick marks as blank\n",
        "    ax.axes.get_xaxis().set_ticks([])\n",
        "    ax.axes.get_yaxis().set_ticks([])\n",
        "    \n",
        "    #set axis as blank\n",
        "    ax.axes.get_xaxis().set_visible(False)\n",
        "    ax.axes.get_yaxis().set_visible(False)\n",
        "\n",
        "    \n",
        "ax.legend(numpoints=1) #show legend with only one dot\n",
        "\n",
        "mpld3.display() #show the plot\n",
        "\n",
        "#uncomment the below to export to html\n",
        "#html = mpld3.fig_to_html(fig)\n",
        "#print(html)"
      ],
      "execution_count": 40,
      "outputs": [
        {
          "output_type": "execute_result",
          "data": {
            "text/html": [
              "\n",
              "\n",
              "<style>\n",
              "\n",
              "text.mpld3-text, div.mpld3-tooltip {\n",
              "  font-family:Arial, Helvetica, sans-serif;\n",
              "}\n",
              "\n",
              "g.mpld3-xaxis, g.mpld3-yaxis {\n",
              "display: none; }\n",
              "\n",
              "text.mpld3-text, div.mpld3-tooltip {\n",
              "  font-family:Arial, Helvetica, sans-serif;\n",
              "}\n",
              "\n",
              "g.mpld3-xaxis, g.mpld3-yaxis {\n",
              "display: none; }\n",
              "\n",
              "text.mpld3-text, div.mpld3-tooltip {\n",
              "  font-family:Arial, Helvetica, sans-serif;\n",
              "}\n",
              "\n",
              "g.mpld3-xaxis, g.mpld3-yaxis {\n",
              "display: none; }\n",
              "\n",
              "text.mpld3-text, div.mpld3-tooltip {\n",
              "  font-family:Arial, Helvetica, sans-serif;\n",
              "}\n",
              "\n",
              "g.mpld3-xaxis, g.mpld3-yaxis {\n",
              "display: none; }\n",
              "\n",
              "text.mpld3-text, div.mpld3-tooltip {\n",
              "  font-family:Arial, Helvetica, sans-serif;\n",
              "}\n",
              "\n",
              "g.mpld3-xaxis, g.mpld3-yaxis {\n",
              "display: none; }\n",
              "\n",
              "</style>\n",
              "\n",
              "<div id=\"fig_el1351406433174999446116386375\"></div>\n",
              "<script>\n",
              "function mpld3_load_lib(url, callback){\n",
              "  var s = document.createElement('script');\n",
              "  s.src = url;\n",
              "  s.async = true;\n",
              "  s.onreadystatechange = s.onload = callback;\n",
              "  s.onerror = function(){console.warn(\"failed to load library \" + url);};\n",
              "  document.getElementsByTagName(\"head\")[0].appendChild(s);\n",
              "}\n",
              "\n",
              "if(typeof(mpld3) !== \"undefined\" && mpld3._mpld3IsLoaded){\n",
              "   // already loaded: just create the figure\n",
              "   !function(mpld3){\n",
              "       \n",
              "    mpld3.register_plugin(\"htmltooltip\", HtmlTooltipPlugin);\n",
              "    HtmlTooltipPlugin.prototype = Object.create(mpld3.Plugin.prototype);\n",
              "    HtmlTooltipPlugin.prototype.constructor = HtmlTooltipPlugin;\n",
              "    HtmlTooltipPlugin.prototype.requiredProps = [\"id\"];\n",
              "    HtmlTooltipPlugin.prototype.defaultProps = {labels:null,\n",
              "                                                hoffset:0,\n",
              "                                                voffset:10};\n",
              "    function HtmlTooltipPlugin(fig, props){\n",
              "        mpld3.Plugin.call(this, fig, props);\n",
              "    };\n",
              "\n",
              "    HtmlTooltipPlugin.prototype.draw = function(){\n",
              "       var obj = mpld3.get_element(this.props.id);\n",
              "       var labels = this.props.labels;\n",
              "       var tooltip = d3.select(\"body\").append(\"div\")\n",
              "                    .attr(\"class\", \"mpld3-tooltip\")\n",
              "                    .style(\"position\", \"absolute\")\n",
              "                    .style(\"z-index\", \"10\")\n",
              "                    .style(\"visibility\", \"hidden\");\n",
              "\n",
              "       obj.elements()\n",
              "           .on(\"mouseover\", function(d, i){\n",
              "                              tooltip.html(labels[i])\n",
              "                                     .style(\"visibility\", \"visible\");})\n",
              "           .on(\"mousemove\", function(d, i){\n",
              "                  tooltip\n",
              "                    .style(\"top\", d3.event.pageY + this.props.voffset + \"px\")\n",
              "                    .style(\"left\",d3.event.pageX + this.props.hoffset + \"px\");\n",
              "                 }.bind(this))\n",
              "           .on(\"mouseout\",  function(d, i){\n",
              "                           tooltip.style(\"visibility\", \"hidden\");});\n",
              "    };\n",
              "    \n",
              "    mpld3.register_plugin(\"toptoolbar\", TopToolbar);\n",
              "    TopToolbar.prototype = Object.create(mpld3.Plugin.prototype);\n",
              "    TopToolbar.prototype.constructor = TopToolbar;\n",
              "    function TopToolbar(fig, props){\n",
              "        mpld3.Plugin.call(this, fig, props);\n",
              "    };\n",
              "\n",
              "    TopToolbar.prototype.draw = function(){\n",
              "      // the toolbar svg doesn't exist\n",
              "      // yet, so first draw it\n",
              "      this.fig.toolbar.draw();\n",
              "\n",
              "      // then change the y position to be\n",
              "      // at the top of the figure\n",
              "      this.fig.toolbar.toolbar.attr(\"x\", 150);\n",
              "      this.fig.toolbar.toolbar.attr(\"y\", 400);\n",
              "\n",
              "      // then remove the draw function,\n",
              "      // so that it is not called again\n",
              "      this.fig.toolbar.draw = function() {}\n",
              "    }\n",
              "    \n",
              "    mpld3.register_plugin(\"htmltooltip\", HtmlTooltipPlugin);\n",
              "    HtmlTooltipPlugin.prototype = Object.create(mpld3.Plugin.prototype);\n",
              "    HtmlTooltipPlugin.prototype.constructor = HtmlTooltipPlugin;\n",
              "    HtmlTooltipPlugin.prototype.requiredProps = [\"id\"];\n",
              "    HtmlTooltipPlugin.prototype.defaultProps = {labels:null,\n",
              "                                                hoffset:0,\n",
              "                                                voffset:10};\n",
              "    function HtmlTooltipPlugin(fig, props){\n",
              "        mpld3.Plugin.call(this, fig, props);\n",
              "    };\n",
              "\n",
              "    HtmlTooltipPlugin.prototype.draw = function(){\n",
              "       var obj = mpld3.get_element(this.props.id);\n",
              "       var labels = this.props.labels;\n",
              "       var tooltip = d3.select(\"body\").append(\"div\")\n",
              "                    .attr(\"class\", \"mpld3-tooltip\")\n",
              "                    .style(\"position\", \"absolute\")\n",
              "                    .style(\"z-index\", \"10\")\n",
              "                    .style(\"visibility\", \"hidden\");\n",
              "\n",
              "       obj.elements()\n",
              "           .on(\"mouseover\", function(d, i){\n",
              "                              tooltip.html(labels[i])\n",
              "                                     .style(\"visibility\", \"visible\");})\n",
              "           .on(\"mousemove\", function(d, i){\n",
              "                  tooltip\n",
              "                    .style(\"top\", d3.event.pageY + this.props.voffset + \"px\")\n",
              "                    .style(\"left\",d3.event.pageX + this.props.hoffset + \"px\");\n",
              "                 }.bind(this))\n",
              "           .on(\"mouseout\",  function(d, i){\n",
              "                           tooltip.style(\"visibility\", \"hidden\");});\n",
              "    };\n",
              "    \n",
              "    mpld3.register_plugin(\"toptoolbar\", TopToolbar);\n",
              "    TopToolbar.prototype = Object.create(mpld3.Plugin.prototype);\n",
              "    TopToolbar.prototype.constructor = TopToolbar;\n",
              "    function TopToolbar(fig, props){\n",
              "        mpld3.Plugin.call(this, fig, props);\n",
              "    };\n",
              "\n",
              "    TopToolbar.prototype.draw = function(){\n",
              "      // the toolbar svg doesn't exist\n",
              "      // yet, so first draw it\n",
              "      this.fig.toolbar.draw();\n",
              "\n",
              "      // then change the y position to be\n",
              "      // at the top of the figure\n",
              "      this.fig.toolbar.toolbar.attr(\"x\", 150);\n",
              "      this.fig.toolbar.toolbar.attr(\"y\", 400);\n",
              "\n",
              "      // then remove the draw function,\n",
              "      // so that it is not called again\n",
              "      this.fig.toolbar.draw = function() {}\n",
              "    }\n",
              "    \n",
              "    mpld3.register_plugin(\"htmltooltip\", HtmlTooltipPlugin);\n",
              "    HtmlTooltipPlugin.prototype = Object.create(mpld3.Plugin.prototype);\n",
              "    HtmlTooltipPlugin.prototype.constructor = HtmlTooltipPlugin;\n",
              "    HtmlTooltipPlugin.prototype.requiredProps = [\"id\"];\n",
              "    HtmlTooltipPlugin.prototype.defaultProps = {labels:null,\n",
              "                                                hoffset:0,\n",
              "                                                voffset:10};\n",
              "    function HtmlTooltipPlugin(fig, props){\n",
              "        mpld3.Plugin.call(this, fig, props);\n",
              "    };\n",
              "\n",
              "    HtmlTooltipPlugin.prototype.draw = function(){\n",
              "       var obj = mpld3.get_element(this.props.id);\n",
              "       var labels = this.props.labels;\n",
              "       var tooltip = d3.select(\"body\").append(\"div\")\n",
              "                    .attr(\"class\", \"mpld3-tooltip\")\n",
              "                    .style(\"position\", \"absolute\")\n",
              "                    .style(\"z-index\", \"10\")\n",
              "                    .style(\"visibility\", \"hidden\");\n",
              "\n",
              "       obj.elements()\n",
              "           .on(\"mouseover\", function(d, i){\n",
              "                              tooltip.html(labels[i])\n",
              "                                     .style(\"visibility\", \"visible\");})\n",
              "           .on(\"mousemove\", function(d, i){\n",
              "                  tooltip\n",
              "                    .style(\"top\", d3.event.pageY + this.props.voffset + \"px\")\n",
              "                    .style(\"left\",d3.event.pageX + this.props.hoffset + \"px\");\n",
              "                 }.bind(this))\n",
              "           .on(\"mouseout\",  function(d, i){\n",
              "                           tooltip.style(\"visibility\", \"hidden\");});\n",
              "    };\n",
              "    \n",
              "    mpld3.register_plugin(\"toptoolbar\", TopToolbar);\n",
              "    TopToolbar.prototype = Object.create(mpld3.Plugin.prototype);\n",
              "    TopToolbar.prototype.constructor = TopToolbar;\n",
              "    function TopToolbar(fig, props){\n",
              "        mpld3.Plugin.call(this, fig, props);\n",
              "    };\n",
              "\n",
              "    TopToolbar.prototype.draw = function(){\n",
              "      // the toolbar svg doesn't exist\n",
              "      // yet, so first draw it\n",
              "      this.fig.toolbar.draw();\n",
              "\n",
              "      // then change the y position to be\n",
              "      // at the top of the figure\n",
              "      this.fig.toolbar.toolbar.attr(\"x\", 150);\n",
              "      this.fig.toolbar.toolbar.attr(\"y\", 400);\n",
              "\n",
              "      // then remove the draw function,\n",
              "      // so that it is not called again\n",
              "      this.fig.toolbar.draw = function() {}\n",
              "    }\n",
              "    \n",
              "    mpld3.register_plugin(\"htmltooltip\", HtmlTooltipPlugin);\n",
              "    HtmlTooltipPlugin.prototype = Object.create(mpld3.Plugin.prototype);\n",
              "    HtmlTooltipPlugin.prototype.constructor = HtmlTooltipPlugin;\n",
              "    HtmlTooltipPlugin.prototype.requiredProps = [\"id\"];\n",
              "    HtmlTooltipPlugin.prototype.defaultProps = {labels:null,\n",
              "                                                hoffset:0,\n",
              "                                                voffset:10};\n",
              "    function HtmlTooltipPlugin(fig, props){\n",
              "        mpld3.Plugin.call(this, fig, props);\n",
              "    };\n",
              "\n",
              "    HtmlTooltipPlugin.prototype.draw = function(){\n",
              "       var obj = mpld3.get_element(this.props.id);\n",
              "       var labels = this.props.labels;\n",
              "       var tooltip = d3.select(\"body\").append(\"div\")\n",
              "                    .attr(\"class\", \"mpld3-tooltip\")\n",
              "                    .style(\"position\", \"absolute\")\n",
              "                    .style(\"z-index\", \"10\")\n",
              "                    .style(\"visibility\", \"hidden\");\n",
              "\n",
              "       obj.elements()\n",
              "           .on(\"mouseover\", function(d, i){\n",
              "                              tooltip.html(labels[i])\n",
              "                                     .style(\"visibility\", \"visible\");})\n",
              "           .on(\"mousemove\", function(d, i){\n",
              "                  tooltip\n",
              "                    .style(\"top\", d3.event.pageY + this.props.voffset + \"px\")\n",
              "                    .style(\"left\",d3.event.pageX + this.props.hoffset + \"px\");\n",
              "                 }.bind(this))\n",
              "           .on(\"mouseout\",  function(d, i){\n",
              "                           tooltip.style(\"visibility\", \"hidden\");});\n",
              "    };\n",
              "    \n",
              "    mpld3.register_plugin(\"toptoolbar\", TopToolbar);\n",
              "    TopToolbar.prototype = Object.create(mpld3.Plugin.prototype);\n",
              "    TopToolbar.prototype.constructor = TopToolbar;\n",
              "    function TopToolbar(fig, props){\n",
              "        mpld3.Plugin.call(this, fig, props);\n",
              "    };\n",
              "\n",
              "    TopToolbar.prototype.draw = function(){\n",
              "      // the toolbar svg doesn't exist\n",
              "      // yet, so first draw it\n",
              "      this.fig.toolbar.draw();\n",
              "\n",
              "      // then change the y position to be\n",
              "      // at the top of the figure\n",
              "      this.fig.toolbar.toolbar.attr(\"x\", 150);\n",
              "      this.fig.toolbar.toolbar.attr(\"y\", 400);\n",
              "\n",
              "      // then remove the draw function,\n",
              "      // so that it is not called again\n",
              "      this.fig.toolbar.draw = function() {}\n",
              "    }\n",
              "    \n",
              "    mpld3.register_plugin(\"htmltooltip\", HtmlTooltipPlugin);\n",
              "    HtmlTooltipPlugin.prototype = Object.create(mpld3.Plugin.prototype);\n",
              "    HtmlTooltipPlugin.prototype.constructor = HtmlTooltipPlugin;\n",
              "    HtmlTooltipPlugin.prototype.requiredProps = [\"id\"];\n",
              "    HtmlTooltipPlugin.prototype.defaultProps = {labels:null,\n",
              "                                                hoffset:0,\n",
              "                                                voffset:10};\n",
              "    function HtmlTooltipPlugin(fig, props){\n",
              "        mpld3.Plugin.call(this, fig, props);\n",
              "    };\n",
              "\n",
              "    HtmlTooltipPlugin.prototype.draw = function(){\n",
              "       var obj = mpld3.get_element(this.props.id);\n",
              "       var labels = this.props.labels;\n",
              "       var tooltip = d3.select(\"body\").append(\"div\")\n",
              "                    .attr(\"class\", \"mpld3-tooltip\")\n",
              "                    .style(\"position\", \"absolute\")\n",
              "                    .style(\"z-index\", \"10\")\n",
              "                    .style(\"visibility\", \"hidden\");\n",
              "\n",
              "       obj.elements()\n",
              "           .on(\"mouseover\", function(d, i){\n",
              "                              tooltip.html(labels[i])\n",
              "                                     .style(\"visibility\", \"visible\");})\n",
              "           .on(\"mousemove\", function(d, i){\n",
              "                  tooltip\n",
              "                    .style(\"top\", d3.event.pageY + this.props.voffset + \"px\")\n",
              "                    .style(\"left\",d3.event.pageX + this.props.hoffset + \"px\");\n",
              "                 }.bind(this))\n",
              "           .on(\"mouseout\",  function(d, i){\n",
              "                           tooltip.style(\"visibility\", \"hidden\");});\n",
              "    };\n",
              "    \n",
              "    mpld3.register_plugin(\"toptoolbar\", TopToolbar);\n",
              "    TopToolbar.prototype = Object.create(mpld3.Plugin.prototype);\n",
              "    TopToolbar.prototype.constructor = TopToolbar;\n",
              "    function TopToolbar(fig, props){\n",
              "        mpld3.Plugin.call(this, fig, props);\n",
              "    };\n",
              "\n",
              "    TopToolbar.prototype.draw = function(){\n",
              "      // the toolbar svg doesn't exist\n",
              "      // yet, so first draw it\n",
              "      this.fig.toolbar.draw();\n",
              "\n",
              "      // then change the y position to be\n",
              "      // at the top of the figure\n",
              "      this.fig.toolbar.toolbar.attr(\"x\", 150);\n",
              "      this.fig.toolbar.toolbar.attr(\"y\", 400);\n",
              "\n",
              "      // then remove the draw function,\n",
              "      // so that it is not called again\n",
              "      this.fig.toolbar.draw = function() {}\n",
              "    }\n",
              "    \n",
              "       mpld3.draw_figure(\"fig_el1351406433174999446116386375\", {\"width\": 1008.0, \"height\": 432.0, \"axes\": [{\"bbox\": [0.125, 0.125, 0.775, 0.755], \"xlim\": [-0.7022446245855734, 0.7098314809788802], \"ylim\": [-0.7081718721860418, 0.6939226674565514], \"xdomain\": [-0.7022446245855734, 0.7098314809788802], \"ydomain\": [-0.7081718721860418, 0.6939226674565514], \"xscale\": \"linear\", \"yscale\": \"linear\", \"axes\": [{\"position\": \"bottom\", \"nticks\": 0, \"tickvalues\": [], \"tickformat\": \"\", \"scale\": \"linear\", \"fontsize\": null, \"grid\": {\"gridOn\": false}, \"visible\": false}, {\"position\": \"left\", \"nticks\": 0, \"tickvalues\": [], \"tickformat\": \"\", \"scale\": \"linear\", \"fontsize\": null, \"grid\": {\"gridOn\": false}, \"visible\": false}], \"axesbg\": \"#FFFFFF\", \"axesbgalpha\": null, \"zoomable\": true, \"id\": \"el135140643317978672\", \"lines\": [], \"paths\": [{\"data\": \"data07\", \"xindex\": 0, \"yindex\": 1, \"coordinates\": \"axes\", \"pathcodes\": [\"M\", \"L\", \"S\", \"L\", \"S\", \"L\", \"S\", \"L\", \"S\", \"Z\"], \"id\": \"el135140643305817144\", \"dasharray\": \"none\", \"alpha\": 0.8, \"facecolor\": \"#FFFFFF\", \"edgecolor\": \"#CCCCCC\", \"edgewidth\": 1.0, \"zorder\": 1000000.0}], \"markers\": [{\"data\": \"data01\", \"xindex\": 0, \"yindex\": 1, \"coordinates\": \"data\", \"id\": \"el135140643323378096pts\", \"facecolor\": \"#1B9E77\", \"edgecolor\": \"none\", \"edgewidth\": 1.0, \"alpha\": 1, \"zorder\": 2, \"markerpath\": [[[0.0, 9.0], [2.3868279, 9.0], [4.676218837063681, 8.051703224294176], [6.3639610306789285, 6.3639610306789285], [8.051703224294176, 4.676218837063681], [9.0, 2.3868279], [9.0, 0.0], [9.0, -2.3868279], [8.051703224294176, -4.676218837063681], [6.3639610306789285, -6.3639610306789285], [4.676218837063681, -8.051703224294176], [2.3868279, -9.0], [0.0, -9.0], [-2.3868279, -9.0], [-4.676218837063681, -8.051703224294176], [-6.3639610306789285, -6.3639610306789285], [-8.051703224294176, -4.676218837063681], [-9.0, -2.3868279], [-9.0, 0.0], [-9.0, 2.3868279], [-8.051703224294176, 4.676218837063681], [-6.3639610306789285, 6.3639610306789285], [-4.676218837063681, 8.051703224294176], [-2.3868279, 9.0], [0.0, 9.0]], [\"M\", \"C\", \"C\", \"C\", \"C\", \"C\", \"C\", \"C\", \"C\", \"Z\"]]}, {\"data\": \"data02\", \"xindex\": 0, \"yindex\": 1, \"coordinates\": \"data\", \"id\": \"el135140643305817424pts\", \"facecolor\": \"#D95F02\", \"edgecolor\": \"none\", \"edgewidth\": 1.0, \"alpha\": 1, \"zorder\": 2, \"markerpath\": [[[0.0, 9.0], [2.3868279, 9.0], [4.676218837063681, 8.051703224294176], [6.3639610306789285, 6.3639610306789285], [8.051703224294176, 4.676218837063681], [9.0, 2.3868279], [9.0, 0.0], [9.0, -2.3868279], [8.051703224294176, -4.676218837063681], [6.3639610306789285, -6.3639610306789285], [4.676218837063681, -8.051703224294176], [2.3868279, -9.0], [0.0, -9.0], [-2.3868279, -9.0], [-4.676218837063681, -8.051703224294176], [-6.3639610306789285, -6.3639610306789285], [-8.051703224294176, -4.676218837063681], [-9.0, -2.3868279], [-9.0, 0.0], [-9.0, 2.3868279], [-8.051703224294176, 4.676218837063681], [-6.3639610306789285, 6.3639610306789285], [-4.676218837063681, 8.051703224294176], [-2.3868279, 9.0], [0.0, 9.0]], [\"M\", \"C\", \"C\", \"C\", \"C\", \"C\", \"C\", \"C\", \"C\", \"Z\"]]}, {\"data\": \"data03\", \"xindex\": 0, \"yindex\": 1, \"coordinates\": \"data\", \"id\": \"el135140643323375800pts\", \"facecolor\": \"#7570B3\", \"edgecolor\": \"none\", \"edgewidth\": 1.0, \"alpha\": 1, \"zorder\": 2, \"markerpath\": [[[0.0, 9.0], [2.3868279, 9.0], [4.676218837063681, 8.051703224294176], [6.3639610306789285, 6.3639610306789285], [8.051703224294176, 4.676218837063681], [9.0, 2.3868279], [9.0, 0.0], [9.0, -2.3868279], [8.051703224294176, -4.676218837063681], [6.3639610306789285, -6.3639610306789285], [4.676218837063681, -8.051703224294176], [2.3868279, -9.0], [0.0, -9.0], [-2.3868279, -9.0], [-4.676218837063681, -8.051703224294176], [-6.3639610306789285, -6.3639610306789285], [-8.051703224294176, -4.676218837063681], [-9.0, -2.3868279], [-9.0, 0.0], [-9.0, 2.3868279], [-8.051703224294176, 4.676218837063681], [-6.3639610306789285, 6.3639610306789285], [-4.676218837063681, 8.051703224294176], [-2.3868279, 9.0], [0.0, 9.0]], [\"M\", \"C\", \"C\", \"C\", \"C\", \"C\", \"C\", \"C\", \"C\", \"Z\"]]}, {\"data\": \"data04\", \"xindex\": 0, \"yindex\": 1, \"coordinates\": \"data\", \"id\": \"el135140643305793128pts\", \"facecolor\": \"#E7298A\", \"edgecolor\": \"none\", \"edgewidth\": 1.0, \"alpha\": 1, \"zorder\": 2, \"markerpath\": [[[0.0, 9.0], [2.3868279, 9.0], [4.676218837063681, 8.051703224294176], [6.3639610306789285, 6.3639610306789285], [8.051703224294176, 4.676218837063681], [9.0, 2.3868279], [9.0, 0.0], [9.0, -2.3868279], [8.051703224294176, -4.676218837063681], [6.3639610306789285, -6.3639610306789285], [4.676218837063681, -8.051703224294176], [2.3868279, -9.0], [0.0, -9.0], [-2.3868279, -9.0], [-4.676218837063681, -8.051703224294176], [-6.3639610306789285, -6.3639610306789285], [-8.051703224294176, -4.676218837063681], [-9.0, -2.3868279], [-9.0, 0.0], [-9.0, 2.3868279], [-8.051703224294176, 4.676218837063681], [-6.3639610306789285, 6.3639610306789285], [-4.676218837063681, 8.051703224294176], [-2.3868279, 9.0], [0.0, 9.0]], [\"M\", \"C\", \"C\", \"C\", \"C\", \"C\", \"C\", \"C\", \"C\", \"Z\"]]}, {\"data\": \"data05\", \"xindex\": 0, \"yindex\": 1, \"coordinates\": \"data\", \"id\": \"el135140643319957656pts\", \"facecolor\": \"#66A61E\", \"edgecolor\": \"none\", \"edgewidth\": 1.0, \"alpha\": 1, \"zorder\": 2, \"markerpath\": [[[0.0, 9.0], [2.3868279, 9.0], [4.676218837063681, 8.051703224294176], [6.3639610306789285, 6.3639610306789285], [8.051703224294176, 4.676218837063681], [9.0, 2.3868279], [9.0, 0.0], [9.0, -2.3868279], [8.051703224294176, -4.676218837063681], [6.3639610306789285, -6.3639610306789285], [4.676218837063681, -8.051703224294176], [2.3868279, -9.0], [0.0, -9.0], [-2.3868279, -9.0], [-4.676218837063681, -8.051703224294176], [-6.3639610306789285, -6.3639610306789285], [-8.051703224294176, -4.676218837063681], [-9.0, -2.3868279], [-9.0, 0.0], [-9.0, 2.3868279], [-8.051703224294176, 4.676218837063681], [-6.3639610306789285, 6.3639610306789285], [-4.676218837063681, 8.051703224294176], [-2.3868279, 9.0], [0.0, 9.0]], [\"M\", \"C\", \"C\", \"C\", \"C\", \"C\", \"C\", \"C\", \"C\", \"Z\"]]}, {\"data\": \"data06\", \"xindex\": 0, \"yindex\": 1, \"coordinates\": \"axes\", \"id\": \"el135140643305829096pts\", \"facecolor\": \"#1B9E77\", \"edgecolor\": \"none\", \"edgewidth\": 1.0, \"alpha\": 1, \"zorder\": 1000002.0, \"markerpath\": [[[0.0, 9.0], [2.3868279, 9.0], [4.676218837063681, 8.051703224294176], [6.3639610306789285, 6.3639610306789285], [8.051703224294176, 4.676218837063681], [9.0, 2.3868279], [9.0, 0.0], [9.0, -2.3868279], [8.051703224294176, -4.676218837063681], [6.3639610306789285, -6.3639610306789285], [4.676218837063681, -8.051703224294176], [2.3868279, -9.0], [0.0, -9.0], [-2.3868279, -9.0], [-4.676218837063681, -8.051703224294176], [-6.3639610306789285, -6.3639610306789285], [-8.051703224294176, -4.676218837063681], [-9.0, -2.3868279], [-9.0, 0.0], [-9.0, 2.3868279], [-8.051703224294176, 4.676218837063681], [-6.3639610306789285, 6.3639610306789285], [-4.676218837063681, 8.051703224294176], [-2.3868279, 9.0], [0.0, 9.0]], [\"M\", \"C\", \"C\", \"C\", \"C\", \"C\", \"C\", \"C\", \"C\", \"Z\"]]}, {\"data\": \"data06\", \"xindex\": 0, \"yindex\": 2, \"coordinates\": \"axes\", \"id\": \"el135140643305830160pts\", \"facecolor\": \"#D95F02\", \"edgecolor\": \"none\", \"edgewidth\": 1.0, \"alpha\": 1, \"zorder\": 1000002.0, \"markerpath\": [[[0.0, 9.0], [2.3868279, 9.0], [4.676218837063681, 8.051703224294176], [6.3639610306789285, 6.3639610306789285], [8.051703224294176, 4.676218837063681], [9.0, 2.3868279], [9.0, 0.0], [9.0, -2.3868279], [8.051703224294176, -4.676218837063681], [6.3639610306789285, -6.3639610306789285], [4.676218837063681, -8.051703224294176], [2.3868279, -9.0], [0.0, -9.0], [-2.3868279, -9.0], [-4.676218837063681, -8.051703224294176], [-6.3639610306789285, -6.3639610306789285], [-8.051703224294176, -4.676218837063681], [-9.0, -2.3868279], [-9.0, 0.0], [-9.0, 2.3868279], [-8.051703224294176, 4.676218837063681], [-6.3639610306789285, 6.3639610306789285], [-4.676218837063681, 8.051703224294176], [-2.3868279, 9.0], [0.0, 9.0]], [\"M\", \"C\", \"C\", \"C\", \"C\", \"C\", \"C\", \"C\", \"C\", \"Z\"]]}, {\"data\": \"data06\", \"xindex\": 0, \"yindex\": 3, \"coordinates\": \"axes\", \"id\": \"el135140643305465952pts\", \"facecolor\": \"#7570B3\", \"edgecolor\": \"none\", \"edgewidth\": 1.0, \"alpha\": 1, \"zorder\": 1000002.0, \"markerpath\": [[[0.0, 9.0], [2.3868279, 9.0], [4.676218837063681, 8.051703224294176], [6.3639610306789285, 6.3639610306789285], [8.051703224294176, 4.676218837063681], [9.0, 2.3868279], [9.0, 0.0], [9.0, -2.3868279], [8.051703224294176, -4.676218837063681], [6.3639610306789285, -6.3639610306789285], [4.676218837063681, -8.051703224294176], [2.3868279, -9.0], [0.0, -9.0], [-2.3868279, -9.0], [-4.676218837063681, -8.051703224294176], [-6.3639610306789285, -6.3639610306789285], [-8.051703224294176, -4.676218837063681], [-9.0, -2.3868279], [-9.0, 0.0], [-9.0, 2.3868279], [-8.051703224294176, 4.676218837063681], [-6.3639610306789285, 6.3639610306789285], [-4.676218837063681, 8.051703224294176], [-2.3868279, 9.0], [0.0, 9.0]], [\"M\", \"C\", \"C\", \"C\", \"C\", \"C\", \"C\", \"C\", \"C\", \"Z\"]]}, {\"data\": \"data06\", \"xindex\": 0, \"yindex\": 4, \"coordinates\": \"axes\", \"id\": \"el135140643305465672pts\", \"facecolor\": \"#E7298A\", \"edgecolor\": \"none\", \"edgewidth\": 1.0, \"alpha\": 1, \"zorder\": 1000002.0, \"markerpath\": [[[0.0, 9.0], [2.3868279, 9.0], [4.676218837063681, 8.051703224294176], [6.3639610306789285, 6.3639610306789285], [8.051703224294176, 4.676218837063681], [9.0, 2.3868279], [9.0, 0.0], [9.0, -2.3868279], [8.051703224294176, -4.676218837063681], [6.3639610306789285, -6.3639610306789285], [4.676218837063681, -8.051703224294176], [2.3868279, -9.0], [0.0, -9.0], [-2.3868279, -9.0], [-4.676218837063681, -8.051703224294176], [-6.3639610306789285, -6.3639610306789285], [-8.051703224294176, -4.676218837063681], [-9.0, -2.3868279], [-9.0, 0.0], [-9.0, 2.3868279], [-8.051703224294176, 4.676218837063681], [-6.3639610306789285, 6.3639610306789285], [-4.676218837063681, 8.051703224294176], [-2.3868279, 9.0], [0.0, 9.0]], [\"M\", \"C\", \"C\", \"C\", \"C\", \"C\", \"C\", \"C\", \"C\", \"Z\"]]}, {\"data\": \"data06\", \"xindex\": 0, \"yindex\": 5, \"coordinates\": \"axes\", \"id\": \"el135140643305463992pts\", \"facecolor\": \"#66A61E\", \"edgecolor\": \"none\", \"edgewidth\": 1.0, \"alpha\": 1, \"zorder\": 1000002.0, \"markerpath\": [[[0.0, 9.0], [2.3868279, 9.0], [4.676218837063681, 8.051703224294176], [6.3639610306789285, 6.3639610306789285], [8.051703224294176, 4.676218837063681], [9.0, 2.3868279], [9.0, 0.0], [9.0, -2.3868279], [8.051703224294176, -4.676218837063681], [6.3639610306789285, -6.3639610306789285], [4.676218837063681, -8.051703224294176], [2.3868279, -9.0], [0.0, -9.0], [-2.3868279, -9.0], [-4.676218837063681, -8.051703224294176], [-6.3639610306789285, -6.3639610306789285], [-8.051703224294176, -4.676218837063681], [-9.0, -2.3868279], [-9.0, 0.0], [-9.0, 2.3868279], [-8.051703224294176, 4.676218837063681], [-6.3639610306789285, 6.3639610306789285], [-4.676218837063681, 8.051703224294176], [-2.3868279, 9.0], [0.0, 9.0]], [\"M\", \"C\", \"C\", \"C\", \"C\", \"C\", \"C\", \"C\", \"C\", \"Z\"]]}], \"texts\": [{\"text\": \"Family, home, war\", \"position\": [0.04736303123399899, 0.9478783419180772], \"coordinates\": \"axes\", \"h_anchor\": \"start\", \"v_baseline\": \"auto\", \"rotation\": -0.0, \"fontsize\": 10.0, \"color\": \"#000000\", \"alpha\": 1, \"zorder\": 1000003.0, \"id\": \"el135140643305829936\"}, {\"text\": \"Police, killed, murders\", \"position\": [0.04736303123399899, 0.901888643610498], \"coordinates\": \"axes\", \"h_anchor\": \"start\", \"v_baseline\": \"auto\", \"rotation\": -0.0, \"fontsize\": 10.0, \"color\": \"#000000\", \"alpha\": 1, \"zorder\": 1000003.0, \"id\": \"el135140643305829432\"}, {\"text\": \"Father, New York, brothers\", \"position\": [0.04736303123399899, 0.8558989453029189], \"coordinates\": \"axes\", \"h_anchor\": \"start\", \"v_baseline\": \"auto\", \"rotation\": -0.0, \"fontsize\": 10.0, \"color\": \"#000000\", \"alpha\": 1, \"zorder\": 1000003.0, \"id\": \"el135140643305464832\"}, {\"text\": \"Dance, singing, love\", \"position\": [0.04736303123399899, 0.8099092469953398], \"coordinates\": \"axes\", \"h_anchor\": \"start\", \"v_baseline\": \"auto\", \"rotation\": -0.0, \"fontsize\": 10.0, \"color\": \"#000000\", \"alpha\": 1, \"zorder\": 1000003.0, \"id\": \"el135140643305466344\"}, {\"text\": \"Killed, soldiers, captain\", \"position\": [0.04736303123399899, 0.7639195486877607], \"coordinates\": \"axes\", \"h_anchor\": \"start\", \"v_baseline\": \"auto\", \"rotation\": -0.0, \"fontsize\": 10.0, \"color\": \"#000000\", \"alpha\": 1, \"zorder\": 1000003.0, \"id\": \"el135140643305464776\"}], \"collections\": [], \"images\": [], \"sharex\": [], \"sharey\": []}], \"data\": {\"data01\": [[-0.34166783709147913, 0.6344444329502953], [-0.0697835765252865, 0.5697755231183568], [-0.028860474947472948, 0.6542407465232705], [0.06214704621807539, 0.6101371440051012]], \"data02\": [[0.44206412093578173, -0.27869804841256207], [-0.03159215088404366, -0.45663791320402886], [-0.2587368350262618, -0.26527516559786957], [-0.2509077886527682, -0.5748301691298103], [0.19843842072642093, -0.3892916828503908], [0.3500865831297658, -0.33952163222346426], [-0.0822211719046293, -0.5783371225442145], [-0.016415337094761003, -0.6356033887664564], [0.019707608446931178, -0.6360131358153785], [0.24381678674291052, -0.5041387862290508], [0.08011541418687525, -0.4798779364145004], [-0.1524708594907454, -0.3409184384980287], [-0.020101379300060913, -0.3570984271707861], [-0.15353411958657529, -0.3013348801222534], [-0.22754763513663467, -0.45049222698404334], [0.1287536654528344, -0.6684899512527609], [0.07969434882060063, -0.3889371661029437], [-0.34789814258235424, -0.3258509720117311], [-0.3609008933642027, -0.48196142317941265], [-0.11274056497585859, -0.49926901658843537], [0.18267302179861425, -0.5787625309524596], [-0.0876522433589088, -0.20078309954756865], [-0.18334149000822167, -0.5551280766277863], [-0.551459865435424, 0.3351166974656385], [-0.5674182514385872, -0.35374010333970207], [0.2751629686852379, -0.2942902403479915], [-0.4533760890831642, -0.4451810757043979], [0.3243862951002719, -0.45653595159186383], [0.33498008050466554, -0.6458620573675335]], \"data03\": [[0.1842728439475597, -0.011715611328299623], [0.058399024554247426, -0.04612821871658942], [-0.43458221470796804, -0.29655933230579506], [-0.4301218469327288, 0.28528616015883534], [0.3548063612344581, 0.008230388449868098], [0.5523203950143739, 0.4906695451776374], [-0.5523024142568739, -0.22470452093169108], [0.4157900555927239, 0.4066680050040376], [0.34339799473545496, 0.24588751780959872], [0.31820603526510766, 0.08767290955547546], [0.1607366978752424, -0.11945297477856227], [0.4928973738021543, -0.14112529581269717], [0.1563795065783695, -0.21300821701033482], [0.20869950117396832, 0.06431546201598057], [0.5655872568440865, 0.3427492412662697], [-0.42084558901816005, 0.46273188035729895], [0.12067866743532428, 0.4813363821584589], [-0.3416411136605303, 0.036359351999961084], [0.48195453604347716, 0.008013240019345533], [0.4758882198147056, -0.4358383186309247], [-0.6012517387271848, -0.0418859194691775], [-0.34156011933518005, -0.06836233054197617], [-0.3394231160832892, -0.1511074564578018], [-0.4660099693912445, -0.09927639405993571], [-0.5791042079012638, 0.2903462882632784], [0.6273622875630892, 0.3594269833423288]], \"data04\": [[0.4184044202336738, 0.5850489899951163], [0.6698670628968674, 0.11896605280395367], [-0.20377837648670416, 0.5597732710930737], [0.4020451359180303, 0.49856493148445374], [0.6677334884276219, 0.2695002905230577], [-0.02234991385406897, 0.3387044447457824]], \"data05\": [[-0.13227195754649126, 0.5745384801472381], [0.05822957027256338, 0.256929533865531], [0.011707339999011584, 0.4624485755347979], [0.6037432800571017, -0.3456991338989089], [0.07164980401234082, 0.13140842985205484], [-0.22775176430437058, 0.06867225264698684], [-0.3527560545316662, 0.12706104279951017], [-0.05321665416838313, 0.12337031922670556], [-0.4842963450926421, 0.17299124057611814], [-0.02172250207705443, -0.04277898807708071], [0.5177811917071925, -0.2536618659106638], [-0.17157923142425296, 0.23225249097460976], [0.5307508765954988, 0.1293499548695287], [0.4335012948307977, 0.14567214405204687], [-0.28445673314938785, 0.27573355826080437], [0.21436568495015884, 0.21833323177235375], [-0.19657213727582853, 0.39573854896210925], [0.3442345942883043, -0.13024993477969463], [-0.5962489128496042, 0.19029081995111047], [-0.6622802065035606, -0.20503714364142692], [0.18357552763037874, 0.3029327061666986], [-0.45990623558854987, 0.007717409858540057], [-0.3031164788430419, 0.47587091621770383], [0.6448729810407794, -0.1557495377370637], [-0.18141401157117412, 0.47664757937416014], [0.12564351913288888, 0.4177899987124327], [0.21979780091087622, 0.48012585338200914], [0.6688477850887058, -0.08783283749852551], [-0.3243379724030205, 0.3312099814646893], [-0.18645450426356014, 0.150485309679993], [-0.5521585808438269, 0.028891781654075178], [0.1850753249911779, 0.5789634882504009], [-0.5810674876200954, 0.10583683075043433], [-0.20835174801118317, -0.05859486722959816], [-0.19967295689696812, 0.006401158105055958]], \"data06\": [[0.024321556579621102, 0.958609271523179, 0.9126195732155998, 0.8666298749080207, 0.8206401766004416, 0.7746504782928625]], \"data07\": [[0.00896057347670251, 0.745523669364729], [0.22111415130568354, 0.745523669364729], [0.22367431515617, 0.745523669364729], [0.22367431515617, 0.7516556291390729], [0.22367431515617, 0.9785381407897964], [0.22367431515617, 0.9846701005641403], [0.22111415130568354, 0.9846701005641403], [0.00896057347670251, 0.9846701005641403], [0.006400409626216075, 0.9846701005641403], [0.006400409626216075, 0.9785381407897964], [0.006400409626216075, 0.7516556291390729], [0.006400409626216075, 0.745523669364729], [0.00896057347670251, 0.745523669364729]]}, \"id\": \"el135140643317499944\", \"plugins\": [{\"type\": \"reset\"}, {\"type\": \"zoom\", \"button\": true, \"enabled\": false}, {\"type\": \"boxzoom\", \"button\": true, \"enabled\": false}, {\"type\": \"htmltooltip\", \"id\": \"el135140643323378096pts\", \"labels\": [\"Singin' in the Rain\", \"The Good, the Bad and the Ugly\", \"Annie Hall\", \"Nashville\"], \"hoffset\": 10, \"voffset\": 10}, {\"type\": \"toptoolbar\"}, {\"type\": \"htmltooltip\", \"id\": \"el135140643305817424pts\", \"labels\": [\"The Shawshank Redemption\", \"Schindler's List\", \"Casablanca\", \"Lawrence of Arabia\", \"Star Wars\", \"2001: A Space Odyssey\", \"The Bridge on the River Kwai\", \"Dr. Strangelove or: How I Learned to Stop Worrying and Love the Bomb\", \"Apocalypse Now\", \"The Lord of the Rings: The Return of the King\", \"Gladiator\", \"From Here to Eternity\", \"Saving Private Ryan\", \"Unforgiven\", \"Raiders of the Lost Ark\", \"Patton\", \"Jaws\", \"Butch Cassidy and the Sundance Kid\", \"The Treasure of the Sierra Madre\", \"Platoon\", \"Dances with Wolves\", \"The Deer Hunter\", \"All Quiet on the Western Front\", \"Shane\", \"The Green Mile\", \"Close Encounters of the Third Kind\", \"The African Queen\", \"Stagecoach\", \"Mutiny on the Bounty\"], \"hoffset\": 10, \"voffset\": 10}, {\"type\": \"toptoolbar\"}, {\"type\": \"htmltooltip\", \"id\": \"el135140643323375800pts\", \"labels\": [\"The Godfather\", \"Gone with the Wind\", \"The Wizard of Oz\", \"Sunset Blvd.\", \"Forrest Gump\", \"The Sound of Music\", \"Chinatown\", \"Amadeus\", \"A Streetcar Named Desire\", \"The Best Years of Our Lives\", \"Doctor Zhivago\", \"Braveheart\", \"The Pianist\", \"Goodfellas\", \"City Lights\", \"It Happened One Night\", \"Out of Africa\", \"Fargo\", \"Giant\", \"The Grapes of Wrath\", \"American Graffiti\", \"Pulp Fiction\", \"The Maltese Falcon\", \"Double Indemnity\", \"Rebel Without a Cause\", \"Yankee Doodle Dandy\"], \"hoffset\": 10, \"voffset\": 10}, {\"type\": \"toptoolbar\"}, {\"type\": \"htmltooltip\", \"id\": \"el135140643305793128pts\", \"labels\": [\"It's a Wonderful Life\", \"The Philadelphia Story\", \"An American in Paris\", \"The King's Speech\", \"A Place in the Sun\", \"Tootsie\"], \"hoffset\": 10, \"voffset\": 10}, {\"type\": \"toptoolbar\"}, {\"type\": \"htmltooltip\", \"id\": \"el135140643319957656pts\", \"labels\": [\"Raging Bull\", \"One Flew Over the Cuckoo's Nest\", \"Citizen Kane\", \"Titanic\", \"The Godfather: Part II\", \"Psycho\", \"Vertigo\", \"On the Waterfront\", \"West Side Story\", \"E.T. the Extra-Terrestrial\", \"The Silence of the Lambs\", \"Some Like It Hot\", \"12 Angry Men\", \"Gandhi\", \"Rocky\", \"To Kill a Mockingbird\", \"My Fair Lady\", \"Ben-Hur\", \"The Apartment\", \"High Noon\", \"The Exorcist\", \"The French Connection\", \"Midnight Cowboy\", \"Mr. Smith Goes to Washington\", \"Rain Man\", \"Good Will Hunting\", \"Terms of Endearment\", \"Network\", \"The Graduate\", \"A Clockwork Orange\", \"Taxi Driver\", \"Wuthering Heights\", \"Rear Window\", \"The Third Man\", \"North by Northwest\"], \"hoffset\": 10, \"voffset\": 10}, {\"type\": \"toptoolbar\"}]});\n",
              "   }(mpld3);\n",
              "}else if(typeof define === \"function\" && define.amd){\n",
              "   // require.js is available: use it to load d3/mpld3\n",
              "   require.config({paths: {d3: \"https://mpld3.github.io/js/d3.v3.min\"}});\n",
              "   require([\"d3\"], function(d3){\n",
              "      window.d3 = d3;\n",
              "      mpld3_load_lib(\"https://mpld3.github.io/js/mpld3.v0.3.js\", function(){\n",
              "         \n",
              "    mpld3.register_plugin(\"htmltooltip\", HtmlTooltipPlugin);\n",
              "    HtmlTooltipPlugin.prototype = Object.create(mpld3.Plugin.prototype);\n",
              "    HtmlTooltipPlugin.prototype.constructor = HtmlTooltipPlugin;\n",
              "    HtmlTooltipPlugin.prototype.requiredProps = [\"id\"];\n",
              "    HtmlTooltipPlugin.prototype.defaultProps = {labels:null,\n",
              "                                                hoffset:0,\n",
              "                                                voffset:10};\n",
              "    function HtmlTooltipPlugin(fig, props){\n",
              "        mpld3.Plugin.call(this, fig, props);\n",
              "    };\n",
              "\n",
              "    HtmlTooltipPlugin.prototype.draw = function(){\n",
              "       var obj = mpld3.get_element(this.props.id);\n",
              "       var labels = this.props.labels;\n",
              "       var tooltip = d3.select(\"body\").append(\"div\")\n",
              "                    .attr(\"class\", \"mpld3-tooltip\")\n",
              "                    .style(\"position\", \"absolute\")\n",
              "                    .style(\"z-index\", \"10\")\n",
              "                    .style(\"visibility\", \"hidden\");\n",
              "\n",
              "       obj.elements()\n",
              "           .on(\"mouseover\", function(d, i){\n",
              "                              tooltip.html(labels[i])\n",
              "                                     .style(\"visibility\", \"visible\");})\n",
              "           .on(\"mousemove\", function(d, i){\n",
              "                  tooltip\n",
              "                    .style(\"top\", d3.event.pageY + this.props.voffset + \"px\")\n",
              "                    .style(\"left\",d3.event.pageX + this.props.hoffset + \"px\");\n",
              "                 }.bind(this))\n",
              "           .on(\"mouseout\",  function(d, i){\n",
              "                           tooltip.style(\"visibility\", \"hidden\");});\n",
              "    };\n",
              "    \n",
              "    mpld3.register_plugin(\"toptoolbar\", TopToolbar);\n",
              "    TopToolbar.prototype = Object.create(mpld3.Plugin.prototype);\n",
              "    TopToolbar.prototype.constructor = TopToolbar;\n",
              "    function TopToolbar(fig, props){\n",
              "        mpld3.Plugin.call(this, fig, props);\n",
              "    };\n",
              "\n",
              "    TopToolbar.prototype.draw = function(){\n",
              "      // the toolbar svg doesn't exist\n",
              "      // yet, so first draw it\n",
              "      this.fig.toolbar.draw();\n",
              "\n",
              "      // then change the y position to be\n",
              "      // at the top of the figure\n",
              "      this.fig.toolbar.toolbar.attr(\"x\", 150);\n",
              "      this.fig.toolbar.toolbar.attr(\"y\", 400);\n",
              "\n",
              "      // then remove the draw function,\n",
              "      // so that it is not called again\n",
              "      this.fig.toolbar.draw = function() {}\n",
              "    }\n",
              "    \n",
              "    mpld3.register_plugin(\"htmltooltip\", HtmlTooltipPlugin);\n",
              "    HtmlTooltipPlugin.prototype = Object.create(mpld3.Plugin.prototype);\n",
              "    HtmlTooltipPlugin.prototype.constructor = HtmlTooltipPlugin;\n",
              "    HtmlTooltipPlugin.prototype.requiredProps = [\"id\"];\n",
              "    HtmlTooltipPlugin.prototype.defaultProps = {labels:null,\n",
              "                                                hoffset:0,\n",
              "                                                voffset:10};\n",
              "    function HtmlTooltipPlugin(fig, props){\n",
              "        mpld3.Plugin.call(this, fig, props);\n",
              "    };\n",
              "\n",
              "    HtmlTooltipPlugin.prototype.draw = function(){\n",
              "       var obj = mpld3.get_element(this.props.id);\n",
              "       var labels = this.props.labels;\n",
              "       var tooltip = d3.select(\"body\").append(\"div\")\n",
              "                    .attr(\"class\", \"mpld3-tooltip\")\n",
              "                    .style(\"position\", \"absolute\")\n",
              "                    .style(\"z-index\", \"10\")\n",
              "                    .style(\"visibility\", \"hidden\");\n",
              "\n",
              "       obj.elements()\n",
              "           .on(\"mouseover\", function(d, i){\n",
              "                              tooltip.html(labels[i])\n",
              "                                     .style(\"visibility\", \"visible\");})\n",
              "           .on(\"mousemove\", function(d, i){\n",
              "                  tooltip\n",
              "                    .style(\"top\", d3.event.pageY + this.props.voffset + \"px\")\n",
              "                    .style(\"left\",d3.event.pageX + this.props.hoffset + \"px\");\n",
              "                 }.bind(this))\n",
              "           .on(\"mouseout\",  function(d, i){\n",
              "                           tooltip.style(\"visibility\", \"hidden\");});\n",
              "    };\n",
              "    \n",
              "    mpld3.register_plugin(\"toptoolbar\", TopToolbar);\n",
              "    TopToolbar.prototype = Object.create(mpld3.Plugin.prototype);\n",
              "    TopToolbar.prototype.constructor = TopToolbar;\n",
              "    function TopToolbar(fig, props){\n",
              "        mpld3.Plugin.call(this, fig, props);\n",
              "    };\n",
              "\n",
              "    TopToolbar.prototype.draw = function(){\n",
              "      // the toolbar svg doesn't exist\n",
              "      // yet, so first draw it\n",
              "      this.fig.toolbar.draw();\n",
              "\n",
              "      // then change the y position to be\n",
              "      // at the top of the figure\n",
              "      this.fig.toolbar.toolbar.attr(\"x\", 150);\n",
              "      this.fig.toolbar.toolbar.attr(\"y\", 400);\n",
              "\n",
              "      // then remove the draw function,\n",
              "      // so that it is not called again\n",
              "      this.fig.toolbar.draw = function() {}\n",
              "    }\n",
              "    \n",
              "    mpld3.register_plugin(\"htmltooltip\", HtmlTooltipPlugin);\n",
              "    HtmlTooltipPlugin.prototype = Object.create(mpld3.Plugin.prototype);\n",
              "    HtmlTooltipPlugin.prototype.constructor = HtmlTooltipPlugin;\n",
              "    HtmlTooltipPlugin.prototype.requiredProps = [\"id\"];\n",
              "    HtmlTooltipPlugin.prototype.defaultProps = {labels:null,\n",
              "                                                hoffset:0,\n",
              "                                                voffset:10};\n",
              "    function HtmlTooltipPlugin(fig, props){\n",
              "        mpld3.Plugin.call(this, fig, props);\n",
              "    };\n",
              "\n",
              "    HtmlTooltipPlugin.prototype.draw = function(){\n",
              "       var obj = mpld3.get_element(this.props.id);\n",
              "       var labels = this.props.labels;\n",
              "       var tooltip = d3.select(\"body\").append(\"div\")\n",
              "                    .attr(\"class\", \"mpld3-tooltip\")\n",
              "                    .style(\"position\", \"absolute\")\n",
              "                    .style(\"z-index\", \"10\")\n",
              "                    .style(\"visibility\", \"hidden\");\n",
              "\n",
              "       obj.elements()\n",
              "           .on(\"mouseover\", function(d, i){\n",
              "                              tooltip.html(labels[i])\n",
              "                                     .style(\"visibility\", \"visible\");})\n",
              "           .on(\"mousemove\", function(d, i){\n",
              "                  tooltip\n",
              "                    .style(\"top\", d3.event.pageY + this.props.voffset + \"px\")\n",
              "                    .style(\"left\",d3.event.pageX + this.props.hoffset + \"px\");\n",
              "                 }.bind(this))\n",
              "           .on(\"mouseout\",  function(d, i){\n",
              "                           tooltip.style(\"visibility\", \"hidden\");});\n",
              "    };\n",
              "    \n",
              "    mpld3.register_plugin(\"toptoolbar\", TopToolbar);\n",
              "    TopToolbar.prototype = Object.create(mpld3.Plugin.prototype);\n",
              "    TopToolbar.prototype.constructor = TopToolbar;\n",
              "    function TopToolbar(fig, props){\n",
              "        mpld3.Plugin.call(this, fig, props);\n",
              "    };\n",
              "\n",
              "    TopToolbar.prototype.draw = function(){\n",
              "      // the toolbar svg doesn't exist\n",
              "      // yet, so first draw it\n",
              "      this.fig.toolbar.draw();\n",
              "\n",
              "      // then change the y position to be\n",
              "      // at the top of the figure\n",
              "      this.fig.toolbar.toolbar.attr(\"x\", 150);\n",
              "      this.fig.toolbar.toolbar.attr(\"y\", 400);\n",
              "\n",
              "      // then remove the draw function,\n",
              "      // so that it is not called again\n",
              "      this.fig.toolbar.draw = function() {}\n",
              "    }\n",
              "    \n",
              "    mpld3.register_plugin(\"htmltooltip\", HtmlTooltipPlugin);\n",
              "    HtmlTooltipPlugin.prototype = Object.create(mpld3.Plugin.prototype);\n",
              "    HtmlTooltipPlugin.prototype.constructor = HtmlTooltipPlugin;\n",
              "    HtmlTooltipPlugin.prototype.requiredProps = [\"id\"];\n",
              "    HtmlTooltipPlugin.prototype.defaultProps = {labels:null,\n",
              "                                                hoffset:0,\n",
              "                                                voffset:10};\n",
              "    function HtmlTooltipPlugin(fig, props){\n",
              "        mpld3.Plugin.call(this, fig, props);\n",
              "    };\n",
              "\n",
              "    HtmlTooltipPlugin.prototype.draw = function(){\n",
              "       var obj = mpld3.get_element(this.props.id);\n",
              "       var labels = this.props.labels;\n",
              "       var tooltip = d3.select(\"body\").append(\"div\")\n",
              "                    .attr(\"class\", \"mpld3-tooltip\")\n",
              "                    .style(\"position\", \"absolute\")\n",
              "                    .style(\"z-index\", \"10\")\n",
              "                    .style(\"visibility\", \"hidden\");\n",
              "\n",
              "       obj.elements()\n",
              "           .on(\"mouseover\", function(d, i){\n",
              "                              tooltip.html(labels[i])\n",
              "                                     .style(\"visibility\", \"visible\");})\n",
              "           .on(\"mousemove\", function(d, i){\n",
              "                  tooltip\n",
              "                    .style(\"top\", d3.event.pageY + this.props.voffset + \"px\")\n",
              "                    .style(\"left\",d3.event.pageX + this.props.hoffset + \"px\");\n",
              "                 }.bind(this))\n",
              "           .on(\"mouseout\",  function(d, i){\n",
              "                           tooltip.style(\"visibility\", \"hidden\");});\n",
              "    };\n",
              "    \n",
              "    mpld3.register_plugin(\"toptoolbar\", TopToolbar);\n",
              "    TopToolbar.prototype = Object.create(mpld3.Plugin.prototype);\n",
              "    TopToolbar.prototype.constructor = TopToolbar;\n",
              "    function TopToolbar(fig, props){\n",
              "        mpld3.Plugin.call(this, fig, props);\n",
              "    };\n",
              "\n",
              "    TopToolbar.prototype.draw = function(){\n",
              "      // the toolbar svg doesn't exist\n",
              "      // yet, so first draw it\n",
              "      this.fig.toolbar.draw();\n",
              "\n",
              "      // then change the y position to be\n",
              "      // at the top of the figure\n",
              "      this.fig.toolbar.toolbar.attr(\"x\", 150);\n",
              "      this.fig.toolbar.toolbar.attr(\"y\", 400);\n",
              "\n",
              "      // then remove the draw function,\n",
              "      // so that it is not called again\n",
              "      this.fig.toolbar.draw = function() {}\n",
              "    }\n",
              "    \n",
              "    mpld3.register_plugin(\"htmltooltip\", HtmlTooltipPlugin);\n",
              "    HtmlTooltipPlugin.prototype = Object.create(mpld3.Plugin.prototype);\n",
              "    HtmlTooltipPlugin.prototype.constructor = HtmlTooltipPlugin;\n",
              "    HtmlTooltipPlugin.prototype.requiredProps = [\"id\"];\n",
              "    HtmlTooltipPlugin.prototype.defaultProps = {labels:null,\n",
              "                                                hoffset:0,\n",
              "                                                voffset:10};\n",
              "    function HtmlTooltipPlugin(fig, props){\n",
              "        mpld3.Plugin.call(this, fig, props);\n",
              "    };\n",
              "\n",
              "    HtmlTooltipPlugin.prototype.draw = function(){\n",
              "       var obj = mpld3.get_element(this.props.id);\n",
              "       var labels = this.props.labels;\n",
              "       var tooltip = d3.select(\"body\").append(\"div\")\n",
              "                    .attr(\"class\", \"mpld3-tooltip\")\n",
              "                    .style(\"position\", \"absolute\")\n",
              "                    .style(\"z-index\", \"10\")\n",
              "                    .style(\"visibility\", \"hidden\");\n",
              "\n",
              "       obj.elements()\n",
              "           .on(\"mouseover\", function(d, i){\n",
              "                              tooltip.html(labels[i])\n",
              "                                     .style(\"visibility\", \"visible\");})\n",
              "           .on(\"mousemove\", function(d, i){\n",
              "                  tooltip\n",
              "                    .style(\"top\", d3.event.pageY + this.props.voffset + \"px\")\n",
              "                    .style(\"left\",d3.event.pageX + this.props.hoffset + \"px\");\n",
              "                 }.bind(this))\n",
              "           .on(\"mouseout\",  function(d, i){\n",
              "                           tooltip.style(\"visibility\", \"hidden\");});\n",
              "    };\n",
              "    \n",
              "    mpld3.register_plugin(\"toptoolbar\", TopToolbar);\n",
              "    TopToolbar.prototype = Object.create(mpld3.Plugin.prototype);\n",
              "    TopToolbar.prototype.constructor = TopToolbar;\n",
              "    function TopToolbar(fig, props){\n",
              "        mpld3.Plugin.call(this, fig, props);\n",
              "    };\n",
              "\n",
              "    TopToolbar.prototype.draw = function(){\n",
              "      // the toolbar svg doesn't exist\n",
              "      // yet, so first draw it\n",
              "      this.fig.toolbar.draw();\n",
              "\n",
              "      // then change the y position to be\n",
              "      // at the top of the figure\n",
              "      this.fig.toolbar.toolbar.attr(\"x\", 150);\n",
              "      this.fig.toolbar.toolbar.attr(\"y\", 400);\n",
              "\n",
              "      // then remove the draw function,\n",
              "      // so that it is not called again\n",
              "      this.fig.toolbar.draw = function() {}\n",
              "    }\n",
              "    \n",
              "         mpld3.draw_figure(\"fig_el1351406433174999446116386375\", {\"width\": 1008.0, \"height\": 432.0, \"axes\": [{\"bbox\": [0.125, 0.125, 0.775, 0.755], \"xlim\": [-0.7022446245855734, 0.7098314809788802], \"ylim\": [-0.7081718721860418, 0.6939226674565514], \"xdomain\": [-0.7022446245855734, 0.7098314809788802], \"ydomain\": [-0.7081718721860418, 0.6939226674565514], \"xscale\": \"linear\", \"yscale\": \"linear\", \"axes\": [{\"position\": \"bottom\", \"nticks\": 0, \"tickvalues\": [], \"tickformat\": \"\", \"scale\": \"linear\", \"fontsize\": null, \"grid\": {\"gridOn\": false}, \"visible\": false}, {\"position\": \"left\", \"nticks\": 0, \"tickvalues\": [], \"tickformat\": \"\", \"scale\": \"linear\", \"fontsize\": null, \"grid\": {\"gridOn\": false}, \"visible\": false}], \"axesbg\": \"#FFFFFF\", \"axesbgalpha\": null, \"zoomable\": true, \"id\": \"el135140643317978672\", \"lines\": [], \"paths\": [{\"data\": \"data07\", \"xindex\": 0, \"yindex\": 1, \"coordinates\": \"axes\", \"pathcodes\": [\"M\", \"L\", \"S\", \"L\", \"S\", \"L\", \"S\", \"L\", \"S\", \"Z\"], \"id\": \"el135140643305817144\", \"dasharray\": \"none\", \"alpha\": 0.8, \"facecolor\": \"#FFFFFF\", \"edgecolor\": \"#CCCCCC\", \"edgewidth\": 1.0, \"zorder\": 1000000.0}], \"markers\": [{\"data\": \"data01\", \"xindex\": 0, \"yindex\": 1, \"coordinates\": \"data\", \"id\": \"el135140643323378096pts\", \"facecolor\": \"#1B9E77\", \"edgecolor\": \"none\", \"edgewidth\": 1.0, \"alpha\": 1, \"zorder\": 2, \"markerpath\": [[[0.0, 9.0], [2.3868279, 9.0], [4.676218837063681, 8.051703224294176], [6.3639610306789285, 6.3639610306789285], [8.051703224294176, 4.676218837063681], [9.0, 2.3868279], [9.0, 0.0], [9.0, -2.3868279], [8.051703224294176, -4.676218837063681], [6.3639610306789285, -6.3639610306789285], [4.676218837063681, -8.051703224294176], [2.3868279, -9.0], [0.0, -9.0], [-2.3868279, -9.0], [-4.676218837063681, -8.051703224294176], [-6.3639610306789285, -6.3639610306789285], [-8.051703224294176, -4.676218837063681], [-9.0, -2.3868279], [-9.0, 0.0], [-9.0, 2.3868279], [-8.051703224294176, 4.676218837063681], [-6.3639610306789285, 6.3639610306789285], [-4.676218837063681, 8.051703224294176], [-2.3868279, 9.0], [0.0, 9.0]], [\"M\", \"C\", \"C\", \"C\", \"C\", \"C\", \"C\", \"C\", \"C\", \"Z\"]]}, {\"data\": \"data02\", \"xindex\": 0, \"yindex\": 1, \"coordinates\": \"data\", \"id\": \"el135140643305817424pts\", \"facecolor\": \"#D95F02\", \"edgecolor\": \"none\", \"edgewidth\": 1.0, \"alpha\": 1, \"zorder\": 2, \"markerpath\": [[[0.0, 9.0], [2.3868279, 9.0], [4.676218837063681, 8.051703224294176], [6.3639610306789285, 6.3639610306789285], [8.051703224294176, 4.676218837063681], [9.0, 2.3868279], [9.0, 0.0], [9.0, -2.3868279], [8.051703224294176, -4.676218837063681], [6.3639610306789285, -6.3639610306789285], [4.676218837063681, -8.051703224294176], [2.3868279, -9.0], [0.0, -9.0], [-2.3868279, -9.0], [-4.676218837063681, -8.051703224294176], [-6.3639610306789285, -6.3639610306789285], [-8.051703224294176, -4.676218837063681], [-9.0, -2.3868279], [-9.0, 0.0], [-9.0, 2.3868279], [-8.051703224294176, 4.676218837063681], [-6.3639610306789285, 6.3639610306789285], [-4.676218837063681, 8.051703224294176], [-2.3868279, 9.0], [0.0, 9.0]], [\"M\", \"C\", \"C\", \"C\", \"C\", \"C\", \"C\", \"C\", \"C\", \"Z\"]]}, {\"data\": \"data03\", \"xindex\": 0, \"yindex\": 1, \"coordinates\": \"data\", \"id\": \"el135140643323375800pts\", \"facecolor\": \"#7570B3\", \"edgecolor\": \"none\", \"edgewidth\": 1.0, \"alpha\": 1, \"zorder\": 2, \"markerpath\": [[[0.0, 9.0], [2.3868279, 9.0], [4.676218837063681, 8.051703224294176], [6.3639610306789285, 6.3639610306789285], [8.051703224294176, 4.676218837063681], [9.0, 2.3868279], [9.0, 0.0], [9.0, -2.3868279], [8.051703224294176, -4.676218837063681], [6.3639610306789285, -6.3639610306789285], [4.676218837063681, -8.051703224294176], [2.3868279, -9.0], [0.0, -9.0], [-2.3868279, -9.0], [-4.676218837063681, -8.051703224294176], [-6.3639610306789285, -6.3639610306789285], [-8.051703224294176, -4.676218837063681], [-9.0, -2.3868279], [-9.0, 0.0], [-9.0, 2.3868279], [-8.051703224294176, 4.676218837063681], [-6.3639610306789285, 6.3639610306789285], [-4.676218837063681, 8.051703224294176], [-2.3868279, 9.0], [0.0, 9.0]], [\"M\", \"C\", \"C\", \"C\", \"C\", \"C\", \"C\", \"C\", \"C\", \"Z\"]]}, {\"data\": \"data04\", \"xindex\": 0, \"yindex\": 1, \"coordinates\": \"data\", \"id\": \"el135140643305793128pts\", \"facecolor\": \"#E7298A\", \"edgecolor\": \"none\", \"edgewidth\": 1.0, \"alpha\": 1, \"zorder\": 2, \"markerpath\": [[[0.0, 9.0], [2.3868279, 9.0], [4.676218837063681, 8.051703224294176], [6.3639610306789285, 6.3639610306789285], [8.051703224294176, 4.676218837063681], [9.0, 2.3868279], [9.0, 0.0], [9.0, -2.3868279], [8.051703224294176, -4.676218837063681], [6.3639610306789285, -6.3639610306789285], [4.676218837063681, -8.051703224294176], [2.3868279, -9.0], [0.0, -9.0], [-2.3868279, -9.0], [-4.676218837063681, -8.051703224294176], [-6.3639610306789285, -6.3639610306789285], [-8.051703224294176, -4.676218837063681], [-9.0, -2.3868279], [-9.0, 0.0], [-9.0, 2.3868279], [-8.051703224294176, 4.676218837063681], [-6.3639610306789285, 6.3639610306789285], [-4.676218837063681, 8.051703224294176], [-2.3868279, 9.0], [0.0, 9.0]], [\"M\", \"C\", \"C\", \"C\", \"C\", \"C\", \"C\", \"C\", \"C\", \"Z\"]]}, {\"data\": \"data05\", \"xindex\": 0, \"yindex\": 1, \"coordinates\": \"data\", \"id\": \"el135140643319957656pts\", \"facecolor\": \"#66A61E\", \"edgecolor\": \"none\", \"edgewidth\": 1.0, \"alpha\": 1, \"zorder\": 2, \"markerpath\": [[[0.0, 9.0], [2.3868279, 9.0], [4.676218837063681, 8.051703224294176], [6.3639610306789285, 6.3639610306789285], [8.051703224294176, 4.676218837063681], [9.0, 2.3868279], [9.0, 0.0], [9.0, -2.3868279], [8.051703224294176, -4.676218837063681], [6.3639610306789285, -6.3639610306789285], [4.676218837063681, -8.051703224294176], [2.3868279, -9.0], [0.0, -9.0], [-2.3868279, -9.0], [-4.676218837063681, -8.051703224294176], [-6.3639610306789285, -6.3639610306789285], [-8.051703224294176, -4.676218837063681], [-9.0, -2.3868279], [-9.0, 0.0], [-9.0, 2.3868279], [-8.051703224294176, 4.676218837063681], [-6.3639610306789285, 6.3639610306789285], [-4.676218837063681, 8.051703224294176], [-2.3868279, 9.0], [0.0, 9.0]], [\"M\", \"C\", \"C\", \"C\", \"C\", \"C\", \"C\", \"C\", \"C\", \"Z\"]]}, {\"data\": \"data06\", \"xindex\": 0, \"yindex\": 1, \"coordinates\": \"axes\", \"id\": \"el135140643305829096pts\", \"facecolor\": \"#1B9E77\", \"edgecolor\": \"none\", \"edgewidth\": 1.0, \"alpha\": 1, \"zorder\": 1000002.0, \"markerpath\": [[[0.0, 9.0], [2.3868279, 9.0], [4.676218837063681, 8.051703224294176], [6.3639610306789285, 6.3639610306789285], [8.051703224294176, 4.676218837063681], [9.0, 2.3868279], [9.0, 0.0], [9.0, -2.3868279], [8.051703224294176, -4.676218837063681], [6.3639610306789285, -6.3639610306789285], [4.676218837063681, -8.051703224294176], [2.3868279, -9.0], [0.0, -9.0], [-2.3868279, -9.0], [-4.676218837063681, -8.051703224294176], [-6.3639610306789285, -6.3639610306789285], [-8.051703224294176, -4.676218837063681], [-9.0, -2.3868279], [-9.0, 0.0], [-9.0, 2.3868279], [-8.051703224294176, 4.676218837063681], [-6.3639610306789285, 6.3639610306789285], [-4.676218837063681, 8.051703224294176], [-2.3868279, 9.0], [0.0, 9.0]], [\"M\", \"C\", \"C\", \"C\", \"C\", \"C\", \"C\", \"C\", \"C\", \"Z\"]]}, {\"data\": \"data06\", \"xindex\": 0, \"yindex\": 2, \"coordinates\": \"axes\", \"id\": \"el135140643305830160pts\", \"facecolor\": \"#D95F02\", \"edgecolor\": \"none\", \"edgewidth\": 1.0, \"alpha\": 1, \"zorder\": 1000002.0, \"markerpath\": [[[0.0, 9.0], [2.3868279, 9.0], [4.676218837063681, 8.051703224294176], [6.3639610306789285, 6.3639610306789285], [8.051703224294176, 4.676218837063681], [9.0, 2.3868279], [9.0, 0.0], [9.0, -2.3868279], [8.051703224294176, -4.676218837063681], [6.3639610306789285, -6.3639610306789285], [4.676218837063681, -8.051703224294176], [2.3868279, -9.0], [0.0, -9.0], [-2.3868279, -9.0], [-4.676218837063681, -8.051703224294176], [-6.3639610306789285, -6.3639610306789285], [-8.051703224294176, -4.676218837063681], [-9.0, -2.3868279], [-9.0, 0.0], [-9.0, 2.3868279], [-8.051703224294176, 4.676218837063681], [-6.3639610306789285, 6.3639610306789285], [-4.676218837063681, 8.051703224294176], [-2.3868279, 9.0], [0.0, 9.0]], [\"M\", \"C\", \"C\", \"C\", \"C\", \"C\", \"C\", \"C\", \"C\", \"Z\"]]}, {\"data\": \"data06\", \"xindex\": 0, \"yindex\": 3, \"coordinates\": \"axes\", \"id\": \"el135140643305465952pts\", \"facecolor\": \"#7570B3\", \"edgecolor\": \"none\", \"edgewidth\": 1.0, \"alpha\": 1, \"zorder\": 1000002.0, \"markerpath\": [[[0.0, 9.0], [2.3868279, 9.0], [4.676218837063681, 8.051703224294176], [6.3639610306789285, 6.3639610306789285], [8.051703224294176, 4.676218837063681], [9.0, 2.3868279], [9.0, 0.0], [9.0, -2.3868279], [8.051703224294176, -4.676218837063681], [6.3639610306789285, -6.3639610306789285], [4.676218837063681, -8.051703224294176], [2.3868279, -9.0], [0.0, -9.0], [-2.3868279, -9.0], [-4.676218837063681, -8.051703224294176], [-6.3639610306789285, -6.3639610306789285], [-8.051703224294176, -4.676218837063681], [-9.0, -2.3868279], [-9.0, 0.0], [-9.0, 2.3868279], [-8.051703224294176, 4.676218837063681], [-6.3639610306789285, 6.3639610306789285], [-4.676218837063681, 8.051703224294176], [-2.3868279, 9.0], [0.0, 9.0]], [\"M\", \"C\", \"C\", \"C\", \"C\", \"C\", \"C\", \"C\", \"C\", \"Z\"]]}, {\"data\": \"data06\", \"xindex\": 0, \"yindex\": 4, \"coordinates\": \"axes\", \"id\": \"el135140643305465672pts\", \"facecolor\": \"#E7298A\", \"edgecolor\": \"none\", \"edgewidth\": 1.0, \"alpha\": 1, \"zorder\": 1000002.0, \"markerpath\": [[[0.0, 9.0], [2.3868279, 9.0], [4.676218837063681, 8.051703224294176], [6.3639610306789285, 6.3639610306789285], [8.051703224294176, 4.676218837063681], [9.0, 2.3868279], [9.0, 0.0], [9.0, -2.3868279], [8.051703224294176, -4.676218837063681], [6.3639610306789285, -6.3639610306789285], [4.676218837063681, -8.051703224294176], [2.3868279, -9.0], [0.0, -9.0], [-2.3868279, -9.0], [-4.676218837063681, -8.051703224294176], [-6.3639610306789285, -6.3639610306789285], [-8.051703224294176, -4.676218837063681], [-9.0, -2.3868279], [-9.0, 0.0], [-9.0, 2.3868279], [-8.051703224294176, 4.676218837063681], [-6.3639610306789285, 6.3639610306789285], [-4.676218837063681, 8.051703224294176], [-2.3868279, 9.0], [0.0, 9.0]], [\"M\", \"C\", \"C\", \"C\", \"C\", \"C\", \"C\", \"C\", \"C\", \"Z\"]]}, {\"data\": \"data06\", \"xindex\": 0, \"yindex\": 5, \"coordinates\": \"axes\", \"id\": \"el135140643305463992pts\", \"facecolor\": \"#66A61E\", \"edgecolor\": \"none\", \"edgewidth\": 1.0, \"alpha\": 1, \"zorder\": 1000002.0, \"markerpath\": [[[0.0, 9.0], [2.3868279, 9.0], [4.676218837063681, 8.051703224294176], [6.3639610306789285, 6.3639610306789285], [8.051703224294176, 4.676218837063681], [9.0, 2.3868279], [9.0, 0.0], [9.0, -2.3868279], [8.051703224294176, -4.676218837063681], [6.3639610306789285, -6.3639610306789285], [4.676218837063681, -8.051703224294176], [2.3868279, -9.0], [0.0, -9.0], [-2.3868279, -9.0], [-4.676218837063681, -8.051703224294176], [-6.3639610306789285, -6.3639610306789285], [-8.051703224294176, -4.676218837063681], [-9.0, -2.3868279], [-9.0, 0.0], [-9.0, 2.3868279], [-8.051703224294176, 4.676218837063681], [-6.3639610306789285, 6.3639610306789285], [-4.676218837063681, 8.051703224294176], [-2.3868279, 9.0], [0.0, 9.0]], [\"M\", \"C\", \"C\", \"C\", \"C\", \"C\", \"C\", \"C\", \"C\", \"Z\"]]}], \"texts\": [{\"text\": \"Family, home, war\", \"position\": [0.04736303123399899, 0.9478783419180772], \"coordinates\": \"axes\", \"h_anchor\": \"start\", \"v_baseline\": \"auto\", \"rotation\": -0.0, \"fontsize\": 10.0, \"color\": \"#000000\", \"alpha\": 1, \"zorder\": 1000003.0, \"id\": \"el135140643305829936\"}, {\"text\": \"Police, killed, murders\", \"position\": [0.04736303123399899, 0.901888643610498], \"coordinates\": \"axes\", \"h_anchor\": \"start\", \"v_baseline\": \"auto\", \"rotation\": -0.0, \"fontsize\": 10.0, \"color\": \"#000000\", \"alpha\": 1, \"zorder\": 1000003.0, \"id\": \"el135140643305829432\"}, {\"text\": \"Father, New York, brothers\", \"position\": [0.04736303123399899, 0.8558989453029189], \"coordinates\": \"axes\", \"h_anchor\": \"start\", \"v_baseline\": \"auto\", \"rotation\": -0.0, \"fontsize\": 10.0, \"color\": \"#000000\", \"alpha\": 1, \"zorder\": 1000003.0, \"id\": \"el135140643305464832\"}, {\"text\": \"Dance, singing, love\", \"position\": [0.04736303123399899, 0.8099092469953398], \"coordinates\": \"axes\", \"h_anchor\": \"start\", \"v_baseline\": \"auto\", \"rotation\": -0.0, \"fontsize\": 10.0, \"color\": \"#000000\", \"alpha\": 1, \"zorder\": 1000003.0, \"id\": \"el135140643305466344\"}, {\"text\": \"Killed, soldiers, captain\", \"position\": [0.04736303123399899, 0.7639195486877607], \"coordinates\": \"axes\", \"h_anchor\": \"start\", \"v_baseline\": \"auto\", \"rotation\": -0.0, \"fontsize\": 10.0, \"color\": \"#000000\", \"alpha\": 1, \"zorder\": 1000003.0, \"id\": \"el135140643305464776\"}], \"collections\": [], \"images\": [], \"sharex\": [], \"sharey\": []}], \"data\": {\"data01\": [[-0.34166783709147913, 0.6344444329502953], [-0.0697835765252865, 0.5697755231183568], [-0.028860474947472948, 0.6542407465232705], [0.06214704621807539, 0.6101371440051012]], \"data02\": [[0.44206412093578173, -0.27869804841256207], [-0.03159215088404366, -0.45663791320402886], [-0.2587368350262618, -0.26527516559786957], [-0.2509077886527682, -0.5748301691298103], [0.19843842072642093, -0.3892916828503908], [0.3500865831297658, -0.33952163222346426], [-0.0822211719046293, -0.5783371225442145], [-0.016415337094761003, -0.6356033887664564], [0.019707608446931178, -0.6360131358153785], [0.24381678674291052, -0.5041387862290508], [0.08011541418687525, -0.4798779364145004], [-0.1524708594907454, -0.3409184384980287], [-0.020101379300060913, -0.3570984271707861], [-0.15353411958657529, -0.3013348801222534], [-0.22754763513663467, -0.45049222698404334], [0.1287536654528344, -0.6684899512527609], [0.07969434882060063, -0.3889371661029437], [-0.34789814258235424, -0.3258509720117311], [-0.3609008933642027, -0.48196142317941265], [-0.11274056497585859, -0.49926901658843537], [0.18267302179861425, -0.5787625309524596], [-0.0876522433589088, -0.20078309954756865], [-0.18334149000822167, -0.5551280766277863], [-0.551459865435424, 0.3351166974656385], [-0.5674182514385872, -0.35374010333970207], [0.2751629686852379, -0.2942902403479915], [-0.4533760890831642, -0.4451810757043979], [0.3243862951002719, -0.45653595159186383], [0.33498008050466554, -0.6458620573675335]], \"data03\": [[0.1842728439475597, -0.011715611328299623], [0.058399024554247426, -0.04612821871658942], [-0.43458221470796804, -0.29655933230579506], [-0.4301218469327288, 0.28528616015883534], [0.3548063612344581, 0.008230388449868098], [0.5523203950143739, 0.4906695451776374], [-0.5523024142568739, -0.22470452093169108], [0.4157900555927239, 0.4066680050040376], [0.34339799473545496, 0.24588751780959872], [0.31820603526510766, 0.08767290955547546], [0.1607366978752424, -0.11945297477856227], [0.4928973738021543, -0.14112529581269717], [0.1563795065783695, -0.21300821701033482], [0.20869950117396832, 0.06431546201598057], [0.5655872568440865, 0.3427492412662697], [-0.42084558901816005, 0.46273188035729895], [0.12067866743532428, 0.4813363821584589], [-0.3416411136605303, 0.036359351999961084], [0.48195453604347716, 0.008013240019345533], [0.4758882198147056, -0.4358383186309247], [-0.6012517387271848, -0.0418859194691775], [-0.34156011933518005, -0.06836233054197617], [-0.3394231160832892, -0.1511074564578018], [-0.4660099693912445, -0.09927639405993571], [-0.5791042079012638, 0.2903462882632784], [0.6273622875630892, 0.3594269833423288]], \"data04\": [[0.4184044202336738, 0.5850489899951163], [0.6698670628968674, 0.11896605280395367], [-0.20377837648670416, 0.5597732710930737], [0.4020451359180303, 0.49856493148445374], [0.6677334884276219, 0.2695002905230577], [-0.02234991385406897, 0.3387044447457824]], \"data05\": [[-0.13227195754649126, 0.5745384801472381], [0.05822957027256338, 0.256929533865531], [0.011707339999011584, 0.4624485755347979], [0.6037432800571017, -0.3456991338989089], [0.07164980401234082, 0.13140842985205484], [-0.22775176430437058, 0.06867225264698684], [-0.3527560545316662, 0.12706104279951017], [-0.05321665416838313, 0.12337031922670556], [-0.4842963450926421, 0.17299124057611814], [-0.02172250207705443, -0.04277898807708071], [0.5177811917071925, -0.2536618659106638], [-0.17157923142425296, 0.23225249097460976], [0.5307508765954988, 0.1293499548695287], [0.4335012948307977, 0.14567214405204687], [-0.28445673314938785, 0.27573355826080437], [0.21436568495015884, 0.21833323177235375], [-0.19657213727582853, 0.39573854896210925], [0.3442345942883043, -0.13024993477969463], [-0.5962489128496042, 0.19029081995111047], [-0.6622802065035606, -0.20503714364142692], [0.18357552763037874, 0.3029327061666986], [-0.45990623558854987, 0.007717409858540057], [-0.3031164788430419, 0.47587091621770383], [0.6448729810407794, -0.1557495377370637], [-0.18141401157117412, 0.47664757937416014], [0.12564351913288888, 0.4177899987124327], [0.21979780091087622, 0.48012585338200914], [0.6688477850887058, -0.08783283749852551], [-0.3243379724030205, 0.3312099814646893], [-0.18645450426356014, 0.150485309679993], [-0.5521585808438269, 0.028891781654075178], [0.1850753249911779, 0.5789634882504009], [-0.5810674876200954, 0.10583683075043433], [-0.20835174801118317, -0.05859486722959816], [-0.19967295689696812, 0.006401158105055958]], \"data06\": [[0.024321556579621102, 0.958609271523179, 0.9126195732155998, 0.8666298749080207, 0.8206401766004416, 0.7746504782928625]], \"data07\": [[0.00896057347670251, 0.745523669364729], [0.22111415130568354, 0.745523669364729], [0.22367431515617, 0.745523669364729], [0.22367431515617, 0.7516556291390729], [0.22367431515617, 0.9785381407897964], [0.22367431515617, 0.9846701005641403], [0.22111415130568354, 0.9846701005641403], [0.00896057347670251, 0.9846701005641403], [0.006400409626216075, 0.9846701005641403], [0.006400409626216075, 0.9785381407897964], [0.006400409626216075, 0.7516556291390729], [0.006400409626216075, 0.745523669364729], [0.00896057347670251, 0.745523669364729]]}, \"id\": \"el135140643317499944\", \"plugins\": [{\"type\": \"reset\"}, {\"type\": \"zoom\", \"button\": true, \"enabled\": false}, {\"type\": \"boxzoom\", \"button\": true, \"enabled\": false}, {\"type\": \"htmltooltip\", \"id\": \"el135140643323378096pts\", \"labels\": [\"Singin' in the Rain\", \"The Good, the Bad and the Ugly\", \"Annie Hall\", \"Nashville\"], \"hoffset\": 10, \"voffset\": 10}, {\"type\": \"toptoolbar\"}, {\"type\": \"htmltooltip\", \"id\": \"el135140643305817424pts\", \"labels\": [\"The Shawshank Redemption\", \"Schindler's List\", \"Casablanca\", \"Lawrence of Arabia\", \"Star Wars\", \"2001: A Space Odyssey\", \"The Bridge on the River Kwai\", \"Dr. Strangelove or: How I Learned to Stop Worrying and Love the Bomb\", \"Apocalypse Now\", \"The Lord of the Rings: The Return of the King\", \"Gladiator\", \"From Here to Eternity\", \"Saving Private Ryan\", \"Unforgiven\", \"Raiders of the Lost Ark\", \"Patton\", \"Jaws\", \"Butch Cassidy and the Sundance Kid\", \"The Treasure of the Sierra Madre\", \"Platoon\", \"Dances with Wolves\", \"The Deer Hunter\", \"All Quiet on the Western Front\", \"Shane\", \"The Green Mile\", \"Close Encounters of the Third Kind\", \"The African Queen\", \"Stagecoach\", \"Mutiny on the Bounty\"], \"hoffset\": 10, \"voffset\": 10}, {\"type\": \"toptoolbar\"}, {\"type\": \"htmltooltip\", \"id\": \"el135140643323375800pts\", \"labels\": [\"The Godfather\", \"Gone with the Wind\", \"The Wizard of Oz\", \"Sunset Blvd.\", \"Forrest Gump\", \"The Sound of Music\", \"Chinatown\", \"Amadeus\", \"A Streetcar Named Desire\", \"The Best Years of Our Lives\", \"Doctor Zhivago\", \"Braveheart\", \"The Pianist\", \"Goodfellas\", \"City Lights\", \"It Happened One Night\", \"Out of Africa\", \"Fargo\", \"Giant\", \"The Grapes of Wrath\", \"American Graffiti\", \"Pulp Fiction\", \"The Maltese Falcon\", \"Double Indemnity\", \"Rebel Without a Cause\", \"Yankee Doodle Dandy\"], \"hoffset\": 10, \"voffset\": 10}, {\"type\": \"toptoolbar\"}, {\"type\": \"htmltooltip\", \"id\": \"el135140643305793128pts\", \"labels\": [\"It's a Wonderful Life\", \"The Philadelphia Story\", \"An American in Paris\", \"The King's Speech\", \"A Place in the Sun\", \"Tootsie\"], \"hoffset\": 10, \"voffset\": 10}, {\"type\": \"toptoolbar\"}, {\"type\": \"htmltooltip\", \"id\": \"el135140643319957656pts\", \"labels\": [\"Raging Bull\", \"One Flew Over the Cuckoo's Nest\", \"Citizen Kane\", \"Titanic\", \"The Godfather: Part II\", \"Psycho\", \"Vertigo\", \"On the Waterfront\", \"West Side Story\", \"E.T. the Extra-Terrestrial\", \"The Silence of the Lambs\", \"Some Like It Hot\", \"12 Angry Men\", \"Gandhi\", \"Rocky\", \"To Kill a Mockingbird\", \"My Fair Lady\", \"Ben-Hur\", \"The Apartment\", \"High Noon\", \"The Exorcist\", \"The French Connection\", \"Midnight Cowboy\", \"Mr. Smith Goes to Washington\", \"Rain Man\", \"Good Will Hunting\", \"Terms of Endearment\", \"Network\", \"The Graduate\", \"A Clockwork Orange\", \"Taxi Driver\", \"Wuthering Heights\", \"Rear Window\", \"The Third Man\", \"North by Northwest\"], \"hoffset\": 10, \"voffset\": 10}, {\"type\": \"toptoolbar\"}]});\n",
              "      });\n",
              "    });\n",
              "}else{\n",
              "    // require.js not available: dynamically load d3 & mpld3\n",
              "    mpld3_load_lib(\"https://mpld3.github.io/js/d3.v3.min.js\", function(){\n",
              "         mpld3_load_lib(\"https://mpld3.github.io/js/mpld3.v0.3.js\", function(){\n",
              "                 \n",
              "    mpld3.register_plugin(\"htmltooltip\", HtmlTooltipPlugin);\n",
              "    HtmlTooltipPlugin.prototype = Object.create(mpld3.Plugin.prototype);\n",
              "    HtmlTooltipPlugin.prototype.constructor = HtmlTooltipPlugin;\n",
              "    HtmlTooltipPlugin.prototype.requiredProps = [\"id\"];\n",
              "    HtmlTooltipPlugin.prototype.defaultProps = {labels:null,\n",
              "                                                hoffset:0,\n",
              "                                                voffset:10};\n",
              "    function HtmlTooltipPlugin(fig, props){\n",
              "        mpld3.Plugin.call(this, fig, props);\n",
              "    };\n",
              "\n",
              "    HtmlTooltipPlugin.prototype.draw = function(){\n",
              "       var obj = mpld3.get_element(this.props.id);\n",
              "       var labels = this.props.labels;\n",
              "       var tooltip = d3.select(\"body\").append(\"div\")\n",
              "                    .attr(\"class\", \"mpld3-tooltip\")\n",
              "                    .style(\"position\", \"absolute\")\n",
              "                    .style(\"z-index\", \"10\")\n",
              "                    .style(\"visibility\", \"hidden\");\n",
              "\n",
              "       obj.elements()\n",
              "           .on(\"mouseover\", function(d, i){\n",
              "                              tooltip.html(labels[i])\n",
              "                                     .style(\"visibility\", \"visible\");})\n",
              "           .on(\"mousemove\", function(d, i){\n",
              "                  tooltip\n",
              "                    .style(\"top\", d3.event.pageY + this.props.voffset + \"px\")\n",
              "                    .style(\"left\",d3.event.pageX + this.props.hoffset + \"px\");\n",
              "                 }.bind(this))\n",
              "           .on(\"mouseout\",  function(d, i){\n",
              "                           tooltip.style(\"visibility\", \"hidden\");});\n",
              "    };\n",
              "    \n",
              "    mpld3.register_plugin(\"toptoolbar\", TopToolbar);\n",
              "    TopToolbar.prototype = Object.create(mpld3.Plugin.prototype);\n",
              "    TopToolbar.prototype.constructor = TopToolbar;\n",
              "    function TopToolbar(fig, props){\n",
              "        mpld3.Plugin.call(this, fig, props);\n",
              "    };\n",
              "\n",
              "    TopToolbar.prototype.draw = function(){\n",
              "      // the toolbar svg doesn't exist\n",
              "      // yet, so first draw it\n",
              "      this.fig.toolbar.draw();\n",
              "\n",
              "      // then change the y position to be\n",
              "      // at the top of the figure\n",
              "      this.fig.toolbar.toolbar.attr(\"x\", 150);\n",
              "      this.fig.toolbar.toolbar.attr(\"y\", 400);\n",
              "\n",
              "      // then remove the draw function,\n",
              "      // so that it is not called again\n",
              "      this.fig.toolbar.draw = function() {}\n",
              "    }\n",
              "    \n",
              "    mpld3.register_plugin(\"htmltooltip\", HtmlTooltipPlugin);\n",
              "    HtmlTooltipPlugin.prototype = Object.create(mpld3.Plugin.prototype);\n",
              "    HtmlTooltipPlugin.prototype.constructor = HtmlTooltipPlugin;\n",
              "    HtmlTooltipPlugin.prototype.requiredProps = [\"id\"];\n",
              "    HtmlTooltipPlugin.prototype.defaultProps = {labels:null,\n",
              "                                                hoffset:0,\n",
              "                                                voffset:10};\n",
              "    function HtmlTooltipPlugin(fig, props){\n",
              "        mpld3.Plugin.call(this, fig, props);\n",
              "    };\n",
              "\n",
              "    HtmlTooltipPlugin.prototype.draw = function(){\n",
              "       var obj = mpld3.get_element(this.props.id);\n",
              "       var labels = this.props.labels;\n",
              "       var tooltip = d3.select(\"body\").append(\"div\")\n",
              "                    .attr(\"class\", \"mpld3-tooltip\")\n",
              "                    .style(\"position\", \"absolute\")\n",
              "                    .style(\"z-index\", \"10\")\n",
              "                    .style(\"visibility\", \"hidden\");\n",
              "\n",
              "       obj.elements()\n",
              "           .on(\"mouseover\", function(d, i){\n",
              "                              tooltip.html(labels[i])\n",
              "                                     .style(\"visibility\", \"visible\");})\n",
              "           .on(\"mousemove\", function(d, i){\n",
              "                  tooltip\n",
              "                    .style(\"top\", d3.event.pageY + this.props.voffset + \"px\")\n",
              "                    .style(\"left\",d3.event.pageX + this.props.hoffset + \"px\");\n",
              "                 }.bind(this))\n",
              "           .on(\"mouseout\",  function(d, i){\n",
              "                           tooltip.style(\"visibility\", \"hidden\");});\n",
              "    };\n",
              "    \n",
              "    mpld3.register_plugin(\"toptoolbar\", TopToolbar);\n",
              "    TopToolbar.prototype = Object.create(mpld3.Plugin.prototype);\n",
              "    TopToolbar.prototype.constructor = TopToolbar;\n",
              "    function TopToolbar(fig, props){\n",
              "        mpld3.Plugin.call(this, fig, props);\n",
              "    };\n",
              "\n",
              "    TopToolbar.prototype.draw = function(){\n",
              "      // the toolbar svg doesn't exist\n",
              "      // yet, so first draw it\n",
              "      this.fig.toolbar.draw();\n",
              "\n",
              "      // then change the y position to be\n",
              "      // at the top of the figure\n",
              "      this.fig.toolbar.toolbar.attr(\"x\", 150);\n",
              "      this.fig.toolbar.toolbar.attr(\"y\", 400);\n",
              "\n",
              "      // then remove the draw function,\n",
              "      // so that it is not called again\n",
              "      this.fig.toolbar.draw = function() {}\n",
              "    }\n",
              "    \n",
              "    mpld3.register_plugin(\"htmltooltip\", HtmlTooltipPlugin);\n",
              "    HtmlTooltipPlugin.prototype = Object.create(mpld3.Plugin.prototype);\n",
              "    HtmlTooltipPlugin.prototype.constructor = HtmlTooltipPlugin;\n",
              "    HtmlTooltipPlugin.prototype.requiredProps = [\"id\"];\n",
              "    HtmlTooltipPlugin.prototype.defaultProps = {labels:null,\n",
              "                                                hoffset:0,\n",
              "                                                voffset:10};\n",
              "    function HtmlTooltipPlugin(fig, props){\n",
              "        mpld3.Plugin.call(this, fig, props);\n",
              "    };\n",
              "\n",
              "    HtmlTooltipPlugin.prototype.draw = function(){\n",
              "       var obj = mpld3.get_element(this.props.id);\n",
              "       var labels = this.props.labels;\n",
              "       var tooltip = d3.select(\"body\").append(\"div\")\n",
              "                    .attr(\"class\", \"mpld3-tooltip\")\n",
              "                    .style(\"position\", \"absolute\")\n",
              "                    .style(\"z-index\", \"10\")\n",
              "                    .style(\"visibility\", \"hidden\");\n",
              "\n",
              "       obj.elements()\n",
              "           .on(\"mouseover\", function(d, i){\n",
              "                              tooltip.html(labels[i])\n",
              "                                     .style(\"visibility\", \"visible\");})\n",
              "           .on(\"mousemove\", function(d, i){\n",
              "                  tooltip\n",
              "                    .style(\"top\", d3.event.pageY + this.props.voffset + \"px\")\n",
              "                    .style(\"left\",d3.event.pageX + this.props.hoffset + \"px\");\n",
              "                 }.bind(this))\n",
              "           .on(\"mouseout\",  function(d, i){\n",
              "                           tooltip.style(\"visibility\", \"hidden\");});\n",
              "    };\n",
              "    \n",
              "    mpld3.register_plugin(\"toptoolbar\", TopToolbar);\n",
              "    TopToolbar.prototype = Object.create(mpld3.Plugin.prototype);\n",
              "    TopToolbar.prototype.constructor = TopToolbar;\n",
              "    function TopToolbar(fig, props){\n",
              "        mpld3.Plugin.call(this, fig, props);\n",
              "    };\n",
              "\n",
              "    TopToolbar.prototype.draw = function(){\n",
              "      // the toolbar svg doesn't exist\n",
              "      // yet, so first draw it\n",
              "      this.fig.toolbar.draw();\n",
              "\n",
              "      // then change the y position to be\n",
              "      // at the top of the figure\n",
              "      this.fig.toolbar.toolbar.attr(\"x\", 150);\n",
              "      this.fig.toolbar.toolbar.attr(\"y\", 400);\n",
              "\n",
              "      // then remove the draw function,\n",
              "      // so that it is not called again\n",
              "      this.fig.toolbar.draw = function() {}\n",
              "    }\n",
              "    \n",
              "    mpld3.register_plugin(\"htmltooltip\", HtmlTooltipPlugin);\n",
              "    HtmlTooltipPlugin.prototype = Object.create(mpld3.Plugin.prototype);\n",
              "    HtmlTooltipPlugin.prototype.constructor = HtmlTooltipPlugin;\n",
              "    HtmlTooltipPlugin.prototype.requiredProps = [\"id\"];\n",
              "    HtmlTooltipPlugin.prototype.defaultProps = {labels:null,\n",
              "                                                hoffset:0,\n",
              "                                                voffset:10};\n",
              "    function HtmlTooltipPlugin(fig, props){\n",
              "        mpld3.Plugin.call(this, fig, props);\n",
              "    };\n",
              "\n",
              "    HtmlTooltipPlugin.prototype.draw = function(){\n",
              "       var obj = mpld3.get_element(this.props.id);\n",
              "       var labels = this.props.labels;\n",
              "       var tooltip = d3.select(\"body\").append(\"div\")\n",
              "                    .attr(\"class\", \"mpld3-tooltip\")\n",
              "                    .style(\"position\", \"absolute\")\n",
              "                    .style(\"z-index\", \"10\")\n",
              "                    .style(\"visibility\", \"hidden\");\n",
              "\n",
              "       obj.elements()\n",
              "           .on(\"mouseover\", function(d, i){\n",
              "                              tooltip.html(labels[i])\n",
              "                                     .style(\"visibility\", \"visible\");})\n",
              "           .on(\"mousemove\", function(d, i){\n",
              "                  tooltip\n",
              "                    .style(\"top\", d3.event.pageY + this.props.voffset + \"px\")\n",
              "                    .style(\"left\",d3.event.pageX + this.props.hoffset + \"px\");\n",
              "                 }.bind(this))\n",
              "           .on(\"mouseout\",  function(d, i){\n",
              "                           tooltip.style(\"visibility\", \"hidden\");});\n",
              "    };\n",
              "    \n",
              "    mpld3.register_plugin(\"toptoolbar\", TopToolbar);\n",
              "    TopToolbar.prototype = Object.create(mpld3.Plugin.prototype);\n",
              "    TopToolbar.prototype.constructor = TopToolbar;\n",
              "    function TopToolbar(fig, props){\n",
              "        mpld3.Plugin.call(this, fig, props);\n",
              "    };\n",
              "\n",
              "    TopToolbar.prototype.draw = function(){\n",
              "      // the toolbar svg doesn't exist\n",
              "      // yet, so first draw it\n",
              "      this.fig.toolbar.draw();\n",
              "\n",
              "      // then change the y position to be\n",
              "      // at the top of the figure\n",
              "      this.fig.toolbar.toolbar.attr(\"x\", 150);\n",
              "      this.fig.toolbar.toolbar.attr(\"y\", 400);\n",
              "\n",
              "      // then remove the draw function,\n",
              "      // so that it is not called again\n",
              "      this.fig.toolbar.draw = function() {}\n",
              "    }\n",
              "    \n",
              "    mpld3.register_plugin(\"htmltooltip\", HtmlTooltipPlugin);\n",
              "    HtmlTooltipPlugin.prototype = Object.create(mpld3.Plugin.prototype);\n",
              "    HtmlTooltipPlugin.prototype.constructor = HtmlTooltipPlugin;\n",
              "    HtmlTooltipPlugin.prototype.requiredProps = [\"id\"];\n",
              "    HtmlTooltipPlugin.prototype.defaultProps = {labels:null,\n",
              "                                                hoffset:0,\n",
              "                                                voffset:10};\n",
              "    function HtmlTooltipPlugin(fig, props){\n",
              "        mpld3.Plugin.call(this, fig, props);\n",
              "    };\n",
              "\n",
              "    HtmlTooltipPlugin.prototype.draw = function(){\n",
              "       var obj = mpld3.get_element(this.props.id);\n",
              "       var labels = this.props.labels;\n",
              "       var tooltip = d3.select(\"body\").append(\"div\")\n",
              "                    .attr(\"class\", \"mpld3-tooltip\")\n",
              "                    .style(\"position\", \"absolute\")\n",
              "                    .style(\"z-index\", \"10\")\n",
              "                    .style(\"visibility\", \"hidden\");\n",
              "\n",
              "       obj.elements()\n",
              "           .on(\"mouseover\", function(d, i){\n",
              "                              tooltip.html(labels[i])\n",
              "                                     .style(\"visibility\", \"visible\");})\n",
              "           .on(\"mousemove\", function(d, i){\n",
              "                  tooltip\n",
              "                    .style(\"top\", d3.event.pageY + this.props.voffset + \"px\")\n",
              "                    .style(\"left\",d3.event.pageX + this.props.hoffset + \"px\");\n",
              "                 }.bind(this))\n",
              "           .on(\"mouseout\",  function(d, i){\n",
              "                           tooltip.style(\"visibility\", \"hidden\");});\n",
              "    };\n",
              "    \n",
              "    mpld3.register_plugin(\"toptoolbar\", TopToolbar);\n",
              "    TopToolbar.prototype = Object.create(mpld3.Plugin.prototype);\n",
              "    TopToolbar.prototype.constructor = TopToolbar;\n",
              "    function TopToolbar(fig, props){\n",
              "        mpld3.Plugin.call(this, fig, props);\n",
              "    };\n",
              "\n",
              "    TopToolbar.prototype.draw = function(){\n",
              "      // the toolbar svg doesn't exist\n",
              "      // yet, so first draw it\n",
              "      this.fig.toolbar.draw();\n",
              "\n",
              "      // then change the y position to be\n",
              "      // at the top of the figure\n",
              "      this.fig.toolbar.toolbar.attr(\"x\", 150);\n",
              "      this.fig.toolbar.toolbar.attr(\"y\", 400);\n",
              "\n",
              "      // then remove the draw function,\n",
              "      // so that it is not called again\n",
              "      this.fig.toolbar.draw = function() {}\n",
              "    }\n",
              "    \n",
              "                 mpld3.draw_figure(\"fig_el1351406433174999446116386375\", {\"width\": 1008.0, \"height\": 432.0, \"axes\": [{\"bbox\": [0.125, 0.125, 0.775, 0.755], \"xlim\": [-0.7022446245855734, 0.7098314809788802], \"ylim\": [-0.7081718721860418, 0.6939226674565514], \"xdomain\": [-0.7022446245855734, 0.7098314809788802], \"ydomain\": [-0.7081718721860418, 0.6939226674565514], \"xscale\": \"linear\", \"yscale\": \"linear\", \"axes\": [{\"position\": \"bottom\", \"nticks\": 0, \"tickvalues\": [], \"tickformat\": \"\", \"scale\": \"linear\", \"fontsize\": null, \"grid\": {\"gridOn\": false}, \"visible\": false}, {\"position\": \"left\", \"nticks\": 0, \"tickvalues\": [], \"tickformat\": \"\", \"scale\": \"linear\", \"fontsize\": null, \"grid\": {\"gridOn\": false}, \"visible\": false}], \"axesbg\": \"#FFFFFF\", \"axesbgalpha\": null, \"zoomable\": true, \"id\": \"el135140643317978672\", \"lines\": [], \"paths\": [{\"data\": \"data07\", \"xindex\": 0, \"yindex\": 1, \"coordinates\": \"axes\", \"pathcodes\": [\"M\", \"L\", \"S\", \"L\", \"S\", \"L\", \"S\", \"L\", \"S\", \"Z\"], \"id\": \"el135140643305817144\", \"dasharray\": \"none\", \"alpha\": 0.8, \"facecolor\": \"#FFFFFF\", \"edgecolor\": \"#CCCCCC\", \"edgewidth\": 1.0, \"zorder\": 1000000.0}], \"markers\": [{\"data\": \"data01\", \"xindex\": 0, \"yindex\": 1, \"coordinates\": \"data\", \"id\": \"el135140643323378096pts\", \"facecolor\": \"#1B9E77\", \"edgecolor\": \"none\", \"edgewidth\": 1.0, \"alpha\": 1, \"zorder\": 2, \"markerpath\": [[[0.0, 9.0], [2.3868279, 9.0], [4.676218837063681, 8.051703224294176], [6.3639610306789285, 6.3639610306789285], [8.051703224294176, 4.676218837063681], [9.0, 2.3868279], [9.0, 0.0], [9.0, -2.3868279], [8.051703224294176, -4.676218837063681], [6.3639610306789285, -6.3639610306789285], [4.676218837063681, -8.051703224294176], [2.3868279, -9.0], [0.0, -9.0], [-2.3868279, -9.0], [-4.676218837063681, -8.051703224294176], [-6.3639610306789285, -6.3639610306789285], [-8.051703224294176, -4.676218837063681], [-9.0, -2.3868279], [-9.0, 0.0], [-9.0, 2.3868279], [-8.051703224294176, 4.676218837063681], [-6.3639610306789285, 6.3639610306789285], [-4.676218837063681, 8.051703224294176], [-2.3868279, 9.0], [0.0, 9.0]], [\"M\", \"C\", \"C\", \"C\", \"C\", \"C\", \"C\", \"C\", \"C\", \"Z\"]]}, {\"data\": \"data02\", \"xindex\": 0, \"yindex\": 1, \"coordinates\": \"data\", \"id\": \"el135140643305817424pts\", \"facecolor\": \"#D95F02\", \"edgecolor\": \"none\", \"edgewidth\": 1.0, \"alpha\": 1, \"zorder\": 2, \"markerpath\": [[[0.0, 9.0], [2.3868279, 9.0], [4.676218837063681, 8.051703224294176], [6.3639610306789285, 6.3639610306789285], [8.051703224294176, 4.676218837063681], [9.0, 2.3868279], [9.0, 0.0], [9.0, -2.3868279], [8.051703224294176, -4.676218837063681], [6.3639610306789285, -6.3639610306789285], [4.676218837063681, -8.051703224294176], [2.3868279, -9.0], [0.0, -9.0], [-2.3868279, -9.0], [-4.676218837063681, -8.051703224294176], [-6.3639610306789285, -6.3639610306789285], [-8.051703224294176, -4.676218837063681], [-9.0, -2.3868279], [-9.0, 0.0], [-9.0, 2.3868279], [-8.051703224294176, 4.676218837063681], [-6.3639610306789285, 6.3639610306789285], [-4.676218837063681, 8.051703224294176], [-2.3868279, 9.0], [0.0, 9.0]], [\"M\", \"C\", \"C\", \"C\", \"C\", \"C\", \"C\", \"C\", \"C\", \"Z\"]]}, {\"data\": \"data03\", \"xindex\": 0, \"yindex\": 1, \"coordinates\": \"data\", \"id\": \"el135140643323375800pts\", \"facecolor\": \"#7570B3\", \"edgecolor\": \"none\", \"edgewidth\": 1.0, \"alpha\": 1, \"zorder\": 2, \"markerpath\": [[[0.0, 9.0], [2.3868279, 9.0], [4.676218837063681, 8.051703224294176], [6.3639610306789285, 6.3639610306789285], [8.051703224294176, 4.676218837063681], [9.0, 2.3868279], [9.0, 0.0], [9.0, -2.3868279], [8.051703224294176, -4.676218837063681], [6.3639610306789285, -6.3639610306789285], [4.676218837063681, -8.051703224294176], [2.3868279, -9.0], [0.0, -9.0], [-2.3868279, -9.0], [-4.676218837063681, -8.051703224294176], [-6.3639610306789285, -6.3639610306789285], [-8.051703224294176, -4.676218837063681], [-9.0, -2.3868279], [-9.0, 0.0], [-9.0, 2.3868279], [-8.051703224294176, 4.676218837063681], [-6.3639610306789285, 6.3639610306789285], [-4.676218837063681, 8.051703224294176], [-2.3868279, 9.0], [0.0, 9.0]], [\"M\", \"C\", \"C\", \"C\", \"C\", \"C\", \"C\", \"C\", \"C\", \"Z\"]]}, {\"data\": \"data04\", \"xindex\": 0, \"yindex\": 1, \"coordinates\": \"data\", \"id\": \"el135140643305793128pts\", \"facecolor\": \"#E7298A\", \"edgecolor\": \"none\", \"edgewidth\": 1.0, \"alpha\": 1, \"zorder\": 2, \"markerpath\": [[[0.0, 9.0], [2.3868279, 9.0], [4.676218837063681, 8.051703224294176], [6.3639610306789285, 6.3639610306789285], [8.051703224294176, 4.676218837063681], [9.0, 2.3868279], [9.0, 0.0], [9.0, -2.3868279], [8.051703224294176, -4.676218837063681], [6.3639610306789285, -6.3639610306789285], [4.676218837063681, -8.051703224294176], [2.3868279, -9.0], [0.0, -9.0], [-2.3868279, -9.0], [-4.676218837063681, -8.051703224294176], [-6.3639610306789285, -6.3639610306789285], [-8.051703224294176, -4.676218837063681], [-9.0, -2.3868279], [-9.0, 0.0], [-9.0, 2.3868279], [-8.051703224294176, 4.676218837063681], [-6.3639610306789285, 6.3639610306789285], [-4.676218837063681, 8.051703224294176], [-2.3868279, 9.0], [0.0, 9.0]], [\"M\", \"C\", \"C\", \"C\", \"C\", \"C\", \"C\", \"C\", \"C\", \"Z\"]]}, {\"data\": \"data05\", \"xindex\": 0, \"yindex\": 1, \"coordinates\": \"data\", \"id\": \"el135140643319957656pts\", \"facecolor\": \"#66A61E\", \"edgecolor\": \"none\", \"edgewidth\": 1.0, \"alpha\": 1, \"zorder\": 2, \"markerpath\": [[[0.0, 9.0], [2.3868279, 9.0], [4.676218837063681, 8.051703224294176], [6.3639610306789285, 6.3639610306789285], [8.051703224294176, 4.676218837063681], [9.0, 2.3868279], [9.0, 0.0], [9.0, -2.3868279], [8.051703224294176, -4.676218837063681], [6.3639610306789285, -6.3639610306789285], [4.676218837063681, -8.051703224294176], [2.3868279, -9.0], [0.0, -9.0], [-2.3868279, -9.0], [-4.676218837063681, -8.051703224294176], [-6.3639610306789285, -6.3639610306789285], [-8.051703224294176, -4.676218837063681], [-9.0, -2.3868279], [-9.0, 0.0], [-9.0, 2.3868279], [-8.051703224294176, 4.676218837063681], [-6.3639610306789285, 6.3639610306789285], [-4.676218837063681, 8.051703224294176], [-2.3868279, 9.0], [0.0, 9.0]], [\"M\", \"C\", \"C\", \"C\", \"C\", \"C\", \"C\", \"C\", \"C\", \"Z\"]]}, {\"data\": \"data06\", \"xindex\": 0, \"yindex\": 1, \"coordinates\": \"axes\", \"id\": \"el135140643305829096pts\", \"facecolor\": \"#1B9E77\", \"edgecolor\": \"none\", \"edgewidth\": 1.0, \"alpha\": 1, \"zorder\": 1000002.0, \"markerpath\": [[[0.0, 9.0], [2.3868279, 9.0], [4.676218837063681, 8.051703224294176], [6.3639610306789285, 6.3639610306789285], [8.051703224294176, 4.676218837063681], [9.0, 2.3868279], [9.0, 0.0], [9.0, -2.3868279], [8.051703224294176, -4.676218837063681], [6.3639610306789285, -6.3639610306789285], [4.676218837063681, -8.051703224294176], [2.3868279, -9.0], [0.0, -9.0], [-2.3868279, -9.0], [-4.676218837063681, -8.051703224294176], [-6.3639610306789285, -6.3639610306789285], [-8.051703224294176, -4.676218837063681], [-9.0, -2.3868279], [-9.0, 0.0], [-9.0, 2.3868279], [-8.051703224294176, 4.676218837063681], [-6.3639610306789285, 6.3639610306789285], [-4.676218837063681, 8.051703224294176], [-2.3868279, 9.0], [0.0, 9.0]], [\"M\", \"C\", \"C\", \"C\", \"C\", \"C\", \"C\", \"C\", \"C\", \"Z\"]]}, {\"data\": \"data06\", \"xindex\": 0, \"yindex\": 2, \"coordinates\": \"axes\", \"id\": \"el135140643305830160pts\", \"facecolor\": \"#D95F02\", \"edgecolor\": \"none\", \"edgewidth\": 1.0, \"alpha\": 1, \"zorder\": 1000002.0, \"markerpath\": [[[0.0, 9.0], [2.3868279, 9.0], [4.676218837063681, 8.051703224294176], [6.3639610306789285, 6.3639610306789285], [8.051703224294176, 4.676218837063681], [9.0, 2.3868279], [9.0, 0.0], [9.0, -2.3868279], [8.051703224294176, -4.676218837063681], [6.3639610306789285, -6.3639610306789285], [4.676218837063681, -8.051703224294176], [2.3868279, -9.0], [0.0, -9.0], [-2.3868279, -9.0], [-4.676218837063681, -8.051703224294176], [-6.3639610306789285, -6.3639610306789285], [-8.051703224294176, -4.676218837063681], [-9.0, -2.3868279], [-9.0, 0.0], [-9.0, 2.3868279], [-8.051703224294176, 4.676218837063681], [-6.3639610306789285, 6.3639610306789285], [-4.676218837063681, 8.051703224294176], [-2.3868279, 9.0], [0.0, 9.0]], [\"M\", \"C\", \"C\", \"C\", \"C\", \"C\", \"C\", \"C\", \"C\", \"Z\"]]}, {\"data\": \"data06\", \"xindex\": 0, \"yindex\": 3, \"coordinates\": \"axes\", \"id\": \"el135140643305465952pts\", \"facecolor\": \"#7570B3\", \"edgecolor\": \"none\", \"edgewidth\": 1.0, \"alpha\": 1, \"zorder\": 1000002.0, \"markerpath\": [[[0.0, 9.0], [2.3868279, 9.0], [4.676218837063681, 8.051703224294176], [6.3639610306789285, 6.3639610306789285], [8.051703224294176, 4.676218837063681], [9.0, 2.3868279], [9.0, 0.0], [9.0, -2.3868279], [8.051703224294176, -4.676218837063681], [6.3639610306789285, -6.3639610306789285], [4.676218837063681, -8.051703224294176], [2.3868279, -9.0], [0.0, -9.0], [-2.3868279, -9.0], [-4.676218837063681, -8.051703224294176], [-6.3639610306789285, -6.3639610306789285], [-8.051703224294176, -4.676218837063681], [-9.0, -2.3868279], [-9.0, 0.0], [-9.0, 2.3868279], [-8.051703224294176, 4.676218837063681], [-6.3639610306789285, 6.3639610306789285], [-4.676218837063681, 8.051703224294176], [-2.3868279, 9.0], [0.0, 9.0]], [\"M\", \"C\", \"C\", \"C\", \"C\", \"C\", \"C\", \"C\", \"C\", \"Z\"]]}, {\"data\": \"data06\", \"xindex\": 0, \"yindex\": 4, \"coordinates\": \"axes\", \"id\": \"el135140643305465672pts\", \"facecolor\": \"#E7298A\", \"edgecolor\": \"none\", \"edgewidth\": 1.0, \"alpha\": 1, \"zorder\": 1000002.0, \"markerpath\": [[[0.0, 9.0], [2.3868279, 9.0], [4.676218837063681, 8.051703224294176], [6.3639610306789285, 6.3639610306789285], [8.051703224294176, 4.676218837063681], [9.0, 2.3868279], [9.0, 0.0], [9.0, -2.3868279], [8.051703224294176, -4.676218837063681], [6.3639610306789285, -6.3639610306789285], [4.676218837063681, -8.051703224294176], [2.3868279, -9.0], [0.0, -9.0], [-2.3868279, -9.0], [-4.676218837063681, -8.051703224294176], [-6.3639610306789285, -6.3639610306789285], [-8.051703224294176, -4.676218837063681], [-9.0, -2.3868279], [-9.0, 0.0], [-9.0, 2.3868279], [-8.051703224294176, 4.676218837063681], [-6.3639610306789285, 6.3639610306789285], [-4.676218837063681, 8.051703224294176], [-2.3868279, 9.0], [0.0, 9.0]], [\"M\", \"C\", \"C\", \"C\", \"C\", \"C\", \"C\", \"C\", \"C\", \"Z\"]]}, {\"data\": \"data06\", \"xindex\": 0, \"yindex\": 5, \"coordinates\": \"axes\", \"id\": \"el135140643305463992pts\", \"facecolor\": \"#66A61E\", \"edgecolor\": \"none\", \"edgewidth\": 1.0, \"alpha\": 1, \"zorder\": 1000002.0, \"markerpath\": [[[0.0, 9.0], [2.3868279, 9.0], [4.676218837063681, 8.051703224294176], [6.3639610306789285, 6.3639610306789285], [8.051703224294176, 4.676218837063681], [9.0, 2.3868279], [9.0, 0.0], [9.0, -2.3868279], [8.051703224294176, -4.676218837063681], [6.3639610306789285, -6.3639610306789285], [4.676218837063681, -8.051703224294176], [2.3868279, -9.0], [0.0, -9.0], [-2.3868279, -9.0], [-4.676218837063681, -8.051703224294176], [-6.3639610306789285, -6.3639610306789285], [-8.051703224294176, -4.676218837063681], [-9.0, -2.3868279], [-9.0, 0.0], [-9.0, 2.3868279], [-8.051703224294176, 4.676218837063681], [-6.3639610306789285, 6.3639610306789285], [-4.676218837063681, 8.051703224294176], [-2.3868279, 9.0], [0.0, 9.0]], [\"M\", \"C\", \"C\", \"C\", \"C\", \"C\", \"C\", \"C\", \"C\", \"Z\"]]}], \"texts\": [{\"text\": \"Family, home, war\", \"position\": [0.04736303123399899, 0.9478783419180772], \"coordinates\": \"axes\", \"h_anchor\": \"start\", \"v_baseline\": \"auto\", \"rotation\": -0.0, \"fontsize\": 10.0, \"color\": \"#000000\", \"alpha\": 1, \"zorder\": 1000003.0, \"id\": \"el135140643305829936\"}, {\"text\": \"Police, killed, murders\", \"position\": [0.04736303123399899, 0.901888643610498], \"coordinates\": \"axes\", \"h_anchor\": \"start\", \"v_baseline\": \"auto\", \"rotation\": -0.0, \"fontsize\": 10.0, \"color\": \"#000000\", \"alpha\": 1, \"zorder\": 1000003.0, \"id\": \"el135140643305829432\"}, {\"text\": \"Father, New York, brothers\", \"position\": [0.04736303123399899, 0.8558989453029189], \"coordinates\": \"axes\", \"h_anchor\": \"start\", \"v_baseline\": \"auto\", \"rotation\": -0.0, \"fontsize\": 10.0, \"color\": \"#000000\", \"alpha\": 1, \"zorder\": 1000003.0, \"id\": \"el135140643305464832\"}, {\"text\": \"Dance, singing, love\", \"position\": [0.04736303123399899, 0.8099092469953398], \"coordinates\": \"axes\", \"h_anchor\": \"start\", \"v_baseline\": \"auto\", \"rotation\": -0.0, \"fontsize\": 10.0, \"color\": \"#000000\", \"alpha\": 1, \"zorder\": 1000003.0, \"id\": \"el135140643305466344\"}, {\"text\": \"Killed, soldiers, captain\", \"position\": [0.04736303123399899, 0.7639195486877607], \"coordinates\": \"axes\", \"h_anchor\": \"start\", \"v_baseline\": \"auto\", \"rotation\": -0.0, \"fontsize\": 10.0, \"color\": \"#000000\", \"alpha\": 1, \"zorder\": 1000003.0, \"id\": \"el135140643305464776\"}], \"collections\": [], \"images\": [], \"sharex\": [], \"sharey\": []}], \"data\": {\"data01\": [[-0.34166783709147913, 0.6344444329502953], [-0.0697835765252865, 0.5697755231183568], [-0.028860474947472948, 0.6542407465232705], [0.06214704621807539, 0.6101371440051012]], \"data02\": [[0.44206412093578173, -0.27869804841256207], [-0.03159215088404366, -0.45663791320402886], [-0.2587368350262618, -0.26527516559786957], [-0.2509077886527682, -0.5748301691298103], [0.19843842072642093, -0.3892916828503908], [0.3500865831297658, -0.33952163222346426], [-0.0822211719046293, -0.5783371225442145], [-0.016415337094761003, -0.6356033887664564], [0.019707608446931178, -0.6360131358153785], [0.24381678674291052, -0.5041387862290508], [0.08011541418687525, -0.4798779364145004], [-0.1524708594907454, -0.3409184384980287], [-0.020101379300060913, -0.3570984271707861], [-0.15353411958657529, -0.3013348801222534], [-0.22754763513663467, -0.45049222698404334], [0.1287536654528344, -0.6684899512527609], [0.07969434882060063, -0.3889371661029437], [-0.34789814258235424, -0.3258509720117311], [-0.3609008933642027, -0.48196142317941265], [-0.11274056497585859, -0.49926901658843537], [0.18267302179861425, -0.5787625309524596], [-0.0876522433589088, -0.20078309954756865], [-0.18334149000822167, -0.5551280766277863], [-0.551459865435424, 0.3351166974656385], [-0.5674182514385872, -0.35374010333970207], [0.2751629686852379, -0.2942902403479915], [-0.4533760890831642, -0.4451810757043979], [0.3243862951002719, -0.45653595159186383], [0.33498008050466554, -0.6458620573675335]], \"data03\": [[0.1842728439475597, -0.011715611328299623], [0.058399024554247426, -0.04612821871658942], [-0.43458221470796804, -0.29655933230579506], [-0.4301218469327288, 0.28528616015883534], [0.3548063612344581, 0.008230388449868098], [0.5523203950143739, 0.4906695451776374], [-0.5523024142568739, -0.22470452093169108], [0.4157900555927239, 0.4066680050040376], [0.34339799473545496, 0.24588751780959872], [0.31820603526510766, 0.08767290955547546], [0.1607366978752424, -0.11945297477856227], [0.4928973738021543, -0.14112529581269717], [0.1563795065783695, -0.21300821701033482], [0.20869950117396832, 0.06431546201598057], [0.5655872568440865, 0.3427492412662697], [-0.42084558901816005, 0.46273188035729895], [0.12067866743532428, 0.4813363821584589], [-0.3416411136605303, 0.036359351999961084], [0.48195453604347716, 0.008013240019345533], [0.4758882198147056, -0.4358383186309247], [-0.6012517387271848, -0.0418859194691775], [-0.34156011933518005, -0.06836233054197617], [-0.3394231160832892, -0.1511074564578018], [-0.4660099693912445, -0.09927639405993571], [-0.5791042079012638, 0.2903462882632784], [0.6273622875630892, 0.3594269833423288]], \"data04\": [[0.4184044202336738, 0.5850489899951163], [0.6698670628968674, 0.11896605280395367], [-0.20377837648670416, 0.5597732710930737], [0.4020451359180303, 0.49856493148445374], [0.6677334884276219, 0.2695002905230577], [-0.02234991385406897, 0.3387044447457824]], \"data05\": [[-0.13227195754649126, 0.5745384801472381], [0.05822957027256338, 0.256929533865531], [0.011707339999011584, 0.4624485755347979], [0.6037432800571017, -0.3456991338989089], [0.07164980401234082, 0.13140842985205484], [-0.22775176430437058, 0.06867225264698684], [-0.3527560545316662, 0.12706104279951017], [-0.05321665416838313, 0.12337031922670556], [-0.4842963450926421, 0.17299124057611814], [-0.02172250207705443, -0.04277898807708071], [0.5177811917071925, -0.2536618659106638], [-0.17157923142425296, 0.23225249097460976], [0.5307508765954988, 0.1293499548695287], [0.4335012948307977, 0.14567214405204687], [-0.28445673314938785, 0.27573355826080437], [0.21436568495015884, 0.21833323177235375], [-0.19657213727582853, 0.39573854896210925], [0.3442345942883043, -0.13024993477969463], [-0.5962489128496042, 0.19029081995111047], [-0.6622802065035606, -0.20503714364142692], [0.18357552763037874, 0.3029327061666986], [-0.45990623558854987, 0.007717409858540057], [-0.3031164788430419, 0.47587091621770383], [0.6448729810407794, -0.1557495377370637], [-0.18141401157117412, 0.47664757937416014], [0.12564351913288888, 0.4177899987124327], [0.21979780091087622, 0.48012585338200914], [0.6688477850887058, -0.08783283749852551], [-0.3243379724030205, 0.3312099814646893], [-0.18645450426356014, 0.150485309679993], [-0.5521585808438269, 0.028891781654075178], [0.1850753249911779, 0.5789634882504009], [-0.5810674876200954, 0.10583683075043433], [-0.20835174801118317, -0.05859486722959816], [-0.19967295689696812, 0.006401158105055958]], \"data06\": [[0.024321556579621102, 0.958609271523179, 0.9126195732155998, 0.8666298749080207, 0.8206401766004416, 0.7746504782928625]], \"data07\": [[0.00896057347670251, 0.745523669364729], [0.22111415130568354, 0.745523669364729], [0.22367431515617, 0.745523669364729], [0.22367431515617, 0.7516556291390729], [0.22367431515617, 0.9785381407897964], [0.22367431515617, 0.9846701005641403], [0.22111415130568354, 0.9846701005641403], [0.00896057347670251, 0.9846701005641403], [0.006400409626216075, 0.9846701005641403], [0.006400409626216075, 0.9785381407897964], [0.006400409626216075, 0.7516556291390729], [0.006400409626216075, 0.745523669364729], [0.00896057347670251, 0.745523669364729]]}, \"id\": \"el135140643317499944\", \"plugins\": [{\"type\": \"reset\"}, {\"type\": \"zoom\", \"button\": true, \"enabled\": false}, {\"type\": \"boxzoom\", \"button\": true, \"enabled\": false}, {\"type\": \"htmltooltip\", \"id\": \"el135140643323378096pts\", \"labels\": [\"Singin' in the Rain\", \"The Good, the Bad and the Ugly\", \"Annie Hall\", \"Nashville\"], \"hoffset\": 10, \"voffset\": 10}, {\"type\": \"toptoolbar\"}, {\"type\": \"htmltooltip\", \"id\": \"el135140643305817424pts\", \"labels\": [\"The Shawshank Redemption\", \"Schindler's List\", \"Casablanca\", \"Lawrence of Arabia\", \"Star Wars\", \"2001: A Space Odyssey\", \"The Bridge on the River Kwai\", \"Dr. Strangelove or: How I Learned to Stop Worrying and Love the Bomb\", \"Apocalypse Now\", \"The Lord of the Rings: The Return of the King\", \"Gladiator\", \"From Here to Eternity\", \"Saving Private Ryan\", \"Unforgiven\", \"Raiders of the Lost Ark\", \"Patton\", \"Jaws\", \"Butch Cassidy and the Sundance Kid\", \"The Treasure of the Sierra Madre\", \"Platoon\", \"Dances with Wolves\", \"The Deer Hunter\", \"All Quiet on the Western Front\", \"Shane\", \"The Green Mile\", \"Close Encounters of the Third Kind\", \"The African Queen\", \"Stagecoach\", \"Mutiny on the Bounty\"], \"hoffset\": 10, \"voffset\": 10}, {\"type\": \"toptoolbar\"}, {\"type\": \"htmltooltip\", \"id\": \"el135140643323375800pts\", \"labels\": [\"The Godfather\", \"Gone with the Wind\", \"The Wizard of Oz\", \"Sunset Blvd.\", \"Forrest Gump\", \"The Sound of Music\", \"Chinatown\", \"Amadeus\", \"A Streetcar Named Desire\", \"The Best Years of Our Lives\", \"Doctor Zhivago\", \"Braveheart\", \"The Pianist\", \"Goodfellas\", \"City Lights\", \"It Happened One Night\", \"Out of Africa\", \"Fargo\", \"Giant\", \"The Grapes of Wrath\", \"American Graffiti\", \"Pulp Fiction\", \"The Maltese Falcon\", \"Double Indemnity\", \"Rebel Without a Cause\", \"Yankee Doodle Dandy\"], \"hoffset\": 10, \"voffset\": 10}, {\"type\": \"toptoolbar\"}, {\"type\": \"htmltooltip\", \"id\": \"el135140643305793128pts\", \"labels\": [\"It's a Wonderful Life\", \"The Philadelphia Story\", \"An American in Paris\", \"The King's Speech\", \"A Place in the Sun\", \"Tootsie\"], \"hoffset\": 10, \"voffset\": 10}, {\"type\": \"toptoolbar\"}, {\"type\": \"htmltooltip\", \"id\": \"el135140643319957656pts\", \"labels\": [\"Raging Bull\", \"One Flew Over the Cuckoo's Nest\", \"Citizen Kane\", \"Titanic\", \"The Godfather: Part II\", \"Psycho\", \"Vertigo\", \"On the Waterfront\", \"West Side Story\", \"E.T. the Extra-Terrestrial\", \"The Silence of the Lambs\", \"Some Like It Hot\", \"12 Angry Men\", \"Gandhi\", \"Rocky\", \"To Kill a Mockingbird\", \"My Fair Lady\", \"Ben-Hur\", \"The Apartment\", \"High Noon\", \"The Exorcist\", \"The French Connection\", \"Midnight Cowboy\", \"Mr. Smith Goes to Washington\", \"Rain Man\", \"Good Will Hunting\", \"Terms of Endearment\", \"Network\", \"The Graduate\", \"A Clockwork Orange\", \"Taxi Driver\", \"Wuthering Heights\", \"Rear Window\", \"The Third Man\", \"North by Northwest\"], \"hoffset\": 10, \"voffset\": 10}, {\"type\": \"toptoolbar\"}]});\n",
              "            })\n",
              "         });\n",
              "}\n",
              "</script>"
            ],
            "text/plain": [
              "<IPython.core.display.HTML object>"
            ]
          },
          "metadata": {
            "tags": []
          },
          "execution_count": 40
        }
      ]
    },
    {
      "cell_type": "markdown",
      "metadata": {
        "id": "0p0gke4wNmem",
        "colab_type": "text"
      },
      "source": [
        "#Hierarchical document clustering"
      ]
    },
    {
      "cell_type": "code",
      "metadata": {
        "id": "cEqu9074Nmem",
        "colab_type": "code",
        "outputId": "b7d988c1-781a-4b4f-a58f-3732eb600e5c",
        "colab": {
          "base_uri": "https://localhost:8080/",
          "height": 1000
        }
      },
      "source": [
        "from scipy.cluster.hierarchy import ward, dendrogram\n",
        "\n",
        "linkage_matrix = ward(dist) #define the linkage_matrix using ward clustering pre-computed distances\n",
        "\n",
        "fig, ax = plt.subplots(figsize=(15, 20)) # set size\n",
        "ax = dendrogram(linkage_matrix, orientation=\"right\", labels=titles);\n",
        "\n",
        "plt.tick_params(\\\n",
        "    axis= 'x',          # changes apply to the x-axis\n",
        "    which='both',      # both major and minor ticks are affected\n",
        "    bottom='off',      # ticks along the bottom edge are off\n",
        "    top='off',         # ticks along the top edge are off\n",
        "    labelbottom='off')\n",
        "\n",
        "plt.tight_layout() #show plot with tight layout\n",
        "\n",
        "#uncomment below to save figure\n",
        "plt.savefig('ward_clusters.png', dpi=200) #save figure as ward_clusters"
      ],
      "execution_count": 41,
      "outputs": [
        {
          "output_type": "stream",
          "text": [
            "/usr/local/lib/python3.6/dist-packages/matplotlib/cbook/__init__.py:424: MatplotlibDeprecationWarning: \n",
            "Passing one of 'on', 'true', 'off', 'false' as a boolean is deprecated; use an actual boolean (True/False) instead.\n",
            "  warn_deprecated(\"2.2\", \"Passing one of 'on', 'true', 'off', 'false' as a \"\n"
          ],
          "name": "stderr"
        },
        {
          "output_type": "display_data",
          "data": {
            "image/png": "[encoded data removed]",
            "text/plain": [
              "<Figure size 1080x1440 with 1 Axes>"
            ]
          },
          "metadata": {
            "tags": []
          }
        }
      ]
    },
    {
      "cell_type": "code",
      "metadata": {
        "id": "mYxnWrprNmeq",
        "colab_type": "code",
        "colab": {}
      },
      "source": [
        "plt.close()"
      ],
      "execution_count": 0,
      "outputs": []
    },
    {
      "cell_type": "markdown",
      "metadata": {
        "id": "FgydHmUSNmet",
        "colab_type": "text"
      },
      "source": [
        "#Latent Dirichlet Allocation"
      ]
    },
    {
      "cell_type": "code",
      "metadata": {
        "id": "X-WzRP6xNmet",
        "colab_type": "code",
        "colab": {}
      },
      "source": [
        "#strip any proper names from a text...unfortunately right now this is yanking the first word from a sentence too.\n",
        "import string\n",
        "def strip_proppers(text):\n",
        "    # first tokenize by sentence, then by word to ensure that punctuation is caught as it's own token\n",
        "    tokens = [word for sent in nltk.sent_tokenize(text) for word in nltk.word_tokenize(sent) if word.islower()]\n",
        "    return \"\".join([\" \"+i if not i.startswith(\"'\") and i not in string.punctuation else i for i in tokens]).strip()"
      ],
      "execution_count": 0,
      "outputs": []
    },
    {
      "cell_type": "code",
      "metadata": {
        "id": "F6Af1c5wNmew",
        "colab_type": "code",
        "colab": {}
      },
      "source": [
        "#strip any proper nouns (NNP) or plural proper nouns (NNPS) from a text\n",
        "from nltk.tag import pos_tag\n",
        "\n",
        "def strip_proppers_POS(text):\n",
        "    tagged = pos_tag(text.split()) #use NLTK's part of speech tagger\n",
        "    non_propernouns = [word for word,pos in tagged if pos != 'NNP' and pos != 'NNPS']\n",
        "    return non_propernouns"
      ],
      "execution_count": 0,
      "outputs": []
    },
    {
      "cell_type": "code",
      "metadata": {
        "id": "xyoVR6FbNmey",
        "colab_type": "code",
        "outputId": "3b798afe-71e2-4d0c-8585-67f1a9a7efe2",
        "colab": {
          "base_uri": "https://localhost:8080/",
          "height": 84
        }
      },
      "source": [
        "#Latent Dirichlet Allocation implementation with Gensim\n",
        "\n",
        "from gensim import corpora, models, similarities \n",
        "\n",
        "#remove proper names\n",
        "preprocess = [strip_proppers(doc) for doc in synopses]\n",
        "\n",
        "%time tokenized_text = [tokenize_and_stem(text) for text in preprocess]\n",
        "\n",
        "%time texts = [[word for word in text if word not in stopwords] for text in tokenized_text]"
      ],
      "execution_count": 45,
      "outputs": [
        {
          "output_type": "stream",
          "text": [
            "CPU times: user 4.67 s, sys: 15.2 ms, total: 4.68 s\n",
            "Wall time: 4.68 s\n",
            "CPU times: user 392 ms, sys: 0 ns, total: 392 ms\n",
            "Wall time: 394 ms\n"
          ],
          "name": "stdout"
        }
      ]
    },
    {
      "cell_type": "code",
      "metadata": {
        "id": "2-A4IRh0Nme1",
        "colab_type": "code",
        "outputId": "af2339fd-aa7a-49ff-a814-eaf5f0273ab2",
        "colab": {
          "base_uri": "https://localhost:8080/",
          "height": 34
        }
      },
      "source": [
        "#print(len([word for word in texts[0] if word not in stopwords]))\n",
        "print(len(texts[0]))"
      ],
      "execution_count": 46,
      "outputs": [
        {
          "output_type": "stream",
          "text": [
            "1839\n"
          ],
          "name": "stdout"
        }
      ]
    },
    {
      "cell_type": "code",
      "metadata": {
        "id": "lL6flxnTNme7",
        "colab_type": "code",
        "colab": {}
      },
      "source": [
        "dictionary = corpora.Dictionary(texts)"
      ],
      "execution_count": 0,
      "outputs": []
    },
    {
      "cell_type": "code",
      "metadata": {
        "id": "GaE1cMp4NmfB",
        "colab_type": "code",
        "colab": {}
      },
      "source": [
        "dictionary.filter_extremes(no_below=1, no_above=0.8)"
      ],
      "execution_count": 0,
      "outputs": []
    },
    {
      "cell_type": "code",
      "metadata": {
        "id": "p5ijWKUANmfE",
        "colab_type": "code",
        "colab": {}
      },
      "source": [
        "corpus = [dictionary.doc2bow(text) for text in texts]"
      ],
      "execution_count": 0,
      "outputs": []
    },
    {
      "cell_type": "code",
      "metadata": {
        "id": "ZFXGJc6JNmfG",
        "colab_type": "code",
        "outputId": "138a7b4c-c1b6-478b-df66-a6ec06b38360",
        "colab": {
          "base_uri": "https://localhost:8080/",
          "height": 34
        }
      },
      "source": [
        "len(corpus)"
      ],
      "execution_count": 50,
      "outputs": [
        {
          "output_type": "execute_result",
          "data": {
            "text/plain": [
              "100"
            ]
          },
          "metadata": {
            "tags": []
          },
          "execution_count": 50
        }
      ]
    },
    {
      "cell_type": "code",
      "metadata": {
        "id": "_geMBUNYNmfN",
        "colab_type": "code",
        "outputId": "9c5aefbe-28e1-4fec-cac3-a2bdfabb6e84",
        "colab": {
          "base_uri": "https://localhost:8080/",
          "height": 50
        }
      },
      "source": [
        "%time lda = models.LdaModel(corpus, num_topics=5, id2word=dictionary, update_every=5, chunksize=10000, passes=100)"
      ],
      "execution_count": 52,
      "outputs": [
        {
          "output_type": "stream",
          "text": [
            "CPU times: user 33.9 s, sys: 6.96 ms, total: 33.9 s\n",
            "Wall time: 33.9 s\n"
          ],
          "name": "stdout"
        }
      ]
    },
    {
      "cell_type": "code",
      "metadata": {
        "id": "USYFR9bpNmfR",
        "colab_type": "code",
        "outputId": "10d367d4-bebf-4c68-bdcf-2b7546a5573b",
        "colab": {
          "base_uri": "https://localhost:8080/",
          "height": 34
        }
      },
      "source": [
        "print(lda[corpus[0]])"
      ],
      "execution_count": 53,
      "outputs": [
        {
          "output_type": "stream",
          "text": [
            "[(2, 0.04076712), (3, 0.7952457), (4, 0.16373965)]\n"
          ],
          "name": "stdout"
        }
      ]
    },
    {
      "cell_type": "code",
      "metadata": {
        "id": "qCihGIOONmfU",
        "colab_type": "code",
        "colab": {}
      },
      "source": [
        "topics = lda.print_topics(5, num_words=20)"
      ],
      "execution_count": 0,
      "outputs": []
    },
    {
      "cell_type": "code",
      "metadata": {
        "id": "7AOf3fM7NmfW",
        "colab_type": "code",
        "colab": {}
      },
      "source": [
        "topics_matrix = lda.show_topics(formatted=False, num_words=20)"
      ],
      "execution_count": 0,
      "outputs": []
    },
    {
      "cell_type": "code",
      "metadata": {
        "id": "pE1NXGLfNmfY",
        "colab_type": "code",
        "colab": {}
      },
      "source": [
        "topics_matrix = np.array(topics_matrix)"
      ],
      "execution_count": 0,
      "outputs": []
    },
    {
      "cell_type": "code",
      "metadata": {
        "id": "R39I08aeNmfd",
        "colab_type": "code",
        "outputId": "d2849166-7663-4274-dc67-5f7bc8025c55",
        "colab": {
          "base_uri": "https://localhost:8080/",
          "height": 34
        }
      },
      "source": [
        "topics_matrix.shape"
      ],
      "execution_count": 57,
      "outputs": [
        {
          "output_type": "execute_result",
          "data": {
            "text/plain": [
              "(5, 2)"
            ]
          },
          "metadata": {
            "tags": []
          },
          "execution_count": 57
        }
      ]
    },
    {
      "cell_type": "code",
      "metadata": {
        "id": "BMo4fVYaNmfg",
        "colab_type": "code",
        "colab": {}
      },
      "source": [
        "topic_words = topics_matrix[:,1]"
      ],
      "execution_count": 0,
      "outputs": []
    },
    {
      "cell_type": "code",
      "metadata": {
        "id": "RIVQfg_3Nmfj",
        "colab_type": "code",
        "outputId": "d9d88ccc-5e4b-49b2-bbc0-dfd54dfedade",
        "colab": {
          "base_uri": "https://localhost:8080/",
          "height": 205
        }
      },
      "source": [
        "for i in topic_words:\n",
        "    print([str(word) for word in i])\n",
        "    print()"
      ],
      "execution_count": 59,
      "outputs": [
        {
          "output_type": "stream",
          "text": [
            "[\"('kill', 0.005733697)\", \"('two', 0.005020086)\", \"('car', 0.0041252)\", \"('call', 0.0039987173)\", \"('arriv', 0.003907088)\", \"('decid', 0.0037618491)\", '(\"n\\'t\", 0.003751345)', \"('say', 0.0035285184)\", \"('ask', 0.0035065229)\", \"('night', 0.003282365)\", \"('doe', 0.003215228)\", \"('first', 0.0031854033)\", \"('next', 0.0031488992)\", \"('go', 0.0031421871)\", \"('home', 0.0030057929)\", \"('use', 0.0029546027)\", \"('run', 0.0029439072)\", \"('day', 0.0029118685)\", \"('goe', 0.0028719734)\", \"('men', 0.0028589799)\"]\n",
            "\n",
            "[\"('shark', 0.0070649623)\", \"('kill', 0.0045200633)\", \"('order', 0.0041882033)\", \"('escap', 0.004058865)\", \"('ship', 0.0037846412)\", \"('boat', 0.0034267476)\", \"('arriv', 0.003323192)\", \"('father', 0.0030953188)\", \"('away', 0.0029874027)\", \"('water', 0.0029547513)\", \"('discov', 0.002881392)\", \"('two', 0.0027308434)\", \"('plan', 0.0026883143)\", \"('run', 0.0026725135)\", \"('attack', 0.0026322457)\", \"('destroy', 0.0025541217)\", \"('friend', 0.0024960486)\", \"('meet', 0.0024728067)\", \"('patient', 0.0024259167)\", \"('day', 0.0023908888)\"]\n",
            "\n",
            "[\"('love', 0.0048664412)\", \"('go', 0.0045288573)\", \"('meet', 0.0042881975)\", \"('polic', 0.004191536)\", \"('want', 0.0040341364)\", \"('ask', 0.0040028086)\", \"('apart', 0.0038312369)\", \"('drive', 0.0038068437)\", \"('say', 0.003758807)\", \"('car', 0.0037246807)\", \"('kill', 0.0036735097)\", '(\"n\\'t\", 0.003656018)', \"('murder', 0.003579831)\", \"('friend', 0.0034303602)\", \"('doe', 0.0033802718)\", \"('run', 0.0032973194)\", \"('day', 0.003290079)\", \"('room', 0.0032821712)\", \"('wife', 0.003217961)\", \"('come', 0.0032078882)\"]\n",
            "\n",
            "[\"('father', 0.005689748)\", \"('meet', 0.005006465)\", \"('famili', 0.0049318657)\", \"('ask', 0.004900471)\", \"('kill', 0.0043843547)\", \"('brother', 0.004318193)\", \"('fight', 0.0042906874)\", \"('friend', 0.004024446)\", \"('car', 0.0039782724)\", \"('polic', 0.003734002)\", \"('also', 0.003525117)\", \"('come', 0.0034634736)\", \"('work', 0.0034147303)\", '(\"n\\'t\", 0.003296146)', \"('film', 0.0032678172)\", \"('call', 0.0032050302)\", \"('first', 0.0031817527)\", \"('order', 0.003181179)\", \"('want', 0.0030686434)\", \"('night', 0.003027561)\"]\n",
            "\n",
            "[\"('kill', 0.0061868266)\", \"('home', 0.0051289103)\", \"('men', 0.004171928)\", \"('say', 0.004073752)\", \"('friend', 0.004059063)\", \"('soldier', 0.003996988)\", \"('go', 0.003996225)\", \"('ask', 0.0039040633)\", \"('famili', 0.003903942)\", \"('arriv', 0.0038869963)\", \"('day', 0.0033874311)\", '(\"n\\'t\", 0.0033408555)', \"('die', 0.0032874038)\", \"('two', 0.0031206443)\", \"('also', 0.0030877593)\", \"('night', 0.0030576463)\", \"('help', 0.0029754946)\", \"('come', 0.0028532762)\", \"('way', 0.0027829537)\", \"('run', 0.0027803597)\"]\n",
            "\n"
          ],
          "name": "stdout"
        }
      ]
    }
  ]
}
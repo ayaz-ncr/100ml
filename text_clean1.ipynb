{
  "nbformat": 4,
  "nbformat_minor": 0,
  "metadata": {
    "colab": {
      "provenance": [],
      "authorship_tag": "ABX9TyPvl635r47pwqBYUw7a9ZjZ",
      "include_colab_link": true
    },
    "kernelspec": {
      "name": "python3",
      "display_name": "Python 3"
    },
    "language_info": {
      "name": "python"
    }
  },
  "cells": [
    {
      "cell_type": "markdown",
      "metadata": {
        "id": "view-in-github",
        "colab_type": "text"
      },
      "source": [
        "<a href=\"https://colab.research.google.com/github/ayaz-ncr/100ml/blob/master/text_clean1.ipynb\" target=\"_parent\"><img src=\"https://colab.research.google.com/assets/colab-badge.svg\" alt=\"Open In Colab\"/></a>"
      ]
    },
    {
      "cell_type": "code",
      "execution_count": 7,
      "metadata": {
        "colab": {
          "base_uri": "https://localhost:8080/"
        },
        "id": "va3foWwGg-EO",
        "outputId": "2d2525af-c2d8-40c7-afff-a7d5b2bea85d"
      },
      "outputs": [
        {
          "output_type": "stream",
          "name": "stdout",
          "text": [
            "                                     text exception\n",
            "0                            401K ACCOUNT       401\n",
            "1     401 k continue payments after covid       401\n",
            "2                        401 K ASSISTANCE       401\n",
            "3                             $1500 bonus      None\n",
            "4                                *balance      None\n",
            "5   (I want to speak with a live person)       None\n",
            "6                              #### covid      None\n",
            "7                                     ???      None\n",
            "8                            401K ACCOUNT       401\n",
            "9             401(k) Savings Plan Account       401\n",
            "10                                 1095-C      1095\n",
            "11                              1099 form      1099\n",
            "12                              1095 form      1095\n",
            "13                                  1099r      1099\n"
          ]
        }
      ],
      "source": [
        "#print the df contents after this code is run:\n",
        "\n",
        "import pandas as pd\n",
        "\n",
        "# Define the input data\n",
        "data = {'text': ['401K ACCOUNT', \n",
        "                 '401 k continue payments after covid', \n",
        "                 '401 K ASSISTANCE', \n",
        "                 '$1500 bonus', \n",
        "                 '*balance', \n",
        "                 '(I want to speak with a live person) ', \n",
        "                 '#### covid', \n",
        "                 '???', \n",
        "                 '401K ACCOUNT', \n",
        "                 '401(k) Savings Plan Account', \n",
        "                 '1095-C', \n",
        "                 '1099 form', \n",
        "                 '1095 form', \n",
        "                 '1099r']}\n",
        "\n",
        "# Create a DataFrame from the input data\n",
        "df = pd.DataFrame(data)\n",
        "\n",
        "# Define the exception list\n",
        "exception_list = ['401', '1095', '1099']\n",
        "\n",
        "# Define a lambda function to check for exceptions and clean the text column\n",
        "#df['exception'] = df['text'].apply(lambda x: next((word for word in x.split() if word in exception_list), None))\n",
        "\n",
        "# Define a lambda function to check for exceptions and clean the text column\n",
        "df['exception'] = df['text'].apply(lambda x: next((word for word in exception_list if word in x), None))\n",
        "\n",
        "\n",
        "# Print the final output\n",
        "print(df)\n"
      ]
    }
  ]
}
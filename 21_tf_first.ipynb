{
  "nbformat": 4,
  "nbformat_minor": 0,
  "metadata": {
    "colab": {
      "name": "21_tf_first.ipynb",
      "version": "0.3.2",
      "provenance": [],
      "include_colab_link": true
    },
    "kernelspec": {
      "name": "python3",
      "display_name": "Python 3"
    }
  },
  "cells": [
    {
      "cell_type": "markdown",
      "metadata": {
        "id": "view-in-github",
        "colab_type": "text"
      },
      "source": [
        "<a href=\"https://colab.research.google.com/github/ayaz-ncr/100ml/blob/master/21_tf_first.ipynb\" target=\"_parent\"><img src=\"https://colab.research.google.com/assets/colab-badge.svg\" alt=\"Open In Colab\"/></a>"
      ]
    },
    {
      "cell_type": "code",
      "metadata": {
        "id": "EHUqdKfsxAci",
        "colab_type": "code",
        "outputId": "1901c098-2def-4e64-8ff1-7e07ca1d0a4e",
        "colab": {
          "base_uri": "https://localhost:8080/",
          "height": 34
        }
      },
      "source": [
        "import tensorflow as tf\n",
        "print(tf.__version__)"
      ],
      "execution_count": 1,
      "outputs": [
        {
          "output_type": "stream",
          "text": [
            "1.14.0\n"
          ],
          "name": "stdout"
        }
      ]
    },
    {
      "cell_type": "code",
      "metadata": {
        "id": "uyPlcHrbxWbX",
        "colab_type": "code",
        "colab": {}
      },
      "source": [
        "mnist = tf.keras.datasets.mnist"
      ],
      "execution_count": 0,
      "outputs": []
    },
    {
      "cell_type": "code",
      "metadata": {
        "id": "aHDGYUDYxZ9d",
        "colab_type": "code",
        "colab": {
          "base_uri": "https://localhost:8080/",
          "height": 50
        },
        "outputId": "6999ef28-278b-484c-fd1e-f2e7cff1084a"
      },
      "source": [
        "(x_train, y_train),(x_test, y_test) = mnist.load_data()"
      ],
      "execution_count": 3,
      "outputs": [
        {
          "output_type": "stream",
          "text": [
            "Downloading data from https://storage.googleapis.com/tensorflow/tf-keras-datasets/mnist.npz\n",
            "11493376/11490434 [==============================] - 0s 0us/step\n"
          ],
          "name": "stdout"
        }
      ]
    },
    {
      "cell_type": "code",
      "metadata": {
        "id": "Bw0aQs9UxqKi",
        "colab_type": "code",
        "outputId": "aa2da361-368c-4443-afaa-5cdd2fdc0a8e",
        "colab": {
          "base_uri": "https://localhost:8080/",
          "height": 34
        }
      },
      "source": [
        "list_shape = [x_train.shape, y_train.shape, x_test.shape, y_test.shape]\n",
        "list_shape"
      ],
      "execution_count": 4,
      "outputs": [
        {
          "output_type": "execute_result",
          "data": {
            "text/plain": [
              "[(60000, 28, 28), (60000,), (10000, 28, 28), (10000,)]"
            ]
          },
          "metadata": {
            "tags": []
          },
          "execution_count": 4
        }
      ]
    },
    {
      "cell_type": "code",
      "metadata": {
        "id": "f85bnm5Lyj6K",
        "colab_type": "code",
        "colab": {}
      },
      "source": [
        "list_first = [x_train[0], y_train[0], x_test[0], y_test[0]]\n",
        "list_first"
      ],
      "execution_count": 0,
      "outputs": []
    },
    {
      "cell_type": "code",
      "metadata": {
        "id": "T2BfoJpGxt2S",
        "colab_type": "code",
        "colab": {}
      },
      "source": [
        "x_train, x_test = x_train / 255.0, x_test / 255.0"
      ],
      "execution_count": 0,
      "outputs": []
    },
    {
      "cell_type": "code",
      "metadata": {
        "id": "MoOPcpYyxhgT",
        "colab_type": "code",
        "outputId": "855ee279-e88f-47fa-a04f-986b73229a8b",
        "colab": {
          "base_uri": "https://localhost:8080/",
          "height": 34
        }
      },
      "source": [
        "list_shape"
      ],
      "execution_count": 7,
      "outputs": [
        {
          "output_type": "execute_result",
          "data": {
            "text/plain": [
              "[(60000, 28, 28), (60000,), (10000, 28, 28), (10000,)]"
            ]
          },
          "metadata": {
            "tags": []
          },
          "execution_count": 7
        }
      ]
    },
    {
      "cell_type": "code",
      "metadata": {
        "id": "2nIqKmJ5zWrI",
        "colab_type": "code",
        "colab": {}
      },
      "source": [
        "list_first[0]"
      ],
      "execution_count": 0,
      "outputs": []
    },
    {
      "cell_type": "code",
      "metadata": {
        "id": "KOiXwEDd0oAV",
        "colab_type": "code",
        "outputId": "1d8d9d0c-e7cf-4d56-bf1d-1fb4a8ff3fbc",
        "colab": {
          "base_uri": "https://localhost:8080/",
          "height": 104
        }
      },
      "source": [
        "model = tf.keras.Sequential([\n",
        "    tf.keras.layers.Flatten(input_shape = (28,28)),\n",
        "    tf.keras.layers.Dense(512, activation = tf.nn.relu),\n",
        "    tf.keras.layers.Dropout(0.2),\n",
        "    tf.keras.layers.Dense(10, activation = tf.nn.softmax)\n",
        "])"
      ],
      "execution_count": 9,
      "outputs": [
        {
          "output_type": "stream",
          "text": [
            "WARNING: Logging before flag parsing goes to stderr.\n",
            "W0701 20:27:38.280908 140348952426368 deprecation.py:506] From /usr/local/lib/python3.6/dist-packages/tensorflow/python/ops/init_ops.py:1251: calling VarianceScaling.__init__ (from tensorflow.python.ops.init_ops) with dtype is deprecated and will be removed in a future version.\n",
            "Instructions for updating:\n",
            "Call initializer instance with the dtype argument instead of passing it to the constructor\n"
          ],
          "name": "stderr"
        }
      ]
    },
    {
      "cell_type": "code",
      "metadata": {
        "id": "orMPg_Gf1cl4",
        "colab_type": "code",
        "colab": {}
      },
      "source": [
        "model.compile(optimizer = 'adam', loss = 'sparse_categorical_crossentropy', metrics = ['accuracy'])"
      ],
      "execution_count": 0,
      "outputs": []
    },
    {
      "cell_type": "code",
      "metadata": {
        "id": "Yp8bE-Ed1vpN",
        "colab_type": "code",
        "outputId": "f4fc1a2e-bd9b-427b-89fe-df7a9810607c",
        "colab": {
          "base_uri": "https://localhost:8080/",
          "height": 202
        }
      },
      "source": [
        "model.fit(x_train, y_train, epochs = 5)"
      ],
      "execution_count": 13,
      "outputs": [
        {
          "output_type": "stream",
          "text": [
            "Epoch 1/5\n",
            "60000/60000 [==============================] - 8s 127us/sample - loss: 0.2214 - acc: 0.9347\n",
            "Epoch 2/5\n",
            "60000/60000 [==============================] - 7s 119us/sample - loss: 0.0973 - acc: 0.9708\n",
            "Epoch 3/5\n",
            "60000/60000 [==============================] - 7s 120us/sample - loss: 0.0688 - acc: 0.9784\n",
            "Epoch 4/5\n",
            "60000/60000 [==============================] - 7s 119us/sample - loss: 0.0523 - acc: 0.9835\n",
            "Epoch 5/5\n",
            "60000/60000 [==============================] - 7s 119us/sample - loss: 0.0429 - acc: 0.9861\n"
          ],
          "name": "stdout"
        },
        {
          "output_type": "execute_result",
          "data": {
            "text/plain": [
              "<tensorflow.python.keras.callbacks.History at 0x7fa5508786d8>"
            ]
          },
          "metadata": {
            "tags": []
          },
          "execution_count": 13
        }
      ]
    },
    {
      "cell_type": "code",
      "metadata": {
        "id": "YvvN9Pdt2G8C",
        "colab_type": "code",
        "outputId": "d6cf68e3-a097-4b4d-ed90-3d33c3392bb4",
        "colab": {
          "base_uri": "https://localhost:8080/",
          "height": 50
        }
      },
      "source": [
        "model.evaluate(x_test, y_test)"
      ],
      "execution_count": 14,
      "outputs": [
        {
          "output_type": "stream",
          "text": [
            "10000/10000 [==============================] - 1s 55us/sample - loss: 0.0675 - acc: 0.9796\n"
          ],
          "name": "stdout"
        },
        {
          "output_type": "execute_result",
          "data": {
            "text/plain": [
              "[0.06751494039591635, 0.9796]"
            ]
          },
          "metadata": {
            "tags": []
          },
          "execution_count": 14
        }
      ]
    },
    {
      "cell_type": "code",
      "metadata": {
        "id": "BkYu-uzi2RB8",
        "colab_type": "code",
        "outputId": "ee5e1441-71e4-437e-f19f-f7e93eb3f3e7",
        "colab": {
          "base_uri": "https://localhost:8080/",
          "height": 235
        }
      },
      "source": [
        "model.predict(x_test)"
      ],
      "execution_count": 23,
      "outputs": [
        {
          "output_type": "execute_result",
          "data": {
            "text/plain": [
              "array([[3.83076737e-10, 4.58209165e-10, 5.11130516e-09, ...,\n",
              "        9.99995351e-01, 3.86076451e-08, 2.18847816e-07],\n",
              "       [1.04207217e-07, 1.22462700e-06, 9.99996901e-01, ...,\n",
              "        2.13727233e-14, 3.08047248e-07, 5.55348627e-13],\n",
              "       [2.54448764e-08, 9.99265969e-01, 2.09998943e-05, ...,\n",
              "        5.37047687e-04, 1.67812686e-04, 3.17338504e-07],\n",
              "       ...,\n",
              "       [6.13604812e-15, 1.63356037e-10, 4.74943876e-14, ...,\n",
              "        4.64036816e-07, 3.55221950e-08, 1.23801638e-05],\n",
              "       [4.83241491e-09, 2.46778764e-10, 5.65230588e-13, ...,\n",
              "        2.80653563e-08, 1.17139294e-04, 2.04923814e-10],\n",
              "       [2.64251149e-10, 8.88795548e-13, 8.32254443e-09, ...,\n",
              "        9.22299346e-13, 2.26119337e-08, 1.52983004e-09]], dtype=float32)"
            ]
          },
          "metadata": {
            "tags": []
          },
          "execution_count": 23
        }
      ]
    }
  ]
}
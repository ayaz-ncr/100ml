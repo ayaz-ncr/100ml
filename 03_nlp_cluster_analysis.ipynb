{
  "nbformat": 4,
  "nbformat_minor": 0,
  "metadata": {
    "colab": {
      "name": "03_nlp_cluster_analysis.ipynb",
      "version": "0.3.2",
      "provenance": [],
      "include_colab_link": true
    },
    "kernelspec": {
      "name": "python3",
      "display_name": "Python 3"
    }
  },
  "cells": [
    {
      "cell_type": "markdown",
      "metadata": {
        "id": "view-in-github",
        "colab_type": "text"
      },
      "source": [
        "<a href=\"https://colab.research.google.com/github/ayaz-ncr/100ml/blob/master/03_nlp_cluster_analysis.ipynb\" target=\"_parent\"><img src=\"https://colab.research.google.com/assets/colab-badge.svg\" alt=\"Open In Colab\"/></a>"
      ]
    },
    {
      "cell_type": "markdown",
      "metadata": {
        "id": "dRz11F5BNmcc",
        "colab_type": "text"
      },
      "source": [
        "[home](http://www.brandonrose.org)"
      ]
    },
    {
      "cell_type": "markdown",
      "metadata": {
        "id": "5YZ3uTSyNmcf",
        "colab_type": "text"
      },
      "source": [
        "#Document Clustering with Python"
      ]
    },
    {
      "cell_type": "markdown",
      "metadata": {
        "id": "Q6vgOKiQNmch",
        "colab_type": "text"
      },
      "source": [
        "<img src='https://github.com/brandomr/document_cluster/blob/master/header_short.jpg?raw=1'>\n",
        "\n",
        "In this guide, I will explain how to cluster a set of documents using Python. My motivating example is to identify the latent structures within the synopses of the top 100 films of all time (per an IMDB list). See [the original post](http://www.brandonrose.org/top100) for a more detailed discussion on the example. This guide covers:\n",
        "\n",
        "<ul>\n",
        "<li> tokenizing and stemming each synopsis\n",
        "<li> transforming the corpus into vector space using [tf-idf](http://en.wikipedia.org/wiki/Tf%E2%80%93idf)\n",
        "<li> calculating cosine distance between each document as a measure of similarity\n",
        "<li> clustering the documents using the [k-means algorithm](http://en.wikipedia.org/wiki/K-means_clustering)\n",
        "<li> using [multidimensional scaling](http://en.wikipedia.org/wiki/Multidimensional_scaling) to reduce dimensionality within the corpus\n",
        "<li> plotting the clustering output using [matplotlib](http://matplotlib.org/) and [mpld3](http://mpld3.github.io/)\n",
        "<li> conducting a hierarchical clustering on the corpus using [Ward clustering](http://en.wikipedia.org/wiki/Ward%27s_method)\n",
        "<li> plotting a Ward dendrogram\n",
        "<li> topic modeling using [Latent Dirichlet Allocation (LDA)](http://en.wikipedia.org/wiki/Latent_Dirichlet_allocation)\n",
        "</ul>"
      ]
    },
    {
      "cell_type": "markdown",
      "metadata": {
        "id": "kVvKdSc5Nmci",
        "colab_type": "text"
      },
      "source": [
        "##Contents"
      ]
    },
    {
      "cell_type": "markdown",
      "metadata": {
        "id": "14HifQzFNmcj",
        "colab_type": "text"
      },
      "source": [
        "<ul>\n",
        "<li>[Stopwords, stemming, and tokenization](#Stopwords,-stemming,-and-tokenizing)\n",
        "<li>[Tf-idf and document similarity](#Tf-idf-and-document-similarity)\n",
        "<li>[K-means clustering](#K-means-clustering)\n",
        "<li>[Multidimensional scaling](#Multidimensional-scaling)\n",
        "<li>[Visualizing document clusters](#Visualizing-document-clusters)\n",
        "<li>[Hierarchical document clustering](#Hierarchical-document-clustering)\n",
        "<li>[Latent Dirichlet Allocation (LDA)](#Latent-Dirichlet-Allocation)\n",
        "</ul>"
      ]
    },
    {
      "cell_type": "markdown",
      "metadata": {
        "id": "9IYR1tE4Nmck",
        "colab_type": "text"
      },
      "source": [
        "But first, I import everything I am going to need up front"
      ]
    },
    {
      "cell_type": "code",
      "metadata": {
        "id": "d2ZlWx1ZNmcl",
        "colab_type": "code",
        "colab": {}
      },
      "source": [
        "import numpy as np\n",
        "import pandas as pd\n",
        "import nltk\n",
        "from bs4 import BeautifulSoup\n",
        "import re\n",
        "import os\n",
        "import codecs\n",
        "from sklearn import feature_extraction\n",
        "#import mpld3"
      ],
      "execution_count": 0,
      "outputs": []
    },
    {
      "cell_type": "markdown",
      "metadata": {
        "id": "RYPvsjiiNmcp",
        "colab_type": "text"
      },
      "source": [
        "#Stopwords, stemming, and tokenizing"
      ]
    },
    {
      "cell_type": "code",
      "metadata": {
        "id": "2KWbBboKOjHq",
        "colab_type": "code",
        "outputId": "1b6cddc8-24a9-456e-8cbe-84c541542b58",
        "colab": {
          "resources": {
            "http://localhost:8080/nbextensions/google.colab/files.js": {
              "data": "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",
              "ok": true,
              "headers": [
                [
                  "content-type",
                  "application/javascript"
                ]
              ],
              "status": 200,
              "status_text": ""
            }
          },
          "base_uri": "https://localhost:8080/",
          "height": 175
        }
      },
      "source": [
        "#url1 = \"https://raw.githubusercontent.com/brandomr/document_cluster/master/title_list.txt\"\n",
        "#df1 = pd.read_csv(url1)\n",
        "from google.colab import files\n",
        "uploaded = files.upload()\n"
      ],
      "execution_count": 0,
      "outputs": [
        {
          "output_type": "display_data",
          "data": {
            "text/html": [
              "\n",
              "     <input type=\"file\" id=\"files-ecb4ab95-0548-4376-aab2-9879c7b77ce7\" name=\"files[]\" multiple disabled />\n",
              "     <output id=\"result-ecb4ab95-0548-4376-aab2-9879c7b77ce7\">\n",
              "      Upload widget is only available when the cell has been executed in the\n",
              "      current browser session. Please rerun this cell to enable.\n",
              "      </output>\n",
              "      <script src=\"/nbextensions/google.colab/files.js\"></script> "
            ],
            "text/plain": [
              "<IPython.core.display.HTML object>"
            ]
          },
          "metadata": {
            "tags": []
          }
        },
        {
          "output_type": "stream",
          "text": [
            "Saving genres_list.txt to genres_list.txt\n",
            "Saving link_list_imdb.txt to link_list_imdb (1).txt\n",
            "Saving synopses_list_wiki.txt to synopses_list_wiki (1).txt\n",
            "Saving title_list.txt to title_list (2).txt\n"
          ],
          "name": "stdout"
        }
      ]
    },
    {
      "cell_type": "code",
      "metadata": {
        "id": "QS9_TrmANmcq",
        "colab_type": "code",
        "outputId": "7b4372c4-e672-4abc-9ec1-589a3d22be33",
        "colab": {
          "base_uri": "https://localhost:8080/",
          "height": 84
        }
      },
      "source": [
        "#import three lists: titles, links and wikipedia synopses\n",
        "titles = open('title_list.txt').read().split('\\n')\n",
        "#ensures that only the first 100 are read in\n",
        "titles = titles[:100]\n",
        "\n",
        "links = open('link_list_imdb.txt').read().split('\\n')\n",
        "links = links[:100]\n",
        "\n",
        "synopses_wiki = open('synopses_list_wiki.txt').read().split('\\n BREAKS HERE')\n",
        "synopses_wiki = synopses_wiki[:100]\n",
        "\n",
        "synopses_clean_wiki = []\n",
        "for text in synopses_wiki:\n",
        "    text = BeautifulSoup(text, 'html.parser').getText()\n",
        "    #strips html formatting and converts to unicode\n",
        "    synopses_clean_wiki.append(text)\n",
        "\n",
        "synopses_wiki = synopses_clean_wiki\n",
        "    \n",
        "    \n",
        "genres = open('genres_list.txt').read().split('\\n')\n",
        "genres = genres[:100]\n",
        "\n",
        "print(str(len(titles)) + ' titles')\n",
        "print(str(len(links)) + ' links')\n",
        "print(str(len(synopses_wiki)) + ' synopses')\n",
        "print(str(len(genres)) + ' genres')"
      ],
      "execution_count": 0,
      "outputs": [
        {
          "output_type": "stream",
          "text": [
            "100 titles\n",
            "100 links\n",
            "100 synopses\n",
            "100 genres\n"
          ],
          "name": "stdout"
        }
      ]
    },
    {
      "cell_type": "code",
      "metadata": {
        "id": "fx5DcmkKRHZy",
        "colab_type": "code",
        "outputId": "45b1e235-4a26-47bc-a1d7-eb8ec1425883",
        "colab": {
          "resources": {
            "http://localhost:8080/nbextensions/google.colab/files.js": {
              "data": "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",
              "ok": true,
              "headers": [
                [
                  "content-type",
                  "application/javascript"
                ]
              ],
              "status": 200,
              "status_text": ""
            }
          },
          "base_uri": "https://localhost:8080/",
          "height": 74
        }
      },
      "source": [
        "from google.colab import files\n",
        "uploaded = files.upload()"
      ],
      "execution_count": 0,
      "outputs": [
        {
          "output_type": "display_data",
          "data": {
            "text/html": [
              "\n",
              "     <input type=\"file\" id=\"files-de145efa-af20-45db-8243-5b412c651d72\" name=\"files[]\" multiple disabled />\n",
              "     <output id=\"result-de145efa-af20-45db-8243-5b412c651d72\">\n",
              "      Upload widget is only available when the cell has been executed in the\n",
              "      current browser session. Please rerun this cell to enable.\n",
              "      </output>\n",
              "      <script src=\"/nbextensions/google.colab/files.js\"></script> "
            ],
            "text/plain": [
              "<IPython.core.display.HTML object>"
            ]
          },
          "metadata": {
            "tags": []
          }
        },
        {
          "output_type": "stream",
          "text": [
            "Saving synopses_list_imdb.txt to synopses_list_imdb.txt\n"
          ],
          "name": "stdout"
        }
      ]
    },
    {
      "cell_type": "code",
      "metadata": {
        "id": "x4jkBnOANmcx",
        "colab_type": "code",
        "colab": {}
      },
      "source": [
        "synopses_imdb = open('synopses_list_imdb.txt').read().split('\\n BREAKS HERE')\n",
        "synopses_imdb = synopses_imdb[:100]\n",
        "\n",
        "synopses_clean_imdb = []\n",
        "\n",
        "for text in synopses_imdb:\n",
        "    text = BeautifulSoup(text, 'html.parser').getText()\n",
        "    #strips html formatting and converts to unicode\n",
        "    synopses_clean_imdb.append(text)\n",
        "\n",
        "synopses_imdb = synopses_clean_imdb"
      ],
      "execution_count": 0,
      "outputs": []
    },
    {
      "cell_type": "code",
      "metadata": {
        "id": "DRXWz3olNmc0",
        "colab_type": "code",
        "colab": {}
      },
      "source": [
        "synopses = []\n",
        "\n",
        "for i in range(len(synopses_wiki)):\n",
        "    item = synopses_wiki[i] + synopses_imdb[i]\n",
        "    synopses.append(item)"
      ],
      "execution_count": 0,
      "outputs": []
    },
    {
      "cell_type": "code",
      "metadata": {
        "id": "9bijk1cbNmc3",
        "colab_type": "code",
        "colab": {}
      },
      "source": [
        "# generates index for each item in the corpora (in this case it's just rank) and I'll use this for scoring later\n",
        "ranks = []\n",
        "\n",
        "for i in range(0,len(titles)):\n",
        "    ranks.append(i)"
      ],
      "execution_count": 0,
      "outputs": []
    },
    {
      "cell_type": "markdown",
      "metadata": {
        "id": "lHYuJQNYNmc7",
        "colab_type": "text"
      },
      "source": [
        "This section is focused on defining some functions to manipulate the synopses. First, I load [NLTK's](http://www.nltk.org/) list of English stop words. [Stop words](http://en.wikipedia.org/wiki/Stop_words) are words like \"a\", \"the\", or \"in\" which don't convey significant meaning. I'm sure there are much better explanations of this out there."
      ]
    },
    {
      "cell_type": "code",
      "metadata": {
        "id": "gTdzr54KNmc8",
        "colab_type": "code",
        "outputId": "9d1ade3e-077b-4d6e-b31b-92982e4d2309",
        "colab": {
          "base_uri": "https://localhost:8080/",
          "height": 50
        }
      },
      "source": [
        "import nltk\n",
        "nltk.download('stopwords')\n",
        "# load nltk's English stopwords as variable called 'stopwords'\n",
        "stopwords = nltk.corpus.stopwords.words('english')"
      ],
      "execution_count": 0,
      "outputs": [
        {
          "output_type": "stream",
          "text": [
            "[nltk_data] Downloading package stopwords to /root/nltk_data...\n",
            "[nltk_data]   Unzipping corpora/stopwords.zip.\n"
          ],
          "name": "stdout"
        }
      ]
    },
    {
      "cell_type": "markdown",
      "metadata": {
        "id": "ftlM8wNpNmdA",
        "colab_type": "text"
      },
      "source": [
        "Next I import the [Snowball Stemmer](http://snowball.tartarus.org/) which is actually part of NLTK. [Stemming](http://en.wikipedia.org/wiki/Stemming) is just the process of breaking a word down into its root."
      ]
    },
    {
      "cell_type": "code",
      "metadata": {
        "id": "8oG-72CYNmdB",
        "colab_type": "code",
        "colab": {}
      },
      "source": [
        "# load nltk's SnowballStemmer as variabled 'stemmer'\n",
        "from nltk.stem.snowball import SnowballStemmer\n",
        "stemmer = SnowballStemmer(\"english\")"
      ],
      "execution_count": 0,
      "outputs": []
    },
    {
      "cell_type": "markdown",
      "metadata": {
        "id": "-AK3QYc5NmdH",
        "colab_type": "text"
      },
      "source": [
        "\n",
        "Below I define two functions:\n",
        "\n",
        "<ul>\n",
        "<li> *tokenize_and_stem*: tokenizes (splits the synopsis into a list of its respective words (or tokens) and also stems each token <li> *tokenize_only*: tokenizes the synopsis only\n",
        "</ul>\n",
        "\n",
        "I use both these functions to create a dictionary which becomes important in case I want to use stems for an algorithm, but later convert stems back to their full words for presentation purposes. Guess what, I do want to do that!\n",
        "\n"
      ]
    },
    {
      "cell_type": "code",
      "metadata": {
        "id": "lG2UNrRHNmdI",
        "colab_type": "code",
        "colab": {}
      },
      "source": [
        "# here I define a tokenizer and stemmer which returns the set of stems in the text that it is passed\n",
        "\n",
        "def tokenize_and_stem(text):\n",
        "    # first tokenize by sentence, then by word to ensure that punctuation is caught as it's own token\n",
        "    tokens = [word for sent in nltk.sent_tokenize(text) for word in nltk.word_tokenize(sent)]\n",
        "    filtered_tokens = []\n",
        "    # filter out any tokens not containing letters (e.g., numeric tokens, raw punctuation)\n",
        "    for token in tokens:\n",
        "        if re.search('[a-zA-Z]', token):\n",
        "            filtered_tokens.append(token)\n",
        "    stems = [stemmer.stem(t) for t in filtered_tokens]\n",
        "    return stems\n",
        "\n",
        "\n",
        "def tokenize_only(text):\n",
        "    # first tokenize by sentence, then by word to ensure that punctuation is caught as it's own token\n",
        "    tokens = [word.lower() for sent in nltk.sent_tokenize(text) for word in nltk.word_tokenize(sent)]\n",
        "    filtered_tokens = []\n",
        "    # filter out any tokens not containing letters (e.g., numeric tokens, raw punctuation)\n",
        "    for token in tokens:\n",
        "        if re.search('[a-zA-Z]', token):\n",
        "            filtered_tokens.append(token)\n",
        "    return filtered_tokens"
      ],
      "execution_count": 0,
      "outputs": []
    },
    {
      "cell_type": "markdown",
      "metadata": {
        "id": "U9IyjF2WNmdL",
        "colab_type": "text"
      },
      "source": [
        "Below I use my stemming/tokenizing and tokenizing functions to iterate over the list of synopses to create two vocabularies: one stemmed and one only tokenized. "
      ]
    },
    {
      "cell_type": "code",
      "metadata": {
        "id": "EouCHq9SNmdM",
        "colab_type": "code",
        "outputId": "4357f607-21c1-4957-f305-ec53e6a318ea",
        "colab": {
          "base_uri": "https://localhost:8080/",
          "height": 50
        }
      },
      "source": [
        "nltk.download('punkt')\n",
        "totalvocab_stemmed = []\n",
        "totalvocab_tokenized = []\n",
        "for i in synopses:\n",
        "    allwords_stemmed = tokenize_and_stem(i)\n",
        "    totalvocab_stemmed.extend(allwords_stemmed)\n",
        "    \n",
        "    allwords_tokenized = tokenize_only(i)\n",
        "    totalvocab_tokenized.extend(allwords_tokenized)"
      ],
      "execution_count": 0,
      "outputs": [
        {
          "output_type": "stream",
          "text": [
            "[nltk_data] Downloading package punkt to /root/nltk_data...\n",
            "[nltk_data]   Unzipping tokenizers/punkt.zip.\n"
          ],
          "name": "stdout"
        }
      ]
    },
    {
      "cell_type": "markdown",
      "metadata": {
        "id": "8nUuNnzkNmdP",
        "colab_type": "text"
      },
      "source": [
        "Using these two lists, I create a pandas DataFrame with the stemmed vocabulary as the index and the tokenized words as the column. The benefit of this is it provides an efficient way to look up a stem and return a full token. The downside here is that stems to tokens are one to many: the stem 'run' could be associated with 'ran', 'runs', 'running', etc. For my purposes this is fine--I'm perfectly happy returning the first token associated with the stem I need to look up."
      ]
    },
    {
      "cell_type": "code",
      "metadata": {
        "id": "1MhH7Oi8NmdQ",
        "colab_type": "code",
        "colab": {}
      },
      "source": [
        "vocab_frame = pd.DataFrame({'words': totalvocab_tokenized}, index = totalvocab_stemmed)"
      ],
      "execution_count": 0,
      "outputs": []
    },
    {
      "cell_type": "markdown",
      "metadata": {
        "id": "Zt5xAoFVNmdT",
        "colab_type": "text"
      },
      "source": [
        "##Tf-idf and document similarity"
      ]
    },
    {
      "cell_type": "markdown",
      "metadata": {
        "id": "3r1qsO2fNmdU",
        "colab_type": "text"
      },
      "source": [
        "<img src='http://www.jiem.org/index.php/jiem/article/viewFile/293/252/2402' align='right' style=\"margin-left:10px\">\n",
        "\n",
        "Here, I define term frequency-inverse document frequency (tf-idf) vectorizer parameters and then convert the *synopses* list into a tf-idf matrix. \n",
        "\n",
        "To get a Tf-idf matrix, first count word occurrences by document. This is transformed into a document-term matrix (dtm). This is also just called a term frequency matrix. An example of a dtm is here at right.\n",
        "\n",
        "Then apply the term frequency-inverse document frequency weighting: words that occur frequently within a document but not frequently within the corpus receive a higher weighting as these words are assumed to contain more meaning in relation to the document.\n",
        "\n",
        "A couple things to note about the parameters I define below:\n",
        "\n",
        "<ul>\n",
        "<li> max_df: this is the maximum frequency within the documents a given feature can have to be used in the tfi-idf matrix. If the term is in greater than 80% of the documents it probably cares little meanining (in the context of film synopses)\n",
        "<li> min_idf: this could be an integer (e.g. 5) and the term would have to be in at least 5 of the documents to be considered. Here I pass 0.2; the term must be in at least 20% of the document. I found that if I allowed a lower min_df I ended up basing clustering on names--for example \"Michael\" or \"Tom\" are names found in several of the movies and the synopses use these names frequently, but the names carry no real meaning.\n",
        "<li> ngram_range: this just means I'll look at unigrams, bigrams and trigrams. See [n-grams](http://en.wikipedia.org/wiki/N-gram)\n",
        "</ul>"
      ]
    },
    {
      "cell_type": "code",
      "metadata": {
        "id": "Im9zaRgwNmdV",
        "colab_type": "code",
        "outputId": "4f8dfd50-5e33-4c0d-f813-dd59af07dd15",
        "colab": {
          "base_uri": "https://localhost:8080/",
          "height": 121
        }
      },
      "source": [
        "from sklearn.feature_extraction.text import TfidfVectorizer\n",
        "\n",
        "tfidf_vectorizer = TfidfVectorizer(max_df=0.8, max_features=200000,\n",
        "                                 min_df=0.2, stop_words='english',\n",
        "                                 use_idf=True, tokenizer=tokenize_and_stem, ngram_range=(1,3))\n",
        "\n",
        "%time tfidf_matrix = tfidf_vectorizer.fit_transform(synopses)\n",
        "\n",
        "print(tfidf_matrix.shape)"
      ],
      "execution_count": 0,
      "outputs": [
        {
          "output_type": "stream",
          "text": [
            "/usr/local/lib/python3.6/dist-packages/sklearn/feature_extraction/text.py:301: UserWarning: Your stop_words may be inconsistent with your preprocessing. Tokenizing the stop words generated tokens ['abov', 'afterward', 'alon', 'alreadi', 'alway', 'ani', 'anoth', 'anyon', 'anyth', 'anywher', 'becam', 'becaus', 'becom', 'befor', 'besid', 'cri', 'describ', 'dure', 'els', 'elsewher', 'empti', 'everi', 'everyon', 'everyth', 'everywher', 'fifti', 'forti', 'henc', 'hereaft', 'herebi', 'howev', 'hundr', 'inde', 'mani', 'meanwhil', 'moreov', 'nobodi', 'noon', 'noth', 'nowher', 'onc', 'onli', 'otherwis', 'ourselv', 'perhap', 'pleas', 'sever', 'sinc', 'sincer', 'sixti', 'someon', 'someth', 'sometim', 'somewher', 'themselv', 'thenc', 'thereaft', 'therebi', 'therefor', 'togeth', 'twelv', 'twenti', 'veri', 'whatev', 'whenc', 'whenev', 'wherea', 'whereaft', 'wherebi', 'wherev', 'whi', 'yourselv'] not in stop_words.\n",
            "  'stop_words.' % sorted(inconsistent))\n"
          ],
          "name": "stderr"
        },
        {
          "output_type": "stream",
          "text": [
            "CPU times: user 9.17 s, sys: 72.6 ms, total: 9.24 s\n",
            "Wall time: 9.28 s\n",
            "(100, 563)\n"
          ],
          "name": "stdout"
        }
      ]
    },
    {
      "cell_type": "code",
      "metadata": {
        "id": "UJFLdmioNmdZ",
        "colab_type": "code",
        "colab": {}
      },
      "source": [
        "terms = tfidf_vectorizer.get_feature_names()"
      ],
      "execution_count": 0,
      "outputs": []
    },
    {
      "cell_type": "code",
      "metadata": {
        "id": "nVtx292nNmdc",
        "colab_type": "code",
        "colab": {}
      },
      "source": [
        "from sklearn.metrics.pairwise import cosine_similarity\n",
        "dist = 1 - cosine_similarity(tfidf_matrix)"
      ],
      "execution_count": 0,
      "outputs": []
    },
    {
      "cell_type": "markdown",
      "metadata": {
        "id": "2ic3qtd4Nmdf",
        "colab_type": "text"
      },
      "source": [
        "#K-means clustering"
      ]
    },
    {
      "cell_type": "markdown",
      "metadata": {
        "id": "FyY4KmXQNmdg",
        "colab_type": "text"
      },
      "source": [
        "Now onto the fun part. Using the tf-idf matrix, you can run a slew of clustering algorithms to better understand the hidden structure within the synopses. I first chose [k-means](http://en.wikipedia.org/wiki/K-means_clustering). K-means initializes with a pre-determined number of clusters (I chose 5). Each observation is assigned to a cluster (cluster assignment) so as to minimize the within cluster sum of squares. Next, the mean of the clustered observations is calculated and used as the new cluster centroid. Then, observations are reassigned to clusters and  centroids recalculated in an iterative process until the algorithm reaches convergence.\n",
        "\n",
        "I found it took several runs for the algorithm to converge a global optimum as k-means is susceptible to reaching local optima. "
      ]
    },
    {
      "cell_type": "code",
      "metadata": {
        "id": "2OakoM4oNmdh",
        "colab_type": "code",
        "outputId": "b595ee18-98e7-4a00-f748-26d2c1fc8d39",
        "colab": {
          "base_uri": "https://localhost:8080/",
          "height": 50
        }
      },
      "source": [
        "from sklearn.cluster import KMeans\n",
        "\n",
        "num_clusters = 5\n",
        "\n",
        "km = KMeans(n_clusters=num_clusters)\n",
        "\n",
        "%time km.fit(tfidf_matrix)\n",
        "\n",
        "clusters = km.labels_.tolist()"
      ],
      "execution_count": 0,
      "outputs": [
        {
          "output_type": "stream",
          "text": [
            "CPU times: user 860 ms, sys: 0 ns, total: 860 ms\n",
            "Wall time: 861 ms\n"
          ],
          "name": "stdout"
        }
      ]
    },
    {
      "cell_type": "code",
      "metadata": {
        "id": "i1wwSKN-Nmdp",
        "colab_type": "code",
        "colab": {}
      },
      "source": [
        "from sklearn.externals import joblib\n",
        "\n",
        "#joblib.dump(km,  'doc_cluster.pkl')\n",
        "km = joblib.load('doc_cluster.pkl')\n",
        "clusters = km.labels_.tolist()"
      ],
      "execution_count": 0,
      "outputs": []
    },
    {
      "cell_type": "code",
      "metadata": {
        "id": "uh7loAyLNmdt",
        "colab_type": "code",
        "colab": {}
      },
      "source": [
        "import pandas as pd\n",
        "\n",
        "films = { 'title': titles, 'rank': ranks, 'synopsis': synopses, 'cluster': clusters, 'genre': genres }\n",
        "\n",
        "frame = pd.DataFrame(films, index = [clusters] , columns = ['rank', 'title', 'cluster', 'genre'])"
      ],
      "execution_count": 0,
      "outputs": []
    },
    {
      "cell_type": "code",
      "metadata": {
        "id": "3APp0pSxNmdy",
        "colab_type": "code",
        "outputId": "68205757-9a97-4f2a-df90-0f2d55f16370",
        "colab": {
          "base_uri": "https://localhost:8080/",
          "height": 118
        }
      },
      "source": [
        "frame['cluster'].value_counts()"
      ],
      "execution_count": 0,
      "outputs": [
        {
          "output_type": "execute_result",
          "data": {
            "text/plain": [
              "2    43\n",
              "4    22\n",
              "1    20\n",
              "0     9\n",
              "3     6\n",
              "Name: cluster, dtype: int64"
            ]
          },
          "metadata": {
            "tags": []
          },
          "execution_count": 30
        }
      ]
    },
    {
      "cell_type": "code",
      "metadata": {
        "id": "T0JAyAWmNmd3",
        "colab_type": "code",
        "outputId": "fcaa6b33-03f6-464c-8a95-7034c8e254d8",
        "colab": {
          "base_uri": "https://localhost:8080/",
          "height": 134
        }
      },
      "source": [
        "grouped = frame['rank'].groupby(frame['cluster'])\n",
        "\n",
        "grouped.mean()"
      ],
      "execution_count": 0,
      "outputs": [
        {
          "output_type": "execute_result",
          "data": {
            "text/plain": [
              "cluster\n",
              "0    42.111111\n",
              "1    40.350000\n",
              "2    53.883721\n",
              "3    63.000000\n",
              "4    48.590909\n",
              "Name: rank, dtype: float64"
            ]
          },
          "metadata": {
            "tags": []
          },
          "execution_count": 31
        }
      ]
    },
    {
      "cell_type": "code",
      "metadata": {
        "id": "zgVvpuW9Nmd7",
        "colab_type": "code",
        "outputId": "b506c4cd-d268-44d0-ae9f-f41506ec00f1",
        "colab": {
          "base_uri": "https://localhost:8080/",
          "height": 675
        }
      },
      "source": [
        "from __future__ import print_function\n",
        "\n",
        "print(\"Top terms per cluster:\")\n",
        "print()\n",
        "order_centroids = km.cluster_centers_.argsort()[:, ::-1]\n",
        "for i in range(num_clusters):\n",
        "    print(\"Cluster %d words:\" % i, end='')\n",
        "    for ind in order_centroids[i, :6]:\n",
        "        print(' %s' % vocab_frame.ix[terms[ind].split(' ')].values.tolist()[0][0].encode('utf-8', 'ignore'), end=',')\n",
        "    print()\n",
        "    print()\n",
        "    print(\"Cluster %d titles:\" % i, end='')\n",
        "    for title in frame.ix[i]['title'].values.tolist():\n",
        "        print(' %s,' % title, end='')\n",
        "    print()\n",
        "    print()"
      ],
      "execution_count": 0,
      "outputs": [
        {
          "output_type": "stream",
          "text": [
            "Top terms per cluster:\n",
            "\n",
            "Cluster 0 words: b'ship', b'water', b'singing', b'board', b'attempt', b'film',\n",
            "\n",
            "Cluster 0 titles: Raging Bull, Titanic, Star Wars, 2001: A Space Odyssey, Singin' in the Rain, Jaws, Close Encounters of the Third Kind, Nashville, Mutiny on the Bounty,\n",
            "\n",
            "Cluster 1 words: b'soldiers', b'army', b'killed', b'war', b'command', b'orders',\n",
            "\n",
            "Cluster 1 titles: Schindler's List, One Flew Over the Cuckoo's Nest, Lawrence of Arabia, The Bridge on the River Kwai, Dr. Strangelove or: How I Learned to Stop Worrying and Love the Bomb, Apocalypse Now, The Lord of the Rings: The Return of the King, Gladiator, From Here to Eternity, Saving Private Ryan, Raiders of the Lost Ark, Patton, Braveheart, The Good, the Bad and the Ugly, Platoon, Dances with Wolves, The Pianist, The Deer Hunter, All Quiet on the Western Front, Stagecoach,\n",
            "\n",
            "Cluster 2 words: b'love', b'home', b'car',"
          ],
          "name": "stdout"
        },
        {
          "output_type": "stream",
          "text": [
            "/usr/local/lib/python3.6/dist-packages/ipykernel_launcher.py:9: DeprecationWarning: \n",
            ".ix is deprecated. Please use\n",
            ".loc for label based indexing or\n",
            ".iloc for positional indexing\n",
            "\n",
            "See the documentation here:\n",
            "http://pandas.pydata.org/pandas-docs/stable/indexing.html#ix-indexer-is-deprecated\n",
            "  if __name__ == '__main__':\n",
            "/usr/local/lib/python3.6/dist-packages/ipykernel_launcher.py:13: DeprecationWarning: \n",
            ".ix is deprecated. Please use\n",
            ".loc for label based indexing or\n",
            ".iloc for positional indexing\n",
            "\n",
            "See the documentation here:\n",
            "http://pandas.pydata.org/pandas-docs/stable/indexing.html#ix-indexer-is-deprecated\n",
            "  del sys.path[0]\n"
          ],
          "name": "stderr"
        },
        {
          "output_type": "stream",
          "text": [
            " b'family', b'father', b'house',\n",
            "\n",
            "Cluster 2 titles: Gone with the Wind, Citizen Kane, The Wizard of Oz, The Godfather: Part II, Psycho, Sunset Blvd., Vertigo, Forrest Gump, E.T. the Extra-Terrestrial, Some Like It Hot, 12 Angry Men, Amadeus, Rocky, A Streetcar Named Desire, An American in Paris, The Best Years of Our Lives, My Fair Lady, Ben-Hur, Doctor Zhivago, The Apartment, Goodfellas, The Exorcist, City Lights, It Happened One Night, Midnight Cowboy, Mr. Smith Goes to Washington, Rain Man, Annie Hall, Out of Africa, Good Will Hunting, Terms of Endearment, Tootsie, Fargo, Giant, The Grapes of Wrath, Network, The Graduate, American Graffiti, Pulp Fiction, A Clockwork Orange, Wuthering Heights, Rear Window, North by Northwest,\n",
            "\n",
            "Cluster 3 words: b'george', b'john', b'marries', b'family', b'perform', b'james',\n",
            "\n",
            "Cluster 3 titles: It's a Wonderful Life, The Philadelphia Story, The King's Speech, A Place in the Sun, The Green Mile, Yankee Doodle Dandy,\n",
            "\n",
            "Cluster 4 words: b'killed', b'police', b'shoot', b'town', b'gun', b'murders',\n",
            "\n",
            "Cluster 4 titles: The Godfather, The Shawshank Redemption, Casablanca, On the Waterfront, The Sound of Music, West Side Story, The Silence of the Lambs, Chinatown, Gandhi, Unforgiven, To Kill a Mockingbird, Butch Cassidy and the Sundance Kid, The Treasure of the Sierra Madre, High Noon, The French Connection, Shane, The African Queen, The Maltese Falcon, Taxi Driver, Double Indemnity, Rebel Without a Cause, The Third Man,\n",
            "\n"
          ],
          "name": "stdout"
        }
      ]
    },
    {
      "cell_type": "code",
      "metadata": {
        "id": "frbstWKqNmeA",
        "colab_type": "code",
        "colab": {}
      },
      "source": [
        "#This is purely to help export tables to html and to correct for my 0 start rank (so that Godfather is 1, not 0)\n",
        "frame['Rank'] = frame['rank'] + 1\n",
        "frame['Title'] = frame['title']"
      ],
      "execution_count": 0,
      "outputs": []
    },
    {
      "cell_type": "code",
      "metadata": {
        "id": "15IfgZ-ZNmeD",
        "colab_type": "code",
        "outputId": "0baad55f-7e81-469b-ef50-d371913f5a69",
        "colab": {
          "base_uri": "https://localhost:8080/",
          "height": 1529
        }
      },
      "source": [
        "#export tables to HTML\n",
        "print(frame[['Rank', 'Title']].loc[frame['cluster'] == 1].to_html(index=False))"
      ],
      "execution_count": 0,
      "outputs": [
        {
          "output_type": "stream",
          "text": [
            "<table border=\"1\" class=\"dataframe\">\n",
            "  <thead>\n",
            "    <tr style=\"text-align: right;\">\n",
            "      <th>Rank</th>\n",
            "      <th>Title</th>\n",
            "    </tr>\n",
            "  </thead>\n",
            "  <tbody>\n",
            "    <tr>\n",
            "      <td>3</td>\n",
            "      <td>Schindler's List</td>\n",
            "    </tr>\n",
            "    <tr>\n",
            "      <td>6</td>\n",
            "      <td>One Flew Over the Cuckoo's Nest</td>\n",
            "    </tr>\n",
            "    <tr>\n",
            "      <td>11</td>\n",
            "      <td>Lawrence of Arabia</td>\n",
            "    </tr>\n",
            "    <tr>\n",
            "      <td>25</td>\n",
            "      <td>The Bridge on the River Kwai</td>\n",
            "    </tr>\n",
            "    <tr>\n",
            "      <td>30</td>\n",
            "      <td>Dr. Strangelove or: How I Learned to Stop Worr...</td>\n",
            "    </tr>\n",
            "    <tr>\n",
            "      <td>32</td>\n",
            "      <td>Apocalypse Now</td>\n",
            "    </tr>\n",
            "    <tr>\n",
            "      <td>34</td>\n",
            "      <td>The Lord of the Rings: The Return of the King</td>\n",
            "    </tr>\n",
            "    <tr>\n",
            "      <td>35</td>\n",
            "      <td>Gladiator</td>\n",
            "    </tr>\n",
            "    <tr>\n",
            "      <td>36</td>\n",
            "      <td>From Here to Eternity</td>\n",
            "    </tr>\n",
            "    <tr>\n",
            "      <td>37</td>\n",
            "      <td>Saving Private Ryan</td>\n",
            "    </tr>\n",
            "    <tr>\n",
            "      <td>39</td>\n",
            "      <td>Raiders of the Lost Ark</td>\n",
            "    </tr>\n",
            "    <tr>\n",
            "      <td>49</td>\n",
            "      <td>Patton</td>\n",
            "    </tr>\n",
            "    <tr>\n",
            "      <td>51</td>\n",
            "      <td>Braveheart</td>\n",
            "    </tr>\n",
            "    <tr>\n",
            "      <td>52</td>\n",
            "      <td>The Good, the Bad and the Ugly</td>\n",
            "    </tr>\n",
            "    <tr>\n",
            "      <td>56</td>\n",
            "      <td>Platoon</td>\n",
            "    </tr>\n",
            "    <tr>\n",
            "      <td>58</td>\n",
            "      <td>Dances with Wolves</td>\n",
            "    </tr>\n",
            "    <tr>\n",
            "      <td>59</td>\n",
            "      <td>The Pianist</td>\n",
            "    </tr>\n",
            "    <tr>\n",
            "      <td>62</td>\n",
            "      <td>The Deer Hunter</td>\n",
            "    </tr>\n",
            "    <tr>\n",
            "      <td>63</td>\n",
            "      <td>All Quiet on the Western Front</td>\n",
            "    </tr>\n",
            "    <tr>\n",
            "      <td>89</td>\n",
            "      <td>Stagecoach</td>\n",
            "    </tr>\n",
            "  </tbody>\n",
            "</table>\n"
          ],
          "name": "stdout"
        }
      ]
    },
    {
      "cell_type": "markdown",
      "metadata": {
        "id": "xRwCPG2nNmeF",
        "colab_type": "text"
      },
      "source": [
        "#Multidimensional scaling"
      ]
    },
    {
      "cell_type": "code",
      "metadata": {
        "id": "XJn2QCBXNmeG",
        "colab_type": "code",
        "colab": {}
      },
      "source": [
        "import os  # for os.path.basename\n",
        "\n",
        "import matplotlib.pyplot as plt\n",
        "import matplotlib as mpl\n",
        "\n",
        "from sklearn.manifold import MDS\n",
        "\n",
        "MDS()\n",
        "\n",
        "# two components as we're plotting points in a two-dimensional plane\n",
        "# \"precomputed\" because we provide a distance matrix\n",
        "# we will also specify `random_state` so the plot is reproducible.\n",
        "mds = MDS(n_components=2, dissimilarity=\"precomputed\", random_state=1)\n",
        "\n",
        "pos = mds.fit_transform(dist)  # shape (n_components, n_samples)\n",
        "\n",
        "xs, ys = pos[:, 0], pos[:, 1]"
      ],
      "execution_count": 0,
      "outputs": []
    },
    {
      "cell_type": "code",
      "metadata": {
        "id": "AMS-us7QNmeL",
        "colab_type": "code",
        "colab": {}
      },
      "source": [
        "#strip any proper nouns (NNP) or plural proper nouns (NNPS) from a text\n",
        "from nltk.tag import pos_tag\n",
        "\n",
        "def strip_proppers_POS(text):\n",
        "    tagged = pos_tag(text.split()) #use NLTK's part of speech tagger\n",
        "    non_propernouns = [word for word,pos in tagged if pos != 'NNP' and pos != 'NNPS']\n",
        "    return non_propernouns"
      ],
      "execution_count": 0,
      "outputs": []
    },
    {
      "cell_type": "markdown",
      "metadata": {
        "id": "c3MYd6wONmeN",
        "colab_type": "text"
      },
      "source": [
        "##Visualizing document clusters"
      ]
    },
    {
      "cell_type": "code",
      "metadata": {
        "id": "HHwFcOnwNmeP",
        "colab_type": "code",
        "colab": {}
      },
      "source": [
        "#set up colors per clusters using a dict\n",
        "cluster_colors = {0: '#1b9e77', 1: '#d95f02', 2: '#7570b3', 3: '#e7298a', 4: '#66a61e'}\n",
        "\n",
        "#set up cluster names using a dict\n",
        "cluster_names = {0: 'Family, home, war', \n",
        "                 1: 'Police, killed, murders', \n",
        "                 2: 'Father, New York, brothers', \n",
        "                 3: 'Dance, singing, love', \n",
        "                 4: 'Killed, soldiers, captain'}"
      ],
      "execution_count": 0,
      "outputs": []
    },
    {
      "cell_type": "code",
      "metadata": {
        "id": "SG-aZ3rLNmeS",
        "colab_type": "code",
        "colab": {}
      },
      "source": [
        "%matplotlib inline"
      ],
      "execution_count": 0,
      "outputs": []
    },
    {
      "cell_type": "code",
      "metadata": {
        "id": "4vlXy3WrNmeV",
        "colab_type": "code",
        "outputId": "67a7258e-c0de-4f6d-fc69-e1069e473c76",
        "colab": {
          "base_uri": "https://localhost:8080/",
          "height": 695
        }
      },
      "source": [
        "#create data frame that has the result of the MDS plus the cluster numbers and titles\n",
        "df = pd.DataFrame(dict(x=xs, y=ys, label=clusters, title=titles)) \n",
        "\n",
        "#group by cluster\n",
        "groups = df.groupby('label')\n",
        "\n",
        "\n",
        "# set up plot\n",
        "fig, ax = plt.subplots(figsize=(17, 9)) # set size\n",
        "ax.margins(0.05) # Optional, just adds 5% padding to the autoscaling\n",
        "\n",
        "#iterate through groups to layer the plot\n",
        "#note that I use the cluster_name and cluster_color dicts with the 'name' lookup to return the appropriate color/label\n",
        "for name, group in groups:\n",
        "    ax.plot(group.x, group.y, marker='o', linestyle='', ms=12, label=cluster_names[name], color=cluster_colors[name], mec='none')\n",
        "    ax.set_aspect('auto')\n",
        "    ax.tick_params(\\\n",
        "        axis= 'x',          # changes apply to the x-axis\n",
        "        which='both',      # both major and minor ticks are affected\n",
        "        bottom='off',      # ticks along the bottom edge are off\n",
        "        top='off',         # ticks along the top edge are off\n",
        "        labelbottom='off')\n",
        "    ax.tick_params(\\\n",
        "        axis= 'y',         # changes apply to the y-axis\n",
        "        which='both',      # both major and minor ticks are affected\n",
        "        left='off',      # ticks along the bottom edge are off\n",
        "        top='off',         # ticks along the top edge are off\n",
        "        labelleft='off')\n",
        "    \n",
        "ax.legend(numpoints=1)  #show legend with only 1 point\n",
        "\n",
        "#add label in x,y position with the label as the film title\n",
        "for i in range(len(df)):\n",
        "    ax.text(df.ix[i]['x'], df.ix[i]['y'], df.ix[i]['title'], size=8)  \n",
        "\n",
        "    \n",
        "    \n",
        "plt.show() #show the plot\n",
        "\n",
        "#uncomment the below to save the plot if need be\n",
        "#plt.savefig('clusters_small_noaxes.png', dpi=200)"
      ],
      "execution_count": 0,
      "outputs": [
        {
          "output_type": "stream",
          "text": [
            "/usr/local/lib/python3.6/dist-packages/matplotlib/cbook/__init__.py:424: MatplotlibDeprecationWarning: \n",
            "Passing one of 'on', 'true', 'off', 'false' as a boolean is deprecated; use an actual boolean (True/False) instead.\n",
            "  warn_deprecated(\"2.2\", \"Passing one of 'on', 'true', 'off', 'false' as a \"\n",
            "/usr/local/lib/python3.6/dist-packages/ipykernel_launcher.py:31: DeprecationWarning: \n",
            ".ix is deprecated. Please use\n",
            ".loc for label based indexing or\n",
            ".iloc for positional indexing\n",
            "\n",
            "See the documentation here:\n",
            "http://pandas.pydata.org/pandas-docs/stable/indexing.html#ix-indexer-is-deprecated\n"
          ],
          "name": "stderr"
        },
        {
          "output_type": "display_data",
          "data": {
            "image/png": "[encoded data removed]",
            "text/plain": [
              "<Figure size 1224x648 with 1 Axes>"
            ]
          },
          "metadata": {
            "tags": []
          }
        }
      ]
    },
    {
      "cell_type": "code",
      "metadata": {
        "id": "iwSYgyShNmeZ",
        "colab_type": "code",
        "colab": {}
      },
      "source": [
        "plt.close()"
      ],
      "execution_count": 0,
      "outputs": []
    },
    {
      "cell_type": "markdown",
      "metadata": {
        "id": "K7tDqFXANmed",
        "colab_type": "text"
      },
      "source": [
        "The clustering plot looks great, but it pains my eyes to see overlapping labels. Having some experience with [D3.js](http://d3js.org/) I knew one solution would be to use a browser based/javascript interactive. Fortunately, I recently stumbled upon [mpld3](https://mpld3.github.io/) a matplotlib wrapper for D3. Mpld3 basically let's you use matplotlib syntax to create web interactives. It has a really easy, high-level API for adding tooltips on mouse hover, which is what I am interested in.\n",
        "\n",
        "It also has some nice functionality for zooming and panning. The below javascript snippet basicaly defines a custom location for where the zoom/pan toggle resides. Don't worry about it too much and you actually don't need to use it, but it helped for formatting purposes when exporting to the web later. The only thing you might want to change is the x and y attr for the position of the toolbar."
      ]
    },
    {
      "cell_type": "code",
      "metadata": {
        "id": "EVVi2Ok-Nmee",
        "colab_type": "code",
        "colab": {}
      },
      "source": [
        "#!pip install mpld3\n",
        "import mpld3\n",
        "#define custom toolbar location\n",
        "class TopToolbar(mpld3.plugins.PluginBase):\n",
        "    \"\"\"Plugin for moving toolbar to top of figure\"\"\"\n",
        "\n",
        "    JAVASCRIPT = \"\"\"\n",
        "    mpld3.register_plugin(\"toptoolbar\", TopToolbar);\n",
        "    TopToolbar.prototype = Object.create(mpld3.Plugin.prototype);\n",
        "    TopToolbar.prototype.constructor = TopToolbar;\n",
        "    function TopToolbar(fig, props){\n",
        "        mpld3.Plugin.call(this, fig, props);\n",
        "    };\n",
        "\n",
        "    TopToolbar.prototype.draw = function(){\n",
        "      // the toolbar svg doesn't exist\n",
        "      // yet, so first draw it\n",
        "      this.fig.toolbar.draw();\n",
        "\n",
        "      // then change the y position to be\n",
        "      // at the top of the figure\n",
        "      this.fig.toolbar.toolbar.attr(\"x\", 150);\n",
        "      this.fig.toolbar.toolbar.attr(\"y\", 400);\n",
        "\n",
        "      // then remove the draw function,\n",
        "      // so that it is not called again\n",
        "      this.fig.toolbar.draw = function() {}\n",
        "    }\n",
        "    \"\"\"\n",
        "    def __init__(self):\n",
        "        self.dict_ = {\"type\": \"toptoolbar\"}"
      ],
      "execution_count": 0,
      "outputs": []
    },
    {
      "cell_type": "code",
      "metadata": {
        "id": "ejmM6wa4Nmeh",
        "colab_type": "code",
        "outputId": "4cc5d6fd-f272-482c-8fa0-5cfd927b3ac9",
        "colab": {
          "base_uri": "https://localhost:8080/",
          "height": 453
        }
      },
      "source": [
        "#create data frame that has the result of the MDS plus the cluster numbers and titles\n",
        "df = pd.DataFrame(dict(x=xs, y=ys, label=clusters, title=titles)) \n",
        "\n",
        "#group by cluster\n",
        "groups = df.groupby('label')\n",
        "\n",
        "#define custom css to format the font and to remove the axis labeling\n",
        "css = \"\"\"\n",
        "text.mpld3-text, div.mpld3-tooltip {\n",
        "  font-family:Arial, Helvetica, sans-serif;\n",
        "}\n",
        "\n",
        "g.mpld3-xaxis, g.mpld3-yaxis {\n",
        "display: none; }\n",
        "\"\"\"\n",
        "\n",
        "# Plot \n",
        "fig, ax = plt.subplots(figsize=(14,6)) #set plot size\n",
        "ax.margins(0.03) # Optional, just adds 5% padding to the autoscaling\n",
        "\n",
        "#iterate through groups to layer the plot\n",
        "#note that I use the cluster_name and cluster_color dicts with the 'name' lookup to return the appropriate color/label\n",
        "for name, group in groups:\n",
        "    points = ax.plot(group.x, group.y, marker='o', linestyle='', ms=18, label=cluster_names[name], mec='none', color=cluster_colors[name])\n",
        "    ax.set_aspect('auto')\n",
        "    labels = [i for i in group.title]\n",
        "    \n",
        "    #set tooltip using points, labels and the already defined 'css'\n",
        "    tooltip = mpld3.plugins.PointHTMLTooltip(points[0], labels,\n",
        "                                       voffset=10, hoffset=10, css=css)\n",
        "    #connect tooltip to fig\n",
        "    mpld3.plugins.connect(fig, tooltip, TopToolbar())    \n",
        "    \n",
        "    #set tick marks as blank\n",
        "    ax.axes.get_xaxis().set_ticks([])\n",
        "    ax.axes.get_yaxis().set_ticks([])\n",
        "    \n",
        "    #set axis as blank\n",
        "    ax.axes.get_xaxis().set_visible(False)\n",
        "    ax.axes.get_yaxis().set_visible(False)\n",
        "\n",
        "    \n",
        "ax.legend(numpoints=1) #show legend with only one dot\n",
        "\n",
        "mpld3.display() #show the plot\n",
        "\n",
        "#uncomment the below to export to html\n",
        "#html = mpld3.fig_to_html(fig)\n",
        "#print(html)"
      ],
      "execution_count": 0,
      "outputs": [
        {
          "output_type": "execute_result",
          "data": {
            "text/html": [
              "\n",
              "\n",
              "<style>\n",
              "\n",
              "text.mpld3-text, div.mpld3-tooltip {\n",
              "  font-family:Arial, Helvetica, sans-serif;\n",
              "}\n",
              "\n",
              "g.mpld3-xaxis, g.mpld3-yaxis {\n",
              "display: none; }\n",
              "\n",
              "text.mpld3-text, div.mpld3-tooltip {\n",
              "  font-family:Arial, Helvetica, sans-serif;\n",
              "}\n",
              "\n",
              "g.mpld3-xaxis, g.mpld3-yaxis {\n",
              "display: none; }\n",
              "\n",
              "text.mpld3-text, div.mpld3-tooltip {\n",
              "  font-family:Arial, Helvetica, sans-serif;\n",
              "}\n",
              "\n",
              "g.mpld3-xaxis, g.mpld3-yaxis {\n",
              "display: none; }\n",
              "\n",
              "text.mpld3-text, div.mpld3-tooltip {\n",
              "  font-family:Arial, Helvetica, sans-serif;\n",
              "}\n",
              "\n",
              "g.mpld3-xaxis, g.mpld3-yaxis {\n",
              "display: none; }\n",
              "\n",
              "text.mpld3-text, div.mpld3-tooltip {\n",
              "  font-family:Arial, Helvetica, sans-serif;\n",
              "}\n",
              "\n",
              "g.mpld3-xaxis, g.mpld3-yaxis {\n",
              "display: none; }\n",
              "\n",
              "</style>\n",
              "\n",
              "<div id=\"fig_el1281400773635500801841817926\"></div>\n",
              "<script>\n",
              "function mpld3_load_lib(url, callback){\n",
              "  var s = document.createElement('script');\n",
              "  s.src = url;\n",
              "  s.async = true;\n",
              "  s.onreadystatechange = s.onload = callback;\n",
              "  s.onerror = function(){console.warn(\"failed to load library \" + url);};\n",
              "  document.getElementsByTagName(\"head\")[0].appendChild(s);\n",
              "}\n",
              "\n",
              "if(typeof(mpld3) !== \"undefined\" && mpld3._mpld3IsLoaded){\n",
              "   // already loaded: just create the figure\n",
              "   !function(mpld3){\n",
              "       \n",
              "    mpld3.register_plugin(\"htmltooltip\", HtmlTooltipPlugin);\n",
              "    HtmlTooltipPlugin.prototype = Object.create(mpld3.Plugin.prototype);\n",
              "    HtmlTooltipPlugin.prototype.constructor = HtmlTooltipPlugin;\n",
              "    HtmlTooltipPlugin.prototype.requiredProps = [\"id\"];\n",
              "    HtmlTooltipPlugin.prototype.defaultProps = {labels:null,\n",
              "                                                hoffset:0,\n",
              "                                                voffset:10};\n",
              "    function HtmlTooltipPlugin(fig, props){\n",
              "        mpld3.Plugin.call(this, fig, props);\n",
              "    };\n",
              "\n",
              "    HtmlTooltipPlugin.prototype.draw = function(){\n",
              "       var obj = mpld3.get_element(this.props.id);\n",
              "       var labels = this.props.labels;\n",
              "       var tooltip = d3.select(\"body\").append(\"div\")\n",
              "                    .attr(\"class\", \"mpld3-tooltip\")\n",
              "                    .style(\"position\", \"absolute\")\n",
              "                    .style(\"z-index\", \"10\")\n",
              "                    .style(\"visibility\", \"hidden\");\n",
              "\n",
              "       obj.elements()\n",
              "           .on(\"mouseover\", function(d, i){\n",
              "                              tooltip.html(labels[i])\n",
              "                                     .style(\"visibility\", \"visible\");})\n",
              "           .on(\"mousemove\", function(d, i){\n",
              "                  tooltip\n",
              "                    .style(\"top\", d3.event.pageY + this.props.voffset + \"px\")\n",
              "                    .style(\"left\",d3.event.pageX + this.props.hoffset + \"px\");\n",
              "                 }.bind(this))\n",
              "           .on(\"mouseout\",  function(d, i){\n",
              "                           tooltip.style(\"visibility\", \"hidden\");});\n",
              "    };\n",
              "    \n",
              "    mpld3.register_plugin(\"toptoolbar\", TopToolbar);\n",
              "    TopToolbar.prototype = Object.create(mpld3.Plugin.prototype);\n",
              "    TopToolbar.prototype.constructor = TopToolbar;\n",
              "    function TopToolbar(fig, props){\n",
              "        mpld3.Plugin.call(this, fig, props);\n",
              "    };\n",
              "\n",
              "    TopToolbar.prototype.draw = function(){\n",
              "      // the toolbar svg doesn't exist\n",
              "      // yet, so first draw it\n",
              "      this.fig.toolbar.draw();\n",
              "\n",
              "      // then change the y position to be\n",
              "      // at the top of the figure\n",
              "      this.fig.toolbar.toolbar.attr(\"x\", 150);\n",
              "      this.fig.toolbar.toolbar.attr(\"y\", 400);\n",
              "\n",
              "      // then remove the draw function,\n",
              "      // so that it is not called again\n",
              "      this.fig.toolbar.draw = function() {}\n",
              "    }\n",
              "    \n",
              "    mpld3.register_plugin(\"htmltooltip\", HtmlTooltipPlugin);\n",
              "    HtmlTooltipPlugin.prototype = Object.create(mpld3.Plugin.prototype);\n",
              "    HtmlTooltipPlugin.prototype.constructor = HtmlTooltipPlugin;\n",
              "    HtmlTooltipPlugin.prototype.requiredProps = [\"id\"];\n",
              "    HtmlTooltipPlugin.prototype.defaultProps = {labels:null,\n",
              "                                                hoffset:0,\n",
              "                                                voffset:10};\n",
              "    function HtmlTooltipPlugin(fig, props){\n",
              "        mpld3.Plugin.call(this, fig, props);\n",
              "    };\n",
              "\n",
              "    HtmlTooltipPlugin.prototype.draw = function(){\n",
              "       var obj = mpld3.get_element(this.props.id);\n",
              "       var labels = this.props.labels;\n",
              "       var tooltip = d3.select(\"body\").append(\"div\")\n",
              "                    .attr(\"class\", \"mpld3-tooltip\")\n",
              "                    .style(\"position\", \"absolute\")\n",
              "                    .style(\"z-index\", \"10\")\n",
              "                    .style(\"visibility\", \"hidden\");\n",
              "\n",
              "       obj.elements()\n",
              "           .on(\"mouseover\", function(d, i){\n",
              "                              tooltip.html(labels[i])\n",
              "                                     .style(\"visibility\", \"visible\");})\n",
              "           .on(\"mousemove\", function(d, i){\n",
              "                  tooltip\n",
              "                    .style(\"top\", d3.event.pageY + this.props.voffset + \"px\")\n",
              "                    .style(\"left\",d3.event.pageX + this.props.hoffset + \"px\");\n",
              "                 }.bind(this))\n",
              "           .on(\"mouseout\",  function(d, i){\n",
              "                           tooltip.style(\"visibility\", \"hidden\");});\n",
              "    };\n",
              "    \n",
              "    mpld3.register_plugin(\"toptoolbar\", TopToolbar);\n",
              "    TopToolbar.prototype = Object.create(mpld3.Plugin.prototype);\n",
              "    TopToolbar.prototype.constructor = TopToolbar;\n",
              "    function TopToolbar(fig, props){\n",
              "        mpld3.Plugin.call(this, fig, props);\n",
              "    };\n",
              "\n",
              "    TopToolbar.prototype.draw = function(){\n",
              "      // the toolbar svg doesn't exist\n",
              "      // yet, so first draw it\n",
              "      this.fig.toolbar.draw();\n",
              "\n",
              "      // then change the y position to be\n",
              "      // at the top of the figure\n",
              "      this.fig.toolbar.toolbar.attr(\"x\", 150);\n",
              "      this.fig.toolbar.toolbar.attr(\"y\", 400);\n",
              "\n",
              "      // then remove the draw function,\n",
              "      // so that it is not called again\n",
              "      this.fig.toolbar.draw = function() {}\n",
              "    }\n",
              "    \n",
              "    mpld3.register_plugin(\"htmltooltip\", HtmlTooltipPlugin);\n",
              "    HtmlTooltipPlugin.prototype = Object.create(mpld3.Plugin.prototype);\n",
              "    HtmlTooltipPlugin.prototype.constructor = HtmlTooltipPlugin;\n",
              "    HtmlTooltipPlugin.prototype.requiredProps = [\"id\"];\n",
              "    HtmlTooltipPlugin.prototype.defaultProps = {labels:null,\n",
              "                                                hoffset:0,\n",
              "                                                voffset:10};\n",
              "    function HtmlTooltipPlugin(fig, props){\n",
              "        mpld3.Plugin.call(this, fig, props);\n",
              "    };\n",
              "\n",
              "    HtmlTooltipPlugin.prototype.draw = function(){\n",
              "       var obj = mpld3.get_element(this.props.id);\n",
              "       var labels = this.props.labels;\n",
              "       var tooltip = d3.select(\"body\").append(\"div\")\n",
              "                    .attr(\"class\", \"mpld3-tooltip\")\n",
              "                    .style(\"position\", \"absolute\")\n",
              "                    .style(\"z-index\", \"10\")\n",
              "                    .style(\"visibility\", \"hidden\");\n",
              "\n",
              "       obj.elements()\n",
              "           .on(\"mouseover\", function(d, i){\n",
              "                              tooltip.html(labels[i])\n",
              "                                     .style(\"visibility\", \"visible\");})\n",
              "           .on(\"mousemove\", function(d, i){\n",
              "                  tooltip\n",
              "                    .style(\"top\", d3.event.pageY + this.props.voffset + \"px\")\n",
              "                    .style(\"left\",d3.event.pageX + this.props.hoffset + \"px\");\n",
              "                 }.bind(this))\n",
              "           .on(\"mouseout\",  function(d, i){\n",
              "                           tooltip.style(\"visibility\", \"hidden\");});\n",
              "    };\n",
              "    \n",
              "    mpld3.register_plugin(\"toptoolbar\", TopToolbar);\n",
              "    TopToolbar.prototype = Object.create(mpld3.Plugin.prototype);\n",
              "    TopToolbar.prototype.constructor = TopToolbar;\n",
              "    function TopToolbar(fig, props){\n",
              "        mpld3.Plugin.call(this, fig, props);\n",
              "    };\n",
              "\n",
              "    TopToolbar.prototype.draw = function(){\n",
              "      // the toolbar svg doesn't exist\n",
              "      // yet, so first draw it\n",
              "      this.fig.toolbar.draw();\n",
              "\n",
              "      // then change the y position to be\n",
              "      // at the top of the figure\n",
              "      this.fig.toolbar.toolbar.attr(\"x\", 150);\n",
              "      this.fig.toolbar.toolbar.attr(\"y\", 400);\n",
              "\n",
              "      // then remove the draw function,\n",
              "      // so that it is not called again\n",
              "      this.fig.toolbar.draw = function() {}\n",
              "    }\n",
              "    \n",
              "    mpld3.register_plugin(\"htmltooltip\", HtmlTooltipPlugin);\n",
              "    HtmlTooltipPlugin.prototype = Object.create(mpld3.Plugin.prototype);\n",
              "    HtmlTooltipPlugin.prototype.constructor = HtmlTooltipPlugin;\n",
              "    HtmlTooltipPlugin.prototype.requiredProps = [\"id\"];\n",
              "    HtmlTooltipPlugin.prototype.defaultProps = {labels:null,\n",
              "                                                hoffset:0,\n",
              "                                                voffset:10};\n",
              "    function HtmlTooltipPlugin(fig, props){\n",
              "        mpld3.Plugin.call(this, fig, props);\n",
              "    };\n",
              "\n",
              "    HtmlTooltipPlugin.prototype.draw = function(){\n",
              "       var obj = mpld3.get_element(this.props.id);\n",
              "       var labels = this.props.labels;\n",
              "       var tooltip = d3.select(\"body\").append(\"div\")\n",
              "                    .attr(\"class\", \"mpld3-tooltip\")\n",
              "                    .style(\"position\", \"absolute\")\n",
              "                    .style(\"z-index\", \"10\")\n",
              "                    .style(\"visibility\", \"hidden\");\n",
              "\n",
              "       obj.elements()\n",
              "           .on(\"mouseover\", function(d, i){\n",
              "                              tooltip.html(labels[i])\n",
              "                                     .style(\"visibility\", \"visible\");})\n",
              "           .on(\"mousemove\", function(d, i){\n",
              "                  tooltip\n",
              "                    .style(\"top\", d3.event.pageY + this.props.voffset + \"px\")\n",
              "                    .style(\"left\",d3.event.pageX + this.props.hoffset + \"px\");\n",
              "                 }.bind(this))\n",
              "           .on(\"mouseout\",  function(d, i){\n",
              "                           tooltip.style(\"visibility\", \"hidden\");});\n",
              "    };\n",
              "    \n",
              "    mpld3.register_plugin(\"toptoolbar\", TopToolbar);\n",
              "    TopToolbar.prototype = Object.create(mpld3.Plugin.prototype);\n",
              "    TopToolbar.prototype.constructor = TopToolbar;\n",
              "    function TopToolbar(fig, props){\n",
              "        mpld3.Plugin.call(this, fig, props);\n",
              "    };\n",
              "\n",
              "    TopToolbar.prototype.draw = function(){\n",
              "      // the toolbar svg doesn't exist\n",
              "      // yet, so first draw it\n",
              "      this.fig.toolbar.draw();\n",
              "\n",
              "      // then change the y position to be\n",
              "      // at the top of the figure\n",
              "      this.fig.toolbar.toolbar.attr(\"x\", 150);\n",
              "      this.fig.toolbar.toolbar.attr(\"y\", 400);\n",
              "\n",
              "      // then remove the draw function,\n",
              "      // so that it is not called again\n",
              "      this.fig.toolbar.draw = function() {}\n",
              "    }\n",
              "    \n",
              "    mpld3.register_plugin(\"htmltooltip\", HtmlTooltipPlugin);\n",
              "    HtmlTooltipPlugin.prototype = Object.create(mpld3.Plugin.prototype);\n",
              "    HtmlTooltipPlugin.prototype.constructor = HtmlTooltipPlugin;\n",
              "    HtmlTooltipPlugin.prototype.requiredProps = [\"id\"];\n",
              "    HtmlTooltipPlugin.prototype.defaultProps = {labels:null,\n",
              "                                                hoffset:0,\n",
              "                                                voffset:10};\n",
              "    function HtmlTooltipPlugin(fig, props){\n",
              "        mpld3.Plugin.call(this, fig, props);\n",
              "    };\n",
              "\n",
              "    HtmlTooltipPlugin.prototype.draw = function(){\n",
              "       var obj = mpld3.get_element(this.props.id);\n",
              "       var labels = this.props.labels;\n",
              "       var tooltip = d3.select(\"body\").append(\"div\")\n",
              "                    .attr(\"class\", \"mpld3-tooltip\")\n",
              "                    .style(\"position\", \"absolute\")\n",
              "                    .style(\"z-index\", \"10\")\n",
              "                    .style(\"visibility\", \"hidden\");\n",
              "\n",
              "       obj.elements()\n",
              "           .on(\"mouseover\", function(d, i){\n",
              "                              tooltip.html(labels[i])\n",
              "                                     .style(\"visibility\", \"visible\");})\n",
              "           .on(\"mousemove\", function(d, i){\n",
              "                  tooltip\n",
              "                    .style(\"top\", d3.event.pageY + this.props.voffset + \"px\")\n",
              "                    .style(\"left\",d3.event.pageX + this.props.hoffset + \"px\");\n",
              "                 }.bind(this))\n",
              "           .on(\"mouseout\",  function(d, i){\n",
              "                           tooltip.style(\"visibility\", \"hidden\");});\n",
              "    };\n",
              "    \n",
              "    mpld3.register_plugin(\"toptoolbar\", TopToolbar);\n",
              "    TopToolbar.prototype = Object.create(mpld3.Plugin.prototype);\n",
              "    TopToolbar.prototype.constructor = TopToolbar;\n",
              "    function TopToolbar(fig, props){\n",
              "        mpld3.Plugin.call(this, fig, props);\n",
              "    };\n",
              "\n",
              "    TopToolbar.prototype.draw = function(){\n",
              "      // the toolbar svg doesn't exist\n",
              "      // yet, so first draw it\n",
              "      this.fig.toolbar.draw();\n",
              "\n",
              "      // then change the y position to be\n",
              "      // at the top of the figure\n",
              "      this.fig.toolbar.toolbar.attr(\"x\", 150);\n",
              "      this.fig.toolbar.toolbar.attr(\"y\", 400);\n",
              "\n",
              "      // then remove the draw function,\n",
              "      // so that it is not called again\n",
              "      this.fig.toolbar.draw = function() {}\n",
              "    }\n",
              "    \n",
              "       mpld3.draw_figure(\"fig_el1281400773635500801841817926\", {\"width\": 1008.0, \"height\": 432.0, \"axes\": [{\"bbox\": [0.125, 0.125, 0.775, 0.755], \"xlim\": [-0.7022446245855736, 0.7098314809788799], \"ylim\": [-0.7081718721860429, 0.6939226674565517], \"xdomain\": [-0.7022446245855736, 0.7098314809788799], \"ydomain\": [-0.7081718721860429, 0.6939226674565517], \"xscale\": \"linear\", \"yscale\": \"linear\", \"axes\": [{\"position\": \"bottom\", \"nticks\": 0, \"tickvalues\": [], \"tickformat\": \"\", \"scale\": \"linear\", \"fontsize\": null, \"grid\": {\"gridOn\": false}, \"visible\": false}, {\"position\": \"left\", \"nticks\": 0, \"tickvalues\": [], \"tickformat\": \"\", \"scale\": \"linear\", \"fontsize\": null, \"grid\": {\"gridOn\": false}, \"visible\": false}], \"axesbg\": \"#FFFFFF\", \"axesbgalpha\": null, \"zoomable\": true, \"id\": \"el128140077379200000\", \"lines\": [], \"paths\": [{\"data\": \"data07\", \"xindex\": 0, \"yindex\": 1, \"coordinates\": \"axes\", \"pathcodes\": [\"M\", \"L\", \"S\", \"L\", \"S\", \"L\", \"S\", \"L\", \"S\", \"Z\"], \"id\": \"el128140077379602304\", \"dasharray\": \"none\", \"alpha\": 0.8, \"facecolor\": \"#FFFFFF\", \"edgecolor\": \"#CCCCCC\", \"edgewidth\": 1.0, \"zorder\": 1000000.0}], \"markers\": [{\"data\": \"data01\", \"xindex\": 0, \"yindex\": 1, \"coordinates\": \"data\", \"id\": \"el128140077381396520pts\", \"facecolor\": \"#1B9E77\", \"edgecolor\": \"none\", \"edgewidth\": 1.0, \"alpha\": 1, \"zorder\": 2, \"markerpath\": [[[0.0, 9.0], [2.3868279, 9.0], [4.676218837063681, 8.051703224294176], [6.3639610306789285, 6.3639610306789285], [8.051703224294176, 4.676218837063681], [9.0, 2.3868279], [9.0, 0.0], [9.0, -2.3868279], [8.051703224294176, -4.676218837063681], [6.3639610306789285, -6.3639610306789285], [4.676218837063681, -8.051703224294176], [2.3868279, -9.0], [0.0, -9.0], [-2.3868279, -9.0], [-4.676218837063681, -8.051703224294176], [-6.3639610306789285, -6.3639610306789285], [-8.051703224294176, -4.676218837063681], [-9.0, -2.3868279], [-9.0, 0.0], [-9.0, 2.3868279], [-8.051703224294176, 4.676218837063681], [-6.3639610306789285, 6.3639610306789285], [-4.676218837063681, 8.051703224294176], [-2.3868279, 9.0], [0.0, 9.0]], [\"M\", \"C\", \"C\", \"C\", \"C\", \"C\", \"C\", \"C\", \"C\", \"Z\"]]}, {\"data\": \"data02\", \"xindex\": 0, \"yindex\": 1, \"coordinates\": \"data\", \"id\": \"el128140077379187096pts\", \"facecolor\": \"#D95F02\", \"edgecolor\": \"none\", \"edgewidth\": 1.0, \"alpha\": 1, \"zorder\": 2, \"markerpath\": [[[0.0, 9.0], [2.3868279, 9.0], [4.676218837063681, 8.051703224294176], [6.3639610306789285, 6.3639610306789285], [8.051703224294176, 4.676218837063681], [9.0, 2.3868279], [9.0, 0.0], [9.0, -2.3868279], [8.051703224294176, -4.676218837063681], [6.3639610306789285, -6.3639610306789285], [4.676218837063681, -8.051703224294176], [2.3868279, -9.0], [0.0, -9.0], [-2.3868279, -9.0], [-4.676218837063681, -8.051703224294176], [-6.3639610306789285, -6.3639610306789285], [-8.051703224294176, -4.676218837063681], [-9.0, -2.3868279], [-9.0, 0.0], [-9.0, 2.3868279], [-8.051703224294176, 4.676218837063681], [-6.3639610306789285, 6.3639610306789285], [-4.676218837063681, 8.051703224294176], [-2.3868279, 9.0], [0.0, 9.0]], [\"M\", \"C\", \"C\", \"C\", \"C\", \"C\", \"C\", \"C\", \"C\", \"Z\"]]}, {\"data\": \"data03\", \"xindex\": 0, \"yindex\": 1, \"coordinates\": \"data\", \"id\": \"el128140077381396408pts\", \"facecolor\": \"#7570B3\", \"edgecolor\": \"none\", \"edgewidth\": 1.0, \"alpha\": 1, \"zorder\": 2, \"markerpath\": [[[0.0, 9.0], [2.3868279, 9.0], [4.676218837063681, 8.051703224294176], [6.3639610306789285, 6.3639610306789285], [8.051703224294176, 4.676218837063681], [9.0, 2.3868279], [9.0, 0.0], [9.0, -2.3868279], [8.051703224294176, -4.676218837063681], [6.3639610306789285, -6.3639610306789285], [4.676218837063681, -8.051703224294176], [2.3868279, -9.0], [0.0, -9.0], [-2.3868279, -9.0], [-4.676218837063681, -8.051703224294176], [-6.3639610306789285, -6.3639610306789285], [-8.051703224294176, -4.676218837063681], [-9.0, -2.3868279], [-9.0, 0.0], [-9.0, 2.3868279], [-8.051703224294176, 4.676218837063681], [-6.3639610306789285, 6.3639610306789285], [-4.676218837063681, 8.051703224294176], [-2.3868279, 9.0], [0.0, 9.0]], [\"M\", \"C\", \"C\", \"C\", \"C\", \"C\", \"C\", \"C\", \"C\", \"Z\"]]}, {\"data\": \"data04\", \"xindex\": 0, \"yindex\": 1, \"coordinates\": \"data\", \"id\": \"el128140077363841064pts\", \"facecolor\": \"#E7298A\", \"edgecolor\": \"none\", \"edgewidth\": 1.0, \"alpha\": 1, \"zorder\": 2, \"markerpath\": [[[0.0, 9.0], [2.3868279, 9.0], [4.676218837063681, 8.051703224294176], [6.3639610306789285, 6.3639610306789285], [8.051703224294176, 4.676218837063681], [9.0, 2.3868279], [9.0, 0.0], [9.0, -2.3868279], [8.051703224294176, -4.676218837063681], [6.3639610306789285, -6.3639610306789285], [4.676218837063681, -8.051703224294176], [2.3868279, -9.0], [0.0, -9.0], [-2.3868279, -9.0], [-4.676218837063681, -8.051703224294176], [-6.3639610306789285, -6.3639610306789285], [-8.051703224294176, -4.676218837063681], [-9.0, -2.3868279], [-9.0, 0.0], [-9.0, 2.3868279], [-8.051703224294176, 4.676218837063681], [-6.3639610306789285, 6.3639610306789285], [-4.676218837063681, 8.051703224294176], [-2.3868279, 9.0], [0.0, 9.0]], [\"M\", \"C\", \"C\", \"C\", \"C\", \"C\", \"C\", \"C\", \"C\", \"Z\"]]}, {\"data\": \"data05\", \"xindex\": 0, \"yindex\": 1, \"coordinates\": \"data\", \"id\": \"el128140077375536936pts\", \"facecolor\": \"#66A61E\", \"edgecolor\": \"none\", \"edgewidth\": 1.0, \"alpha\": 1, \"zorder\": 2, \"markerpath\": [[[0.0, 9.0], [2.3868279, 9.0], [4.676218837063681, 8.051703224294176], [6.3639610306789285, 6.3639610306789285], [8.051703224294176, 4.676218837063681], [9.0, 2.3868279], [9.0, 0.0], [9.0, -2.3868279], [8.051703224294176, -4.676218837063681], [6.3639610306789285, -6.3639610306789285], [4.676218837063681, -8.051703224294176], [2.3868279, -9.0], [0.0, -9.0], [-2.3868279, -9.0], [-4.676218837063681, -8.051703224294176], [-6.3639610306789285, -6.3639610306789285], [-8.051703224294176, -4.676218837063681], [-9.0, -2.3868279], [-9.0, 0.0], [-9.0, 2.3868279], [-8.051703224294176, 4.676218837063681], [-6.3639610306789285, 6.3639610306789285], [-4.676218837063681, 8.051703224294176], [-2.3868279, 9.0], [0.0, 9.0]], [\"M\", \"C\", \"C\", \"C\", \"C\", \"C\", \"C\", \"C\", \"C\", \"Z\"]]}, {\"data\": \"data06\", \"xindex\": 0, \"yindex\": 1, \"coordinates\": \"axes\", \"id\": \"el128140077379251000pts\", \"facecolor\": \"#1B9E77\", \"edgecolor\": \"none\", \"edgewidth\": 1.0, \"alpha\": 1, \"zorder\": 1000002.0, \"markerpath\": [[[0.0, 9.0], [2.3868279, 9.0], [4.676218837063681, 8.051703224294176], [6.3639610306789285, 6.3639610306789285], [8.051703224294176, 4.676218837063681], [9.0, 2.3868279], [9.0, 0.0], [9.0, -2.3868279], [8.051703224294176, -4.676218837063681], [6.3639610306789285, -6.3639610306789285], [4.676218837063681, -8.051703224294176], [2.3868279, -9.0], [0.0, -9.0], [-2.3868279, -9.0], [-4.676218837063681, -8.051703224294176], [-6.3639610306789285, -6.3639610306789285], [-8.051703224294176, -4.676218837063681], [-9.0, -2.3868279], [-9.0, 0.0], [-9.0, 2.3868279], [-8.051703224294176, 4.676218837063681], [-6.3639610306789285, 6.3639610306789285], [-4.676218837063681, 8.051703224294176], [-2.3868279, 9.0], [0.0, 9.0]], [\"M\", \"C\", \"C\", \"C\", \"C\", \"C\", \"C\", \"C\", \"C\", \"Z\"]]}, {\"data\": \"data06\", \"xindex\": 0, \"yindex\": 2, \"coordinates\": \"axes\", \"id\": \"el128140077380404392pts\", \"facecolor\": \"#D95F02\", \"edgecolor\": \"none\", \"edgewidth\": 1.0, \"alpha\": 1, \"zorder\": 1000002.0, \"markerpath\": [[[0.0, 9.0], [2.3868279, 9.0], [4.676218837063681, 8.051703224294176], [6.3639610306789285, 6.3639610306789285], [8.051703224294176, 4.676218837063681], [9.0, 2.3868279], [9.0, 0.0], [9.0, -2.3868279], [8.051703224294176, -4.676218837063681], [6.3639610306789285, -6.3639610306789285], [4.676218837063681, -8.051703224294176], [2.3868279, -9.0], [0.0, -9.0], [-2.3868279, -9.0], [-4.676218837063681, -8.051703224294176], [-6.3639610306789285, -6.3639610306789285], [-8.051703224294176, -4.676218837063681], [-9.0, -2.3868279], [-9.0, 0.0], [-9.0, 2.3868279], [-8.051703224294176, 4.676218837063681], [-6.3639610306789285, 6.3639610306789285], [-4.676218837063681, 8.051703224294176], [-2.3868279, 9.0], [0.0, 9.0]], [\"M\", \"C\", \"C\", \"C\", \"C\", \"C\", \"C\", \"C\", \"C\", \"Z\"]]}, {\"data\": \"data06\", \"xindex\": 0, \"yindex\": 3, \"coordinates\": \"axes\", \"id\": \"el128140077380405792pts\", \"facecolor\": \"#7570B3\", \"edgecolor\": \"none\", \"edgewidth\": 1.0, \"alpha\": 1, \"zorder\": 1000002.0, \"markerpath\": [[[0.0, 9.0], [2.3868279, 9.0], [4.676218837063681, 8.051703224294176], [6.3639610306789285, 6.3639610306789285], [8.051703224294176, 4.676218837063681], [9.0, 2.3868279], [9.0, 0.0], [9.0, -2.3868279], [8.051703224294176, -4.676218837063681], [6.3639610306789285, -6.3639610306789285], [4.676218837063681, -8.051703224294176], [2.3868279, -9.0], [0.0, -9.0], [-2.3868279, -9.0], [-4.676218837063681, -8.051703224294176], [-6.3639610306789285, -6.3639610306789285], [-8.051703224294176, -4.676218837063681], [-9.0, -2.3868279], [-9.0, 0.0], [-9.0, 2.3868279], [-8.051703224294176, 4.676218837063681], [-6.3639610306789285, 6.3639610306789285], [-4.676218837063681, 8.051703224294176], [-2.3868279, 9.0], [0.0, 9.0]], [\"M\", \"C\", \"C\", \"C\", \"C\", \"C\", \"C\", \"C\", \"C\", \"Z\"]]}, {\"data\": \"data06\", \"xindex\": 0, \"yindex\": 4, \"coordinates\": \"axes\", \"id\": \"el128140077375506416pts\", \"facecolor\": \"#E7298A\", \"edgecolor\": \"none\", \"edgewidth\": 1.0, \"alpha\": 1, \"zorder\": 1000002.0, \"markerpath\": [[[0.0, 9.0], [2.3868279, 9.0], [4.676218837063681, 8.051703224294176], [6.3639610306789285, 6.3639610306789285], [8.051703224294176, 4.676218837063681], [9.0, 2.3868279], [9.0, 0.0], [9.0, -2.3868279], [8.051703224294176, -4.676218837063681], [6.3639610306789285, -6.3639610306789285], [4.676218837063681, -8.051703224294176], [2.3868279, -9.0], [0.0, -9.0], [-2.3868279, -9.0], [-4.676218837063681, -8.051703224294176], [-6.3639610306789285, -6.3639610306789285], [-8.051703224294176, -4.676218837063681], [-9.0, -2.3868279], [-9.0, 0.0], [-9.0, 2.3868279], [-8.051703224294176, 4.676218837063681], [-6.3639610306789285, 6.3639610306789285], [-4.676218837063681, 8.051703224294176], [-2.3868279, 9.0], [0.0, 9.0]], [\"M\", \"C\", \"C\", \"C\", \"C\", \"C\", \"C\", \"C\", \"C\", \"Z\"]]}, {\"data\": \"data06\", \"xindex\": 0, \"yindex\": 5, \"coordinates\": \"axes\", \"id\": \"el128140077375507200pts\", \"facecolor\": \"#66A61E\", \"edgecolor\": \"none\", \"edgewidth\": 1.0, \"alpha\": 1, \"zorder\": 1000002.0, \"markerpath\": [[[0.0, 9.0], [2.3868279, 9.0], [4.676218837063681, 8.051703224294176], [6.3639610306789285, 6.3639610306789285], [8.051703224294176, 4.676218837063681], [9.0, 2.3868279], [9.0, 0.0], [9.0, -2.3868279], [8.051703224294176, -4.676218837063681], [6.3639610306789285, -6.3639610306789285], [4.676218837063681, -8.051703224294176], [2.3868279, -9.0], [0.0, -9.0], [-2.3868279, -9.0], [-4.676218837063681, -8.051703224294176], [-6.3639610306789285, -6.3639610306789285], [-8.051703224294176, -4.676218837063681], [-9.0, -2.3868279], [-9.0, 0.0], [-9.0, 2.3868279], [-8.051703224294176, 4.676218837063681], [-6.3639610306789285, 6.3639610306789285], [-4.676218837063681, 8.051703224294176], [-2.3868279, 9.0], [0.0, 9.0]], [\"M\", \"C\", \"C\", \"C\", \"C\", \"C\", \"C\", \"C\", \"C\", \"Z\"]]}], \"texts\": [{\"text\": \"Family, home, war\", \"position\": [0.04736303123399899, 0.9478783419180772], \"coordinates\": \"axes\", \"h_anchor\": \"start\", \"v_baseline\": \"auto\", \"rotation\": -0.0, \"fontsize\": 10.0, \"color\": \"#000000\", \"alpha\": 1, \"zorder\": 1000003.0, \"id\": \"el128140077379250104\"}, {\"text\": \"Police, killed, murders\", \"position\": [0.04736303123399899, 0.901888643610498], \"coordinates\": \"axes\", \"h_anchor\": \"start\", \"v_baseline\": \"auto\", \"rotation\": -0.0, \"fontsize\": 10.0, \"color\": \"#000000\", \"alpha\": 1, \"zorder\": 1000003.0, \"id\": \"el128140077380404840\"}, {\"text\": \"Father, New York, brothers\", \"position\": [0.04736303123399899, 0.8558989453029189], \"coordinates\": \"axes\", \"h_anchor\": \"start\", \"v_baseline\": \"auto\", \"rotation\": -0.0, \"fontsize\": 10.0, \"color\": \"#000000\", \"alpha\": 1, \"zorder\": 1000003.0, \"id\": \"el128140077380404952\"}, {\"text\": \"Dance, singing, love\", \"position\": [0.04736303123399899, 0.8099092469953398], \"coordinates\": \"axes\", \"h_anchor\": \"start\", \"v_baseline\": \"auto\", \"rotation\": -0.0, \"fontsize\": 10.0, \"color\": \"#000000\", \"alpha\": 1, \"zorder\": 1000003.0, \"id\": \"el128140077375507816\"}, {\"text\": \"Killed, soldiers, captain\", \"position\": [0.04736303123399899, 0.7639195486877607], \"coordinates\": \"axes\", \"h_anchor\": \"start\", \"v_baseline\": \"auto\", \"rotation\": -0.0, \"fontsize\": 10.0, \"color\": \"#000000\", \"alpha\": 1, \"zorder\": 1000003.0, \"id\": \"el128140077375507872\"}], \"collections\": [], \"images\": [], \"sharex\": [], \"sharey\": []}], \"data\": {\"data01\": [[-0.1322719575464937, 0.5745384801472346], [0.6037432800571015, -0.3456991338989107], [0.19843842072641957, -0.3892916828503901], [0.35008658312976565, -0.3395216322234649], [-0.34166783709147874, 0.6344444329502972], [0.07969434882060122, -0.3889371661029425], [0.2751629686852375, -0.29429024034799267], [0.06214704621807477, 0.6101371440051022], [0.3349800805046648, -0.6458620573675339]], \"data02\": [[-0.0315921508840531, -0.4566379132040243], [0.05822957027259516, 0.25692953386554007], [-0.25090778865276764, -0.5748301691298103], [-0.08222117190461253, -0.5783371225442104], [-0.016415337094763633, -0.635603388766459], [0.01970760844693588, -0.6360131358153774], [0.24381678674290905, -0.5041387862290508], [0.08011541418687022, -0.4798779364144976], [-0.15247085949074055, -0.34091843849803144], [-0.020101379300061582, -0.35709842717078333], [-0.22754763513663523, -0.4504922269840453], [0.12875366545283076, -0.668489951252762], [0.49289737380215365, -0.14112529581269803], [-0.06978357652529119, 0.5697755231183576], [-0.11274056497586203, -0.4992690165884378], [0.18267302179861472, -0.5787625309524593], [0.15637950657836672, -0.2130082170103366], [-0.08765224335890494, -0.20078309954757084], [-0.18334149000821814, -0.5551280766277895], [0.3243862951002702, -0.45653595159186516]], \"data03\": [[0.05839902455424584, -0.04612821871658982], [0.011707339999007723, 0.46244857553479835], [-0.43458221470796937, -0.29655933230579207], [0.07164980401233928, 0.13140842985205642], [-0.22775176430438593, 0.0686722526469981], [-0.4301218469327215, 0.28528616015884894], [-0.352756054531658, 0.12706104279951938], [0.3548063612344592, 0.008230388449865372], [-0.021722502077054378, -0.04277898807708711], [-0.17157923142430895, 0.23225249097459683], [0.5307508765954951, 0.12934995486954096], [0.4157900555927234, 0.40666800500403905], [-0.284456733149374, 0.2757335582608159], [0.34339799473545785, 0.2458875178095957], [-0.20377837648670546, 0.5597732710930736], [0.3182060352651071, 0.08767290955546969], [-0.19657213727582062, 0.39573854896210664], [0.3442345942883033, -0.13024993477969682], [0.1607366978752406, -0.11945297477856465], [-0.5962489128496028, 0.1902908199511054], [0.20869950117396566, 0.06431546201597814], [0.18357552763039248, 0.30293270616670415], [0.5655872568440837, 0.34274924126628004], [-0.4208455890181574, 0.46273188035730484], [-0.3031164788430478, 0.47587091621770167], [0.6448729810407788, -0.1557495377370642], [-0.18141401157118808, 0.476647579374159], [-0.02886047494747564, 0.6542407465232708], [0.12067866743531375, 0.4813363821584612], [0.1256435191328854, 0.41778999871243466], [0.21979780091086543, 0.480125853382018], [-0.02234991385407322, 0.33870444474578143], [-0.3416411136605305, 0.03635935199996692], [0.4819545360434788, 0.008013240019344042], [0.4758882198147044, -0.43583831863092565], [0.668847785088706, -0.08783283749852638], [-0.32433797240302575, 0.3312099814646864], [-0.6012517387271845, -0.041885919469176955], [-0.34156011933518043, -0.06836233054197183], [-0.18645450426345928, 0.15048530967995605], [0.18507532499118465, 0.5789634882503976], [-0.5810674876200926, 0.10583683075043317], [-0.19967295689697648, 0.006401158105055718]], \"data04\": [[0.4184044202336735, 0.5850489899951158], [0.6698670628968671, 0.11896605280395112], [0.4020451359180297, 0.49856493148445424], [0.6677334884276231, 0.26950029052305535], [-0.5674182514385863, -0.35374010333970274], [0.6273622875630931, 0.35942698334231976]], \"data05\": [[0.1842728439475582, -0.01171561132830127], [0.442064120935783, -0.27869804841256246], [-0.25873683502627376, -0.26527516559786946], [-0.05321665416837212, 0.1233703192267357], [0.5523203950143736, 0.49066954517763783], [-0.48429634509263564, 0.17299124057612392], [0.5177811917071934, -0.2536618659106642], [-0.5523024142568753, -0.22470452093168852], [0.4335012948308015, 0.14567214405203704], [-0.15353411958660523, -0.3013348801222508], [0.21436568495016242, 0.2183332317723502], [-0.34789814258235774, -0.3258509720117311], [-0.3609008933642032, -0.4819614231794136], [-0.6622802065035608, -0.2050371436414275], [-0.45990623558854765, 0.0077174098585452945], [-0.5514598654354418, 0.3351166974656102], [-0.4533760890831627, -0.44518107570439874], [-0.3394231160832905, -0.15110745645779733], [-0.5521585808438257, 0.02889178165407558], [-0.46600996939124417, -0.09927639405993231], [-0.5791042079012673, 0.29034628826327125], [-0.20835174801118275, -0.05859486722959797]], \"data06\": [[0.024321556579621102, 0.958609271523179, 0.9126195732155998, 0.8666298749080207, 0.8206401766004416, 0.7746504782928625]], \"data07\": [[0.00896057347670251, 0.745523669364729], [0.22111415130568354, 0.745523669364729], [0.22367431515617, 0.745523669364729], [0.22367431515617, 0.7516556291390729], [0.22367431515617, 0.9785381407897964], [0.22367431515617, 0.9846701005641403], [0.22111415130568354, 0.9846701005641403], [0.00896057347670251, 0.9846701005641403], [0.006400409626216075, 0.9846701005641403], [0.006400409626216075, 0.9785381407897964], [0.006400409626216075, 0.7516556291390729], [0.006400409626216075, 0.745523669364729], [0.00896057347670251, 0.745523669364729]]}, \"id\": \"el128140077363550080\", \"plugins\": [{\"type\": \"reset\"}, {\"type\": \"zoom\", \"button\": true, \"enabled\": false}, {\"type\": \"boxzoom\", \"button\": true, \"enabled\": false}, {\"type\": \"htmltooltip\", \"id\": \"el128140077381396520pts\", \"labels\": [\"Raging Bull\", \"Titanic\", \"Star Wars\", \"2001: A Space Odyssey\", \"Singin' in the Rain\", \"Jaws\", \"Close Encounters of the Third Kind\", \"Nashville\", \"Mutiny on the Bounty\"], \"hoffset\": 10, \"voffset\": 10}, {\"type\": \"toptoolbar\"}, {\"type\": \"htmltooltip\", \"id\": \"el128140077379187096pts\", \"labels\": [\"Schindler's List\", \"One Flew Over the Cuckoo's Nest\", \"Lawrence of Arabia\", \"The Bridge on the River Kwai\", \"Dr. Strangelove or: How I Learned to Stop Worrying and Love the Bomb\", \"Apocalypse Now\", \"The Lord of the Rings: The Return of the King\", \"Gladiator\", \"From Here to Eternity\", \"Saving Private Ryan\", \"Raiders of the Lost Ark\", \"Patton\", \"Braveheart\", \"The Good, the Bad and the Ugly\", \"Platoon\", \"Dances with Wolves\", \"The Pianist\", \"The Deer Hunter\", \"All Quiet on the Western Front\", \"Stagecoach\"], \"hoffset\": 10, \"voffset\": 10}, {\"type\": \"toptoolbar\"}, {\"type\": \"htmltooltip\", \"id\": \"el128140077381396408pts\", \"labels\": [\"Gone with the Wind\", \"Citizen Kane\", \"The Wizard of Oz\", \"The Godfather: Part II\", \"Psycho\", \"Sunset Blvd.\", \"Vertigo\", \"Forrest Gump\", \"E.T. the Extra-Terrestrial\", \"Some Like It Hot\", \"12 Angry Men\", \"Amadeus\", \"Rocky\", \"A Streetcar Named Desire\", \"An American in Paris\", \"The Best Years of Our Lives\", \"My Fair Lady\", \"Ben-Hur\", \"Doctor Zhivago\", \"The Apartment\", \"Goodfellas\", \"The Exorcist\", \"City Lights\", \"It Happened One Night\", \"Midnight Cowboy\", \"Mr. Smith Goes to Washington\", \"Rain Man\", \"Annie Hall\", \"Out of Africa\", \"Good Will Hunting\", \"Terms of Endearment\", \"Tootsie\", \"Fargo\", \"Giant\", \"The Grapes of Wrath\", \"Network\", \"The Graduate\", \"American Graffiti\", \"Pulp Fiction\", \"A Clockwork Orange\", \"Wuthering Heights\", \"Rear Window\", \"North by Northwest\"], \"hoffset\": 10, \"voffset\": 10}, {\"type\": \"toptoolbar\"}, {\"type\": \"htmltooltip\", \"id\": \"el128140077363841064pts\", \"labels\": [\"It's a Wonderful Life\", \"The Philadelphia Story\", \"The King's Speech\", \"A Place in the Sun\", \"The Green Mile\", \"Yankee Doodle Dandy\"], \"hoffset\": 10, \"voffset\": 10}, {\"type\": \"toptoolbar\"}, {\"type\": \"htmltooltip\", \"id\": \"el128140077375536936pts\", \"labels\": [\"The Godfather\", \"The Shawshank Redemption\", \"Casablanca\", \"On the Waterfront\", \"The Sound of Music\", \"West Side Story\", \"The Silence of the Lambs\", \"Chinatown\", \"Gandhi\", \"Unforgiven\", \"To Kill a Mockingbird\", \"Butch Cassidy and the Sundance Kid\", \"The Treasure of the Sierra Madre\", \"High Noon\", \"The French Connection\", \"Shane\", \"The African Queen\", \"The Maltese Falcon\", \"Taxi Driver\", \"Double Indemnity\", \"Rebel Without a Cause\", \"The Third Man\"], \"hoffset\": 10, \"voffset\": 10}, {\"type\": \"toptoolbar\"}]});\n",
              "   }(mpld3);\n",
              "}else if(typeof define === \"function\" && define.amd){\n",
              "   // require.js is available: use it to load d3/mpld3\n",
              "   require.config({paths: {d3: \"https://mpld3.github.io/js/d3.v3.min\"}});\n",
              "   require([\"d3\"], function(d3){\n",
              "      window.d3 = d3;\n",
              "      mpld3_load_lib(\"https://mpld3.github.io/js/mpld3.v0.3.js\", function(){\n",
              "         \n",
              "    mpld3.register_plugin(\"htmltooltip\", HtmlTooltipPlugin);\n",
              "    HtmlTooltipPlugin.prototype = Object.create(mpld3.Plugin.prototype);\n",
              "    HtmlTooltipPlugin.prototype.constructor = HtmlTooltipPlugin;\n",
              "    HtmlTooltipPlugin.prototype.requiredProps = [\"id\"];\n",
              "    HtmlTooltipPlugin.prototype.defaultProps = {labels:null,\n",
              "                                                hoffset:0,\n",
              "                                                voffset:10};\n",
              "    function HtmlTooltipPlugin(fig, props){\n",
              "        mpld3.Plugin.call(this, fig, props);\n",
              "    };\n",
              "\n",
              "    HtmlTooltipPlugin.prototype.draw = function(){\n",
              "       var obj = mpld3.get_element(this.props.id);\n",
              "       var labels = this.props.labels;\n",
              "       var tooltip = d3.select(\"body\").append(\"div\")\n",
              "                    .attr(\"class\", \"mpld3-tooltip\")\n",
              "                    .style(\"position\", \"absolute\")\n",
              "                    .style(\"z-index\", \"10\")\n",
              "                    .style(\"visibility\", \"hidden\");\n",
              "\n",
              "       obj.elements()\n",
              "           .on(\"mouseover\", function(d, i){\n",
              "                              tooltip.html(labels[i])\n",
              "                                     .style(\"visibility\", \"visible\");})\n",
              "           .on(\"mousemove\", function(d, i){\n",
              "                  tooltip\n",
              "                    .style(\"top\", d3.event.pageY + this.props.voffset + \"px\")\n",
              "                    .style(\"left\",d3.event.pageX + this.props.hoffset + \"px\");\n",
              "                 }.bind(this))\n",
              "           .on(\"mouseout\",  function(d, i){\n",
              "                           tooltip.style(\"visibility\", \"hidden\");});\n",
              "    };\n",
              "    \n",
              "    mpld3.register_plugin(\"toptoolbar\", TopToolbar);\n",
              "    TopToolbar.prototype = Object.create(mpld3.Plugin.prototype);\n",
              "    TopToolbar.prototype.constructor = TopToolbar;\n",
              "    function TopToolbar(fig, props){\n",
              "        mpld3.Plugin.call(this, fig, props);\n",
              "    };\n",
              "\n",
              "    TopToolbar.prototype.draw = function(){\n",
              "      // the toolbar svg doesn't exist\n",
              "      // yet, so first draw it\n",
              "      this.fig.toolbar.draw();\n",
              "\n",
              "      // then change the y position to be\n",
              "      // at the top of the figure\n",
              "      this.fig.toolbar.toolbar.attr(\"x\", 150);\n",
              "      this.fig.toolbar.toolbar.attr(\"y\", 400);\n",
              "\n",
              "      // then remove the draw function,\n",
              "      // so that it is not called again\n",
              "      this.fig.toolbar.draw = function() {}\n",
              "    }\n",
              "    \n",
              "    mpld3.register_plugin(\"htmltooltip\", HtmlTooltipPlugin);\n",
              "    HtmlTooltipPlugin.prototype = Object.create(mpld3.Plugin.prototype);\n",
              "    HtmlTooltipPlugin.prototype.constructor = HtmlTooltipPlugin;\n",
              "    HtmlTooltipPlugin.prototype.requiredProps = [\"id\"];\n",
              "    HtmlTooltipPlugin.prototype.defaultProps = {labels:null,\n",
              "                                                hoffset:0,\n",
              "                                                voffset:10};\n",
              "    function HtmlTooltipPlugin(fig, props){\n",
              "        mpld3.Plugin.call(this, fig, props);\n",
              "    };\n",
              "\n",
              "    HtmlTooltipPlugin.prototype.draw = function(){\n",
              "       var obj = mpld3.get_element(this.props.id);\n",
              "       var labels = this.props.labels;\n",
              "       var tooltip = d3.select(\"body\").append(\"div\")\n",
              "                    .attr(\"class\", \"mpld3-tooltip\")\n",
              "                    .style(\"position\", \"absolute\")\n",
              "                    .style(\"z-index\", \"10\")\n",
              "                    .style(\"visibility\", \"hidden\");\n",
              "\n",
              "       obj.elements()\n",
              "           .on(\"mouseover\", function(d, i){\n",
              "                              tooltip.html(labels[i])\n",
              "                                     .style(\"visibility\", \"visible\");})\n",
              "           .on(\"mousemove\", function(d, i){\n",
              "                  tooltip\n",
              "                    .style(\"top\", d3.event.pageY + this.props.voffset + \"px\")\n",
              "                    .style(\"left\",d3.event.pageX + this.props.hoffset + \"px\");\n",
              "                 }.bind(this))\n",
              "           .on(\"mouseout\",  function(d, i){\n",
              "                           tooltip.style(\"visibility\", \"hidden\");});\n",
              "    };\n",
              "    \n",
              "    mpld3.register_plugin(\"toptoolbar\", TopToolbar);\n",
              "    TopToolbar.prototype = Object.create(mpld3.Plugin.prototype);\n",
              "    TopToolbar.prototype.constructor = TopToolbar;\n",
              "    function TopToolbar(fig, props){\n",
              "        mpld3.Plugin.call(this, fig, props);\n",
              "    };\n",
              "\n",
              "    TopToolbar.prototype.draw = function(){\n",
              "      // the toolbar svg doesn't exist\n",
              "      // yet, so first draw it\n",
              "      this.fig.toolbar.draw();\n",
              "\n",
              "      // then change the y position to be\n",
              "      // at the top of the figure\n",
              "      this.fig.toolbar.toolbar.attr(\"x\", 150);\n",
              "      this.fig.toolbar.toolbar.attr(\"y\", 400);\n",
              "\n",
              "      // then remove the draw function,\n",
              "      // so that it is not called again\n",
              "      this.fig.toolbar.draw = function() {}\n",
              "    }\n",
              "    \n",
              "    mpld3.register_plugin(\"htmltooltip\", HtmlTooltipPlugin);\n",
              "    HtmlTooltipPlugin.prototype = Object.create(mpld3.Plugin.prototype);\n",
              "    HtmlTooltipPlugin.prototype.constructor = HtmlTooltipPlugin;\n",
              "    HtmlTooltipPlugin.prototype.requiredProps = [\"id\"];\n",
              "    HtmlTooltipPlugin.prototype.defaultProps = {labels:null,\n",
              "                                                hoffset:0,\n",
              "                                                voffset:10};\n",
              "    function HtmlTooltipPlugin(fig, props){\n",
              "        mpld3.Plugin.call(this, fig, props);\n",
              "    };\n",
              "\n",
              "    HtmlTooltipPlugin.prototype.draw = function(){\n",
              "       var obj = mpld3.get_element(this.props.id);\n",
              "       var labels = this.props.labels;\n",
              "       var tooltip = d3.select(\"body\").append(\"div\")\n",
              "                    .attr(\"class\", \"mpld3-tooltip\")\n",
              "                    .style(\"position\", \"absolute\")\n",
              "                    .style(\"z-index\", \"10\")\n",
              "                    .style(\"visibility\", \"hidden\");\n",
              "\n",
              "       obj.elements()\n",
              "           .on(\"mouseover\", function(d, i){\n",
              "                              tooltip.html(labels[i])\n",
              "                                     .style(\"visibility\", \"visible\");})\n",
              "           .on(\"mousemove\", function(d, i){\n",
              "                  tooltip\n",
              "                    .style(\"top\", d3.event.pageY + this.props.voffset + \"px\")\n",
              "                    .style(\"left\",d3.event.pageX + this.props.hoffset + \"px\");\n",
              "                 }.bind(this))\n",
              "           .on(\"mouseout\",  function(d, i){\n",
              "                           tooltip.style(\"visibility\", \"hidden\");});\n",
              "    };\n",
              "    \n",
              "    mpld3.register_plugin(\"toptoolbar\", TopToolbar);\n",
              "    TopToolbar.prototype = Object.create(mpld3.Plugin.prototype);\n",
              "    TopToolbar.prototype.constructor = TopToolbar;\n",
              "    function TopToolbar(fig, props){\n",
              "        mpld3.Plugin.call(this, fig, props);\n",
              "    };\n",
              "\n",
              "    TopToolbar.prototype.draw = function(){\n",
              "      // the toolbar svg doesn't exist\n",
              "      // yet, so first draw it\n",
              "      this.fig.toolbar.draw();\n",
              "\n",
              "      // then change the y position to be\n",
              "      // at the top of the figure\n",
              "      this.fig.toolbar.toolbar.attr(\"x\", 150);\n",
              "      this.fig.toolbar.toolbar.attr(\"y\", 400);\n",
              "\n",
              "      // then remove the draw function,\n",
              "      // so that it is not called again\n",
              "      this.fig.toolbar.draw = function() {}\n",
              "    }\n",
              "    \n",
              "    mpld3.register_plugin(\"htmltooltip\", HtmlTooltipPlugin);\n",
              "    HtmlTooltipPlugin.prototype = Object.create(mpld3.Plugin.prototype);\n",
              "    HtmlTooltipPlugin.prototype.constructor = HtmlTooltipPlugin;\n",
              "    HtmlTooltipPlugin.prototype.requiredProps = [\"id\"];\n",
              "    HtmlTooltipPlugin.prototype.defaultProps = {labels:null,\n",
              "                                                hoffset:0,\n",
              "                                                voffset:10};\n",
              "    function HtmlTooltipPlugin(fig, props){\n",
              "        mpld3.Plugin.call(this, fig, props);\n",
              "    };\n",
              "\n",
              "    HtmlTooltipPlugin.prototype.draw = function(){\n",
              "       var obj = mpld3.get_element(this.props.id);\n",
              "       var labels = this.props.labels;\n",
              "       var tooltip = d3.select(\"body\").append(\"div\")\n",
              "                    .attr(\"class\", \"mpld3-tooltip\")\n",
              "                    .style(\"position\", \"absolute\")\n",
              "                    .style(\"z-index\", \"10\")\n",
              "                    .style(\"visibility\", \"hidden\");\n",
              "\n",
              "       obj.elements()\n",
              "           .on(\"mouseover\", function(d, i){\n",
              "                              tooltip.html(labels[i])\n",
              "                                     .style(\"visibility\", \"visible\");})\n",
              "           .on(\"mousemove\", function(d, i){\n",
              "                  tooltip\n",
              "                    .style(\"top\", d3.event.pageY + this.props.voffset + \"px\")\n",
              "                    .style(\"left\",d3.event.pageX + this.props.hoffset + \"px\");\n",
              "                 }.bind(this))\n",
              "           .on(\"mouseout\",  function(d, i){\n",
              "                           tooltip.style(\"visibility\", \"hidden\");});\n",
              "    };\n",
              "    \n",
              "    mpld3.register_plugin(\"toptoolbar\", TopToolbar);\n",
              "    TopToolbar.prototype = Object.create(mpld3.Plugin.prototype);\n",
              "    TopToolbar.prototype.constructor = TopToolbar;\n",
              "    function TopToolbar(fig, props){\n",
              "        mpld3.Plugin.call(this, fig, props);\n",
              "    };\n",
              "\n",
              "    TopToolbar.prototype.draw = function(){\n",
              "      // the toolbar svg doesn't exist\n",
              "      // yet, so first draw it\n",
              "      this.fig.toolbar.draw();\n",
              "\n",
              "      // then change the y position to be\n",
              "      // at the top of the figure\n",
              "      this.fig.toolbar.toolbar.attr(\"x\", 150);\n",
              "      this.fig.toolbar.toolbar.attr(\"y\", 400);\n",
              "\n",
              "      // then remove the draw function,\n",
              "      // so that it is not called again\n",
              "      this.fig.toolbar.draw = function() {}\n",
              "    }\n",
              "    \n",
              "    mpld3.register_plugin(\"htmltooltip\", HtmlTooltipPlugin);\n",
              "    HtmlTooltipPlugin.prototype = Object.create(mpld3.Plugin.prototype);\n",
              "    HtmlTooltipPlugin.prototype.constructor = HtmlTooltipPlugin;\n",
              "    HtmlTooltipPlugin.prototype.requiredProps = [\"id\"];\n",
              "    HtmlTooltipPlugin.prototype.defaultProps = {labels:null,\n",
              "                                                hoffset:0,\n",
              "                                                voffset:10};\n",
              "    function HtmlTooltipPlugin(fig, props){\n",
              "        mpld3.Plugin.call(this, fig, props);\n",
              "    };\n",
              "\n",
              "    HtmlTooltipPlugin.prototype.draw = function(){\n",
              "       var obj = mpld3.get_element(this.props.id);\n",
              "       var labels = this.props.labels;\n",
              "       var tooltip = d3.select(\"body\").append(\"div\")\n",
              "                    .attr(\"class\", \"mpld3-tooltip\")\n",
              "                    .style(\"position\", \"absolute\")\n",
              "                    .style(\"z-index\", \"10\")\n",
              "                    .style(\"visibility\", \"hidden\");\n",
              "\n",
              "       obj.elements()\n",
              "           .on(\"mouseover\", function(d, i){\n",
              "                              tooltip.html(labels[i])\n",
              "                                     .style(\"visibility\", \"visible\");})\n",
              "           .on(\"mousemove\", function(d, i){\n",
              "                  tooltip\n",
              "                    .style(\"top\", d3.event.pageY + this.props.voffset + \"px\")\n",
              "                    .style(\"left\",d3.event.pageX + this.props.hoffset + \"px\");\n",
              "                 }.bind(this))\n",
              "           .on(\"mouseout\",  function(d, i){\n",
              "                           tooltip.style(\"visibility\", \"hidden\");});\n",
              "    };\n",
              "    \n",
              "    mpld3.register_plugin(\"toptoolbar\", TopToolbar);\n",
              "    TopToolbar.prototype = Object.create(mpld3.Plugin.prototype);\n",
              "    TopToolbar.prototype.constructor = TopToolbar;\n",
              "    function TopToolbar(fig, props){\n",
              "        mpld3.Plugin.call(this, fig, props);\n",
              "    };\n",
              "\n",
              "    TopToolbar.prototype.draw = function(){\n",
              "      // the toolbar svg doesn't exist\n",
              "      // yet, so first draw it\n",
              "      this.fig.toolbar.draw();\n",
              "\n",
              "      // then change the y position to be\n",
              "      // at the top of the figure\n",
              "      this.fig.toolbar.toolbar.attr(\"x\", 150);\n",
              "      this.fig.toolbar.toolbar.attr(\"y\", 400);\n",
              "\n",
              "      // then remove the draw function,\n",
              "      // so that it is not called again\n",
              "      this.fig.toolbar.draw = function() {}\n",
              "    }\n",
              "    \n",
              "         mpld3.draw_figure(\"fig_el1281400773635500801841817926\", {\"width\": 1008.0, \"height\": 432.0, \"axes\": [{\"bbox\": [0.125, 0.125, 0.775, 0.755], \"xlim\": [-0.7022446245855736, 0.7098314809788799], \"ylim\": [-0.7081718721860429, 0.6939226674565517], \"xdomain\": [-0.7022446245855736, 0.7098314809788799], \"ydomain\": [-0.7081718721860429, 0.6939226674565517], \"xscale\": \"linear\", \"yscale\": \"linear\", \"axes\": [{\"position\": \"bottom\", \"nticks\": 0, \"tickvalues\": [], \"tickformat\": \"\", \"scale\": \"linear\", \"fontsize\": null, \"grid\": {\"gridOn\": false}, \"visible\": false}, {\"position\": \"left\", \"nticks\": 0, \"tickvalues\": [], \"tickformat\": \"\", \"scale\": \"linear\", \"fontsize\": null, \"grid\": {\"gridOn\": false}, \"visible\": false}], \"axesbg\": \"#FFFFFF\", \"axesbgalpha\": null, \"zoomable\": true, \"id\": \"el128140077379200000\", \"lines\": [], \"paths\": [{\"data\": \"data07\", \"xindex\": 0, \"yindex\": 1, \"coordinates\": \"axes\", \"pathcodes\": [\"M\", \"L\", \"S\", \"L\", \"S\", \"L\", \"S\", \"L\", \"S\", \"Z\"], \"id\": \"el128140077379602304\", \"dasharray\": \"none\", \"alpha\": 0.8, \"facecolor\": \"#FFFFFF\", \"edgecolor\": \"#CCCCCC\", \"edgewidth\": 1.0, \"zorder\": 1000000.0}], \"markers\": [{\"data\": \"data01\", \"xindex\": 0, \"yindex\": 1, \"coordinates\": \"data\", \"id\": \"el128140077381396520pts\", \"facecolor\": \"#1B9E77\", \"edgecolor\": \"none\", \"edgewidth\": 1.0, \"alpha\": 1, \"zorder\": 2, \"markerpath\": [[[0.0, 9.0], [2.3868279, 9.0], [4.676218837063681, 8.051703224294176], [6.3639610306789285, 6.3639610306789285], [8.051703224294176, 4.676218837063681], [9.0, 2.3868279], [9.0, 0.0], [9.0, -2.3868279], [8.051703224294176, -4.676218837063681], [6.3639610306789285, -6.3639610306789285], [4.676218837063681, -8.051703224294176], [2.3868279, -9.0], [0.0, -9.0], [-2.3868279, -9.0], [-4.676218837063681, -8.051703224294176], [-6.3639610306789285, -6.3639610306789285], [-8.051703224294176, -4.676218837063681], [-9.0, -2.3868279], [-9.0, 0.0], [-9.0, 2.3868279], [-8.051703224294176, 4.676218837063681], [-6.3639610306789285, 6.3639610306789285], [-4.676218837063681, 8.051703224294176], [-2.3868279, 9.0], [0.0, 9.0]], [\"M\", \"C\", \"C\", \"C\", \"C\", \"C\", \"C\", \"C\", \"C\", \"Z\"]]}, {\"data\": \"data02\", \"xindex\": 0, \"yindex\": 1, \"coordinates\": \"data\", \"id\": \"el128140077379187096pts\", \"facecolor\": \"#D95F02\", \"edgecolor\": \"none\", \"edgewidth\": 1.0, \"alpha\": 1, \"zorder\": 2, \"markerpath\": [[[0.0, 9.0], [2.3868279, 9.0], [4.676218837063681, 8.051703224294176], [6.3639610306789285, 6.3639610306789285], [8.051703224294176, 4.676218837063681], [9.0, 2.3868279], [9.0, 0.0], [9.0, -2.3868279], [8.051703224294176, -4.676218837063681], [6.3639610306789285, -6.3639610306789285], [4.676218837063681, -8.051703224294176], [2.3868279, -9.0], [0.0, -9.0], [-2.3868279, -9.0], [-4.676218837063681, -8.051703224294176], [-6.3639610306789285, -6.3639610306789285], [-8.051703224294176, -4.676218837063681], [-9.0, -2.3868279], [-9.0, 0.0], [-9.0, 2.3868279], [-8.051703224294176, 4.676218837063681], [-6.3639610306789285, 6.3639610306789285], [-4.676218837063681, 8.051703224294176], [-2.3868279, 9.0], [0.0, 9.0]], [\"M\", \"C\", \"C\", \"C\", \"C\", \"C\", \"C\", \"C\", \"C\", \"Z\"]]}, {\"data\": \"data03\", \"xindex\": 0, \"yindex\": 1, \"coordinates\": \"data\", \"id\": \"el128140077381396408pts\", \"facecolor\": \"#7570B3\", \"edgecolor\": \"none\", \"edgewidth\": 1.0, \"alpha\": 1, \"zorder\": 2, \"markerpath\": [[[0.0, 9.0], [2.3868279, 9.0], [4.676218837063681, 8.051703224294176], [6.3639610306789285, 6.3639610306789285], [8.051703224294176, 4.676218837063681], [9.0, 2.3868279], [9.0, 0.0], [9.0, -2.3868279], [8.051703224294176, -4.676218837063681], [6.3639610306789285, -6.3639610306789285], [4.676218837063681, -8.051703224294176], [2.3868279, -9.0], [0.0, -9.0], [-2.3868279, -9.0], [-4.676218837063681, -8.051703224294176], [-6.3639610306789285, -6.3639610306789285], [-8.051703224294176, -4.676218837063681], [-9.0, -2.3868279], [-9.0, 0.0], [-9.0, 2.3868279], [-8.051703224294176, 4.676218837063681], [-6.3639610306789285, 6.3639610306789285], [-4.676218837063681, 8.051703224294176], [-2.3868279, 9.0], [0.0, 9.0]], [\"M\", \"C\", \"C\", \"C\", \"C\", \"C\", \"C\", \"C\", \"C\", \"Z\"]]}, {\"data\": \"data04\", \"xindex\": 0, \"yindex\": 1, \"coordinates\": \"data\", \"id\": \"el128140077363841064pts\", \"facecolor\": \"#E7298A\", \"edgecolor\": \"none\", \"edgewidth\": 1.0, \"alpha\": 1, \"zorder\": 2, \"markerpath\": [[[0.0, 9.0], [2.3868279, 9.0], [4.676218837063681, 8.051703224294176], [6.3639610306789285, 6.3639610306789285], [8.051703224294176, 4.676218837063681], [9.0, 2.3868279], [9.0, 0.0], [9.0, -2.3868279], [8.051703224294176, -4.676218837063681], [6.3639610306789285, -6.3639610306789285], [4.676218837063681, -8.051703224294176], [2.3868279, -9.0], [0.0, -9.0], [-2.3868279, -9.0], [-4.676218837063681, -8.051703224294176], [-6.3639610306789285, -6.3639610306789285], [-8.051703224294176, -4.676218837063681], [-9.0, -2.3868279], [-9.0, 0.0], [-9.0, 2.3868279], [-8.051703224294176, 4.676218837063681], [-6.3639610306789285, 6.3639610306789285], [-4.676218837063681, 8.051703224294176], [-2.3868279, 9.0], [0.0, 9.0]], [\"M\", \"C\", \"C\", \"C\", \"C\", \"C\", \"C\", \"C\", \"C\", \"Z\"]]}, {\"data\": \"data05\", \"xindex\": 0, \"yindex\": 1, \"coordinates\": \"data\", \"id\": \"el128140077375536936pts\", \"facecolor\": \"#66A61E\", \"edgecolor\": \"none\", \"edgewidth\": 1.0, \"alpha\": 1, \"zorder\": 2, \"markerpath\": [[[0.0, 9.0], [2.3868279, 9.0], [4.676218837063681, 8.051703224294176], [6.3639610306789285, 6.3639610306789285], [8.051703224294176, 4.676218837063681], [9.0, 2.3868279], [9.0, 0.0], [9.0, -2.3868279], [8.051703224294176, -4.676218837063681], [6.3639610306789285, -6.3639610306789285], [4.676218837063681, -8.051703224294176], [2.3868279, -9.0], [0.0, -9.0], [-2.3868279, -9.0], [-4.676218837063681, -8.051703224294176], [-6.3639610306789285, -6.3639610306789285], [-8.051703224294176, -4.676218837063681], [-9.0, -2.3868279], [-9.0, 0.0], [-9.0, 2.3868279], [-8.051703224294176, 4.676218837063681], [-6.3639610306789285, 6.3639610306789285], [-4.676218837063681, 8.051703224294176], [-2.3868279, 9.0], [0.0, 9.0]], [\"M\", \"C\", \"C\", \"C\", \"C\", \"C\", \"C\", \"C\", \"C\", \"Z\"]]}, {\"data\": \"data06\", \"xindex\": 0, \"yindex\": 1, \"coordinates\": \"axes\", \"id\": \"el128140077379251000pts\", \"facecolor\": \"#1B9E77\", \"edgecolor\": \"none\", \"edgewidth\": 1.0, \"alpha\": 1, \"zorder\": 1000002.0, \"markerpath\": [[[0.0, 9.0], [2.3868279, 9.0], [4.676218837063681, 8.051703224294176], [6.3639610306789285, 6.3639610306789285], [8.051703224294176, 4.676218837063681], [9.0, 2.3868279], [9.0, 0.0], [9.0, -2.3868279], [8.051703224294176, -4.676218837063681], [6.3639610306789285, -6.3639610306789285], [4.676218837063681, -8.051703224294176], [2.3868279, -9.0], [0.0, -9.0], [-2.3868279, -9.0], [-4.676218837063681, -8.051703224294176], [-6.3639610306789285, -6.3639610306789285], [-8.051703224294176, -4.676218837063681], [-9.0, -2.3868279], [-9.0, 0.0], [-9.0, 2.3868279], [-8.051703224294176, 4.676218837063681], [-6.3639610306789285, 6.3639610306789285], [-4.676218837063681, 8.051703224294176], [-2.3868279, 9.0], [0.0, 9.0]], [\"M\", \"C\", \"C\", \"C\", \"C\", \"C\", \"C\", \"C\", \"C\", \"Z\"]]}, {\"data\": \"data06\", \"xindex\": 0, \"yindex\": 2, \"coordinates\": \"axes\", \"id\": \"el128140077380404392pts\", \"facecolor\": \"#D95F02\", \"edgecolor\": \"none\", \"edgewidth\": 1.0, \"alpha\": 1, \"zorder\": 1000002.0, \"markerpath\": [[[0.0, 9.0], [2.3868279, 9.0], [4.676218837063681, 8.051703224294176], [6.3639610306789285, 6.3639610306789285], [8.051703224294176, 4.676218837063681], [9.0, 2.3868279], [9.0, 0.0], [9.0, -2.3868279], [8.051703224294176, -4.676218837063681], [6.3639610306789285, -6.3639610306789285], [4.676218837063681, -8.051703224294176], [2.3868279, -9.0], [0.0, -9.0], [-2.3868279, -9.0], [-4.676218837063681, -8.051703224294176], [-6.3639610306789285, -6.3639610306789285], [-8.051703224294176, -4.676218837063681], [-9.0, -2.3868279], [-9.0, 0.0], [-9.0, 2.3868279], [-8.051703224294176, 4.676218837063681], [-6.3639610306789285, 6.3639610306789285], [-4.676218837063681, 8.051703224294176], [-2.3868279, 9.0], [0.0, 9.0]], [\"M\", \"C\", \"C\", \"C\", \"C\", \"C\", \"C\", \"C\", \"C\", \"Z\"]]}, {\"data\": \"data06\", \"xindex\": 0, \"yindex\": 3, \"coordinates\": \"axes\", \"id\": \"el128140077380405792pts\", \"facecolor\": \"#7570B3\", \"edgecolor\": \"none\", \"edgewidth\": 1.0, \"alpha\": 1, \"zorder\": 1000002.0, \"markerpath\": [[[0.0, 9.0], [2.3868279, 9.0], [4.676218837063681, 8.051703224294176], [6.3639610306789285, 6.3639610306789285], [8.051703224294176, 4.676218837063681], [9.0, 2.3868279], [9.0, 0.0], [9.0, -2.3868279], [8.051703224294176, -4.676218837063681], [6.3639610306789285, -6.3639610306789285], [4.676218837063681, -8.051703224294176], [2.3868279, -9.0], [0.0, -9.0], [-2.3868279, -9.0], [-4.676218837063681, -8.051703224294176], [-6.3639610306789285, -6.3639610306789285], [-8.051703224294176, -4.676218837063681], [-9.0, -2.3868279], [-9.0, 0.0], [-9.0, 2.3868279], [-8.051703224294176, 4.676218837063681], [-6.3639610306789285, 6.3639610306789285], [-4.676218837063681, 8.051703224294176], [-2.3868279, 9.0], [0.0, 9.0]], [\"M\", \"C\", \"C\", \"C\", \"C\", \"C\", \"C\", \"C\", \"C\", \"Z\"]]}, {\"data\": \"data06\", \"xindex\": 0, \"yindex\": 4, \"coordinates\": \"axes\", \"id\": \"el128140077375506416pts\", \"facecolor\": \"#E7298A\", \"edgecolor\": \"none\", \"edgewidth\": 1.0, \"alpha\": 1, \"zorder\": 1000002.0, \"markerpath\": [[[0.0, 9.0], [2.3868279, 9.0], [4.676218837063681, 8.051703224294176], [6.3639610306789285, 6.3639610306789285], [8.051703224294176, 4.676218837063681], [9.0, 2.3868279], [9.0, 0.0], [9.0, -2.3868279], [8.051703224294176, -4.676218837063681], [6.3639610306789285, -6.3639610306789285], [4.676218837063681, -8.051703224294176], [2.3868279, -9.0], [0.0, -9.0], [-2.3868279, -9.0], [-4.676218837063681, -8.051703224294176], [-6.3639610306789285, -6.3639610306789285], [-8.051703224294176, -4.676218837063681], [-9.0, -2.3868279], [-9.0, 0.0], [-9.0, 2.3868279], [-8.051703224294176, 4.676218837063681], [-6.3639610306789285, 6.3639610306789285], [-4.676218837063681, 8.051703224294176], [-2.3868279, 9.0], [0.0, 9.0]], [\"M\", \"C\", \"C\", \"C\", \"C\", \"C\", \"C\", \"C\", \"C\", \"Z\"]]}, {\"data\": \"data06\", \"xindex\": 0, \"yindex\": 5, \"coordinates\": \"axes\", \"id\": \"el128140077375507200pts\", \"facecolor\": \"#66A61E\", \"edgecolor\": \"none\", \"edgewidth\": 1.0, \"alpha\": 1, \"zorder\": 1000002.0, \"markerpath\": [[[0.0, 9.0], [2.3868279, 9.0], [4.676218837063681, 8.051703224294176], [6.3639610306789285, 6.3639610306789285], [8.051703224294176, 4.676218837063681], [9.0, 2.3868279], [9.0, 0.0], [9.0, -2.3868279], [8.051703224294176, -4.676218837063681], [6.3639610306789285, -6.3639610306789285], [4.676218837063681, -8.051703224294176], [2.3868279, -9.0], [0.0, -9.0], [-2.3868279, -9.0], [-4.676218837063681, -8.051703224294176], [-6.3639610306789285, -6.3639610306789285], [-8.051703224294176, -4.676218837063681], [-9.0, -2.3868279], [-9.0, 0.0], [-9.0, 2.3868279], [-8.051703224294176, 4.676218837063681], [-6.3639610306789285, 6.3639610306789285], [-4.676218837063681, 8.051703224294176], [-2.3868279, 9.0], [0.0, 9.0]], [\"M\", \"C\", \"C\", \"C\", \"C\", \"C\", \"C\", \"C\", \"C\", \"Z\"]]}], \"texts\": [{\"text\": \"Family, home, war\", \"position\": [0.04736303123399899, 0.9478783419180772], \"coordinates\": \"axes\", \"h_anchor\": \"start\", \"v_baseline\": \"auto\", \"rotation\": -0.0, \"fontsize\": 10.0, \"color\": \"#000000\", \"alpha\": 1, \"zorder\": 1000003.0, \"id\": \"el128140077379250104\"}, {\"text\": \"Police, killed, murders\", \"position\": [0.04736303123399899, 0.901888643610498], \"coordinates\": \"axes\", \"h_anchor\": \"start\", \"v_baseline\": \"auto\", \"rotation\": -0.0, \"fontsize\": 10.0, \"color\": \"#000000\", \"alpha\": 1, \"zorder\": 1000003.0, \"id\": \"el128140077380404840\"}, {\"text\": \"Father, New York, brothers\", \"position\": [0.04736303123399899, 0.8558989453029189], \"coordinates\": \"axes\", \"h_anchor\": \"start\", \"v_baseline\": \"auto\", \"rotation\": -0.0, \"fontsize\": 10.0, \"color\": \"#000000\", \"alpha\": 1, \"zorder\": 1000003.0, \"id\": \"el128140077380404952\"}, {\"text\": \"Dance, singing, love\", \"position\": [0.04736303123399899, 0.8099092469953398], \"coordinates\": \"axes\", \"h_anchor\": \"start\", \"v_baseline\": \"auto\", \"rotation\": -0.0, \"fontsize\": 10.0, \"color\": \"#000000\", \"alpha\": 1, \"zorder\": 1000003.0, \"id\": \"el128140077375507816\"}, {\"text\": \"Killed, soldiers, captain\", \"position\": [0.04736303123399899, 0.7639195486877607], \"coordinates\": \"axes\", \"h_anchor\": \"start\", \"v_baseline\": \"auto\", \"rotation\": -0.0, \"fontsize\": 10.0, \"color\": \"#000000\", \"alpha\": 1, \"zorder\": 1000003.0, \"id\": \"el128140077375507872\"}], \"collections\": [], \"images\": [], \"sharex\": [], \"sharey\": []}], \"data\": {\"data01\": [[-0.1322719575464937, 0.5745384801472346], [0.6037432800571015, -0.3456991338989107], [0.19843842072641957, -0.3892916828503901], [0.35008658312976565, -0.3395216322234649], [-0.34166783709147874, 0.6344444329502972], [0.07969434882060122, -0.3889371661029425], [0.2751629686852375, -0.29429024034799267], [0.06214704621807477, 0.6101371440051022], [0.3349800805046648, -0.6458620573675339]], \"data02\": [[-0.0315921508840531, -0.4566379132040243], [0.05822957027259516, 0.25692953386554007], [-0.25090778865276764, -0.5748301691298103], [-0.08222117190461253, -0.5783371225442104], [-0.016415337094763633, -0.635603388766459], [0.01970760844693588, -0.6360131358153774], [0.24381678674290905, -0.5041387862290508], [0.08011541418687022, -0.4798779364144976], [-0.15247085949074055, -0.34091843849803144], [-0.020101379300061582, -0.35709842717078333], [-0.22754763513663523, -0.4504922269840453], [0.12875366545283076, -0.668489951252762], [0.49289737380215365, -0.14112529581269803], [-0.06978357652529119, 0.5697755231183576], [-0.11274056497586203, -0.4992690165884378], [0.18267302179861472, -0.5787625309524593], [0.15637950657836672, -0.2130082170103366], [-0.08765224335890494, -0.20078309954757084], [-0.18334149000821814, -0.5551280766277895], [0.3243862951002702, -0.45653595159186516]], \"data03\": [[0.05839902455424584, -0.04612821871658982], [0.011707339999007723, 0.46244857553479835], [-0.43458221470796937, -0.29655933230579207], [0.07164980401233928, 0.13140842985205642], [-0.22775176430438593, 0.0686722526469981], [-0.4301218469327215, 0.28528616015884894], [-0.352756054531658, 0.12706104279951938], [0.3548063612344592, 0.008230388449865372], [-0.021722502077054378, -0.04277898807708711], [-0.17157923142430895, 0.23225249097459683], [0.5307508765954951, 0.12934995486954096], [0.4157900555927234, 0.40666800500403905], [-0.284456733149374, 0.2757335582608159], [0.34339799473545785, 0.2458875178095957], [-0.20377837648670546, 0.5597732710930736], [0.3182060352651071, 0.08767290955546969], [-0.19657213727582062, 0.39573854896210664], [0.3442345942883033, -0.13024993477969682], [0.1607366978752406, -0.11945297477856465], [-0.5962489128496028, 0.1902908199511054], [0.20869950117396566, 0.06431546201597814], [0.18357552763039248, 0.30293270616670415], [0.5655872568440837, 0.34274924126628004], [-0.4208455890181574, 0.46273188035730484], [-0.3031164788430478, 0.47587091621770167], [0.6448729810407788, -0.1557495377370642], [-0.18141401157118808, 0.476647579374159], [-0.02886047494747564, 0.6542407465232708], [0.12067866743531375, 0.4813363821584612], [0.1256435191328854, 0.41778999871243466], [0.21979780091086543, 0.480125853382018], [-0.02234991385407322, 0.33870444474578143], [-0.3416411136605305, 0.03635935199996692], [0.4819545360434788, 0.008013240019344042], [0.4758882198147044, -0.43583831863092565], [0.668847785088706, -0.08783283749852638], [-0.32433797240302575, 0.3312099814646864], [-0.6012517387271845, -0.041885919469176955], [-0.34156011933518043, -0.06836233054197183], [-0.18645450426345928, 0.15048530967995605], [0.18507532499118465, 0.5789634882503976], [-0.5810674876200926, 0.10583683075043317], [-0.19967295689697648, 0.006401158105055718]], \"data04\": [[0.4184044202336735, 0.5850489899951158], [0.6698670628968671, 0.11896605280395112], [0.4020451359180297, 0.49856493148445424], [0.6677334884276231, 0.26950029052305535], [-0.5674182514385863, -0.35374010333970274], [0.6273622875630931, 0.35942698334231976]], \"data05\": [[0.1842728439475582, -0.01171561132830127], [0.442064120935783, -0.27869804841256246], [-0.25873683502627376, -0.26527516559786946], [-0.05321665416837212, 0.1233703192267357], [0.5523203950143736, 0.49066954517763783], [-0.48429634509263564, 0.17299124057612392], [0.5177811917071934, -0.2536618659106642], [-0.5523024142568753, -0.22470452093168852], [0.4335012948308015, 0.14567214405203704], [-0.15353411958660523, -0.3013348801222508], [0.21436568495016242, 0.2183332317723502], [-0.34789814258235774, -0.3258509720117311], [-0.3609008933642032, -0.4819614231794136], [-0.6622802065035608, -0.2050371436414275], [-0.45990623558854765, 0.0077174098585452945], [-0.5514598654354418, 0.3351166974656102], [-0.4533760890831627, -0.44518107570439874], [-0.3394231160832905, -0.15110745645779733], [-0.5521585808438257, 0.02889178165407558], [-0.46600996939124417, -0.09927639405993231], [-0.5791042079012673, 0.29034628826327125], [-0.20835174801118275, -0.05859486722959797]], \"data06\": [[0.024321556579621102, 0.958609271523179, 0.9126195732155998, 0.8666298749080207, 0.8206401766004416, 0.7746504782928625]], \"data07\": [[0.00896057347670251, 0.745523669364729], [0.22111415130568354, 0.745523669364729], [0.22367431515617, 0.745523669364729], [0.22367431515617, 0.7516556291390729], [0.22367431515617, 0.9785381407897964], [0.22367431515617, 0.9846701005641403], [0.22111415130568354, 0.9846701005641403], [0.00896057347670251, 0.9846701005641403], [0.006400409626216075, 0.9846701005641403], [0.006400409626216075, 0.9785381407897964], [0.006400409626216075, 0.7516556291390729], [0.006400409626216075, 0.745523669364729], [0.00896057347670251, 0.745523669364729]]}, \"id\": \"el128140077363550080\", \"plugins\": [{\"type\": \"reset\"}, {\"type\": \"zoom\", \"button\": true, \"enabled\": false}, {\"type\": \"boxzoom\", \"button\": true, \"enabled\": false}, {\"type\": \"htmltooltip\", \"id\": \"el128140077381396520pts\", \"labels\": [\"Raging Bull\", \"Titanic\", \"Star Wars\", \"2001: A Space Odyssey\", \"Singin' in the Rain\", \"Jaws\", \"Close Encounters of the Third Kind\", \"Nashville\", \"Mutiny on the Bounty\"], \"hoffset\": 10, \"voffset\": 10}, {\"type\": \"toptoolbar\"}, {\"type\": \"htmltooltip\", \"id\": \"el128140077379187096pts\", \"labels\": [\"Schindler's List\", \"One Flew Over the Cuckoo's Nest\", \"Lawrence of Arabia\", \"The Bridge on the River Kwai\", \"Dr. Strangelove or: How I Learned to Stop Worrying and Love the Bomb\", \"Apocalypse Now\", \"The Lord of the Rings: The Return of the King\", \"Gladiator\", \"From Here to Eternity\", \"Saving Private Ryan\", \"Raiders of the Lost Ark\", \"Patton\", \"Braveheart\", \"The Good, the Bad and the Ugly\", \"Platoon\", \"Dances with Wolves\", \"The Pianist\", \"The Deer Hunter\", \"All Quiet on the Western Front\", \"Stagecoach\"], \"hoffset\": 10, \"voffset\": 10}, {\"type\": \"toptoolbar\"}, {\"type\": \"htmltooltip\", \"id\": \"el128140077381396408pts\", \"labels\": [\"Gone with the Wind\", \"Citizen Kane\", \"The Wizard of Oz\", \"The Godfather: Part II\", \"Psycho\", \"Sunset Blvd.\", \"Vertigo\", \"Forrest Gump\", \"E.T. the Extra-Terrestrial\", \"Some Like It Hot\", \"12 Angry Men\", \"Amadeus\", \"Rocky\", \"A Streetcar Named Desire\", \"An American in Paris\", \"The Best Years of Our Lives\", \"My Fair Lady\", \"Ben-Hur\", \"Doctor Zhivago\", \"The Apartment\", \"Goodfellas\", \"The Exorcist\", \"City Lights\", \"It Happened One Night\", \"Midnight Cowboy\", \"Mr. Smith Goes to Washington\", \"Rain Man\", \"Annie Hall\", \"Out of Africa\", \"Good Will Hunting\", \"Terms of Endearment\", \"Tootsie\", \"Fargo\", \"Giant\", \"The Grapes of Wrath\", \"Network\", \"The Graduate\", \"American Graffiti\", \"Pulp Fiction\", \"A Clockwork Orange\", \"Wuthering Heights\", \"Rear Window\", \"North by Northwest\"], \"hoffset\": 10, \"voffset\": 10}, {\"type\": \"toptoolbar\"}, {\"type\": \"htmltooltip\", \"id\": \"el128140077363841064pts\", \"labels\": [\"It's a Wonderful Life\", \"The Philadelphia Story\", \"The King's Speech\", \"A Place in the Sun\", \"The Green Mile\", \"Yankee Doodle Dandy\"], \"hoffset\": 10, \"voffset\": 10}, {\"type\": \"toptoolbar\"}, {\"type\": \"htmltooltip\", \"id\": \"el128140077375536936pts\", \"labels\": [\"The Godfather\", \"The Shawshank Redemption\", \"Casablanca\", \"On the Waterfront\", \"The Sound of Music\", \"West Side Story\", \"The Silence of the Lambs\", \"Chinatown\", \"Gandhi\", \"Unforgiven\", \"To Kill a Mockingbird\", \"Butch Cassidy and the Sundance Kid\", \"The Treasure of the Sierra Madre\", \"High Noon\", \"The French Connection\", \"Shane\", \"The African Queen\", \"The Maltese Falcon\", \"Taxi Driver\", \"Double Indemnity\", \"Rebel Without a Cause\", \"The Third Man\"], \"hoffset\": 10, \"voffset\": 10}, {\"type\": \"toptoolbar\"}]});\n",
              "      });\n",
              "    });\n",
              "}else{\n",
              "    // require.js not available: dynamically load d3 & mpld3\n",
              "    mpld3_load_lib(\"https://mpld3.github.io/js/d3.v3.min.js\", function(){\n",
              "         mpld3_load_lib(\"https://mpld3.github.io/js/mpld3.v0.3.js\", function(){\n",
              "                 \n",
              "    mpld3.register_plugin(\"htmltooltip\", HtmlTooltipPlugin);\n",
              "    HtmlTooltipPlugin.prototype = Object.create(mpld3.Plugin.prototype);\n",
              "    HtmlTooltipPlugin.prototype.constructor = HtmlTooltipPlugin;\n",
              "    HtmlTooltipPlugin.prototype.requiredProps = [\"id\"];\n",
              "    HtmlTooltipPlugin.prototype.defaultProps = {labels:null,\n",
              "                                                hoffset:0,\n",
              "                                                voffset:10};\n",
              "    function HtmlTooltipPlugin(fig, props){\n",
              "        mpld3.Plugin.call(this, fig, props);\n",
              "    };\n",
              "\n",
              "    HtmlTooltipPlugin.prototype.draw = function(){\n",
              "       var obj = mpld3.get_element(this.props.id);\n",
              "       var labels = this.props.labels;\n",
              "       var tooltip = d3.select(\"body\").append(\"div\")\n",
              "                    .attr(\"class\", \"mpld3-tooltip\")\n",
              "                    .style(\"position\", \"absolute\")\n",
              "                    .style(\"z-index\", \"10\")\n",
              "                    .style(\"visibility\", \"hidden\");\n",
              "\n",
              "       obj.elements()\n",
              "           .on(\"mouseover\", function(d, i){\n",
              "                              tooltip.html(labels[i])\n",
              "                                     .style(\"visibility\", \"visible\");})\n",
              "           .on(\"mousemove\", function(d, i){\n",
              "                  tooltip\n",
              "                    .style(\"top\", d3.event.pageY + this.props.voffset + \"px\")\n",
              "                    .style(\"left\",d3.event.pageX + this.props.hoffset + \"px\");\n",
              "                 }.bind(this))\n",
              "           .on(\"mouseout\",  function(d, i){\n",
              "                           tooltip.style(\"visibility\", \"hidden\");});\n",
              "    };\n",
              "    \n",
              "    mpld3.register_plugin(\"toptoolbar\", TopToolbar);\n",
              "    TopToolbar.prototype = Object.create(mpld3.Plugin.prototype);\n",
              "    TopToolbar.prototype.constructor = TopToolbar;\n",
              "    function TopToolbar(fig, props){\n",
              "        mpld3.Plugin.call(this, fig, props);\n",
              "    };\n",
              "\n",
              "    TopToolbar.prototype.draw = function(){\n",
              "      // the toolbar svg doesn't exist\n",
              "      // yet, so first draw it\n",
              "      this.fig.toolbar.draw();\n",
              "\n",
              "      // then change the y position to be\n",
              "      // at the top of the figure\n",
              "      this.fig.toolbar.toolbar.attr(\"x\", 150);\n",
              "      this.fig.toolbar.toolbar.attr(\"y\", 400);\n",
              "\n",
              "      // then remove the draw function,\n",
              "      // so that it is not called again\n",
              "      this.fig.toolbar.draw = function() {}\n",
              "    }\n",
              "    \n",
              "    mpld3.register_plugin(\"htmltooltip\", HtmlTooltipPlugin);\n",
              "    HtmlTooltipPlugin.prototype = Object.create(mpld3.Plugin.prototype);\n",
              "    HtmlTooltipPlugin.prototype.constructor = HtmlTooltipPlugin;\n",
              "    HtmlTooltipPlugin.prototype.requiredProps = [\"id\"];\n",
              "    HtmlTooltipPlugin.prototype.defaultProps = {labels:null,\n",
              "                                                hoffset:0,\n",
              "                                                voffset:10};\n",
              "    function HtmlTooltipPlugin(fig, props){\n",
              "        mpld3.Plugin.call(this, fig, props);\n",
              "    };\n",
              "\n",
              "    HtmlTooltipPlugin.prototype.draw = function(){\n",
              "       var obj = mpld3.get_element(this.props.id);\n",
              "       var labels = this.props.labels;\n",
              "       var tooltip = d3.select(\"body\").append(\"div\")\n",
              "                    .attr(\"class\", \"mpld3-tooltip\")\n",
              "                    .style(\"position\", \"absolute\")\n",
              "                    .style(\"z-index\", \"10\")\n",
              "                    .style(\"visibility\", \"hidden\");\n",
              "\n",
              "       obj.elements()\n",
              "           .on(\"mouseover\", function(d, i){\n",
              "                              tooltip.html(labels[i])\n",
              "                                     .style(\"visibility\", \"visible\");})\n",
              "           .on(\"mousemove\", function(d, i){\n",
              "                  tooltip\n",
              "                    .style(\"top\", d3.event.pageY + this.props.voffset + \"px\")\n",
              "                    .style(\"left\",d3.event.pageX + this.props.hoffset + \"px\");\n",
              "                 }.bind(this))\n",
              "           .on(\"mouseout\",  function(d, i){\n",
              "                           tooltip.style(\"visibility\", \"hidden\");});\n",
              "    };\n",
              "    \n",
              "    mpld3.register_plugin(\"toptoolbar\", TopToolbar);\n",
              "    TopToolbar.prototype = Object.create(mpld3.Plugin.prototype);\n",
              "    TopToolbar.prototype.constructor = TopToolbar;\n",
              "    function TopToolbar(fig, props){\n",
              "        mpld3.Plugin.call(this, fig, props);\n",
              "    };\n",
              "\n",
              "    TopToolbar.prototype.draw = function(){\n",
              "      // the toolbar svg doesn't exist\n",
              "      // yet, so first draw it\n",
              "      this.fig.toolbar.draw();\n",
              "\n",
              "      // then change the y position to be\n",
              "      // at the top of the figure\n",
              "      this.fig.toolbar.toolbar.attr(\"x\", 150);\n",
              "      this.fig.toolbar.toolbar.attr(\"y\", 400);\n",
              "\n",
              "      // then remove the draw function,\n",
              "      // so that it is not called again\n",
              "      this.fig.toolbar.draw = function() {}\n",
              "    }\n",
              "    \n",
              "    mpld3.register_plugin(\"htmltooltip\", HtmlTooltipPlugin);\n",
              "    HtmlTooltipPlugin.prototype = Object.create(mpld3.Plugin.prototype);\n",
              "    HtmlTooltipPlugin.prototype.constructor = HtmlTooltipPlugin;\n",
              "    HtmlTooltipPlugin.prototype.requiredProps = [\"id\"];\n",
              "    HtmlTooltipPlugin.prototype.defaultProps = {labels:null,\n",
              "                                                hoffset:0,\n",
              "                                                voffset:10};\n",
              "    function HtmlTooltipPlugin(fig, props){\n",
              "        mpld3.Plugin.call(this, fig, props);\n",
              "    };\n",
              "\n",
              "    HtmlTooltipPlugin.prototype.draw = function(){\n",
              "       var obj = mpld3.get_element(this.props.id);\n",
              "       var labels = this.props.labels;\n",
              "       var tooltip = d3.select(\"body\").append(\"div\")\n",
              "                    .attr(\"class\", \"mpld3-tooltip\")\n",
              "                    .style(\"position\", \"absolute\")\n",
              "                    .style(\"z-index\", \"10\")\n",
              "                    .style(\"visibility\", \"hidden\");\n",
              "\n",
              "       obj.elements()\n",
              "           .on(\"mouseover\", function(d, i){\n",
              "                              tooltip.html(labels[i])\n",
              "                                     .style(\"visibility\", \"visible\");})\n",
              "           .on(\"mousemove\", function(d, i){\n",
              "                  tooltip\n",
              "                    .style(\"top\", d3.event.pageY + this.props.voffset + \"px\")\n",
              "                    .style(\"left\",d3.event.pageX + this.props.hoffset + \"px\");\n",
              "                 }.bind(this))\n",
              "           .on(\"mouseout\",  function(d, i){\n",
              "                           tooltip.style(\"visibility\", \"hidden\");});\n",
              "    };\n",
              "    \n",
              "    mpld3.register_plugin(\"toptoolbar\", TopToolbar);\n",
              "    TopToolbar.prototype = Object.create(mpld3.Plugin.prototype);\n",
              "    TopToolbar.prototype.constructor = TopToolbar;\n",
              "    function TopToolbar(fig, props){\n",
              "        mpld3.Plugin.call(this, fig, props);\n",
              "    };\n",
              "\n",
              "    TopToolbar.prototype.draw = function(){\n",
              "      // the toolbar svg doesn't exist\n",
              "      // yet, so first draw it\n",
              "      this.fig.toolbar.draw();\n",
              "\n",
              "      // then change the y position to be\n",
              "      // at the top of the figure\n",
              "      this.fig.toolbar.toolbar.attr(\"x\", 150);\n",
              "      this.fig.toolbar.toolbar.attr(\"y\", 400);\n",
              "\n",
              "      // then remove the draw function,\n",
              "      // so that it is not called again\n",
              "      this.fig.toolbar.draw = function() {}\n",
              "    }\n",
              "    \n",
              "    mpld3.register_plugin(\"htmltooltip\", HtmlTooltipPlugin);\n",
              "    HtmlTooltipPlugin.prototype = Object.create(mpld3.Plugin.prototype);\n",
              "    HtmlTooltipPlugin.prototype.constructor = HtmlTooltipPlugin;\n",
              "    HtmlTooltipPlugin.prototype.requiredProps = [\"id\"];\n",
              "    HtmlTooltipPlugin.prototype.defaultProps = {labels:null,\n",
              "                                                hoffset:0,\n",
              "                                                voffset:10};\n",
              "    function HtmlTooltipPlugin(fig, props){\n",
              "        mpld3.Plugin.call(this, fig, props);\n",
              "    };\n",
              "\n",
              "    HtmlTooltipPlugin.prototype.draw = function(){\n",
              "       var obj = mpld3.get_element(this.props.id);\n",
              "       var labels = this.props.labels;\n",
              "       var tooltip = d3.select(\"body\").append(\"div\")\n",
              "                    .attr(\"class\", \"mpld3-tooltip\")\n",
              "                    .style(\"position\", \"absolute\")\n",
              "                    .style(\"z-index\", \"10\")\n",
              "                    .style(\"visibility\", \"hidden\");\n",
              "\n",
              "       obj.elements()\n",
              "           .on(\"mouseover\", function(d, i){\n",
              "                              tooltip.html(labels[i])\n",
              "                                     .style(\"visibility\", \"visible\");})\n",
              "           .on(\"mousemove\", function(d, i){\n",
              "                  tooltip\n",
              "                    .style(\"top\", d3.event.pageY + this.props.voffset + \"px\")\n",
              "                    .style(\"left\",d3.event.pageX + this.props.hoffset + \"px\");\n",
              "                 }.bind(this))\n",
              "           .on(\"mouseout\",  function(d, i){\n",
              "                           tooltip.style(\"visibility\", \"hidden\");});\n",
              "    };\n",
              "    \n",
              "    mpld3.register_plugin(\"toptoolbar\", TopToolbar);\n",
              "    TopToolbar.prototype = Object.create(mpld3.Plugin.prototype);\n",
              "    TopToolbar.prototype.constructor = TopToolbar;\n",
              "    function TopToolbar(fig, props){\n",
              "        mpld3.Plugin.call(this, fig, props);\n",
              "    };\n",
              "\n",
              "    TopToolbar.prototype.draw = function(){\n",
              "      // the toolbar svg doesn't exist\n",
              "      // yet, so first draw it\n",
              "      this.fig.toolbar.draw();\n",
              "\n",
              "      // then change the y position to be\n",
              "      // at the top of the figure\n",
              "      this.fig.toolbar.toolbar.attr(\"x\", 150);\n",
              "      this.fig.toolbar.toolbar.attr(\"y\", 400);\n",
              "\n",
              "      // then remove the draw function,\n",
              "      // so that it is not called again\n",
              "      this.fig.toolbar.draw = function() {}\n",
              "    }\n",
              "    \n",
              "    mpld3.register_plugin(\"htmltooltip\", HtmlTooltipPlugin);\n",
              "    HtmlTooltipPlugin.prototype = Object.create(mpld3.Plugin.prototype);\n",
              "    HtmlTooltipPlugin.prototype.constructor = HtmlTooltipPlugin;\n",
              "    HtmlTooltipPlugin.prototype.requiredProps = [\"id\"];\n",
              "    HtmlTooltipPlugin.prototype.defaultProps = {labels:null,\n",
              "                                                hoffset:0,\n",
              "                                                voffset:10};\n",
              "    function HtmlTooltipPlugin(fig, props){\n",
              "        mpld3.Plugin.call(this, fig, props);\n",
              "    };\n",
              "\n",
              "    HtmlTooltipPlugin.prototype.draw = function(){\n",
              "       var obj = mpld3.get_element(this.props.id);\n",
              "       var labels = this.props.labels;\n",
              "       var tooltip = d3.select(\"body\").append(\"div\")\n",
              "                    .attr(\"class\", \"mpld3-tooltip\")\n",
              "                    .style(\"position\", \"absolute\")\n",
              "                    .style(\"z-index\", \"10\")\n",
              "                    .style(\"visibility\", \"hidden\");\n",
              "\n",
              "       obj.elements()\n",
              "           .on(\"mouseover\", function(d, i){\n",
              "                              tooltip.html(labels[i])\n",
              "                                     .style(\"visibility\", \"visible\");})\n",
              "           .on(\"mousemove\", function(d, i){\n",
              "                  tooltip\n",
              "                    .style(\"top\", d3.event.pageY + this.props.voffset + \"px\")\n",
              "                    .style(\"left\",d3.event.pageX + this.props.hoffset + \"px\");\n",
              "                 }.bind(this))\n",
              "           .on(\"mouseout\",  function(d, i){\n",
              "                           tooltip.style(\"visibility\", \"hidden\");});\n",
              "    };\n",
              "    \n",
              "    mpld3.register_plugin(\"toptoolbar\", TopToolbar);\n",
              "    TopToolbar.prototype = Object.create(mpld3.Plugin.prototype);\n",
              "    TopToolbar.prototype.constructor = TopToolbar;\n",
              "    function TopToolbar(fig, props){\n",
              "        mpld3.Plugin.call(this, fig, props);\n",
              "    };\n",
              "\n",
              "    TopToolbar.prototype.draw = function(){\n",
              "      // the toolbar svg doesn't exist\n",
              "      // yet, so first draw it\n",
              "      this.fig.toolbar.draw();\n",
              "\n",
              "      // then change the y position to be\n",
              "      // at the top of the figure\n",
              "      this.fig.toolbar.toolbar.attr(\"x\", 150);\n",
              "      this.fig.toolbar.toolbar.attr(\"y\", 400);\n",
              "\n",
              "      // then remove the draw function,\n",
              "      // so that it is not called again\n",
              "      this.fig.toolbar.draw = function() {}\n",
              "    }\n",
              "    \n",
              "                 mpld3.draw_figure(\"fig_el1281400773635500801841817926\", {\"width\": 1008.0, \"height\": 432.0, \"axes\": [{\"bbox\": [0.125, 0.125, 0.775, 0.755], \"xlim\": [-0.7022446245855736, 0.7098314809788799], \"ylim\": [-0.7081718721860429, 0.6939226674565517], \"xdomain\": [-0.7022446245855736, 0.7098314809788799], \"ydomain\": [-0.7081718721860429, 0.6939226674565517], \"xscale\": \"linear\", \"yscale\": \"linear\", \"axes\": [{\"position\": \"bottom\", \"nticks\": 0, \"tickvalues\": [], \"tickformat\": \"\", \"scale\": \"linear\", \"fontsize\": null, \"grid\": {\"gridOn\": false}, \"visible\": false}, {\"position\": \"left\", \"nticks\": 0, \"tickvalues\": [], \"tickformat\": \"\", \"scale\": \"linear\", \"fontsize\": null, \"grid\": {\"gridOn\": false}, \"visible\": false}], \"axesbg\": \"#FFFFFF\", \"axesbgalpha\": null, \"zoomable\": true, \"id\": \"el128140077379200000\", \"lines\": [], \"paths\": [{\"data\": \"data07\", \"xindex\": 0, \"yindex\": 1, \"coordinates\": \"axes\", \"pathcodes\": [\"M\", \"L\", \"S\", \"L\", \"S\", \"L\", \"S\", \"L\", \"S\", \"Z\"], \"id\": \"el128140077379602304\", \"dasharray\": \"none\", \"alpha\": 0.8, \"facecolor\": \"#FFFFFF\", \"edgecolor\": \"#CCCCCC\", \"edgewidth\": 1.0, \"zorder\": 1000000.0}], \"markers\": [{\"data\": \"data01\", \"xindex\": 0, \"yindex\": 1, \"coordinates\": \"data\", \"id\": \"el128140077381396520pts\", \"facecolor\": \"#1B9E77\", \"edgecolor\": \"none\", \"edgewidth\": 1.0, \"alpha\": 1, \"zorder\": 2, \"markerpath\": [[[0.0, 9.0], [2.3868279, 9.0], [4.676218837063681, 8.051703224294176], [6.3639610306789285, 6.3639610306789285], [8.051703224294176, 4.676218837063681], [9.0, 2.3868279], [9.0, 0.0], [9.0, -2.3868279], [8.051703224294176, -4.676218837063681], [6.3639610306789285, -6.3639610306789285], [4.676218837063681, -8.051703224294176], [2.3868279, -9.0], [0.0, -9.0], [-2.3868279, -9.0], [-4.676218837063681, -8.051703224294176], [-6.3639610306789285, -6.3639610306789285], [-8.051703224294176, -4.676218837063681], [-9.0, -2.3868279], [-9.0, 0.0], [-9.0, 2.3868279], [-8.051703224294176, 4.676218837063681], [-6.3639610306789285, 6.3639610306789285], [-4.676218837063681, 8.051703224294176], [-2.3868279, 9.0], [0.0, 9.0]], [\"M\", \"C\", \"C\", \"C\", \"C\", \"C\", \"C\", \"C\", \"C\", \"Z\"]]}, {\"data\": \"data02\", \"xindex\": 0, \"yindex\": 1, \"coordinates\": \"data\", \"id\": \"el128140077379187096pts\", \"facecolor\": \"#D95F02\", \"edgecolor\": \"none\", \"edgewidth\": 1.0, \"alpha\": 1, \"zorder\": 2, \"markerpath\": [[[0.0, 9.0], [2.3868279, 9.0], [4.676218837063681, 8.051703224294176], [6.3639610306789285, 6.3639610306789285], [8.051703224294176, 4.676218837063681], [9.0, 2.3868279], [9.0, 0.0], [9.0, -2.3868279], [8.051703224294176, -4.676218837063681], [6.3639610306789285, -6.3639610306789285], [4.676218837063681, -8.051703224294176], [2.3868279, -9.0], [0.0, -9.0], [-2.3868279, -9.0], [-4.676218837063681, -8.051703224294176], [-6.3639610306789285, -6.3639610306789285], [-8.051703224294176, -4.676218837063681], [-9.0, -2.3868279], [-9.0, 0.0], [-9.0, 2.3868279], [-8.051703224294176, 4.676218837063681], [-6.3639610306789285, 6.3639610306789285], [-4.676218837063681, 8.051703224294176], [-2.3868279, 9.0], [0.0, 9.0]], [\"M\", \"C\", \"C\", \"C\", \"C\", \"C\", \"C\", \"C\", \"C\", \"Z\"]]}, {\"data\": \"data03\", \"xindex\": 0, \"yindex\": 1, \"coordinates\": \"data\", \"id\": \"el128140077381396408pts\", \"facecolor\": \"#7570B3\", \"edgecolor\": \"none\", \"edgewidth\": 1.0, \"alpha\": 1, \"zorder\": 2, \"markerpath\": [[[0.0, 9.0], [2.3868279, 9.0], [4.676218837063681, 8.051703224294176], [6.3639610306789285, 6.3639610306789285], [8.051703224294176, 4.676218837063681], [9.0, 2.3868279], [9.0, 0.0], [9.0, -2.3868279], [8.051703224294176, -4.676218837063681], [6.3639610306789285, -6.3639610306789285], [4.676218837063681, -8.051703224294176], [2.3868279, -9.0], [0.0, -9.0], [-2.3868279, -9.0], [-4.676218837063681, -8.051703224294176], [-6.3639610306789285, -6.3639610306789285], [-8.051703224294176, -4.676218837063681], [-9.0, -2.3868279], [-9.0, 0.0], [-9.0, 2.3868279], [-8.051703224294176, 4.676218837063681], [-6.3639610306789285, 6.3639610306789285], [-4.676218837063681, 8.051703224294176], [-2.3868279, 9.0], [0.0, 9.0]], [\"M\", \"C\", \"C\", \"C\", \"C\", \"C\", \"C\", \"C\", \"C\", \"Z\"]]}, {\"data\": \"data04\", \"xindex\": 0, \"yindex\": 1, \"coordinates\": \"data\", \"id\": \"el128140077363841064pts\", \"facecolor\": \"#E7298A\", \"edgecolor\": \"none\", \"edgewidth\": 1.0, \"alpha\": 1, \"zorder\": 2, \"markerpath\": [[[0.0, 9.0], [2.3868279, 9.0], [4.676218837063681, 8.051703224294176], [6.3639610306789285, 6.3639610306789285], [8.051703224294176, 4.676218837063681], [9.0, 2.3868279], [9.0, 0.0], [9.0, -2.3868279], [8.051703224294176, -4.676218837063681], [6.3639610306789285, -6.3639610306789285], [4.676218837063681, -8.051703224294176], [2.3868279, -9.0], [0.0, -9.0], [-2.3868279, -9.0], [-4.676218837063681, -8.051703224294176], [-6.3639610306789285, -6.3639610306789285], [-8.051703224294176, -4.676218837063681], [-9.0, -2.3868279], [-9.0, 0.0], [-9.0, 2.3868279], [-8.051703224294176, 4.676218837063681], [-6.3639610306789285, 6.3639610306789285], [-4.676218837063681, 8.051703224294176], [-2.3868279, 9.0], [0.0, 9.0]], [\"M\", \"C\", \"C\", \"C\", \"C\", \"C\", \"C\", \"C\", \"C\", \"Z\"]]}, {\"data\": \"data05\", \"xindex\": 0, \"yindex\": 1, \"coordinates\": \"data\", \"id\": \"el128140077375536936pts\", \"facecolor\": \"#66A61E\", \"edgecolor\": \"none\", \"edgewidth\": 1.0, \"alpha\": 1, \"zorder\": 2, \"markerpath\": [[[0.0, 9.0], [2.3868279, 9.0], [4.676218837063681, 8.051703224294176], [6.3639610306789285, 6.3639610306789285], [8.051703224294176, 4.676218837063681], [9.0, 2.3868279], [9.0, 0.0], [9.0, -2.3868279], [8.051703224294176, -4.676218837063681], [6.3639610306789285, -6.3639610306789285], [4.676218837063681, -8.051703224294176], [2.3868279, -9.0], [0.0, -9.0], [-2.3868279, -9.0], [-4.676218837063681, -8.051703224294176], [-6.3639610306789285, -6.3639610306789285], [-8.051703224294176, -4.676218837063681], [-9.0, -2.3868279], [-9.0, 0.0], [-9.0, 2.3868279], [-8.051703224294176, 4.676218837063681], [-6.3639610306789285, 6.3639610306789285], [-4.676218837063681, 8.051703224294176], [-2.3868279, 9.0], [0.0, 9.0]], [\"M\", \"C\", \"C\", \"C\", \"C\", \"C\", \"C\", \"C\", \"C\", \"Z\"]]}, {\"data\": \"data06\", \"xindex\": 0, \"yindex\": 1, \"coordinates\": \"axes\", \"id\": \"el128140077379251000pts\", \"facecolor\": \"#1B9E77\", \"edgecolor\": \"none\", \"edgewidth\": 1.0, \"alpha\": 1, \"zorder\": 1000002.0, \"markerpath\": [[[0.0, 9.0], [2.3868279, 9.0], [4.676218837063681, 8.051703224294176], [6.3639610306789285, 6.3639610306789285], [8.051703224294176, 4.676218837063681], [9.0, 2.3868279], [9.0, 0.0], [9.0, -2.3868279], [8.051703224294176, -4.676218837063681], [6.3639610306789285, -6.3639610306789285], [4.676218837063681, -8.051703224294176], [2.3868279, -9.0], [0.0, -9.0], [-2.3868279, -9.0], [-4.676218837063681, -8.051703224294176], [-6.3639610306789285, -6.3639610306789285], [-8.051703224294176, -4.676218837063681], [-9.0, -2.3868279], [-9.0, 0.0], [-9.0, 2.3868279], [-8.051703224294176, 4.676218837063681], [-6.3639610306789285, 6.3639610306789285], [-4.676218837063681, 8.051703224294176], [-2.3868279, 9.0], [0.0, 9.0]], [\"M\", \"C\", \"C\", \"C\", \"C\", \"C\", \"C\", \"C\", \"C\", \"Z\"]]}, {\"data\": \"data06\", \"xindex\": 0, \"yindex\": 2, \"coordinates\": \"axes\", \"id\": \"el128140077380404392pts\", \"facecolor\": \"#D95F02\", \"edgecolor\": \"none\", \"edgewidth\": 1.0, \"alpha\": 1, \"zorder\": 1000002.0, \"markerpath\": [[[0.0, 9.0], [2.3868279, 9.0], [4.676218837063681, 8.051703224294176], [6.3639610306789285, 6.3639610306789285], [8.051703224294176, 4.676218837063681], [9.0, 2.3868279], [9.0, 0.0], [9.0, -2.3868279], [8.051703224294176, -4.676218837063681], [6.3639610306789285, -6.3639610306789285], [4.676218837063681, -8.051703224294176], [2.3868279, -9.0], [0.0, -9.0], [-2.3868279, -9.0], [-4.676218837063681, -8.051703224294176], [-6.3639610306789285, -6.3639610306789285], [-8.051703224294176, -4.676218837063681], [-9.0, -2.3868279], [-9.0, 0.0], [-9.0, 2.3868279], [-8.051703224294176, 4.676218837063681], [-6.3639610306789285, 6.3639610306789285], [-4.676218837063681, 8.051703224294176], [-2.3868279, 9.0], [0.0, 9.0]], [\"M\", \"C\", \"C\", \"C\", \"C\", \"C\", \"C\", \"C\", \"C\", \"Z\"]]}, {\"data\": \"data06\", \"xindex\": 0, \"yindex\": 3, \"coordinates\": \"axes\", \"id\": \"el128140077380405792pts\", \"facecolor\": \"#7570B3\", \"edgecolor\": \"none\", \"edgewidth\": 1.0, \"alpha\": 1, \"zorder\": 1000002.0, \"markerpath\": [[[0.0, 9.0], [2.3868279, 9.0], [4.676218837063681, 8.051703224294176], [6.3639610306789285, 6.3639610306789285], [8.051703224294176, 4.676218837063681], [9.0, 2.3868279], [9.0, 0.0], [9.0, -2.3868279], [8.051703224294176, -4.676218837063681], [6.3639610306789285, -6.3639610306789285], [4.676218837063681, -8.051703224294176], [2.3868279, -9.0], [0.0, -9.0], [-2.3868279, -9.0], [-4.676218837063681, -8.051703224294176], [-6.3639610306789285, -6.3639610306789285], [-8.051703224294176, -4.676218837063681], [-9.0, -2.3868279], [-9.0, 0.0], [-9.0, 2.3868279], [-8.051703224294176, 4.676218837063681], [-6.3639610306789285, 6.3639610306789285], [-4.676218837063681, 8.051703224294176], [-2.3868279, 9.0], [0.0, 9.0]], [\"M\", \"C\", \"C\", \"C\", \"C\", \"C\", \"C\", \"C\", \"C\", \"Z\"]]}, {\"data\": \"data06\", \"xindex\": 0, \"yindex\": 4, \"coordinates\": \"axes\", \"id\": \"el128140077375506416pts\", \"facecolor\": \"#E7298A\", \"edgecolor\": \"none\", \"edgewidth\": 1.0, \"alpha\": 1, \"zorder\": 1000002.0, \"markerpath\": [[[0.0, 9.0], [2.3868279, 9.0], [4.676218837063681, 8.051703224294176], [6.3639610306789285, 6.3639610306789285], [8.051703224294176, 4.676218837063681], [9.0, 2.3868279], [9.0, 0.0], [9.0, -2.3868279], [8.051703224294176, -4.676218837063681], [6.3639610306789285, -6.3639610306789285], [4.676218837063681, -8.051703224294176], [2.3868279, -9.0], [0.0, -9.0], [-2.3868279, -9.0], [-4.676218837063681, -8.051703224294176], [-6.3639610306789285, -6.3639610306789285], [-8.051703224294176, -4.676218837063681], [-9.0, -2.3868279], [-9.0, 0.0], [-9.0, 2.3868279], [-8.051703224294176, 4.676218837063681], [-6.3639610306789285, 6.3639610306789285], [-4.676218837063681, 8.051703224294176], [-2.3868279, 9.0], [0.0, 9.0]], [\"M\", \"C\", \"C\", \"C\", \"C\", \"C\", \"C\", \"C\", \"C\", \"Z\"]]}, {\"data\": \"data06\", \"xindex\": 0, \"yindex\": 5, \"coordinates\": \"axes\", \"id\": \"el128140077375507200pts\", \"facecolor\": \"#66A61E\", \"edgecolor\": \"none\", \"edgewidth\": 1.0, \"alpha\": 1, \"zorder\": 1000002.0, \"markerpath\": [[[0.0, 9.0], [2.3868279, 9.0], [4.676218837063681, 8.051703224294176], [6.3639610306789285, 6.3639610306789285], [8.051703224294176, 4.676218837063681], [9.0, 2.3868279], [9.0, 0.0], [9.0, -2.3868279], [8.051703224294176, -4.676218837063681], [6.3639610306789285, -6.3639610306789285], [4.676218837063681, -8.051703224294176], [2.3868279, -9.0], [0.0, -9.0], [-2.3868279, -9.0], [-4.676218837063681, -8.051703224294176], [-6.3639610306789285, -6.3639610306789285], [-8.051703224294176, -4.676218837063681], [-9.0, -2.3868279], [-9.0, 0.0], [-9.0, 2.3868279], [-8.051703224294176, 4.676218837063681], [-6.3639610306789285, 6.3639610306789285], [-4.676218837063681, 8.051703224294176], [-2.3868279, 9.0], [0.0, 9.0]], [\"M\", \"C\", \"C\", \"C\", \"C\", \"C\", \"C\", \"C\", \"C\", \"Z\"]]}], \"texts\": [{\"text\": \"Family, home, war\", \"position\": [0.04736303123399899, 0.9478783419180772], \"coordinates\": \"axes\", \"h_anchor\": \"start\", \"v_baseline\": \"auto\", \"rotation\": -0.0, \"fontsize\": 10.0, \"color\": \"#000000\", \"alpha\": 1, \"zorder\": 1000003.0, \"id\": \"el128140077379250104\"}, {\"text\": \"Police, killed, murders\", \"position\": [0.04736303123399899, 0.901888643610498], \"coordinates\": \"axes\", \"h_anchor\": \"start\", \"v_baseline\": \"auto\", \"rotation\": -0.0, \"fontsize\": 10.0, \"color\": \"#000000\", \"alpha\": 1, \"zorder\": 1000003.0, \"id\": \"el128140077380404840\"}, {\"text\": \"Father, New York, brothers\", \"position\": [0.04736303123399899, 0.8558989453029189], \"coordinates\": \"axes\", \"h_anchor\": \"start\", \"v_baseline\": \"auto\", \"rotation\": -0.0, \"fontsize\": 10.0, \"color\": \"#000000\", \"alpha\": 1, \"zorder\": 1000003.0, \"id\": \"el128140077380404952\"}, {\"text\": \"Dance, singing, love\", \"position\": [0.04736303123399899, 0.8099092469953398], \"coordinates\": \"axes\", \"h_anchor\": \"start\", \"v_baseline\": \"auto\", \"rotation\": -0.0, \"fontsize\": 10.0, \"color\": \"#000000\", \"alpha\": 1, \"zorder\": 1000003.0, \"id\": \"el128140077375507816\"}, {\"text\": \"Killed, soldiers, captain\", \"position\": [0.04736303123399899, 0.7639195486877607], \"coordinates\": \"axes\", \"h_anchor\": \"start\", \"v_baseline\": \"auto\", \"rotation\": -0.0, \"fontsize\": 10.0, \"color\": \"#000000\", \"alpha\": 1, \"zorder\": 1000003.0, \"id\": \"el128140077375507872\"}], \"collections\": [], \"images\": [], \"sharex\": [], \"sharey\": []}], \"data\": {\"data01\": [[-0.1322719575464937, 0.5745384801472346], [0.6037432800571015, -0.3456991338989107], [0.19843842072641957, -0.3892916828503901], [0.35008658312976565, -0.3395216322234649], [-0.34166783709147874, 0.6344444329502972], [0.07969434882060122, -0.3889371661029425], [0.2751629686852375, -0.29429024034799267], [0.06214704621807477, 0.6101371440051022], [0.3349800805046648, -0.6458620573675339]], \"data02\": [[-0.0315921508840531, -0.4566379132040243], [0.05822957027259516, 0.25692953386554007], [-0.25090778865276764, -0.5748301691298103], [-0.08222117190461253, -0.5783371225442104], [-0.016415337094763633, -0.635603388766459], [0.01970760844693588, -0.6360131358153774], [0.24381678674290905, -0.5041387862290508], [0.08011541418687022, -0.4798779364144976], [-0.15247085949074055, -0.34091843849803144], [-0.020101379300061582, -0.35709842717078333], [-0.22754763513663523, -0.4504922269840453], [0.12875366545283076, -0.668489951252762], [0.49289737380215365, -0.14112529581269803], [-0.06978357652529119, 0.5697755231183576], [-0.11274056497586203, -0.4992690165884378], [0.18267302179861472, -0.5787625309524593], [0.15637950657836672, -0.2130082170103366], [-0.08765224335890494, -0.20078309954757084], [-0.18334149000821814, -0.5551280766277895], [0.3243862951002702, -0.45653595159186516]], \"data03\": [[0.05839902455424584, -0.04612821871658982], [0.011707339999007723, 0.46244857553479835], [-0.43458221470796937, -0.29655933230579207], [0.07164980401233928, 0.13140842985205642], [-0.22775176430438593, 0.0686722526469981], [-0.4301218469327215, 0.28528616015884894], [-0.352756054531658, 0.12706104279951938], [0.3548063612344592, 0.008230388449865372], [-0.021722502077054378, -0.04277898807708711], [-0.17157923142430895, 0.23225249097459683], [0.5307508765954951, 0.12934995486954096], [0.4157900555927234, 0.40666800500403905], [-0.284456733149374, 0.2757335582608159], [0.34339799473545785, 0.2458875178095957], [-0.20377837648670546, 0.5597732710930736], [0.3182060352651071, 0.08767290955546969], [-0.19657213727582062, 0.39573854896210664], [0.3442345942883033, -0.13024993477969682], [0.1607366978752406, -0.11945297477856465], [-0.5962489128496028, 0.1902908199511054], [0.20869950117396566, 0.06431546201597814], [0.18357552763039248, 0.30293270616670415], [0.5655872568440837, 0.34274924126628004], [-0.4208455890181574, 0.46273188035730484], [-0.3031164788430478, 0.47587091621770167], [0.6448729810407788, -0.1557495377370642], [-0.18141401157118808, 0.476647579374159], [-0.02886047494747564, 0.6542407465232708], [0.12067866743531375, 0.4813363821584612], [0.1256435191328854, 0.41778999871243466], [0.21979780091086543, 0.480125853382018], [-0.02234991385407322, 0.33870444474578143], [-0.3416411136605305, 0.03635935199996692], [0.4819545360434788, 0.008013240019344042], [0.4758882198147044, -0.43583831863092565], [0.668847785088706, -0.08783283749852638], [-0.32433797240302575, 0.3312099814646864], [-0.6012517387271845, -0.041885919469176955], [-0.34156011933518043, -0.06836233054197183], [-0.18645450426345928, 0.15048530967995605], [0.18507532499118465, 0.5789634882503976], [-0.5810674876200926, 0.10583683075043317], [-0.19967295689697648, 0.006401158105055718]], \"data04\": [[0.4184044202336735, 0.5850489899951158], [0.6698670628968671, 0.11896605280395112], [0.4020451359180297, 0.49856493148445424], [0.6677334884276231, 0.26950029052305535], [-0.5674182514385863, -0.35374010333970274], [0.6273622875630931, 0.35942698334231976]], \"data05\": [[0.1842728439475582, -0.01171561132830127], [0.442064120935783, -0.27869804841256246], [-0.25873683502627376, -0.26527516559786946], [-0.05321665416837212, 0.1233703192267357], [0.5523203950143736, 0.49066954517763783], [-0.48429634509263564, 0.17299124057612392], [0.5177811917071934, -0.2536618659106642], [-0.5523024142568753, -0.22470452093168852], [0.4335012948308015, 0.14567214405203704], [-0.15353411958660523, -0.3013348801222508], [0.21436568495016242, 0.2183332317723502], [-0.34789814258235774, -0.3258509720117311], [-0.3609008933642032, -0.4819614231794136], [-0.6622802065035608, -0.2050371436414275], [-0.45990623558854765, 0.0077174098585452945], [-0.5514598654354418, 0.3351166974656102], [-0.4533760890831627, -0.44518107570439874], [-0.3394231160832905, -0.15110745645779733], [-0.5521585808438257, 0.02889178165407558], [-0.46600996939124417, -0.09927639405993231], [-0.5791042079012673, 0.29034628826327125], [-0.20835174801118275, -0.05859486722959797]], \"data06\": [[0.024321556579621102, 0.958609271523179, 0.9126195732155998, 0.8666298749080207, 0.8206401766004416, 0.7746504782928625]], \"data07\": [[0.00896057347670251, 0.745523669364729], [0.22111415130568354, 0.745523669364729], [0.22367431515617, 0.745523669364729], [0.22367431515617, 0.7516556291390729], [0.22367431515617, 0.9785381407897964], [0.22367431515617, 0.9846701005641403], [0.22111415130568354, 0.9846701005641403], [0.00896057347670251, 0.9846701005641403], [0.006400409626216075, 0.9846701005641403], [0.006400409626216075, 0.9785381407897964], [0.006400409626216075, 0.7516556291390729], [0.006400409626216075, 0.745523669364729], [0.00896057347670251, 0.745523669364729]]}, \"id\": \"el128140077363550080\", \"plugins\": [{\"type\": \"reset\"}, {\"type\": \"zoom\", \"button\": true, \"enabled\": false}, {\"type\": \"boxzoom\", \"button\": true, \"enabled\": false}, {\"type\": \"htmltooltip\", \"id\": \"el128140077381396520pts\", \"labels\": [\"Raging Bull\", \"Titanic\", \"Star Wars\", \"2001: A Space Odyssey\", \"Singin' in the Rain\", \"Jaws\", \"Close Encounters of the Third Kind\", \"Nashville\", \"Mutiny on the Bounty\"], \"hoffset\": 10, \"voffset\": 10}, {\"type\": \"toptoolbar\"}, {\"type\": \"htmltooltip\", \"id\": \"el128140077379187096pts\", \"labels\": [\"Schindler's List\", \"One Flew Over the Cuckoo's Nest\", \"Lawrence of Arabia\", \"The Bridge on the River Kwai\", \"Dr. Strangelove or: How I Learned to Stop Worrying and Love the Bomb\", \"Apocalypse Now\", \"The Lord of the Rings: The Return of the King\", \"Gladiator\", \"From Here to Eternity\", \"Saving Private Ryan\", \"Raiders of the Lost Ark\", \"Patton\", \"Braveheart\", \"The Good, the Bad and the Ugly\", \"Platoon\", \"Dances with Wolves\", \"The Pianist\", \"The Deer Hunter\", \"All Quiet on the Western Front\", \"Stagecoach\"], \"hoffset\": 10, \"voffset\": 10}, {\"type\": \"toptoolbar\"}, {\"type\": \"htmltooltip\", \"id\": \"el128140077381396408pts\", \"labels\": [\"Gone with the Wind\", \"Citizen Kane\", \"The Wizard of Oz\", \"The Godfather: Part II\", \"Psycho\", \"Sunset Blvd.\", \"Vertigo\", \"Forrest Gump\", \"E.T. the Extra-Terrestrial\", \"Some Like It Hot\", \"12 Angry Men\", \"Amadeus\", \"Rocky\", \"A Streetcar Named Desire\", \"An American in Paris\", \"The Best Years of Our Lives\", \"My Fair Lady\", \"Ben-Hur\", \"Doctor Zhivago\", \"The Apartment\", \"Goodfellas\", \"The Exorcist\", \"City Lights\", \"It Happened One Night\", \"Midnight Cowboy\", \"Mr. Smith Goes to Washington\", \"Rain Man\", \"Annie Hall\", \"Out of Africa\", \"Good Will Hunting\", \"Terms of Endearment\", \"Tootsie\", \"Fargo\", \"Giant\", \"The Grapes of Wrath\", \"Network\", \"The Graduate\", \"American Graffiti\", \"Pulp Fiction\", \"A Clockwork Orange\", \"Wuthering Heights\", \"Rear Window\", \"North by Northwest\"], \"hoffset\": 10, \"voffset\": 10}, {\"type\": \"toptoolbar\"}, {\"type\": \"htmltooltip\", \"id\": \"el128140077363841064pts\", \"labels\": [\"It's a Wonderful Life\", \"The Philadelphia Story\", \"The King's Speech\", \"A Place in the Sun\", \"The Green Mile\", \"Yankee Doodle Dandy\"], \"hoffset\": 10, \"voffset\": 10}, {\"type\": \"toptoolbar\"}, {\"type\": \"htmltooltip\", \"id\": \"el128140077375536936pts\", \"labels\": [\"The Godfather\", \"The Shawshank Redemption\", \"Casablanca\", \"On the Waterfront\", \"The Sound of Music\", \"West Side Story\", \"The Silence of the Lambs\", \"Chinatown\", \"Gandhi\", \"Unforgiven\", \"To Kill a Mockingbird\", \"Butch Cassidy and the Sundance Kid\", \"The Treasure of the Sierra Madre\", \"High Noon\", \"The French Connection\", \"Shane\", \"The African Queen\", \"The Maltese Falcon\", \"Taxi Driver\", \"Double Indemnity\", \"Rebel Without a Cause\", \"The Third Man\"], \"hoffset\": 10, \"voffset\": 10}, {\"type\": \"toptoolbar\"}]});\n",
              "            })\n",
              "         });\n",
              "}\n",
              "</script>"
            ],
            "text/plain": [
              "<IPython.core.display.HTML object>"
            ]
          },
          "metadata": {
            "tags": []
          },
          "execution_count": 45
        }
      ]
    },
    {
      "cell_type": "markdown",
      "metadata": {
        "id": "0p0gke4wNmem",
        "colab_type": "text"
      },
      "source": [
        "#Hierarchical document clustering"
      ]
    },
    {
      "cell_type": "code",
      "metadata": {
        "id": "cEqu9074Nmem",
        "colab_type": "code",
        "outputId": "2527168c-1482-47d0-ae1c-5c929e672e5b",
        "colab": {
          "base_uri": "https://localhost:8080/",
          "height": 1499
        }
      },
      "source": [
        "from scipy.cluster.hierarchy import ward, dendrogram\n",
        "\n",
        "linkage_matrix = ward(dist) #define the linkage_matrix using ward clustering pre-computed distances\n",
        "\n",
        "fig, ax = plt.subplots(figsize=(15, 20)) # set size\n",
        "ax = dendrogram(linkage_matrix, orientation=\"right\", labels=titles);\n",
        "\n",
        "plt.tick_params(\\\n",
        "    axis= 'x',          # changes apply to the x-axis\n",
        "    which='both',      # both major and minor ticks are affected\n",
        "    bottom='off',      # ticks along the bottom edge are off\n",
        "    top='off',         # ticks along the top edge are off\n",
        "    labelbottom='off')\n",
        "\n",
        "plt.tight_layout() #show plot with tight layout\n",
        "\n",
        "#uncomment below to save figure\n",
        "plt.savefig('ward_clusters.png', dpi=200) #save figure as ward_clusters"
      ],
      "execution_count": 0,
      "outputs": [
        {
          "output_type": "stream",
          "text": [
            "/usr/local/lib/python3.6/dist-packages/matplotlib/cbook/__init__.py:424: MatplotlibDeprecationWarning: \n",
            "Passing one of 'on', 'true', 'off', 'false' as a boolean is deprecated; use an actual boolean (True/False) instead.\n",
            "  warn_deprecated(\"2.2\", \"Passing one of 'on', 'true', 'off', 'false' as a \"\n"
          ],
          "name": "stderr"
        },
        {
          "output_type": "display_data",
          "data": {
            "image/png": "[encoded data removed]",
            "text/plain": [
              "<Figure size 1080x1440 with 1 Axes>"
            ]
          },
          "metadata": {
            "tags": []
          }
        }
      ]
    },
    {
      "cell_type": "code",
      "metadata": {
        "id": "mYxnWrprNmeq",
        "colab_type": "code",
        "colab": {}
      },
      "source": [
        "plt.close()"
      ],
      "execution_count": 0,
      "outputs": []
    },
    {
      "cell_type": "markdown",
      "metadata": {
        "id": "FgydHmUSNmet",
        "colab_type": "text"
      },
      "source": [
        "#Latent Dirichlet Allocation"
      ]
    },
    {
      "cell_type": "code",
      "metadata": {
        "id": "X-WzRP6xNmet",
        "colab_type": "code",
        "colab": {}
      },
      "source": [
        "#strip any proper names from a text...unfortunately right now this is yanking the first word from a sentence too.\n",
        "import string\n",
        "def strip_proppers(text):\n",
        "    # first tokenize by sentence, then by word to ensure that punctuation is caught as it's own token\n",
        "    tokens = [word for sent in nltk.sent_tokenize(text) for word in nltk.word_tokenize(sent) if word.islower()]\n",
        "    return \"\".join([\" \"+i if not i.startswith(\"'\") and i not in string.punctuation else i for i in tokens]).strip()"
      ],
      "execution_count": 0,
      "outputs": []
    },
    {
      "cell_type": "code",
      "metadata": {
        "id": "F6Af1c5wNmew",
        "colab_type": "code",
        "colab": {}
      },
      "source": [
        "#strip any proper nouns (NNP) or plural proper nouns (NNPS) from a text\n",
        "from nltk.tag import pos_tag\n",
        "\n",
        "def strip_proppers_POS(text):\n",
        "    tagged = pos_tag(text.split()) #use NLTK's part of speech tagger\n",
        "    non_propernouns = [word for word,pos in tagged if pos != 'NNP' and pos != 'NNPS']\n",
        "    return non_propernouns"
      ],
      "execution_count": 0,
      "outputs": []
    },
    {
      "cell_type": "code",
      "metadata": {
        "id": "xyoVR6FbNmey",
        "colab_type": "code",
        "outputId": "e3b5c79d-e4bb-45ad-c6d1-28f9e630179d",
        "colab": {
          "base_uri": "https://localhost:8080/",
          "height": 84
        }
      },
      "source": [
        "#Latent Dirichlet Allocation implementation with Gensim\n",
        "\n",
        "from gensim import corpora, models, similarities \n",
        "\n",
        "#remove proper names\n",
        "preprocess = [strip_proppers(doc) for doc in synopses]\n",
        "\n",
        "%time tokenized_text = [tokenize_and_stem(text) for text in preprocess]\n",
        "\n",
        "%time texts = [[word for word in text if word not in stopwords] for text in tokenized_text]"
      ],
      "execution_count": 0,
      "outputs": [
        {
          "output_type": "stream",
          "text": [
            "CPU times: user 4.69 s, sys: 19.1 ms, total: 4.71 s\n",
            "Wall time: 4.71 s\n",
            "CPU times: user 392 ms, sys: 1.9 ms, total: 394 ms\n",
            "Wall time: 393 ms\n"
          ],
          "name": "stdout"
        }
      ]
    },
    {
      "cell_type": "code",
      "metadata": {
        "id": "2-A4IRh0Nme1",
        "colab_type": "code",
        "outputId": "ebc91a43-d017-4c07-b16e-0966d287d9fa",
        "colab": {
          "base_uri": "https://localhost:8080/",
          "height": 34
        }
      },
      "source": [
        "#print(len([word for word in texts[0] if word not in stopwords]))\n",
        "print(len(texts[0]))"
      ],
      "execution_count": 0,
      "outputs": [
        {
          "output_type": "stream",
          "text": [
            "1839\n"
          ],
          "name": "stdout"
        }
      ]
    },
    {
      "cell_type": "code",
      "metadata": {
        "id": "lL6flxnTNme7",
        "colab_type": "code",
        "colab": {}
      },
      "source": [
        "dictionary = corpora.Dictionary(texts)"
      ],
      "execution_count": 0,
      "outputs": []
    },
    {
      "cell_type": "code",
      "metadata": {
        "id": "GaE1cMp4NmfB",
        "colab_type": "code",
        "colab": {}
      },
      "source": [
        "dictionary.filter_extremes(no_below=1, no_above=0.8)"
      ],
      "execution_count": 0,
      "outputs": []
    },
    {
      "cell_type": "code",
      "metadata": {
        "id": "p5ijWKUANmfE",
        "colab_type": "code",
        "colab": {}
      },
      "source": [
        "corpus = [dictionary.doc2bow(text) for text in texts]"
      ],
      "execution_count": 0,
      "outputs": []
    },
    {
      "cell_type": "code",
      "metadata": {
        "id": "ZFXGJc6JNmfG",
        "colab_type": "code",
        "outputId": "e1921ba6-2702-4094-a6dd-42728d49465e",
        "colab": {
          "base_uri": "https://localhost:8080/",
          "height": 34
        }
      },
      "source": [
        "len(corpus)"
      ],
      "execution_count": 0,
      "outputs": [
        {
          "output_type": "execute_result",
          "data": {
            "text/plain": [
              "100"
            ]
          },
          "metadata": {
            "tags": []
          },
          "execution_count": 55
        }
      ]
    },
    {
      "cell_type": "code",
      "metadata": {
        "id": "_geMBUNYNmfN",
        "colab_type": "code",
        "outputId": "fce8db18-7634-4a55-d7ca-d4a01f9882d1",
        "colab": {
          "base_uri": "https://localhost:8080/",
          "height": 50
        }
      },
      "source": [
        "%time lda = models.LdaModel(corpus, num_topics=5, id2word=dictionary, update_every=5, chunksize=10000, passes=100)"
      ],
      "execution_count": 0,
      "outputs": [
        {
          "output_type": "stream",
          "text": [
            "CPU times: user 36.4 s, sys: 6.59 ms, total: 36.4 s\n",
            "Wall time: 36.4 s\n"
          ],
          "name": "stdout"
        }
      ]
    },
    {
      "cell_type": "code",
      "metadata": {
        "id": "USYFR9bpNmfR",
        "colab_type": "code",
        "outputId": "61e10354-4105-466a-a8b4-b6ee61a850c2",
        "colab": {
          "base_uri": "https://localhost:8080/",
          "height": 34
        }
      },
      "source": [
        "print(lda[corpus[0]])"
      ],
      "execution_count": 0,
      "outputs": [
        {
          "output_type": "stream",
          "text": [
            "[(0, 0.9993506)]\n"
          ],
          "name": "stdout"
        }
      ]
    },
    {
      "cell_type": "code",
      "metadata": {
        "id": "qCihGIOONmfU",
        "colab_type": "code",
        "colab": {}
      },
      "source": [
        "topics = lda.print_topics(5, num_words=20)"
      ],
      "execution_count": 0,
      "outputs": []
    },
    {
      "cell_type": "code",
      "metadata": {
        "id": "7AOf3fM7NmfW",
        "colab_type": "code",
        "colab": {}
      },
      "source": [
        "topics_matrix = lda.show_topics(formatted=False, num_words=20)"
      ],
      "execution_count": 0,
      "outputs": []
    },
    {
      "cell_type": "code",
      "metadata": {
        "id": "pE1NXGLfNmfY",
        "colab_type": "code",
        "colab": {}
      },
      "source": [
        "topics_matrix = np.array(topics_matrix)"
      ],
      "execution_count": 0,
      "outputs": []
    },
    {
      "cell_type": "code",
      "metadata": {
        "id": "R39I08aeNmfd",
        "colab_type": "code",
        "outputId": "8f839443-3c04-4461-8a52-b9932d9bb924",
        "colab": {
          "base_uri": "https://localhost:8080/",
          "height": 34
        }
      },
      "source": [
        "topics_matrix.shape"
      ],
      "execution_count": 0,
      "outputs": [
        {
          "output_type": "execute_result",
          "data": {
            "text/plain": [
              "(5, 2)"
            ]
          },
          "metadata": {
            "tags": []
          },
          "execution_count": 61
        }
      ]
    },
    {
      "cell_type": "code",
      "metadata": {
        "id": "BMo4fVYaNmfg",
        "colab_type": "code",
        "colab": {}
      },
      "source": [
        "topic_words = topics_matrix[:,1]"
      ],
      "execution_count": 0,
      "outputs": []
    },
    {
      "cell_type": "code",
      "metadata": {
        "id": "RIVQfg_3Nmfj",
        "colab_type": "code",
        "outputId": "6a70226f-f652-4165-8d52-77f2e5fa780f",
        "colab": {
          "base_uri": "https://localhost:8080/",
          "height": 205
        }
      },
      "source": [
        "for i in topic_words:\n",
        "    print([str(word) for word in i])\n",
        "    print()"
      ],
      "execution_count": 0,
      "outputs": [
        {
          "output_type": "stream",
          "text": [
            "[\"('kill', 0.006879053)\", \"('famili', 0.0056912536)\", \"('father', 0.0050199563)\", \"('meet', 0.0048769093)\", \"('murder', 0.0038007193)\", \"('say', 0.0036258146)\", \"('ask', 0.003383651)\", \"('home', 0.0032754985)\", \"('night', 0.0032704389)\", \"('two', 0.0032339022)\", \"('go', 0.0032164168)\", \"('show', 0.0031202761)\", \"('apart', 0.0030717559)\", \"('son', 0.0030535331)\", \"('friend', 0.0030175245)\", \"('death', 0.0030153398)\", \"('becom', 0.0029267245)\", \"('want', 0.0028583026)\", '(\"n\\'t\", 0.0028136615)', \"('come', 0.002794546)\"]\n",
            "\n",
            "[\"('go', 0.0051998147)\", \"('car', 0.0048582726)\", \"('shark', 0.004794274)\", \"('home', 0.004436816)\", \"('day', 0.00419535)\", \"('friend', 0.0041000107)\", \"('meet', 0.0039235633)\", '(\"n\\'t\", 0.0039201137)', \"('call', 0.0038533553)\", \"('ask', 0.0035803413)\", \"('run', 0.0035778545)\", \"('doe', 0.0033460122)\", \"('also', 0.0032976663)\", \"('water', 0.0032800096)\", \"('father', 0.0032568814)\", \"('money', 0.003230926)\", \"('two', 0.0032140296)\", \"('night', 0.0030966222)\", \"('away', 0.003042086)\", \"('arriv', 0.0029944847)\"]\n",
            "\n",
            "[\"('kill', 0.0062200096)\", \"('arriv', 0.0047175144)\", \"('ask', 0.004052879)\", \"('say', 0.003920135)\", \"('meet', 0.0037199997)\", \"('die', 0.0035650877)\", \"('love', 0.0034916312)\", '(\"n\\'t\", 0.0034735606)', \"('attempt', 0.0034066865)\", \"('name', 0.0033040647)\", \"('day', 0.0032819326)\", \"('friend', 0.0032757192)\", \"('come', 0.0032547198)\", \"('two', 0.0032411357)\", \"('film', 0.0032090466)\", \"('death', 0.0030451478)\", \"('decid', 0.0030316997)\", \"('marri', 0.002952257)\", \"('famili', 0.0029146848)\", \"('home', 0.0028994137)\"]\n",
            "\n",
            "[\"('kill', 0.0059089633)\", \"('soldier', 0.0047925627)\", \"('men', 0.004638044)\", \"('ask', 0.0043954593)\", \"('offic', 0.004059102)\", \"('fight', 0.003869566)\", \"('two', 0.0037094946)\", \"('night', 0.0035496906)\", \"('order', 0.0035160377)\", \"('go', 0.0033000598)\", '(\"n\\'t\", 0.00327519)', \"('friend', 0.0032083606)\", \"('call', 0.0031703413)\", \"('day', 0.003161282)\", \"('goe', 0.0029872083)\", \"('away', 0.0029139447)\", \"('arriv', 0.0028794534)\", \"('home', 0.002818731)\", \"('say', 0.0028186236)\", \"('car', 0.0027595016)\"]\n",
            "\n",
            "[\"('home', 0.004754212)\", \"('father', 0.0041541406)\", \"('friend', 0.0040191323)\", \"('first', 0.003953604)\", \"('ship', 0.0038358434)\", \"('run', 0.0036165705)\", \"('order', 0.0035526052)\", \"('help', 0.0032856453)\", \"('go', 0.0032163574)\", \"('offic', 0.003150316)\", \"('way', 0.0030909404)\", \"('two', 0.0030844212)\", \"('polic', 0.0030181068)\", \"('later', 0.003017505)\", \"('say', 0.002953946)\", \"('children', 0.002952679)\", \"('station', 0.0029505694)\", \"('becom', 0.0028196557)\", \"('want', 0.0028162329)\", \"('escap', 0.0028149984)\"]\n",
            "\n"
          ],
          "name": "stdout"
        }
      ]
    }
  ]
}